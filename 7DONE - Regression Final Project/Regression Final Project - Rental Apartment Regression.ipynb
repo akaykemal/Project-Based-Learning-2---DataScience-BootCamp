{
 "cells": [
  {
   "cell_type": "markdown",
   "id": "20971392",
   "metadata": {},
   "source": [
    "# Using Regression models for rental apartments in Kuftsein Austria"
   ]
  },
  {
   "cell_type": "markdown",
   "id": "f18a898b",
   "metadata": {},
   "source": [
    "We used Web Scraping methods to get infos about rental apartments in Kufstein from Immoscout24.at and saved our results to the dataframe below.<br>\n",
    "Now we are going to use Regression models to fit and predict our model"
   ]
  },
  {
   "cell_type": "code",
   "execution_count": 1,
   "id": "cce0b423",
   "metadata": {},
   "outputs": [],
   "source": [
    "#import libraries\n",
    "import pandas as pd\n",
    "import numpy as np\n",
    "import seaborn as sns\n",
    "import matplotlib.pyplot as plt\n",
    "import re\n",
    "%matplotlib inline \n",
    "\n",
    "import warnings\n",
    "warnings.filterwarnings(\"ignore\")"
   ]
  },
  {
   "cell_type": "code",
   "execution_count": 2,
   "id": "650d0c97",
   "metadata": {},
   "outputs": [],
   "source": [
    "df=pd.read_csv(\"immoscout_regression.csv\").drop([\"Unnamed: 0\"],axis=1)"
   ]
  },
  {
   "cell_type": "markdown",
   "id": "8bcea538",
   "metadata": {},
   "source": [
    "### Gather basic infos about the Dataframe"
   ]
  },
  {
   "cell_type": "code",
   "execution_count": 3,
   "id": "f6f4b9cc",
   "metadata": {},
   "outputs": [
    {
     "data": {
      "text/html": [
       "<div>\n",
       "<style scoped>\n",
       "    .dataframe tbody tr th:only-of-type {\n",
       "        vertical-align: middle;\n",
       "    }\n",
       "\n",
       "    .dataframe tbody tr th {\n",
       "        vertical-align: top;\n",
       "    }\n",
       "\n",
       "    .dataframe thead th {\n",
       "        text-align: right;\n",
       "    }\n",
       "</style>\n",
       "<table border=\"1\" class=\"dataframe\">\n",
       "  <thead>\n",
       "    <tr style=\"text-align: right;\">\n",
       "      <th></th>\n",
       "      <th>title</th>\n",
       "      <th>num_rooms</th>\n",
       "      <th>area</th>\n",
       "      <th>availability</th>\n",
       "      <th>build_year</th>\n",
       "      <th>parking</th>\n",
       "      <th>elevator</th>\n",
       "      <th>price</th>\n",
       "      <th>sqft_price</th>\n",
       "      <th>heating_type</th>\n",
       "    </tr>\n",
       "  </thead>\n",
       "  <tbody>\n",
       "    <tr>\n",
       "      <th>0</th>\n",
       "      <td>Moderne Terrassenwohnung mit Blick auf den Wil...</td>\n",
       "      <td>5.0</td>\n",
       "      <td>143.0</td>\n",
       "      <td>Wohnfläche 143 m²</td>\n",
       "      <td>1 TerrasseTerrasse</td>\n",
       "      <td>NaN</td>\n",
       "      <td>NaN</td>\n",
       "      <td>2500.0</td>\n",
       "      <td>17,48</td>\n",
       "      <td>NaN</td>\n",
       "    </tr>\n",
       "    <tr>\n",
       "      <th>1</th>\n",
       "      <td>Bezaubernde Wohnung am Kraftplatz Hintersteine...</td>\n",
       "      <td>2.0</td>\n",
       "      <td>136.0</td>\n",
       "      <td>Baujahr 2007Neuwertig, Dielen, Fliesen</td>\n",
       "      <td>Wohnfläche 136 m²</td>\n",
       "      <td>Einbauküche, Badewanne, Dusche, Kamin</td>\n",
       "      <td>NaN</td>\n",
       "      <td>2150.0</td>\n",
       "      <td>15,81</td>\n",
       "      <td>Fußbodenheizung</td>\n",
       "    </tr>\n",
       "    <tr>\n",
       "      <th>2</th>\n",
       "      <td>Dreizimmerwohnung mit Kaiserblick</td>\n",
       "      <td>3.0</td>\n",
       "      <td>89.0</td>\n",
       "      <td>Verfügbar ab Nach Vereinbarung.....</td>\n",
       "      <td>Baujahr 1995Gepflegt, Unterkellert, Parkett</td>\n",
       "      <td>Tiefgarage1 Parkmöglichkeit</td>\n",
       "      <td>NaN</td>\n",
       "      <td>1070.0</td>\n",
       "      <td>12,02</td>\n",
       "      <td>Zentralheizung</td>\n",
       "    </tr>\n",
       "    <tr>\n",
       "      <th>3</th>\n",
       "      <td>ANGERBERG - Signature Designerwohnung mit Loft...</td>\n",
       "      <td>4.0</td>\n",
       "      <td>130.0</td>\n",
       "      <td>Verfügbar ab ab sofort</td>\n",
       "      <td>Parkett</td>\n",
       "      <td>Carport2 Parkmöglichkeiten</td>\n",
       "      <td>NaN</td>\n",
       "      <td>NaN</td>\n",
       "      <td>NaN</td>\n",
       "      <td>Öl</td>\n",
       "    </tr>\n",
       "    <tr>\n",
       "      <th>4</th>\n",
       "      <td>Wunderschöne, ruhig gelegene 4-Zimmer Wohnung ...</td>\n",
       "      <td>4.0</td>\n",
       "      <td>88.0</td>\n",
       "      <td>Verfügbar ab sofort</td>\n",
       "      <td>Baujahr 2009Neubau, Neuwertig, Unterkellert, P...</td>\n",
       "      <td>Tiefgarage2 Parkmöglichkeiten</td>\n",
       "      <td>NaN</td>\n",
       "      <td>1450.0</td>\n",
       "      <td>16,48</td>\n",
       "      <td>Zentralheizung</td>\n",
       "    </tr>\n",
       "  </tbody>\n",
       "</table>\n",
       "</div>"
      ],
      "text/plain": [
       "                                               title  num_rooms   area  \\\n",
       "0  Moderne Terrassenwohnung mit Blick auf den Wil...        5.0  143.0   \n",
       "1  Bezaubernde Wohnung am Kraftplatz Hintersteine...        2.0  136.0   \n",
       "2                  Dreizimmerwohnung mit Kaiserblick        3.0   89.0   \n",
       "3  ANGERBERG - Signature Designerwohnung mit Loft...        4.0  130.0   \n",
       "4  Wunderschöne, ruhig gelegene 4-Zimmer Wohnung ...        4.0   88.0   \n",
       "\n",
       "                             availability  \\\n",
       "0                       Wohnfläche 143 m²   \n",
       "1  Baujahr 2007Neuwertig, Dielen, Fliesen   \n",
       "2     Verfügbar ab Nach Vereinbarung.....   \n",
       "3                  Verfügbar ab ab sofort   \n",
       "4                     Verfügbar ab sofort   \n",
       "\n",
       "                                          build_year  \\\n",
       "0                                 1 TerrasseTerrasse   \n",
       "1                                  Wohnfläche 136 m²   \n",
       "2        Baujahr 1995Gepflegt, Unterkellert, Parkett   \n",
       "3                                            Parkett   \n",
       "4  Baujahr 2009Neubau, Neuwertig, Unterkellert, P...   \n",
       "\n",
       "                                 parking elevator   price sqft_price  \\\n",
       "0                                    NaN      NaN  2500.0     17,48    \n",
       "1  Einbauküche, Badewanne, Dusche, Kamin      NaN  2150.0     15,81    \n",
       "2            Tiefgarage1 Parkmöglichkeit      NaN  1070.0     12,02    \n",
       "3             Carport2 Parkmöglichkeiten      NaN     NaN        NaN   \n",
       "4          Tiefgarage2 Parkmöglichkeiten      NaN  1450.0     16,48    \n",
       "\n",
       "      heating_type  \n",
       "0              NaN  \n",
       "1  Fußbodenheizung  \n",
       "2   Zentralheizung  \n",
       "3               Öl  \n",
       "4   Zentralheizung  "
      ]
     },
     "execution_count": 3,
     "metadata": {},
     "output_type": "execute_result"
    }
   ],
   "source": [
    "df.head()"
   ]
  },
  {
   "cell_type": "code",
   "execution_count": 4,
   "id": "0b9838ce",
   "metadata": {},
   "outputs": [
    {
     "data": {
      "text/plain": [
       "(135, 10)"
      ]
     },
     "execution_count": 4,
     "metadata": {},
     "output_type": "execute_result"
    }
   ],
   "source": [
    "df.shape"
   ]
  },
  {
   "cell_type": "code",
   "execution_count": 5,
   "id": "4d073e9a",
   "metadata": {},
   "outputs": [
    {
     "data": {
      "text/plain": [
       "title            0\n",
       "num_rooms        1\n",
       "area             4\n",
       "availability     0\n",
       "build_year       1\n",
       "parking         26\n",
       "elevator        99\n",
       "price           23\n",
       "sqft_price      23\n",
       "heating_type    34\n",
       "dtype: int64"
      ]
     },
     "execution_count": 5,
     "metadata": {},
     "output_type": "execute_result"
    }
   ],
   "source": [
    "df.isnull().sum()"
   ]
  },
  {
   "cell_type": "code",
   "execution_count": 6,
   "id": "1e1fc51f",
   "metadata": {},
   "outputs": [
    {
     "name": "stdout",
     "output_type": "stream",
     "text": [
      "<class 'pandas.core.frame.DataFrame'>\n",
      "RangeIndex: 135 entries, 0 to 134\n",
      "Data columns (total 10 columns):\n",
      " #   Column        Non-Null Count  Dtype  \n",
      "---  ------        --------------  -----  \n",
      " 0   title         135 non-null    object \n",
      " 1   num_rooms     134 non-null    float64\n",
      " 2   area          131 non-null    float64\n",
      " 3   availability  135 non-null    object \n",
      " 4   build_year    134 non-null    object \n",
      " 5   parking       109 non-null    object \n",
      " 6   elevator      36 non-null     object \n",
      " 7   price         112 non-null    float64\n",
      " 8   sqft_price    112 non-null    object \n",
      " 9   heating_type  101 non-null    object \n",
      "dtypes: float64(3), object(7)\n",
      "memory usage: 10.7+ KB\n"
     ]
    }
   ],
   "source": [
    "df.info()"
   ]
  },
  {
   "cell_type": "markdown",
   "id": "7dc04740",
   "metadata": {},
   "source": [
    "### Data Processing - fill missing values and prepare data for model"
   ]
  },
  {
   "cell_type": "markdown",
   "id": "e62f1b02",
   "metadata": {},
   "source": [
    "Unfortunately I noticed, that the Immoscout page has not every info in the same column (for example there are some examples where in the room column the value for area is written..) or some missing values. So I had to reprocess the data and look from the df['features'] from the Scraper model to find out the missing values.<br>\n",
    "I know it is a little confusing and not the best method but this is how I tried to solve it."
   ]
  },
  {
   "cell_type": "markdown",
   "id": "d79cbe09",
   "metadata": {},
   "source": [
    "**Refine the 'num_rooms' column**"
   ]
  },
  {
   "cell_type": "code",
   "execution_count": 7,
   "id": "7dfc30bd",
   "metadata": {},
   "outputs": [
    {
     "data": {
      "text/plain": [
       "2     54\n",
       "3     49\n",
       "4     19\n",
       "1      7\n",
       "5      3\n",
       "70     1\n",
       "68     1\n",
       "66     1\n",
       "Name: num_rooms, dtype: int64"
      ]
     },
     "execution_count": 7,
     "metadata": {},
     "output_type": "execute_result"
    }
   ],
   "source": [
    "df['num_rooms']=df['num_rooms'].fillna(df['num_rooms'].mean()).astype(int)\n",
    "df['num_rooms'].value_counts()"
   ]
  },
  {
   "cell_type": "markdown",
   "id": "75982d49",
   "metadata": {},
   "source": [
    "Since there is no logic in room numbers up to 70, this has to be the area, which was in the wrong column.<br>\n",
    "So we have to find where the wrong values are located and change them"
   ]
  },
  {
   "cell_type": "code",
   "execution_count": 8,
   "id": "90a40c53",
   "metadata": {},
   "outputs": [
    {
     "data": {
      "text/plain": [
       "[79]"
      ]
     },
     "execution_count": 8,
     "metadata": {},
     "output_type": "execute_result"
    }
   ],
   "source": [
    "# Find the index of the wrong values\n",
    "df.index[df['num_rooms']==1].tolist()\n",
    "df.index[df['num_rooms']==70].tolist()\n",
    "df.index[df['num_rooms']==68].tolist()\n",
    "df.index[df['num_rooms']==66].tolist()"
   ]
  },
  {
   "cell_type": "code",
   "execution_count": 9,
   "id": "526eaa0b",
   "metadata": {},
   "outputs": [],
   "source": [
    "# replace wrong values in specific index with right value\n",
    "df[\"area\"][16]=70\n",
    "df['num_rooms'][16]=2 #replace with mostly occuring value \n",
    "df[\"area\"][39]=68\n",
    "df['num_rooms'][39]=2 #replace with value from df['features'] from Scraper model\n",
    "df[\"area\"][79]=66\n",
    "df['num_rooms'][79]=2 #replace with mostly occuring value "
   ]
  },
  {
   "cell_type": "code",
   "execution_count": 10,
   "id": "ce86272a",
   "metadata": {},
   "outputs": [
    {
     "data": {
      "image/png": "[encoded data removed]",
      "text/plain": [
       "<Figure size 432x288 with 1 Axes>"
      ]
     },
     "metadata": {
      "needs_background": "light"
     },
     "output_type": "display_data"
    }
   ],
   "source": [
    "sns.countplot(x=df['num_rooms']);"
   ]
  },
  {
   "cell_type": "markdown",
   "id": "1bba3650",
   "metadata": {},
   "source": [
    "**Refine the 'area' column**"
   ]
  },
  {
   "cell_type": "code",
   "execution_count": 11,
   "id": "18474153",
   "metadata": {},
   "outputs": [
    {
     "data": {
      "image/png": "[encoded data removed]",
      "text/plain": [
       "<Figure size 432x288 with 1 Axes>"
      ]
     },
     "metadata": {
      "needs_background": "light"
     },
     "output_type": "display_data"
    }
   ],
   "source": [
    "sns.boxplot(x=df['area']);"
   ]
  },
  {
   "cell_type": "code",
   "execution_count": 12,
   "id": "32ea35ff",
   "metadata": {},
   "outputs": [
    {
     "data": {
      "text/plain": [
       "[109]"
      ]
     },
     "execution_count": 12,
     "metadata": {},
     "output_type": "execute_result"
    }
   ],
   "source": [
    "df.index[df['area']<0].tolist() #find the index of where the area is minus value and replace with mean value"
   ]
  },
  {
   "cell_type": "code",
   "execution_count": 13,
   "id": "08ecc345",
   "metadata": {},
   "outputs": [
    {
     "data": {
      "text/plain": [
       "79.07462686567165"
      ]
     },
     "execution_count": 13,
     "metadata": {},
     "output_type": "execute_result"
    }
   ],
   "source": [
    "df['area'].mean()"
   ]
  },
  {
   "cell_type": "code",
   "execution_count": 14,
   "id": "76f7d72c",
   "metadata": {},
   "outputs": [],
   "source": [
    "df['area']=df['area'].fillna(df['area'].mean()) #replace missing values and wrong values with mean value\n",
    "df['area'][109]=79.81 #if I tried fillna() here I got an error so I did it the old way round"
   ]
  },
  {
   "cell_type": "code",
   "execution_count": 15,
   "id": "33ed2e58",
   "metadata": {},
   "outputs": [
    {
     "data": {
      "image/png": "[encoded data removed]",
      "text/plain": [
       "<Figure size 720x360 with 1 Axes>"
      ]
     },
     "metadata": {
      "needs_background": "light"
     },
     "output_type": "display_data"
    }
   ],
   "source": [
    "plt.figure(figsize=(10,5))\n",
    "ax = sns.scatterplot(x=df.area, y=df.price, hue=df.num_rooms, size=df.num_rooms, palette='Paired', sizes=(10, 200))\n",
    "plt.xlabel(\"Area\"), plt.ylabel(\"Price\"), plt.show();"
   ]
  },
  {
   "cell_type": "markdown",
   "id": "9c2ad129",
   "metadata": {},
   "source": [
    "**Refine the 'availability' column**"
   ]
  },
  {
   "cell_type": "code",
   "execution_count": 16,
   "id": "d22d8973",
   "metadata": {},
   "outputs": [
    {
     "data": {
      "text/plain": [
       "Verfügbar ab sofort                  22\n",
       "Verfügbar ab ab sofort               10\n",
       "Verfügbar ab nach Vereinbarung        9\n",
       "Verfügbar ab 01.01.2023               6\n",
       "Verfügbar ab 01.12.2022               5\n",
       "                                     ..\n",
       "Verfügbar ab 2023-03-01               1\n",
       "Verfügbar ab 01. Februar 2023         1\n",
       "Verfügbar ab Anfang Dezember 2022     1\n",
       "Verfügbar ab September 2022           1\n",
       "Grundstück voll erschlossen           1\n",
       "Name: availability, Length: 70, dtype: int64"
      ]
     },
     "execution_count": 16,
     "metadata": {},
     "output_type": "execute_result"
    }
   ],
   "source": [
    "df['availability'].value_counts()"
   ]
  },
  {
   "cell_type": "code",
   "execution_count": 17,
   "id": "63de3363",
   "metadata": {
    "scrolled": true
   },
   "outputs": [
    {
     "name": "stdout",
     "output_type": "stream",
     "text": [
      "Wohnfläche 143 m²\n",
      "Baujahr 2007Neuwertig, Dielen, Fliesen\n",
      "Gesamtfläche 87 m²\n",
      "Wohnfläche 70 m²\n",
      "Unterkellert\n",
      "Terrasse\n",
      "Gepflegt\n",
      "Baujahr 2007Gepflegt\n",
      "Wohnfläche 136 m²\n",
      "Wohnfläche 110 m²\n",
      "Wohnfläche 138 m²\n",
      "NeubauGepflegt, Massivbauweise, Holzbauweise, Grundstück voll erschlossen, Laminat, Parkett, Fliesen\n",
      "NeuwertigDielen, Fliesen\n",
      "Wohnfläche 78 m²\n",
      "Unterkellert\n",
      "NeubauNeuwertig, Unterkellert\n",
      "Wohnfläche 90 m²\n",
      "AltbauGepflegt\n",
      "Baujahr 2019Neubau, Neuwertig, Unterkellert\n",
      "Baujahr 2008Altbau, Neuwertig\n",
      "Grundstück voll erschlossen\n"
     ]
    }
   ],
   "source": [
    "# Here we see that the dataframe is very mixed we delete this column\n",
    "for i in df['availability']:\n",
    "    if i.startswith('Verfügbar ab') is False:\n",
    "        print(i)"
   ]
  },
  {
   "cell_type": "code",
   "execution_count": 18,
   "id": "bd71508e",
   "metadata": {},
   "outputs": [],
   "source": [
    "for i in range(0,len(df['availability'])):\n",
    "    df['availability'][i]=re.findall(r'\\d+', df['availability'][i]) #extract numbers from string"
   ]
  },
  {
   "cell_type": "code",
   "execution_count": 19,
   "id": "e857f8db",
   "metadata": {
    "scrolled": true
   },
   "outputs": [
    {
     "data": {
      "text/plain": [
       "[]                68\n",
       "[2022]            10\n",
       "[01, 01, 2023]     8\n",
       "[2023]             7\n",
       "[01, 12, 2022]     5\n",
       "[01, 02, 2023]     4\n",
       "[01, 11, 2022]     3\n",
       "[2007]             2\n",
       "[01, 2023]         2\n",
       "[1, 2023]          2\n",
       "[02, 2023]         2\n",
       "[2022, 09, 19]     1\n",
       "[2022, 11, 18]     1\n",
       "[1, 11, 2022]      1\n",
       "[143]              1\n",
       "[01, 2022]         1\n",
       "[05, 12, 22]       1\n",
       "[1, 2, 2022]       1\n",
       "[90]               1\n",
       "[2019]             1\n",
       "[78]               1\n",
       "[1, 23]            1\n",
       "[138]              1\n",
       "[2023, 03, 01]     1\n",
       "[110]              1\n",
       "[136]              1\n",
       "[01, 05, 2022]     1\n",
       "[1, 2, 2023]       1\n",
       "[01, 02, 23]       1\n",
       "[01, 04, 2021]     1\n",
       "[70]               1\n",
       "[87]               1\n",
       "[2008]             1\n",
       "Name: availability, dtype: int64"
      ]
     },
     "execution_count": 19,
     "metadata": {},
     "output_type": "execute_result"
    }
   ],
   "source": [
    "# We can see that almost half of the values are empty\n",
    "df.availability.value_counts()"
   ]
  },
  {
   "cell_type": "markdown",
   "id": "a161578c",
   "metadata": {},
   "source": [
    "Almost half of our values are empty (68), so we don't know about the availability and the values are also very mixed. So we delete this column"
   ]
  },
  {
   "cell_type": "code",
   "execution_count": 20,
   "id": "3f41a694",
   "metadata": {},
   "outputs": [],
   "source": [
    "df.drop('availability', axis=1, inplace=True)"
   ]
  },
  {
   "cell_type": "markdown",
   "id": "ce02d91e",
   "metadata": {},
   "source": [
    "**Refine the 'build_year' column**"
   ]
  },
  {
   "cell_type": "code",
   "execution_count": 21,
   "id": "ae5d9b42",
   "metadata": {},
   "outputs": [],
   "source": [
    "df['build_year'].fillna('unnknown', inplace=True) # fill empty value with 'unnknown'"
   ]
  },
  {
   "cell_type": "code",
   "execution_count": 22,
   "id": "811fb449",
   "metadata": {},
   "outputs": [],
   "source": [
    "for i in range(0,len(df['build_year'])):\n",
    "    df['build_year'][i]=re.findall(r'\\d+', df['build_year'][i]) #extract numbers from string"
   ]
  },
  {
   "cell_type": "code",
   "execution_count": 23,
   "id": "e1c48875",
   "metadata": {},
   "outputs": [],
   "source": [
    "dfb = pd.DataFrame(df['build_year'].to_list(), columns=['bldyr1','bldyr2','bldyr3']) # list the values as three columns\n",
    "dfb=dfb.fillna(0) # fill empty values with 0 (to be able to change to int type)\n",
    "dfb=dfb.astype(int)\n",
    "dfb.where(dfb > 1900, inplace=True) # only take values above 1900 (mixed values, some values where for example 80 for area)\n",
    "dfb=dfb.fillna(0)\n",
    "dfb=dfb.astype(int)\n",
    "dfb['bldyr1'].replace(0,2022,inplace=True) #fill unknown values with mode value\n",
    "df['build_year']=dfb['bldyr1']"
   ]
  },
  {
   "cell_type": "code",
   "execution_count": 24,
   "id": "3f24e061",
   "metadata": {},
   "outputs": [
    {
     "data": {
      "image/png": "[encoded data removed]",
      "text/plain": [
       "<Figure size 720x360 with 1 Axes>"
      ]
     },
     "metadata": {
      "needs_background": "light"
     },
     "output_type": "display_data"
    }
   ],
   "source": [
    "plt.figure(figsize=(10,5))\n",
    "sns.countplot(x=df['build_year']);\n",
    "plt.xticks(rotation=90);"
   ]
  },
  {
   "cell_type": "markdown",
   "id": "e43fa20b",
   "metadata": {},
   "source": [
    "Make a new 'age' column and delete the build year column"
   ]
  },
  {
   "cell_type": "code",
   "execution_count": 25,
   "id": "6c920b6d",
   "metadata": {},
   "outputs": [],
   "source": [
    "# Feature Engineering\n",
    "df['age']=2022-df['build_year']\n",
    "df.drop('build_year', axis=1, inplace=True)"
   ]
  },
  {
   "cell_type": "code",
   "execution_count": 26,
   "id": "0d3955f0",
   "metadata": {},
   "outputs": [
    {
     "data": {
      "image/png": "[encoded data removed]",
      "text/plain": [
       "<Figure size 720x360 with 1 Axes>"
      ]
     },
     "metadata": {
      "needs_background": "light"
     },
     "output_type": "display_data"
    }
   ],
   "source": [
    "plt.figure(figsize=(10,5))\n",
    "sns.countplot(x=df['age']);"
   ]
  },
  {
   "cell_type": "markdown",
   "id": "8ce5870d",
   "metadata": {},
   "source": [
    "**Refine the 'parking' column**"
   ]
  },
  {
   "cell_type": "code",
   "execution_count": 27,
   "id": "89f61c18",
   "metadata": {},
   "outputs": [],
   "source": [
    "df['parking'].fillna('unnknown', inplace=True) # fill empty values"
   ]
  },
  {
   "cell_type": "code",
   "execution_count": 28,
   "id": "03f8bb25",
   "metadata": {},
   "outputs": [],
   "source": [
    "for i in range(0,len(df['parking'])):\n",
    "    df['parking'][i]=re.findall(r'\\d+', df['parking'][i]) #extract numbers from string"
   ]
  },
  {
   "cell_type": "code",
   "execution_count": 29,
   "id": "9c07fd6f",
   "metadata": {},
   "outputs": [],
   "source": [
    "dfp = pd.DataFrame(df['parking'].to_list(), columns=['p1','p2','p3']) # list in 3 columns\n",
    "dfp['p1'].replace(np.nan, 0,inplace=True) # replace None values with 0 (0 parking lots)\n",
    "df['parking']=dfp['p1']\n",
    "df['parking']=df['parking'].astype(int)"
   ]
  },
  {
   "cell_type": "code",
   "execution_count": 30,
   "id": "e5404506",
   "metadata": {},
   "outputs": [
    {
     "data": {
      "image/png": "[encoded data removed]",
      "text/plain": [
       "<Figure size 432x288 with 1 Axes>"
      ]
     },
     "metadata": {
      "needs_background": "light"
     },
     "output_type": "display_data"
    }
   ],
   "source": [
    "sns.countplot(x=df['parking']); #most of the apartments have 1 parking lot, then none and some have 2 parking lots"
   ]
  },
  {
   "cell_type": "markdown",
   "id": "20ad7144",
   "metadata": {},
   "source": [
    "**Refine the 'elevator' column**"
   ]
  },
  {
   "cell_type": "code",
   "execution_count": 31,
   "id": "0ddf1746",
   "metadata": {},
   "outputs": [],
   "source": [
    "df['elevator'].replace(np.nan, \"no\", inplace=True) # fill empty values\n",
    "df.elevator = df.elevator.apply(lambda x: 'yes' if 'Personenaufzug' in x else x) # if \"Personenaufzug\" is in the string replace with 'yes'\n",
    "df.elevator=df.elevator.map({\"no\":0,\"Barrierefrei\":0,\"Rollstuhlgerecht\":0,\"yes\":1}) # replace yes with 1 (elevator is available) and rest to 0 (not available)"
   ]
  },
  {
   "cell_type": "code",
   "execution_count": 32,
   "id": "f06b47d7",
   "metadata": {},
   "outputs": [
    {
     "data": {
      "image/png": "[encoded data removed]",
      "text/plain": [
       "<Figure size 432x288 with 1 Axes>"
      ]
     },
     "metadata": {
      "needs_background": "light"
     },
     "output_type": "display_data"
    }
   ],
   "source": [
    "sns.countplot(x=df['elevator']);"
   ]
  },
  {
   "cell_type": "markdown",
   "id": "4dd01be4",
   "metadata": {},
   "source": [
    "**Refine the 'price' column**"
   ]
  },
  {
   "cell_type": "code",
   "execution_count": 33,
   "id": "a2321dfd",
   "metadata": {},
   "outputs": [
    {
     "data": {
      "image/png": "[encoded data removed]",
      "text/plain": [
       "<Figure size 432x288 with 1 Axes>"
      ]
     },
     "metadata": {
      "needs_background": "light"
     },
     "output_type": "display_data"
    }
   ],
   "source": [
    "df.price.fillna(df.price.mean(), inplace=True) # replace missing values with mean value\n",
    "sns.boxplot(x=df['price']);"
   ]
  },
  {
   "cell_type": "markdown",
   "id": "e65513a9",
   "metadata": {},
   "source": [
    "**Refine the 'sqft_price' column**"
   ]
  },
  {
   "cell_type": "code",
   "execution_count": 34,
   "id": "58b2da4d",
   "metadata": {},
   "outputs": [
    {
     "data": {
      "image/png": "[encoded data removed]",
      "text/plain": [
       "<Figure size 432x288 with 1 Axes>"
      ]
     },
     "metadata": {
      "needs_background": "light"
     },
     "output_type": "display_data"
    }
   ],
   "source": [
    "df['sqft_price']=df['sqft_price'].str.replace(',','.').astype(float) # replace , with .\n",
    "df['sqft_price']=df['price']/df['area'] # redo the math to fill empty values of this column\n",
    "sns.boxplot(x=df['sqft_price']);"
   ]
  },
  {
   "cell_type": "code",
   "execution_count": 35,
   "id": "cac8c4cb",
   "metadata": {},
   "outputs": [
    {
     "data": {
      "text/html": [
       "<div>\n",
       "<style scoped>\n",
       "    .dataframe tbody tr th:only-of-type {\n",
       "        vertical-align: middle;\n",
       "    }\n",
       "\n",
       "    .dataframe tbody tr th {\n",
       "        vertical-align: top;\n",
       "    }\n",
       "\n",
       "    .dataframe thead th {\n",
       "        text-align: right;\n",
       "    }\n",
       "</style>\n",
       "<table border=\"1\" class=\"dataframe\">\n",
       "  <thead>\n",
       "    <tr style=\"text-align: right;\">\n",
       "      <th></th>\n",
       "      <th>title</th>\n",
       "      <th>num_rooms</th>\n",
       "      <th>area</th>\n",
       "      <th>parking</th>\n",
       "      <th>elevator</th>\n",
       "      <th>price</th>\n",
       "      <th>sqft_price</th>\n",
       "      <th>heating_type</th>\n",
       "      <th>age</th>\n",
       "    </tr>\n",
       "  </thead>\n",
       "  <tbody>\n",
       "    <tr>\n",
       "      <th>0</th>\n",
       "      <td>Moderne Terrassenwohnung mit Blick auf den Wil...</td>\n",
       "      <td>5</td>\n",
       "      <td>143.0</td>\n",
       "      <td>0</td>\n",
       "      <td>0</td>\n",
       "      <td>2500.000000</td>\n",
       "      <td>17.482517</td>\n",
       "      <td>NaN</td>\n",
       "      <td>0</td>\n",
       "    </tr>\n",
       "    <tr>\n",
       "      <th>1</th>\n",
       "      <td>Bezaubernde Wohnung am Kraftplatz Hintersteine...</td>\n",
       "      <td>2</td>\n",
       "      <td>136.0</td>\n",
       "      <td>0</td>\n",
       "      <td>0</td>\n",
       "      <td>2150.000000</td>\n",
       "      <td>15.808824</td>\n",
       "      <td>Fußbodenheizung</td>\n",
       "      <td>0</td>\n",
       "    </tr>\n",
       "    <tr>\n",
       "      <th>2</th>\n",
       "      <td>Dreizimmerwohnung mit Kaiserblick</td>\n",
       "      <td>3</td>\n",
       "      <td>89.0</td>\n",
       "      <td>1</td>\n",
       "      <td>0</td>\n",
       "      <td>1070.000000</td>\n",
       "      <td>12.022472</td>\n",
       "      <td>Zentralheizung</td>\n",
       "      <td>27</td>\n",
       "    </tr>\n",
       "    <tr>\n",
       "      <th>3</th>\n",
       "      <td>ANGERBERG - Signature Designerwohnung mit Loft...</td>\n",
       "      <td>4</td>\n",
       "      <td>130.0</td>\n",
       "      <td>2</td>\n",
       "      <td>0</td>\n",
       "      <td>1195.267857</td>\n",
       "      <td>9.194368</td>\n",
       "      <td>Öl</td>\n",
       "      <td>0</td>\n",
       "    </tr>\n",
       "    <tr>\n",
       "      <th>4</th>\n",
       "      <td>Wunderschöne, ruhig gelegene 4-Zimmer Wohnung ...</td>\n",
       "      <td>4</td>\n",
       "      <td>88.0</td>\n",
       "      <td>2</td>\n",
       "      <td>0</td>\n",
       "      <td>1450.000000</td>\n",
       "      <td>16.477273</td>\n",
       "      <td>Zentralheizung</td>\n",
       "      <td>13</td>\n",
       "    </tr>\n",
       "  </tbody>\n",
       "</table>\n",
       "</div>"
      ],
      "text/plain": [
       "                                               title  num_rooms   area  \\\n",
       "0  Moderne Terrassenwohnung mit Blick auf den Wil...          5  143.0   \n",
       "1  Bezaubernde Wohnung am Kraftplatz Hintersteine...          2  136.0   \n",
       "2                  Dreizimmerwohnung mit Kaiserblick          3   89.0   \n",
       "3  ANGERBERG - Signature Designerwohnung mit Loft...          4  130.0   \n",
       "4  Wunderschöne, ruhig gelegene 4-Zimmer Wohnung ...          4   88.0   \n",
       "\n",
       "   parking  elevator        price  sqft_price     heating_type  age  \n",
       "0        0         0  2500.000000   17.482517              NaN    0  \n",
       "1        0         0  2150.000000   15.808824  Fußbodenheizung    0  \n",
       "2        1         0  1070.000000   12.022472   Zentralheizung   27  \n",
       "3        2         0  1195.267857    9.194368               Öl    0  \n",
       "4        2         0  1450.000000   16.477273   Zentralheizung   13  "
      ]
     },
     "execution_count": 35,
     "metadata": {},
     "output_type": "execute_result"
    }
   ],
   "source": [
    "df.head()"
   ]
  },
  {
   "cell_type": "markdown",
   "id": "bc238d82",
   "metadata": {},
   "source": [
    "**Refine the 'heating_type' column**"
   ]
  },
  {
   "cell_type": "code",
   "execution_count": 36,
   "id": "e1bbbb94",
   "metadata": {},
   "outputs": [],
   "source": [
    "df.heating_type.replace(np.nan, \"Zentralheizung\", inplace=True) # fill empty values with mode\n",
    "df.heating_type.replace(\"Heizwärmebedarf\", \"Zentralheizung\", inplace=True) # replace \"HWB\" with mode"
   ]
  },
  {
   "cell_type": "code",
   "execution_count": 37,
   "id": "aab127af",
   "metadata": {},
   "outputs": [
    {
     "data": {
      "text/plain": [
       "Zentralheizung     93\n",
       "Fußbodenheizung    22\n",
       "Fernwärme           6\n",
       "Ofenheizung         5\n",
       "Etagenheizung       3\n",
       "Öl                  2\n",
       "Pellet              2\n",
       "Gas                 1\n",
       "Elektro             1\n",
       "Name: heating_type, dtype: int64"
      ]
     },
     "execution_count": 37,
     "metadata": {},
     "output_type": "execute_result"
    }
   ],
   "source": [
    "df.heating_type.value_counts()"
   ]
  },
  {
   "cell_type": "markdown",
   "id": "251ccd48",
   "metadata": {},
   "source": [
    "**DataFrame after Reprocessing the data**"
   ]
  },
  {
   "cell_type": "code",
   "execution_count": 38,
   "id": "09fbe05d",
   "metadata": {},
   "outputs": [
    {
     "data": {
      "text/html": [
       "<div>\n",
       "<style scoped>\n",
       "    .dataframe tbody tr th:only-of-type {\n",
       "        vertical-align: middle;\n",
       "    }\n",
       "\n",
       "    .dataframe tbody tr th {\n",
       "        vertical-align: top;\n",
       "    }\n",
       "\n",
       "    .dataframe thead th {\n",
       "        text-align: right;\n",
       "    }\n",
       "</style>\n",
       "<table border=\"1\" class=\"dataframe\">\n",
       "  <thead>\n",
       "    <tr style=\"text-align: right;\">\n",
       "      <th></th>\n",
       "      <th>title</th>\n",
       "      <th>num_rooms</th>\n",
       "      <th>area</th>\n",
       "      <th>parking</th>\n",
       "      <th>elevator</th>\n",
       "      <th>price</th>\n",
       "      <th>sqft_price</th>\n",
       "      <th>heating_type</th>\n",
       "      <th>age</th>\n",
       "    </tr>\n",
       "  </thead>\n",
       "  <tbody>\n",
       "    <tr>\n",
       "      <th>32</th>\n",
       "      <td>sonnige 3,5-Zimmer-Wohnung in Ebbs mit Bergbli...</td>\n",
       "      <td>3</td>\n",
       "      <td>82.0</td>\n",
       "      <td>2</td>\n",
       "      <td>0</td>\n",
       "      <td>820.000000</td>\n",
       "      <td>10.000000</td>\n",
       "      <td>Zentralheizung</td>\n",
       "      <td>32</td>\n",
       "    </tr>\n",
       "    <tr>\n",
       "      <th>48</th>\n",
       "      <td>Brixlegg: große 4-Zimmerwohnung in idyllischer...</td>\n",
       "      <td>4</td>\n",
       "      <td>100.0</td>\n",
       "      <td>0</td>\n",
       "      <td>0</td>\n",
       "      <td>1050.000000</td>\n",
       "      <td>10.500000</td>\n",
       "      <td>Zentralheizung</td>\n",
       "      <td>0</td>\n",
       "    </tr>\n",
       "    <tr>\n",
       "      <th>7</th>\n",
       "      <td>Schöne 3 Zimmer Wohnung</td>\n",
       "      <td>3</td>\n",
       "      <td>87.0</td>\n",
       "      <td>0</td>\n",
       "      <td>0</td>\n",
       "      <td>1195.267857</td>\n",
       "      <td>13.738711</td>\n",
       "      <td>Zentralheizung</td>\n",
       "      <td>0</td>\n",
       "    </tr>\n",
       "    <tr>\n",
       "      <th>130</th>\n",
       "      <td>3-Zimmer Wohnung im 3. OG</td>\n",
       "      <td>3</td>\n",
       "      <td>59.0</td>\n",
       "      <td>0</td>\n",
       "      <td>0</td>\n",
       "      <td>921.000000</td>\n",
       "      <td>15.610169</td>\n",
       "      <td>Zentralheizung</td>\n",
       "      <td>0</td>\n",
       "    </tr>\n",
       "    <tr>\n",
       "      <th>36</th>\n",
       "      <td>Zentrale 2-Zimmer Mietwohnung in Kufstein</td>\n",
       "      <td>2</td>\n",
       "      <td>54.0</td>\n",
       "      <td>0</td>\n",
       "      <td>0</td>\n",
       "      <td>928.000000</td>\n",
       "      <td>17.185185</td>\n",
       "      <td>Zentralheizung</td>\n",
       "      <td>0</td>\n",
       "    </tr>\n",
       "  </tbody>\n",
       "</table>\n",
       "</div>"
      ],
      "text/plain": [
       "                                                 title  num_rooms   area  \\\n",
       "32   sonnige 3,5-Zimmer-Wohnung in Ebbs mit Bergbli...          3   82.0   \n",
       "48   Brixlegg: große 4-Zimmerwohnung in idyllischer...          4  100.0   \n",
       "7                             Schöne 3 Zimmer Wohnung           3   87.0   \n",
       "130                          3-Zimmer Wohnung im 3. OG          3   59.0   \n",
       "36           Zentrale 2-Zimmer Mietwohnung in Kufstein          2   54.0   \n",
       "\n",
       "     parking  elevator        price  sqft_price    heating_type  age  \n",
       "32         2         0   820.000000   10.000000  Zentralheizung   32  \n",
       "48         0         0  1050.000000   10.500000  Zentralheizung    0  \n",
       "7          0         0  1195.267857   13.738711  Zentralheizung    0  \n",
       "130        0         0   921.000000   15.610169  Zentralheizung    0  \n",
       "36         0         0   928.000000   17.185185  Zentralheizung    0  "
      ]
     },
     "execution_count": 38,
     "metadata": {},
     "output_type": "execute_result"
    }
   ],
   "source": [
    "df.sample(5)"
   ]
  },
  {
   "cell_type": "code",
   "execution_count": 39,
   "id": "f2bbbca4",
   "metadata": {},
   "outputs": [
    {
     "data": {
      "text/plain": [
       "title           0\n",
       "num_rooms       0\n",
       "area            0\n",
       "parking         0\n",
       "elevator        0\n",
       "price           0\n",
       "sqft_price      0\n",
       "heating_type    0\n",
       "age             0\n",
       "dtype: int64"
      ]
     },
     "execution_count": 39,
     "metadata": {},
     "output_type": "execute_result"
    }
   ],
   "source": [
    "df.isnull().sum()"
   ]
  },
  {
   "cell_type": "markdown",
   "id": "6736efc8",
   "metadata": {},
   "source": [
    "### EDA "
   ]
  },
  {
   "cell_type": "code",
   "execution_count": 40,
   "id": "28802352",
   "metadata": {},
   "outputs": [
    {
     "name": "stdout",
     "output_type": "stream",
     "text": [
      "<class 'pandas.core.frame.DataFrame'>\n",
      "RangeIndex: 135 entries, 0 to 134\n",
      "Data columns (total 9 columns):\n",
      " #   Column        Non-Null Count  Dtype  \n",
      "---  ------        --------------  -----  \n",
      " 0   title         135 non-null    object \n",
      " 1   num_rooms     135 non-null    int32  \n",
      " 2   area          135 non-null    float64\n",
      " 3   parking       135 non-null    int32  \n",
      " 4   elevator      135 non-null    int64  \n",
      " 5   price         135 non-null    float64\n",
      " 6   sqft_price    135 non-null    float64\n",
      " 7   heating_type  135 non-null    object \n",
      " 8   age           135 non-null    int32  \n",
      "dtypes: float64(3), int32(3), int64(1), object(2)\n",
      "memory usage: 8.0+ KB\n"
     ]
    }
   ],
   "source": [
    "df.info()"
   ]
  },
  {
   "cell_type": "code",
   "execution_count": 41,
   "id": "0aaa7ffd",
   "metadata": {},
   "outputs": [
    {
     "data": {
      "text/plain": [
       "(135, 9)"
      ]
     },
     "execution_count": 41,
     "metadata": {},
     "output_type": "execute_result"
    }
   ],
   "source": [
    "df.shape"
   ]
  },
  {
   "cell_type": "code",
   "execution_count": 42,
   "id": "793043e6",
   "metadata": {},
   "outputs": [
    {
     "data": {
      "text/html": [
       "<div>\n",
       "<style scoped>\n",
       "    .dataframe tbody tr th:only-of-type {\n",
       "        vertical-align: middle;\n",
       "    }\n",
       "\n",
       "    .dataframe tbody tr th {\n",
       "        vertical-align: top;\n",
       "    }\n",
       "\n",
       "    .dataframe thead th {\n",
       "        text-align: right;\n",
       "    }\n",
       "</style>\n",
       "<table border=\"1\" class=\"dataframe\">\n",
       "  <thead>\n",
       "    <tr style=\"text-align: right;\">\n",
       "      <th></th>\n",
       "      <th>num_rooms</th>\n",
       "      <th>area</th>\n",
       "      <th>parking</th>\n",
       "      <th>elevator</th>\n",
       "      <th>price</th>\n",
       "      <th>sqft_price</th>\n",
       "      <th>age</th>\n",
       "    </tr>\n",
       "  </thead>\n",
       "  <tbody>\n",
       "    <tr>\n",
       "      <th>count</th>\n",
       "      <td>135.000000</td>\n",
       "      <td>135.000000</td>\n",
       "      <td>135.000000</td>\n",
       "      <td>135.000000</td>\n",
       "      <td>135.000000</td>\n",
       "      <td>135.000000</td>\n",
       "      <td>135.000000</td>\n",
       "    </tr>\n",
       "    <tr>\n",
       "      <th>mean</th>\n",
       "      <td>2.659259</td>\n",
       "      <td>79.813960</td>\n",
       "      <td>0.785185</td>\n",
       "      <td>0.229630</td>\n",
       "      <td>1195.267857</td>\n",
       "      <td>15.795404</td>\n",
       "      <td>9.407407</td>\n",
       "    </tr>\n",
       "    <tr>\n",
       "      <th>std</th>\n",
       "      <td>0.865275</td>\n",
       "      <td>29.431456</td>\n",
       "      <td>0.684424</td>\n",
       "      <td>0.422161</td>\n",
       "      <td>425.945673</td>\n",
       "      <td>4.561406</td>\n",
       "      <td>17.014172</td>\n",
       "    </tr>\n",
       "    <tr>\n",
       "      <th>min</th>\n",
       "      <td>1.000000</td>\n",
       "      <td>14.000000</td>\n",
       "      <td>0.000000</td>\n",
       "      <td>0.000000</td>\n",
       "      <td>420.000000</td>\n",
       "      <td>8.108108</td>\n",
       "      <td>0.000000</td>\n",
       "    </tr>\n",
       "    <tr>\n",
       "      <th>25%</th>\n",
       "      <td>2.000000</td>\n",
       "      <td>59.000000</td>\n",
       "      <td>0.000000</td>\n",
       "      <td>0.000000</td>\n",
       "      <td>950.000000</td>\n",
       "      <td>12.903334</td>\n",
       "      <td>0.000000</td>\n",
       "    </tr>\n",
       "    <tr>\n",
       "      <th>50%</th>\n",
       "      <td>3.000000</td>\n",
       "      <td>75.000000</td>\n",
       "      <td>1.000000</td>\n",
       "      <td>0.000000</td>\n",
       "      <td>1103.000000</td>\n",
       "      <td>15.115694</td>\n",
       "      <td>0.000000</td>\n",
       "    </tr>\n",
       "    <tr>\n",
       "      <th>75%</th>\n",
       "      <td>3.000000</td>\n",
       "      <td>93.000000</td>\n",
       "      <td>1.000000</td>\n",
       "      <td>0.000000</td>\n",
       "      <td>1255.000000</td>\n",
       "      <td>18.027505</td>\n",
       "      <td>9.000000</td>\n",
       "    </tr>\n",
       "    <tr>\n",
       "      <th>max</th>\n",
       "      <td>5.000000</td>\n",
       "      <td>167.000000</td>\n",
       "      <td>2.000000</td>\n",
       "      <td>1.000000</td>\n",
       "      <td>2930.000000</td>\n",
       "      <td>42.688138</td>\n",
       "      <td>66.000000</td>\n",
       "    </tr>\n",
       "  </tbody>\n",
       "</table>\n",
       "</div>"
      ],
      "text/plain": [
       "        num_rooms        area     parking    elevator        price  \\\n",
       "count  135.000000  135.000000  135.000000  135.000000   135.000000   \n",
       "mean     2.659259   79.813960    0.785185    0.229630  1195.267857   \n",
       "std      0.865275   29.431456    0.684424    0.422161   425.945673   \n",
       "min      1.000000   14.000000    0.000000    0.000000   420.000000   \n",
       "25%      2.000000   59.000000    0.000000    0.000000   950.000000   \n",
       "50%      3.000000   75.000000    1.000000    0.000000  1103.000000   \n",
       "75%      3.000000   93.000000    1.000000    0.000000  1255.000000   \n",
       "max      5.000000  167.000000    2.000000    1.000000  2930.000000   \n",
       "\n",
       "       sqft_price         age  \n",
       "count  135.000000  135.000000  \n",
       "mean    15.795404    9.407407  \n",
       "std      4.561406   17.014172  \n",
       "min      8.108108    0.000000  \n",
       "25%     12.903334    0.000000  \n",
       "50%     15.115694    0.000000  \n",
       "75%     18.027505    9.000000  \n",
       "max     42.688138   66.000000  "
      ]
     },
     "execution_count": 42,
     "metadata": {},
     "output_type": "execute_result"
    }
   ],
   "source": [
    "df.describe()"
   ]
  },
  {
   "cell_type": "code",
   "execution_count": 43,
   "id": "a1363901",
   "metadata": {},
   "outputs": [
    {
     "data": {
      "text/plain": [
       "price         1.000000\n",
       "area          0.730676\n",
       "num_rooms     0.501410\n",
       "parking       0.144855\n",
       "sqft_price    0.132740\n",
       "age           0.114397\n",
       "elevator      0.050105\n",
       "Name: price, dtype: float64"
      ]
     },
     "execution_count": 43,
     "metadata": {},
     "output_type": "execute_result"
    }
   ],
   "source": [
    "abs(df.corr()['price']).sort_values(ascending=False)"
   ]
  },
  {
   "cell_type": "code",
   "execution_count": 44,
   "id": "e4fa6d08",
   "metadata": {},
   "outputs": [
    {
     "data": {
      "text/plain": [
       "<AxesSubplot:>"
      ]
     },
     "execution_count": 44,
     "metadata": {},
     "output_type": "execute_result"
    },
    {
     "data": {
      "image/png": "[encoded data removed]",
      "text/plain": [
       "<Figure size 432x288 with 2 Axes>"
      ]
     },
     "metadata": {
      "needs_background": "light"
     },
     "output_type": "display_data"
    }
   ],
   "source": [
    "sns.heatmap(df.corr(),annot=True)"
   ]
  },
  {
   "cell_type": "code",
   "execution_count": 45,
   "id": "9d742414",
   "metadata": {},
   "outputs": [
    {
     "data": {
      "image/png": "[encoded data removed]",
      "text/plain": [
       "<Figure size 720x504 with 2 Axes>"
      ]
     },
     "metadata": {
      "needs_background": "light"
     },
     "output_type": "display_data"
    }
   ],
   "source": [
    "fig = plt.figure(figsize=(10,7))\n",
    "fig.add_subplot(2,1,1)\n",
    "sns.distplot(df['price'])\n",
    "fig.add_subplot(2,1,2)\n",
    "sns.histplot(df['price'])\n",
    "plt.tight_layout();"
   ]
  },
  {
   "cell_type": "code",
   "execution_count": 46,
   "id": "cc40b9ac",
   "metadata": {},
   "outputs": [
    {
     "data": {
      "image/png": "[encoded data removed]",
      "text/plain": [
       "<Figure size 1152x1152 with 3 Axes>"
      ]
     },
     "metadata": {
      "needs_background": "light"
     },
     "output_type": "display_data"
    }
   ],
   "source": [
    "fig = plt.figure(figsize=(16,16))\n",
    "fig.add_subplot(3,3,1)\n",
    "sns.scatterplot(df['area'], df['price'])\n",
    "fig.add_subplot(3,3,2)\n",
    "sns.scatterplot(df['num_rooms'],df['price'])\n",
    "fig.add_subplot(3,3,3)\n",
    "sns.scatterplot(df['parking'],df['price']);"
   ]
  },
  {
   "cell_type": "markdown",
   "id": "417feefd",
   "metadata": {},
   "source": [
    "## Regression to predict rent prices"
   ]
  },
  {
   "cell_type": "code",
   "execution_count": 47,
   "id": "05a3b59d",
   "metadata": {},
   "outputs": [],
   "source": [
    "# define x and y\n",
    "x,y=df.drop([\"price\",\"title\",\"sqft_price\"],axis=1),df[[\"price\"]] \n",
    "x=pd.get_dummies(x,drop_first=True)"
   ]
  },
  {
   "cell_type": "code",
   "execution_count": 48,
   "id": "edb19c0e",
   "metadata": {},
   "outputs": [],
   "source": [
    "def regression_funct(x,y):\n",
    "    from sklearn.linear_model import LinearRegression\n",
    "    from sklearn.linear_model import Ridge,Lasso\n",
    "    from sklearn.linear_model import ElasticNet\n",
    "    from sklearn.tree import ExtraTreeRegressor\n",
    "    from sklearn.ensemble import GradientBoostingRegressor\n",
    "    from sklearn.neighbors import KNeighborsRegressor\n",
    "    \n",
    "    from sklearn.model_selection import train_test_split\n",
    "\n",
    "    from sklearn.metrics import mean_squared_error,r2_score,mean_absolute_error\n",
    "    \n",
    "    \n",
    "    x_train,x_test,y_train,y_test=train_test_split(x,y,test_size=0.2,random_state=42)\n",
    "\n",
    "    L=LinearRegression()\n",
    "    R=Ridge()\n",
    "    Lass=Lasso()\n",
    "    E=ElasticNet()\n",
    "    ExTree=ExtraTreeRegressor()\n",
    "    GBR=GradientBoostingRegressor()\n",
    "    KN=KNeighborsRegressor()\n",
    "    \n",
    "    algos=[L,R,Lass,E,ExTree,GBR,KN]\n",
    "    algo_names=['LinearRegression','Ridge','Lasso','ElasticNet','ExtraTreeRegressor','GradientBoostingRegressor','KNeighborsRegressor']\n",
    "    r_squared=[]\n",
    "    rmse=[]\n",
    "    mae=[]\n",
    "    \n",
    "    result=pd.DataFrame(columns=['R_Squared','RMSE','MAE'],index=algo_names)\n",
    "    \n",
    "    for item in algos:\n",
    "        item.fit(x_train,y_train)\n",
    "        item.predict(x_test)\n",
    "        r_squared.append(r2_score(y_test,item.predict(x_test)))\n",
    "        rmse.append((mean_squared_error(y_test,item.predict(x_test)))**.5)\n",
    "        mae.append(mean_absolute_error(y_test,item.predict(x_test)))\n",
    "        \n",
    "    result.R_Squared=r_squared\n",
    "    result.RMSE=rmse\n",
    "    result.MAE=mae\n",
    "        \n",
    "    return result.sort_values('R_Squared',ascending=False)"
   ]
  },
  {
   "cell_type": "code",
   "execution_count": 49,
   "id": "68d3cdfb",
   "metadata": {},
   "outputs": [
    {
     "data": {
      "text/html": [
       "<div>\n",
       "<style scoped>\n",
       "    .dataframe tbody tr th:only-of-type {\n",
       "        vertical-align: middle;\n",
       "    }\n",
       "\n",
       "    .dataframe tbody tr th {\n",
       "        vertical-align: top;\n",
       "    }\n",
       "\n",
       "    .dataframe thead th {\n",
       "        text-align: right;\n",
       "    }\n",
       "</style>\n",
       "<table border=\"1\" class=\"dataframe\">\n",
       "  <thead>\n",
       "    <tr style=\"text-align: right;\">\n",
       "      <th></th>\n",
       "      <th>R_Squared</th>\n",
       "      <th>RMSE</th>\n",
       "      <th>MAE</th>\n",
       "    </tr>\n",
       "  </thead>\n",
       "  <tbody>\n",
       "    <tr>\n",
       "      <th>ElasticNet</th>\n",
       "      <td>0.477895</td>\n",
       "      <td>372.733075</td>\n",
       "      <td>255.871061</td>\n",
       "    </tr>\n",
       "    <tr>\n",
       "      <th>Ridge</th>\n",
       "      <td>0.353628</td>\n",
       "      <td>414.724983</td>\n",
       "      <td>274.459874</td>\n",
       "    </tr>\n",
       "    <tr>\n",
       "      <th>KNeighborsRegressor</th>\n",
       "      <td>0.350575</td>\n",
       "      <td>415.703318</td>\n",
       "      <td>262.874603</td>\n",
       "    </tr>\n",
       "    <tr>\n",
       "      <th>Lasso</th>\n",
       "      <td>0.313320</td>\n",
       "      <td>427.460538</td>\n",
       "      <td>280.687044</td>\n",
       "    </tr>\n",
       "    <tr>\n",
       "      <th>LinearRegression</th>\n",
       "      <td>0.263902</td>\n",
       "      <td>442.574658</td>\n",
       "      <td>286.410751</td>\n",
       "    </tr>\n",
       "    <tr>\n",
       "      <th>GradientBoostingRegressor</th>\n",
       "      <td>0.226149</td>\n",
       "      <td>453.782234</td>\n",
       "      <td>283.417471</td>\n",
       "    </tr>\n",
       "    <tr>\n",
       "      <th>ExtraTreeRegressor</th>\n",
       "      <td>-0.025851</td>\n",
       "      <td>522.469601</td>\n",
       "      <td>385.798611</td>\n",
       "    </tr>\n",
       "  </tbody>\n",
       "</table>\n",
       "</div>"
      ],
      "text/plain": [
       "                           R_Squared        RMSE         MAE\n",
       "ElasticNet                  0.477895  372.733075  255.871061\n",
       "Ridge                       0.353628  414.724983  274.459874\n",
       "KNeighborsRegressor         0.350575  415.703318  262.874603\n",
       "Lasso                       0.313320  427.460538  280.687044\n",
       "LinearRegression            0.263902  442.574658  286.410751\n",
       "GradientBoostingRegressor   0.226149  453.782234  283.417471\n",
       "ExtraTreeRegressor         -0.025851  522.469601  385.798611"
      ]
     },
     "execution_count": 49,
     "metadata": {},
     "output_type": "execute_result"
    }
   ],
   "source": [
    "regression_funct(x,y)"
   ]
  },
  {
   "cell_type": "markdown",
   "id": "2b9e3a90",
   "metadata": {},
   "source": [
    "## Deep learning"
   ]
  },
  {
   "cell_type": "code",
   "execution_count": 50,
   "id": "189bcb9c",
   "metadata": {},
   "outputs": [],
   "source": [
    "from tensorflow.keras.models import Sequential\n",
    "from tensorflow.keras.layers import Dense, Activation\n",
    "from tensorflow.keras.optimizers import Adam\n",
    "from sklearn.model_selection import train_test_split\n",
    "from sklearn.metrics import  r2_score, mean_squared_error, mean_absolute_error\n",
    "from sklearn.preprocessing import MinMaxScaler\n",
    "scaler=MinMaxScaler()"
   ]
  },
  {
   "cell_type": "code",
   "execution_count": 51,
   "id": "715520a9",
   "metadata": {},
   "outputs": [],
   "source": [
    "x=scaler.fit_transform(x)"
   ]
  },
  {
   "cell_type": "code",
   "execution_count": 52,
   "id": "c3fc3b20",
   "metadata": {},
   "outputs": [
    {
     "data": {
      "text/html": [
       "<div>\n",
       "<style scoped>\n",
       "    .dataframe tbody tr th:only-of-type {\n",
       "        vertical-align: middle;\n",
       "    }\n",
       "\n",
       "    .dataframe tbody tr th {\n",
       "        vertical-align: top;\n",
       "    }\n",
       "\n",
       "    .dataframe thead th {\n",
       "        text-align: right;\n",
       "    }\n",
       "</style>\n",
       "<table border=\"1\" class=\"dataframe\">\n",
       "  <thead>\n",
       "    <tr style=\"text-align: right;\">\n",
       "      <th></th>\n",
       "      <th>0</th>\n",
       "      <th>1</th>\n",
       "      <th>2</th>\n",
       "      <th>3</th>\n",
       "      <th>4</th>\n",
       "      <th>5</th>\n",
       "      <th>6</th>\n",
       "      <th>7</th>\n",
       "      <th>8</th>\n",
       "      <th>9</th>\n",
       "      <th>10</th>\n",
       "      <th>11</th>\n",
       "      <th>12</th>\n",
       "    </tr>\n",
       "  </thead>\n",
       "  <tbody>\n",
       "    <tr>\n",
       "      <th>0</th>\n",
       "      <td>1.00</td>\n",
       "      <td>0.843137</td>\n",
       "      <td>0.0</td>\n",
       "      <td>0.0</td>\n",
       "      <td>0.000000</td>\n",
       "      <td>0.0</td>\n",
       "      <td>0.0</td>\n",
       "      <td>0.0</td>\n",
       "      <td>0.0</td>\n",
       "      <td>0.0</td>\n",
       "      <td>0.0</td>\n",
       "      <td>1.0</td>\n",
       "      <td>0.0</td>\n",
       "    </tr>\n",
       "    <tr>\n",
       "      <th>1</th>\n",
       "      <td>0.25</td>\n",
       "      <td>0.797386</td>\n",
       "      <td>0.0</td>\n",
       "      <td>0.0</td>\n",
       "      <td>0.000000</td>\n",
       "      <td>0.0</td>\n",
       "      <td>0.0</td>\n",
       "      <td>1.0</td>\n",
       "      <td>0.0</td>\n",
       "      <td>0.0</td>\n",
       "      <td>0.0</td>\n",
       "      <td>0.0</td>\n",
       "      <td>0.0</td>\n",
       "    </tr>\n",
       "    <tr>\n",
       "      <th>2</th>\n",
       "      <td>0.50</td>\n",
       "      <td>0.490196</td>\n",
       "      <td>0.5</td>\n",
       "      <td>0.0</td>\n",
       "      <td>0.409091</td>\n",
       "      <td>0.0</td>\n",
       "      <td>0.0</td>\n",
       "      <td>0.0</td>\n",
       "      <td>0.0</td>\n",
       "      <td>0.0</td>\n",
       "      <td>0.0</td>\n",
       "      <td>1.0</td>\n",
       "      <td>0.0</td>\n",
       "    </tr>\n",
       "    <tr>\n",
       "      <th>3</th>\n",
       "      <td>0.75</td>\n",
       "      <td>0.758170</td>\n",
       "      <td>1.0</td>\n",
       "      <td>0.0</td>\n",
       "      <td>0.000000</td>\n",
       "      <td>0.0</td>\n",
       "      <td>0.0</td>\n",
       "      <td>0.0</td>\n",
       "      <td>0.0</td>\n",
       "      <td>0.0</td>\n",
       "      <td>0.0</td>\n",
       "      <td>0.0</td>\n",
       "      <td>1.0</td>\n",
       "    </tr>\n",
       "    <tr>\n",
       "      <th>4</th>\n",
       "      <td>0.75</td>\n",
       "      <td>0.483660</td>\n",
       "      <td>1.0</td>\n",
       "      <td>0.0</td>\n",
       "      <td>0.196970</td>\n",
       "      <td>0.0</td>\n",
       "      <td>0.0</td>\n",
       "      <td>0.0</td>\n",
       "      <td>0.0</td>\n",
       "      <td>0.0</td>\n",
       "      <td>0.0</td>\n",
       "      <td>1.0</td>\n",
       "      <td>0.0</td>\n",
       "    </tr>\n",
       "    <tr>\n",
       "      <th>...</th>\n",
       "      <td>...</td>\n",
       "      <td>...</td>\n",
       "      <td>...</td>\n",
       "      <td>...</td>\n",
       "      <td>...</td>\n",
       "      <td>...</td>\n",
       "      <td>...</td>\n",
       "      <td>...</td>\n",
       "      <td>...</td>\n",
       "      <td>...</td>\n",
       "      <td>...</td>\n",
       "      <td>...</td>\n",
       "      <td>...</td>\n",
       "    </tr>\n",
       "    <tr>\n",
       "      <th>130</th>\n",
       "      <td>0.50</td>\n",
       "      <td>0.294118</td>\n",
       "      <td>0.0</td>\n",
       "      <td>0.0</td>\n",
       "      <td>0.000000</td>\n",
       "      <td>0.0</td>\n",
       "      <td>0.0</td>\n",
       "      <td>0.0</td>\n",
       "      <td>0.0</td>\n",
       "      <td>0.0</td>\n",
       "      <td>0.0</td>\n",
       "      <td>1.0</td>\n",
       "      <td>0.0</td>\n",
       "    </tr>\n",
       "    <tr>\n",
       "      <th>131</th>\n",
       "      <td>0.50</td>\n",
       "      <td>0.405229</td>\n",
       "      <td>0.5</td>\n",
       "      <td>1.0</td>\n",
       "      <td>0.121212</td>\n",
       "      <td>0.0</td>\n",
       "      <td>0.0</td>\n",
       "      <td>0.0</td>\n",
       "      <td>0.0</td>\n",
       "      <td>0.0</td>\n",
       "      <td>0.0</td>\n",
       "      <td>1.0</td>\n",
       "      <td>0.0</td>\n",
       "    </tr>\n",
       "    <tr>\n",
       "      <th>132</th>\n",
       "      <td>0.75</td>\n",
       "      <td>0.660131</td>\n",
       "      <td>0.5</td>\n",
       "      <td>0.0</td>\n",
       "      <td>0.000000</td>\n",
       "      <td>0.0</td>\n",
       "      <td>0.0</td>\n",
       "      <td>0.0</td>\n",
       "      <td>0.0</td>\n",
       "      <td>0.0</td>\n",
       "      <td>0.0</td>\n",
       "      <td>0.0</td>\n",
       "      <td>0.0</td>\n",
       "    </tr>\n",
       "    <tr>\n",
       "      <th>133</th>\n",
       "      <td>0.25</td>\n",
       "      <td>0.281046</td>\n",
       "      <td>0.5</td>\n",
       "      <td>1.0</td>\n",
       "      <td>0.000000</td>\n",
       "      <td>1.0</td>\n",
       "      <td>0.0</td>\n",
       "      <td>0.0</td>\n",
       "      <td>0.0</td>\n",
       "      <td>0.0</td>\n",
       "      <td>0.0</td>\n",
       "      <td>0.0</td>\n",
       "      <td>0.0</td>\n",
       "    </tr>\n",
       "    <tr>\n",
       "      <th>134</th>\n",
       "      <td>0.25</td>\n",
       "      <td>0.235294</td>\n",
       "      <td>1.0</td>\n",
       "      <td>0.0</td>\n",
       "      <td>0.636364</td>\n",
       "      <td>0.0</td>\n",
       "      <td>0.0</td>\n",
       "      <td>0.0</td>\n",
       "      <td>0.0</td>\n",
       "      <td>0.0</td>\n",
       "      <td>0.0</td>\n",
       "      <td>1.0</td>\n",
       "      <td>0.0</td>\n",
       "    </tr>\n",
       "  </tbody>\n",
       "</table>\n",
       "<p>135 rows × 13 columns</p>\n",
       "</div>"
      ],
      "text/plain": [
       "       0         1    2    3         4    5    6    7    8    9    10   11  \\\n",
       "0    1.00  0.843137  0.0  0.0  0.000000  0.0  0.0  0.0  0.0  0.0  0.0  1.0   \n",
       "1    0.25  0.797386  0.0  0.0  0.000000  0.0  0.0  1.0  0.0  0.0  0.0  0.0   \n",
       "2    0.50  0.490196  0.5  0.0  0.409091  0.0  0.0  0.0  0.0  0.0  0.0  1.0   \n",
       "3    0.75  0.758170  1.0  0.0  0.000000  0.0  0.0  0.0  0.0  0.0  0.0  0.0   \n",
       "4    0.75  0.483660  1.0  0.0  0.196970  0.0  0.0  0.0  0.0  0.0  0.0  1.0   \n",
       "..    ...       ...  ...  ...       ...  ...  ...  ...  ...  ...  ...  ...   \n",
       "130  0.50  0.294118  0.0  0.0  0.000000  0.0  0.0  0.0  0.0  0.0  0.0  1.0   \n",
       "131  0.50  0.405229  0.5  1.0  0.121212  0.0  0.0  0.0  0.0  0.0  0.0  1.0   \n",
       "132  0.75  0.660131  0.5  0.0  0.000000  0.0  0.0  0.0  0.0  0.0  0.0  0.0   \n",
       "133  0.25  0.281046  0.5  1.0  0.000000  1.0  0.0  0.0  0.0  0.0  0.0  0.0   \n",
       "134  0.25  0.235294  1.0  0.0  0.636364  0.0  0.0  0.0  0.0  0.0  0.0  1.0   \n",
       "\n",
       "      12  \n",
       "0    0.0  \n",
       "1    0.0  \n",
       "2    0.0  \n",
       "3    1.0  \n",
       "4    0.0  \n",
       "..   ...  \n",
       "130  0.0  \n",
       "131  0.0  \n",
       "132  0.0  \n",
       "133  0.0  \n",
       "134  0.0  \n",
       "\n",
       "[135 rows x 13 columns]"
      ]
     },
     "execution_count": 52,
     "metadata": {},
     "output_type": "execute_result"
    }
   ],
   "source": [
    "pd.DataFrame(x)"
   ]
  },
  {
   "cell_type": "code",
   "execution_count": 53,
   "id": "535f9674",
   "metadata": {},
   "outputs": [
    {
     "data": {
      "text/plain": [
       "((135, 13), (135, 1))"
      ]
     },
     "execution_count": 53,
     "metadata": {},
     "output_type": "execute_result"
    }
   ],
   "source": [
    "x.shape,y.shape"
   ]
  },
  {
   "cell_type": "code",
   "execution_count": 54,
   "id": "d01ab314",
   "metadata": {},
   "outputs": [],
   "source": [
    "x_train, x_test, y_train, y_test = train_test_split(x,y, test_size=0.20, random_state=42)"
   ]
  },
  {
   "cell_type": "code",
   "execution_count": 55,
   "id": "039bb847",
   "metadata": {},
   "outputs": [],
   "source": [
    "model=Sequential()\n",
    "model.add(Dense(440, activation='relu'))\n",
    "model.add(Dense(400, activation='relu'))\n",
    "model.add(Dense(380, activation='relu'))\n",
    "model.add(Dense(340, activation='relu'))\n",
    "model.add(Dense(300, activation='relu'))\n",
    "model.add(Dense(250, activation='relu'))\n",
    "model.add(Dense(220, activation='relu'))\n",
    "model.add(Dense(198, activation='relu'))\n",
    "model.add(Dense(180, activation='relu'))\n",
    "model.add(Dense(150, activation='relu'))\n",
    "model.add(Dense(100, activation='relu'))\n",
    "model.add(Dense(70, activation='relu'))\n",
    "model.add(Dense(40, activation='relu'))\n",
    "model.add(Dense(30, activation='relu'))\n",
    "model.add(Dense(10, activation='relu'))\n",
    "model.add(Dense(1))\n",
    "model.compile(optimizer='Adam', loss='mse')#mse regression"
   ]
  },
  {
   "cell_type": "code",
   "execution_count": 56,
   "id": "15b5132a",
   "metadata": {
    "scrolled": true
   },
   "outputs": [
    {
     "name": "stdout",
     "output_type": "stream",
     "text": [
      "Epoch 1/500\n",
      "1/1 [==============================] - 1s 972ms/step - loss: 1469479.1250 - val_loss: 2165788.5000\n",
      "Epoch 2/500\n",
      "1/1 [==============================] - 0s 16ms/step - loss: 1469446.6250 - val_loss: 2165678.2500\n",
      "Epoch 3/500\n",
      "1/1 [==============================] - 0s 16ms/step - loss: 1469358.2500 - val_loss: 2165382.2500\n",
      "Epoch 4/500\n",
      "1/1 [==============================] - 0s 31ms/step - loss: 1469122.1250 - val_loss: 2164731.0000\n",
      "Epoch 5/500\n",
      "1/1 [==============================] - 0s 19ms/step - loss: 1468604.5000 - val_loss: 2163240.0000\n",
      "Epoch 6/500\n",
      "1/1 [==============================] - 0s 13ms/step - loss: 1467420.0000 - val_loss: 2160011.2500\n",
      "Epoch 7/500\n",
      "1/1 [==============================] - 0s 16ms/step - loss: 1464857.1250 - val_loss: 2153417.5000\n",
      "Epoch 8/500\n",
      "1/1 [==============================] - 0s 16ms/step - loss: 1459629.6250 - val_loss: 2140010.2500\n",
      "Epoch 9/500\n",
      "1/1 [==============================] - 0s 16ms/step - loss: 1449002.1250 - val_loss: 2113159.7500\n",
      "Epoch 10/500\n",
      "1/1 [==============================] - 0s 32ms/step - loss: 1427769.1250 - val_loss: 2061206.8750\n",
      "Epoch 11/500\n",
      "1/1 [==============================] - 0s 16ms/step - loss: 1386790.6250 - val_loss: 1963747.5000\n",
      "Epoch 12/500\n",
      "1/1 [==============================] - 0s 16ms/step - loss: 1310208.2500 - val_loss: 1787048.2500\n",
      "Epoch 13/500\n",
      "1/1 [==============================] - 0s 31ms/step - loss: 1172334.8750 - val_loss: 1486161.1250\n",
      "Epoch 14/500\n",
      "1/1 [==============================] - 0s 16ms/step - loss: 941044.3125 - val_loss: 1004774.5625\n",
      "Epoch 15/500\n",
      "1/1 [==============================] - 0s 16ms/step - loss: 584238.7500 - val_loss: 411381.8438\n",
      "Epoch 16/500\n",
      "1/1 [==============================] - 0s 31ms/step - loss: 199253.1094 - val_loss: 382832.8125\n",
      "Epoch 17/500\n",
      "1/1 [==============================] - 0s 16ms/step - loss: 480860.1562 - val_loss: 330884.1875\n",
      "Epoch 18/500\n",
      "1/1 [==============================] - 0s 31ms/step - loss: 405419.8750 - val_loss: 212834.9844\n",
      "Epoch 19/500\n",
      "1/1 [==============================] - 0s 21ms/step - loss: 163704.0781 - val_loss: 330296.4062\n",
      "Epoch 20/500\n",
      "1/1 [==============================] - 0s 26ms/step - loss: 156149.8125 - val_loss: 501684.1562\n",
      "Epoch 21/500\n",
      "1/1 [==============================] - 0s 16ms/step - loss: 243894.7969 - val_loss: 604667.6875\n",
      "Epoch 22/500\n",
      "1/1 [==============================] - 0s 16ms/step - loss: 306453.5312 - val_loss: 617669.9375\n",
      "Epoch 23/500\n",
      "1/1 [==============================] - 0s 31ms/step - loss: 313704.9688 - val_loss: 548926.4375\n",
      "Epoch 24/500\n",
      "1/1 [==============================] - 0s 16ms/step - loss: 268601.2812 - val_loss: 420049.7500\n",
      "Epoch 25/500\n",
      "1/1 [==============================] - 0s 16ms/step - loss: 190215.4375 - val_loss: 277581.1562\n",
      "Epoch 26/500\n",
      "1/1 [==============================] - 0s 31ms/step - loss: 120627.4609 - val_loss: 199691.6719\n",
      "Epoch 27/500\n",
      "1/1 [==============================] - 0s 16ms/step - loss: 122875.3203 - val_loss: 218488.5000\n",
      "Epoch 28/500\n",
      "1/1 [==============================] - 0s 16ms/step - loss: 196757.8594 - val_loss: 223834.7031\n",
      "Epoch 29/500\n",
      "1/1 [==============================] - 0s 32ms/step - loss: 203795.3750 - val_loss: 195257.7344\n",
      "Epoch 30/500\n",
      "1/1 [==============================] - 0s 16ms/step - loss: 131189.0156 - val_loss: 221089.4062\n",
      "Epoch 31/500\n",
      "1/1 [==============================] - 0s 16ms/step - loss: 94908.5547 - val_loss: 293668.7188\n",
      "Epoch 32/500\n",
      "1/1 [==============================] - 0s 16ms/step - loss: 113128.1875 - val_loss: 355681.1875\n",
      "Epoch 33/500\n",
      "1/1 [==============================] - 0s 16ms/step - loss: 141768.5156 - val_loss: 373485.2500\n",
      "Epoch 34/500\n",
      "1/1 [==============================] - 0s 16ms/step - loss: 149967.7812 - val_loss: 343114.4375\n",
      "Epoch 35/500\n",
      "1/1 [==============================] - 0s 16ms/step - loss: 131903.5625 - val_loss: 281370.0312\n",
      "Epoch 36/500\n",
      "1/1 [==============================] - 0s 31ms/step - loss: 100247.7969 - val_loss: 221247.0938\n",
      "Epoch 37/500\n",
      "1/1 [==============================] - 0s 17ms/step - loss: 80111.4375 - val_loss: 195023.9375\n",
      "Epoch 38/500\n",
      "1/1 [==============================] - 0s 15ms/step - loss: 90702.6484 - val_loss: 197994.2344\n",
      "Epoch 39/500\n",
      "1/1 [==============================] - 0s 18ms/step - loss: 112473.4609 - val_loss: 197346.2656\n",
      "Epoch 40/500\n",
      "1/1 [==============================] - 0s 16ms/step - loss: 105792.5938 - val_loss: 198381.7188\n",
      "Epoch 41/500\n",
      "1/1 [==============================] - 0s 31ms/step - loss: 81104.9922 - val_loss: 222672.9688\n",
      "Epoch 42/500\n",
      "1/1 [==============================] - 0s 16ms/step - loss: 72299.7422 - val_loss: 259557.2188\n",
      "Epoch 43/500\n",
      "1/1 [==============================] - 0s 32ms/step - loss: 81321.8594 - val_loss: 283804.1250\n",
      "Epoch 44/500\n",
      "1/1 [==============================] - 0s 16ms/step - loss: 90591.8906 - val_loss: 281715.9375\n",
      "Epoch 45/500\n",
      "1/1 [==============================] - 0s 16ms/step - loss: 88584.9062 - val_loss: 256932.6406\n",
      "Epoch 46/500\n",
      "1/1 [==============================] - 0s 16ms/step - loss: 77013.2656 - val_loss: 225950.0000\n",
      "Epoch 47/500\n",
      "1/1 [==============================] - 0s 32ms/step - loss: 67127.7969 - val_loss: 206744.7656\n",
      "Epoch 48/500\n",
      "1/1 [==============================] - 0s 16ms/step - loss: 68877.7969 - val_loss: 202835.3750\n",
      "Epoch 49/500\n",
      "1/1 [==============================] - 0s 31ms/step - loss: 76930.1328 - val_loss: 203504.8594\n",
      "Epoch 50/500\n",
      "1/1 [==============================] - 0s 16ms/step - loss: 76460.0625 - val_loss: 207445.5781\n",
      "Epoch 51/500\n",
      "1/1 [==============================] - 0s 32ms/step - loss: 67523.5781 - val_loss: 221322.2969\n",
      "Epoch 52/500\n",
      "1/1 [==============================] - 0s 21ms/step - loss: 62867.7148 - val_loss: 240904.1406\n",
      "Epoch 53/500\n",
      "1/1 [==============================] - 0s 22ms/step - loss: 65816.1953 - val_loss: 253591.4219\n",
      "Epoch 54/500\n",
      "1/1 [==============================] - 0s 16ms/step - loss: 69433.3281 - val_loss: 251596.1875\n",
      "Epoch 55/500\n",
      "1/1 [==============================] - 0s 16ms/step - loss: 68052.9062 - val_loss: 237547.1875\n",
      "Epoch 56/500\n",
      "1/1 [==============================] - 0s 32ms/step - loss: 62937.8984 - val_loss: 221306.3125\n",
      "Epoch 57/500\n",
      "1/1 [==============================] - 0s 16ms/step - loss: 59798.7578 - val_loss: 211435.5156\n",
      "Epoch 58/500\n",
      "1/1 [==============================] - 0s 31ms/step - loss: 61545.2500 - val_loss: 208587.1875\n",
      "Epoch 59/500\n",
      "1/1 [==============================] - 0s 16ms/step - loss: 63783.8281 - val_loss: 209744.9844\n",
      "Epoch 60/500\n",
      "1/1 [==============================] - 0s 16ms/step - loss: 61742.1484 - val_loss: 215620.1094\n",
      "Epoch 61/500\n",
      "1/1 [==============================] - 0s 31ms/step - loss: 58132.0508 - val_loss: 226185.0312\n",
      "Epoch 62/500\n",
      "1/1 [==============================] - 0s 16ms/step - loss: 57439.4922 - val_loss: 235888.1406\n",
      "Epoch 63/500\n",
      "1/1 [==============================] - 0s 16ms/step - loss: 58929.7578 - val_loss: 238370.4062\n",
      "Epoch 64/500\n",
      "1/1 [==============================] - 0s 31ms/step - loss: 59184.4258 - val_loss: 232356.8594\n",
      "Epoch 65/500\n",
      "1/1 [==============================] - 0s 16ms/step - loss: 57197.0703 - val_loss: 222264.7656\n",
      "Epoch 66/500\n",
      "1/1 [==============================] - 0s 10ms/step - loss: 55144.2969 - val_loss: 213983.6875\n",
      "Epoch 67/500\n",
      "1/1 [==============================] - 0s 16ms/step - loss: 55114.5000 - val_loss: 210093.0625\n",
      "Epoch 68/500\n",
      "1/1 [==============================] - 0s 16ms/step - loss: 55983.7852 - val_loss: 210094.9844\n",
      "Epoch 69/500\n",
      "1/1 [==============================] - 0s 16ms/step - loss: 55357.2500 - val_loss: 213703.5156\n",
      "Epoch 70/500\n",
      "1/1 [==============================] - 0s 28ms/step - loss: 53660.8945 - val_loss: 220135.8281\n",
      "Epoch 71/500\n",
      "1/1 [==============================] - 0s 19ms/step - loss: 52962.0312 - val_loss: 226103.5938\n",
      "Epoch 72/500\n",
      "1/1 [==============================] - 0s 16ms/step - loss: 53388.6484 - val_loss: 227773.2031\n",
      "Epoch 73/500\n",
      "1/1 [==============================] - 0s 31ms/step - loss: 53407.7266 - val_loss: 224212.4375\n",
      "Epoch 74/500\n",
      "1/1 [==============================] - 0s 16ms/step - loss: 52426.9062 - val_loss: 218047.6406\n",
      "Epoch 75/500\n",
      "1/1 [==============================] - 0s 19ms/step - loss: 51468.2578 - val_loss: 212868.8750\n",
      "Epoch 76/500\n"
     ]
    },
    {
     "name": "stdout",
     "output_type": "stream",
     "text": [
      "1/1 [==============================] - 0s 29ms/step - loss: 51416.3828 - val_loss: 210555.7812\n",
      "Epoch 77/500\n",
      "1/1 [==============================] - 0s 16ms/step - loss: 51614.3438 - val_loss: 211230.9375\n",
      "Epoch 78/500\n",
      "1/1 [==============================] - 0s 16ms/step - loss: 51102.3281 - val_loss: 214473.6406\n",
      "Epoch 79/500\n",
      "1/1 [==============================] - 0s 31ms/step - loss: 50288.2031 - val_loss: 219015.6094\n",
      "Epoch 80/500\n",
      "1/1 [==============================] - 0s 16ms/step - loss: 50019.2969 - val_loss: 222382.0156\n",
      "Epoch 81/500\n",
      "1/1 [==============================] - 0s 16ms/step - loss: 50108.6484 - val_loss: 222553.5156\n",
      "Epoch 82/500\n",
      "1/1 [==============================] - 0s 16ms/step - loss: 49850.4219 - val_loss: 219780.3281\n",
      "Epoch 83/500\n",
      "1/1 [==============================] - 0s 16ms/step - loss: 49242.4180 - val_loss: 216153.1719\n",
      "Epoch 84/500\n",
      "1/1 [==============================] - 0s 32ms/step - loss: 48862.2930 - val_loss: 213735.4062\n",
      "Epoch 85/500\n",
      "1/1 [==============================] - 0s 16ms/step - loss: 48843.9727 - val_loss: 213463.3594\n",
      "Epoch 86/500\n",
      "1/1 [==============================] - 0s 31ms/step - loss: 48687.7148 - val_loss: 215234.1250\n",
      "Epoch 87/500\n",
      "1/1 [==============================] - 0s 16ms/step - loss: 48224.5508 - val_loss: 218327.6875\n",
      "Epoch 88/500\n",
      "1/1 [==============================] - 0s 37ms/step - loss: 47862.3672 - val_loss: 221230.2031\n",
      "Epoch 89/500\n",
      "1/1 [==============================] - 0s 11ms/step - loss: 47760.9062 - val_loss: 222389.5312\n",
      "Epoch 90/500\n",
      "1/1 [==============================] - 0s 31ms/step - loss: 47622.4180 - val_loss: 221387.9844\n",
      "Epoch 91/500\n",
      "1/1 [==============================] - 0s 16ms/step - loss: 47274.1992 - val_loss: 219238.7031\n",
      "Epoch 92/500\n",
      "1/1 [==============================] - 0s 16ms/step - loss: 46945.7461 - val_loss: 217440.6250\n",
      "Epoch 93/500\n",
      "1/1 [==============================] - 0s 27ms/step - loss: 46803.6211 - val_loss: 216923.5312\n",
      "Epoch 94/500\n",
      "1/1 [==============================] - 0s 20ms/step - loss: 46662.9102 - val_loss: 217853.6250\n",
      "Epoch 95/500\n",
      "1/1 [==============================] - 0s 16ms/step - loss: 46373.6953 - val_loss: 219756.0156\n",
      "Epoch 96/500\n",
      "1/1 [==============================] - 0s 16ms/step - loss: 46090.4961 - val_loss: 221636.1094\n",
      "Epoch 97/500\n",
      "1/1 [==============================] - 0s 16ms/step - loss: 45938.3242 - val_loss: 222434.7812\n",
      "Epoch 98/500\n",
      "1/1 [==============================] - 0s 18ms/step - loss: 45789.0742 - val_loss: 221845.5938\n",
      "Epoch 99/500\n",
      "1/1 [==============================] - 0s 31ms/step - loss: 45541.6562 - val_loss: 220435.1250\n",
      "Epoch 100/500\n",
      "1/1 [==============================] - 0s 15ms/step - loss: 45296.1172 - val_loss: 219190.4844\n",
      "Epoch 101/500\n",
      "1/1 [==============================] - 0s 16ms/step - loss: 45136.3164 - val_loss: 218795.6094\n",
      "Epoch 102/500\n",
      "1/1 [==============================] - 0s 16ms/step - loss: 44974.8281 - val_loss: 219390.1250\n",
      "Epoch 103/500\n",
      "1/1 [==============================] - 0s 16ms/step - loss: 44744.2969 - val_loss: 220581.8281\n",
      "Epoch 104/500\n",
      "1/1 [==============================] - 0s 16ms/step - loss: 44523.5273 - val_loss: 221668.8906\n",
      "Epoch 105/500\n",
      "1/1 [==============================] - 0s 31ms/step - loss: 44358.9258 - val_loss: 221986.1250\n",
      "Epoch 106/500\n",
      "1/1 [==============================] - 0s 16ms/step - loss: 44190.9805 - val_loss: 221393.5625\n",
      "Epoch 107/500\n",
      "1/1 [==============================] - 0s 16ms/step - loss: 43979.3516 - val_loss: 220361.9375\n",
      "Epoch 108/500\n",
      "1/1 [==============================] - 0s 18ms/step - loss: 43779.1094 - val_loss: 219539.7656\n",
      "Epoch 109/500\n",
      "1/1 [==============================] - 0s 16ms/step - loss: 43613.4062 - val_loss: 219335.4844\n",
      "Epoch 110/500\n",
      "1/1 [==============================] - 0s 16ms/step - loss: 43433.2500 - val_loss: 219762.4688\n",
      "Epoch 111/500\n",
      "1/1 [==============================] - 0s 31ms/step - loss: 43237.4648 - val_loss: 220456.2812\n",
      "Epoch 112/500\n",
      "1/1 [==============================] - 0s 20ms/step - loss: 43052.4180 - val_loss: 220916.5781\n",
      "Epoch 113/500\n",
      "1/1 [==============================] - 0s 12ms/step - loss: 42880.6406 - val_loss: 220812.5312\n",
      "Epoch 114/500\n",
      "1/1 [==============================] - 0s 31ms/step - loss: 42692.4727 - val_loss: 220230.0156\n",
      "Epoch 115/500\n",
      "1/1 [==============================] - 0s 16ms/step - loss: 42495.1289 - val_loss: 219574.0312\n",
      "Epoch 116/500\n",
      "1/1 [==============================] - 0s 16ms/step - loss: 42323.6406 - val_loss: 219224.6719\n",
      "Epoch 117/500\n",
      "1/1 [==============================] - 0s 32ms/step - loss: 42154.9492 - val_loss: 219309.0938\n",
      "Epoch 118/500\n",
      "1/1 [==============================] - 0s 16ms/step - loss: 41970.5039 - val_loss: 219673.3750\n",
      "Epoch 119/500\n",
      "1/1 [==============================] - 0s 16ms/step - loss: 41790.8984 - val_loss: 219981.2812\n",
      "Epoch 120/500\n",
      "1/1 [==============================] - 0s 31ms/step - loss: 41625.2852 - val_loss: 219938.8906\n",
      "Epoch 121/500\n",
      "1/1 [==============================] - 0s 16ms/step - loss: 41454.8594 - val_loss: 219565.0000\n",
      "Epoch 122/500\n",
      "1/1 [==============================] - 0s 32ms/step - loss: 41275.4766 - val_loss: 219094.7812\n",
      "Epoch 123/500\n",
      "1/1 [==============================] - 0s 16ms/step - loss: 41107.0195 - val_loss: 218847.1094\n",
      "Epoch 124/500\n",
      "1/1 [==============================] - 0s 31ms/step - loss: 40942.4453 - val_loss: 218934.3281\n",
      "Epoch 125/500\n",
      "1/1 [==============================] - 0s 16ms/step - loss: 40768.3477 - val_loss: 219200.5781\n",
      "Epoch 126/500\n",
      "1/1 [==============================] - 0s 32ms/step - loss: 40597.2148 - val_loss: 219389.2188\n",
      "Epoch 127/500\n",
      "1/1 [==============================] - 0s 16ms/step - loss: 40441.1406 - val_loss: 219368.4844\n",
      "Epoch 128/500\n",
      "1/1 [==============================] - 0s 16ms/step - loss: 40274.5469 - val_loss: 219119.6875\n",
      "Epoch 129/500\n",
      "1/1 [==============================] - 0s 31ms/step - loss: 40093.7461 - val_loss: 218818.6875\n",
      "Epoch 130/500\n",
      "1/1 [==============================] - 0s 29ms/step - loss: 39916.3008 - val_loss: 218574.1875\n",
      "Epoch 131/500\n",
      "1/1 [==============================] - 0s 19ms/step - loss: 39742.7969 - val_loss: 218496.0625\n",
      "Epoch 132/500\n",
      "1/1 [==============================] - 0s 16ms/step - loss: 39559.2852 - val_loss: 218566.4688\n",
      "Epoch 133/500\n",
      "1/1 [==============================] - 0s 31ms/step - loss: 39380.2578 - val_loss: 218729.6406\n",
      "Epoch 134/500\n",
      "1/1 [==============================] - 0s 16ms/step - loss: 39187.6719 - val_loss: 218845.3906\n",
      "Epoch 135/500\n",
      "1/1 [==============================] - 0s 32ms/step - loss: 38998.7852 - val_loss: 218757.0000\n",
      "Epoch 136/500\n",
      "1/1 [==============================] - 0s 16ms/step - loss: 38809.5039 - val_loss: 218561.8281\n",
      "Epoch 137/500\n",
      "1/1 [==============================] - 0s 29ms/step - loss: 38633.6211 - val_loss: 218421.9375\n",
      "Epoch 138/500\n",
      "1/1 [==============================] - 0s 18ms/step - loss: 38451.8516 - val_loss: 218442.0156\n",
      "Epoch 139/500\n",
      "1/1 [==============================] - 0s 16ms/step - loss: 38273.9570 - val_loss: 218658.1719\n",
      "Epoch 140/500\n",
      "1/1 [==============================] - 0s 16ms/step - loss: 38093.3398 - val_loss: 219037.3750\n",
      "Epoch 141/500\n",
      "1/1 [==============================] - 0s 31ms/step - loss: 37914.3203 - val_loss: 219440.6250\n",
      "Epoch 142/500\n",
      "1/1 [==============================] - 0s 16ms/step - loss: 37733.6445 - val_loss: 219659.2031\n",
      "Epoch 143/500\n",
      "1/1 [==============================] - 0s 16ms/step - loss: 37558.7188 - val_loss: 219704.9688\n",
      "Epoch 144/500\n",
      "1/1 [==============================] - 0s 16ms/step - loss: 37384.8242 - val_loss: 219722.0000\n",
      "Epoch 145/500\n",
      "1/1 [==============================] - 0s 17ms/step - loss: 37216.4141 - val_loss: 219809.6875\n",
      "Epoch 146/500\n",
      "1/1 [==============================] - 0s 16ms/step - loss: 37044.2617 - val_loss: 219909.6094\n",
      "Epoch 147/500\n",
      "1/1 [==============================] - 0s 31ms/step - loss: 36868.4180 - val_loss: 220030.7344\n",
      "Epoch 148/500\n",
      "1/1 [==============================] - 0s 16ms/step - loss: 36708.3828 - val_loss: 220111.5625\n",
      "Epoch 149/500\n",
      "1/1 [==============================] - 0s 21ms/step - loss: 36549.5898 - val_loss: 220153.8125\n",
      "Epoch 150/500\n",
      "1/1 [==============================] - 0s 16ms/step - loss: 36387.4102 - val_loss: 220160.5781\n",
      "Epoch 151/500\n"
     ]
    },
    {
     "name": "stdout",
     "output_type": "stream",
     "text": [
      "1/1 [==============================] - 0s 16ms/step - loss: 36225.8594 - val_loss: 220113.6719\n",
      "Epoch 152/500\n",
      "1/1 [==============================] - 0s 16ms/step - loss: 36063.9805 - val_loss: 220037.6406\n",
      "Epoch 153/500\n",
      "1/1 [==============================] - 0s 31ms/step - loss: 35907.6719 - val_loss: 219971.3125\n",
      "Epoch 154/500\n",
      "1/1 [==============================] - 0s 16ms/step - loss: 35741.3906 - val_loss: 219942.7031\n",
      "Epoch 155/500\n",
      "1/1 [==============================] - 0s 16ms/step - loss: 35576.7031 - val_loss: 219841.4688\n",
      "Epoch 156/500\n",
      "1/1 [==============================] - 0s 16ms/step - loss: 35422.1836 - val_loss: 219655.0156\n",
      "Epoch 157/500\n",
      "1/1 [==============================] - 0s 31ms/step - loss: 35265.4062 - val_loss: 219592.4219\n",
      "Epoch 158/500\n",
      "1/1 [==============================] - 0s 16ms/step - loss: 35111.4336 - val_loss: 219740.2188\n",
      "Epoch 159/500\n",
      "1/1 [==============================] - 0s 18ms/step - loss: 34950.3086 - val_loss: 220030.2031\n",
      "Epoch 160/500\n",
      "1/1 [==============================] - 0s 14ms/step - loss: 34791.8242 - val_loss: 220262.4844\n",
      "Epoch 161/500\n",
      "1/1 [==============================] - 0s 16ms/step - loss: 34638.6172 - val_loss: 220276.9219\n",
      "Epoch 162/500\n",
      "1/1 [==============================] - 0s 16ms/step - loss: 34473.7539 - val_loss: 220074.4844\n",
      "Epoch 163/500\n",
      "1/1 [==============================] - 0s 16ms/step - loss: 34316.0508 - val_loss: 219975.5312\n",
      "Epoch 164/500\n",
      "1/1 [==============================] - 0s 32ms/step - loss: 34158.4023 - val_loss: 220019.4375\n",
      "Epoch 165/500\n",
      "1/1 [==============================] - 0s 16ms/step - loss: 34002.9336 - val_loss: 220207.6406\n",
      "Epoch 166/500\n",
      "1/1 [==============================] - 0s 16ms/step - loss: 33842.9766 - val_loss: 220473.0156\n",
      "Epoch 167/500\n",
      "1/1 [==============================] - 0s 16ms/step - loss: 33701.4414 - val_loss: 220637.7188\n",
      "Epoch 168/500\n",
      "1/1 [==============================] - 0s 31ms/step - loss: 33549.5312 - val_loss: 220758.7812\n",
      "Epoch 169/500\n",
      "1/1 [==============================] - 0s 16ms/step - loss: 33402.0547 - val_loss: 220870.5781\n",
      "Epoch 170/500\n",
      "1/1 [==============================] - 0s 16ms/step - loss: 33256.4023 - val_loss: 220903.5781\n",
      "Epoch 171/500\n",
      "1/1 [==============================] - 0s 31ms/step - loss: 33102.6719 - val_loss: 220762.8125\n",
      "Epoch 172/500\n",
      "1/1 [==============================] - 0s 16ms/step - loss: 32947.5664 - val_loss: 220439.0156\n",
      "Epoch 173/500\n",
      "1/1 [==============================] - 0s 31ms/step - loss: 32795.7109 - val_loss: 220165.8125\n",
      "Epoch 174/500\n",
      "1/1 [==============================] - 0s 16ms/step - loss: 32630.6660 - val_loss: 220067.4375\n",
      "Epoch 175/500\n",
      "1/1 [==============================] - 0s 16ms/step - loss: 32481.3047 - val_loss: 220096.5625\n",
      "Epoch 176/500\n",
      "1/1 [==============================] - 0s 31ms/step - loss: 32325.7637 - val_loss: 220280.3594\n",
      "Epoch 177/500\n",
      "1/1 [==============================] - 0s 16ms/step - loss: 32166.9883 - val_loss: 220490.2031\n",
      "Epoch 178/500\n",
      "1/1 [==============================] - 0s 16ms/step - loss: 32012.6348 - val_loss: 220532.5781\n",
      "Epoch 179/500\n",
      "1/1 [==============================] - 0s 16ms/step - loss: 31861.0078 - val_loss: 220438.0938\n",
      "Epoch 180/500\n",
      "1/1 [==============================] - 0s 31ms/step - loss: 31704.4824 - val_loss: 220427.5938\n",
      "Epoch 181/500\n",
      "1/1 [==============================] - 0s 16ms/step - loss: 31543.1992 - val_loss: 220641.8750\n",
      "Epoch 182/500\n",
      "1/1 [==============================] - 0s 16ms/step - loss: 31401.8281 - val_loss: 221011.6406\n",
      "Epoch 183/500\n",
      "1/1 [==============================] - 0s 16ms/step - loss: 31249.8145 - val_loss: 221304.9375\n",
      "Epoch 184/500\n",
      "1/1 [==============================] - 0s 16ms/step - loss: 31104.0039 - val_loss: 221343.8281\n",
      "Epoch 185/500\n",
      "1/1 [==============================] - 0s 16ms/step - loss: 30950.2383 - val_loss: 221262.6406\n",
      "Epoch 186/500\n",
      "1/1 [==============================] - 0s 16ms/step - loss: 30801.1953 - val_loss: 221186.2656\n",
      "Epoch 187/500\n",
      "1/1 [==============================] - 0s 31ms/step - loss: 30659.1992 - val_loss: 221273.5781\n",
      "Epoch 188/500\n",
      "1/1 [==============================] - 0s 16ms/step - loss: 30512.2324 - val_loss: 221429.7812\n",
      "Epoch 189/500\n",
      "1/1 [==============================] - 0s 16ms/step - loss: 30355.9023 - val_loss: 221614.7188\n",
      "Epoch 190/500\n",
      "1/1 [==============================] - 0s 16ms/step - loss: 30194.8145 - val_loss: 221760.5625\n",
      "Epoch 191/500\n",
      "1/1 [==============================] - 0s 31ms/step - loss: 30047.5098 - val_loss: 221841.3125\n",
      "Epoch 192/500\n",
      "1/1 [==============================] - 0s 16ms/step - loss: 29888.1602 - val_loss: 221855.2969\n",
      "Epoch 193/500\n",
      "1/1 [==============================] - 0s 29ms/step - loss: 29735.9219 - val_loss: 221860.7656\n",
      "Epoch 194/500\n",
      "1/1 [==============================] - 0s 19ms/step - loss: 29586.5176 - val_loss: 221812.5312\n",
      "Epoch 195/500\n",
      "1/1 [==============================] - 0s 16ms/step - loss: 29433.9980 - val_loss: 222150.0156\n",
      "Epoch 196/500\n",
      "1/1 [==============================] - 0s 31ms/step - loss: 29285.6367 - val_loss: 222666.3281\n",
      "Epoch 197/500\n",
      "1/1 [==============================] - 0s 16ms/step - loss: 29134.9082 - val_loss: 223304.2812\n",
      "Epoch 198/500\n",
      "1/1 [==============================] - 0s 32ms/step - loss: 28983.8633 - val_loss: 223708.4844\n",
      "Epoch 199/500\n",
      "1/1 [==============================] - 0s 16ms/step - loss: 28828.5254 - val_loss: 223649.8125\n",
      "Epoch 200/500\n",
      "1/1 [==============================] - 0s 16ms/step - loss: 28655.0918 - val_loss: 223187.5312\n",
      "Epoch 201/500\n",
      "1/1 [==============================] - 0s 31ms/step - loss: 28494.8750 - val_loss: 223055.1719\n",
      "Epoch 202/500\n",
      "1/1 [==============================] - 0s 16ms/step - loss: 28346.5215 - val_loss: 223336.1875\n",
      "Epoch 203/500\n",
      "1/1 [==============================] - 0s 16ms/step - loss: 28202.8789 - val_loss: 223712.7812\n",
      "Epoch 204/500\n",
      "1/1 [==============================] - 0s 31ms/step - loss: 28048.1641 - val_loss: 223924.2656\n",
      "Epoch 205/500\n",
      "1/1 [==============================] - 0s 16ms/step - loss: 27896.2461 - val_loss: 223842.5000\n",
      "Epoch 206/500\n",
      "1/1 [==============================] - 0s 16ms/step - loss: 27738.1758 - val_loss: 223799.6875\n",
      "Epoch 207/500\n",
      "1/1 [==============================] - 0s 16ms/step - loss: 27585.7871 - val_loss: 224048.2344\n",
      "Epoch 208/500\n",
      "1/1 [==============================] - 0s 16ms/step - loss: 27439.9375 - val_loss: 224175.9844\n",
      "Epoch 209/500\n",
      "1/1 [==============================] - 0s 16ms/step - loss: 27273.1973 - val_loss: 224126.8281\n",
      "Epoch 210/500\n",
      "1/1 [==============================] - 0s 16ms/step - loss: 27120.3926 - val_loss: 223906.9844\n",
      "Epoch 211/500\n",
      "1/1 [==============================] - 0s 31ms/step - loss: 26960.0469 - val_loss: 223929.1719\n",
      "Epoch 212/500\n",
      "1/1 [==============================] - 0s 22ms/step - loss: 26817.6953 - val_loss: 224451.6250\n",
      "Epoch 213/500\n",
      "1/1 [==============================] - 0s 10ms/step - loss: 26651.3516 - val_loss: 224934.6250\n",
      "Epoch 214/500\n",
      "1/1 [==============================] - 0s 32ms/step - loss: 26483.6758 - val_loss: 225063.0156\n",
      "Epoch 215/500\n",
      "1/1 [==============================] - 0s 16ms/step - loss: 26331.7832 - val_loss: 224766.8906\n",
      "Epoch 216/500\n",
      "1/1 [==============================] - 0s 16ms/step - loss: 26163.0918 - val_loss: 224580.0781\n",
      "Epoch 217/500\n",
      "1/1 [==============================] - 0s 32ms/step - loss: 26018.1758 - val_loss: 224868.5781\n",
      "Epoch 218/500\n",
      "1/1 [==============================] - 0s 16ms/step - loss: 25854.5098 - val_loss: 225506.7031\n",
      "Epoch 219/500\n",
      "1/1 [==============================] - 0s 31ms/step - loss: 25701.7090 - val_loss: 226026.7344\n",
      "Epoch 220/500\n",
      "1/1 [==============================] - 0s 16ms/step - loss: 25548.4082 - val_loss: 226112.1094\n",
      "Epoch 221/500\n",
      "1/1 [==============================] - 0s 16ms/step - loss: 25388.6426 - val_loss: 225887.1094\n",
      "Epoch 222/500\n",
      "1/1 [==============================] - 0s 18ms/step - loss: 25233.7031 - val_loss: 225673.3750\n",
      "Epoch 223/500\n",
      "1/1 [==============================] - 0s 16ms/step - loss: 25078.0605 - val_loss: 225618.1875\n",
      "Epoch 224/500\n",
      "1/1 [==============================] - 0s 16ms/step - loss: 24923.5918 - val_loss: 225596.0156\n",
      "Epoch 225/500\n",
      "1/1 [==============================] - 0s 16ms/step - loss: 24761.9375 - val_loss: 225627.7812\n",
      "Epoch 226/500\n"
     ]
    },
    {
     "name": "stdout",
     "output_type": "stream",
     "text": [
      "1/1 [==============================] - 0s 31ms/step - loss: 24605.9277 - val_loss: 225824.6406\n",
      "Epoch 227/500\n",
      "1/1 [==============================] - 0s 16ms/step - loss: 24443.7656 - val_loss: 226095.5938\n",
      "Epoch 228/500\n",
      "1/1 [==============================] - 0s 16ms/step - loss: 24289.0332 - val_loss: 226098.4688\n",
      "Epoch 229/500\n",
      "1/1 [==============================] - 0s 31ms/step - loss: 24127.8340 - val_loss: 225732.7969\n",
      "Epoch 230/500\n",
      "1/1 [==============================] - 0s 16ms/step - loss: 23963.7754 - val_loss: 225332.7031\n",
      "Epoch 231/500\n",
      "1/1 [==============================] - 0s 32ms/step - loss: 23808.8516 - val_loss: 225524.6719\n",
      "Epoch 232/500\n",
      "1/1 [==============================] - 0s 16ms/step - loss: 23655.3145 - val_loss: 226279.3125\n",
      "Epoch 233/500\n",
      "1/1 [==============================] - 0s 16ms/step - loss: 23485.3516 - val_loss: 226999.2188\n",
      "Epoch 234/500\n",
      "1/1 [==============================] - 0s 31ms/step - loss: 23323.4297 - val_loss: 226960.8594\n",
      "Epoch 235/500\n",
      "1/1 [==============================] - 0s 21ms/step - loss: 23178.6621 - val_loss: 226887.1719\n",
      "Epoch 236/500\n",
      "1/1 [==============================] - 0s 11ms/step - loss: 23015.9141 - val_loss: 227256.8594\n",
      "Epoch 237/500\n",
      "1/1 [==============================] - 0s 16ms/step - loss: 22870.6270 - val_loss: 227574.7031\n",
      "Epoch 238/500\n",
      "1/1 [==============================] - 0s 31ms/step - loss: 22709.6250 - val_loss: 227549.8906\n",
      "Epoch 239/500\n",
      "1/1 [==============================] - 0s 16ms/step - loss: 22558.6914 - val_loss: 226826.0000\n",
      "Epoch 240/500\n",
      "1/1 [==============================] - 0s 21ms/step - loss: 22401.2266 - val_loss: 226071.5781\n",
      "Epoch 241/500\n",
      "1/1 [==============================] - 0s 31ms/step - loss: 22250.3848 - val_loss: 226015.6719\n",
      "Epoch 242/500\n",
      "1/1 [==============================] - 0s 16ms/step - loss: 22096.0176 - val_loss: 226376.5938\n",
      "Epoch 243/500\n",
      "1/1 [==============================] - 0s 16ms/step - loss: 21933.8926 - val_loss: 226590.9062\n",
      "Epoch 244/500\n",
      "1/1 [==============================] - 0s 32ms/step - loss: 21788.9355 - val_loss: 226041.4844\n",
      "Epoch 245/500\n",
      "1/1 [==============================] - 0s 16ms/step - loss: 21625.4395 - val_loss: 225197.9062\n",
      "Epoch 246/500\n",
      "1/1 [==============================] - 0s 16ms/step - loss: 21475.1660 - val_loss: 225475.5938\n",
      "Epoch 247/500\n",
      "1/1 [==============================] - 0s 16ms/step - loss: 21326.9414 - val_loss: 226552.9688\n",
      "Epoch 248/500\n",
      "1/1 [==============================] - 0s 31ms/step - loss: 21174.9473 - val_loss: 226864.4219\n",
      "Epoch 249/500\n",
      "1/1 [==============================] - 0s 16ms/step - loss: 21025.5449 - val_loss: 226656.5938\n",
      "Epoch 250/500\n",
      "1/1 [==============================] - 0s 16ms/step - loss: 20851.2402 - val_loss: 226426.1250\n",
      "Epoch 251/500\n",
      "1/1 [==============================] - 0s 31ms/step - loss: 20696.4258 - val_loss: 226765.5781\n",
      "Epoch 252/500\n",
      "1/1 [==============================] - 0s 16ms/step - loss: 20513.7402 - val_loss: 227484.3594\n",
      "Epoch 253/500\n",
      "1/1 [==============================] - 0s 29ms/step - loss: 20329.4844 - val_loss: 227282.5625\n",
      "Epoch 254/500\n",
      "1/1 [==============================] - 0s 18ms/step - loss: 20175.9512 - val_loss: 225692.6719\n",
      "Epoch 255/500\n",
      "1/1 [==============================] - 0s 16ms/step - loss: 19970.1172 - val_loss: 224264.5312\n",
      "Epoch 256/500\n",
      "1/1 [==============================] - 0s 16ms/step - loss: 19825.6250 - val_loss: 224700.1406\n",
      "Epoch 257/500\n",
      "1/1 [==============================] - 0s 31ms/step - loss: 19648.5352 - val_loss: 226440.3281\n",
      "Epoch 258/500\n",
      "1/1 [==============================] - 0s 20ms/step - loss: 19479.9219 - val_loss: 228420.0938\n",
      "Epoch 259/500\n",
      "1/1 [==============================] - 0s 12ms/step - loss: 19355.4863 - val_loss: 229223.0312\n",
      "Epoch 260/500\n",
      "1/1 [==============================] - 0s 31ms/step - loss: 19220.2031 - val_loss: 228600.0000\n",
      "Epoch 261/500\n",
      "1/1 [==============================] - 0s 16ms/step - loss: 19056.8594 - val_loss: 227828.0312\n",
      "Epoch 262/500\n",
      "1/1 [==============================] - 0s 16ms/step - loss: 18912.5781 - val_loss: 227599.6250\n",
      "Epoch 263/500\n",
      "1/1 [==============================] - 0s 32ms/step - loss: 18777.6523 - val_loss: 228254.1094\n",
      "Epoch 264/500\n",
      "1/1 [==============================] - 0s 16ms/step - loss: 18619.6973 - val_loss: 229613.6406\n",
      "Epoch 265/500\n",
      "1/1 [==============================] - 0s 16ms/step - loss: 18490.1152 - val_loss: 230567.3750\n",
      "Epoch 266/500\n",
      "1/1 [==============================] - 0s 16ms/step - loss: 18352.7637 - val_loss: 229975.3750\n",
      "Epoch 267/500\n",
      "1/1 [==============================] - 0s 31ms/step - loss: 18192.8535 - val_loss: 228510.2031\n",
      "Epoch 268/500\n",
      "1/1 [==============================] - 0s 16ms/step - loss: 18039.0723 - val_loss: 228066.1875\n",
      "Epoch 269/500\n",
      "1/1 [==============================] - 0s 16ms/step - loss: 17915.8281 - val_loss: 228721.8125\n",
      "Epoch 270/500\n",
      "1/1 [==============================] - 0s 31ms/step - loss: 17765.4082 - val_loss: 229663.9219\n",
      "Epoch 271/500\n",
      "1/1 [==============================] - 0s 16ms/step - loss: 17633.3789 - val_loss: 229761.6406\n",
      "Epoch 272/500\n",
      "1/1 [==============================] - 0s 31ms/step - loss: 17480.9531 - val_loss: 229290.1719\n",
      "Epoch 273/500\n",
      "1/1 [==============================] - 0s 16ms/step - loss: 17324.2734 - val_loss: 229356.2344\n",
      "Epoch 274/500\n",
      "1/1 [==============================] - 0s 31ms/step - loss: 17193.5137 - val_loss: 230026.9844\n",
      "Epoch 275/500\n",
      "1/1 [==============================] - 0s 16ms/step - loss: 17060.5176 - val_loss: 230633.2031\n",
      "Epoch 276/500\n",
      "1/1 [==============================] - 0s 16ms/step - loss: 16904.2109 - val_loss: 230378.5938\n",
      "Epoch 277/500\n",
      "1/1 [==============================] - 0s 32ms/step - loss: 16775.8984 - val_loss: 229823.7969\n",
      "Epoch 278/500\n",
      "1/1 [==============================] - 0s 16ms/step - loss: 16630.5488 - val_loss: 229713.6719\n",
      "Epoch 279/500\n",
      "1/1 [==============================] - 0s 16ms/step - loss: 16497.8848 - val_loss: 230644.6094\n",
      "Epoch 280/500\n",
      "1/1 [==============================] - 0s 16ms/step - loss: 16358.4004 - val_loss: 230852.7188\n",
      "Epoch 281/500\n",
      "1/1 [==============================] - 0s 31ms/step - loss: 16223.0859 - val_loss: 230352.1094\n",
      "Epoch 282/500\n",
      "1/1 [==============================] - 0s 19ms/step - loss: 16105.8545 - val_loss: 229582.7031\n",
      "Epoch 283/500\n",
      "1/1 [==============================] - 0s 13ms/step - loss: 15988.0205 - val_loss: 229947.7812\n",
      "Epoch 284/500\n",
      "1/1 [==============================] - 0s 31ms/step - loss: 15851.3320 - val_loss: 230405.5312\n",
      "Epoch 285/500\n",
      "1/1 [==============================] - 0s 16ms/step - loss: 15734.2168 - val_loss: 230282.9219\n",
      "Epoch 286/500\n",
      "1/1 [==============================] - 0s 16ms/step - loss: 15627.3486 - val_loss: 229776.5625\n",
      "Epoch 287/500\n",
      "1/1 [==============================] - 0s 32ms/step - loss: 15510.4805 - val_loss: 229564.4844\n",
      "Epoch 288/500\n",
      "1/1 [==============================] - 0s 16ms/step - loss: 15405.6357 - val_loss: 229880.5938\n",
      "Epoch 289/500\n",
      "1/1 [==============================] - 0s 16ms/step - loss: 15288.1631 - val_loss: 230134.9844\n",
      "Epoch 290/500\n",
      "1/1 [==============================] - 0s 31ms/step - loss: 15179.6104 - val_loss: 229771.3906\n",
      "Epoch 291/500\n",
      "1/1 [==============================] - 0s 16ms/step - loss: 15075.4189 - val_loss: 228863.5625\n",
      "Epoch 292/500\n",
      "1/1 [==============================] - 0s 16ms/step - loss: 14965.2178 - val_loss: 228645.7188\n",
      "Epoch 293/500\n",
      "1/1 [==============================] - 0s 16ms/step - loss: 14862.3311 - val_loss: 229480.2969\n",
      "Epoch 294/500\n",
      "1/1 [==============================] - 0s 31ms/step - loss: 14759.7480 - val_loss: 229361.9375\n",
      "Epoch 295/500\n",
      "1/1 [==============================] - 0s 16ms/step - loss: 14677.4082 - val_loss: 227933.5312\n",
      "Epoch 296/500\n",
      "1/1 [==============================] - 0s 21ms/step - loss: 14585.0117 - val_loss: 228214.8594\n",
      "Epoch 297/500\n",
      "1/1 [==============================] - 0s 26ms/step - loss: 14488.7227 - val_loss: 228850.7969\n",
      "Epoch 298/500\n",
      "1/1 [==============================] - 0s 16ms/step - loss: 14387.2100 - val_loss: 228788.1875\n",
      "Epoch 299/500\n",
      "1/1 [==============================] - 0s 16ms/step - loss: 14280.8320 - val_loss: 229521.1094\n",
      "Epoch 300/500\n",
      "1/1 [==============================] - 0s 16ms/step - loss: 14214.2236 - val_loss: 229021.8906\n",
      "Epoch 301/500\n"
     ]
    },
    {
     "name": "stdout",
     "output_type": "stream",
     "text": [
      "1/1 [==============================] - 0s 32ms/step - loss: 14120.6924 - val_loss: 227221.3906\n",
      "Epoch 302/500\n",
      "1/1 [==============================] - 0s 16ms/step - loss: 14042.7480 - val_loss: 227668.2969\n",
      "Epoch 303/500\n",
      "1/1 [==============================] - 0s 16ms/step - loss: 13951.2021 - val_loss: 228729.0781\n",
      "Epoch 304/500\n",
      "1/1 [==============================] - 0s 16ms/step - loss: 13865.9502 - val_loss: 228475.9375\n",
      "Epoch 305/500\n",
      "1/1 [==============================] - 0s 16ms/step - loss: 13812.8984 - val_loss: 227977.5781\n",
      "Epoch 306/500\n",
      "1/1 [==============================] - 0s 18ms/step - loss: 13727.7373 - val_loss: 226278.0781\n",
      "Epoch 307/500\n",
      "1/1 [==============================] - 0s 14ms/step - loss: 13650.2627 - val_loss: 226317.7969\n",
      "Epoch 308/500\n",
      "1/1 [==============================] - 0s 31ms/step - loss: 13584.7617 - val_loss: 228054.2812\n",
      "Epoch 309/500\n",
      "1/1 [==============================] - 0s 16ms/step - loss: 13519.8955 - val_loss: 228084.7656\n",
      "Epoch 310/500\n",
      "1/1 [==============================] - 0s 16ms/step - loss: 13447.7109 - val_loss: 229043.7188\n",
      "Epoch 311/500\n",
      "1/1 [==============================] - 0s 32ms/step - loss: 13379.7295 - val_loss: 229212.7656\n",
      "Epoch 312/500\n",
      "1/1 [==============================] - 0s 16ms/step - loss: 13316.0957 - val_loss: 227903.3906\n",
      "Epoch 313/500\n",
      "1/1 [==============================] - 0s 31ms/step - loss: 13239.6055 - val_loss: 227070.5312\n",
      "Epoch 314/500\n",
      "1/1 [==============================] - 0s 16ms/step - loss: 13186.0127 - val_loss: 227536.1250\n",
      "Epoch 315/500\n",
      "1/1 [==============================] - 0s 32ms/step - loss: 13129.2363 - val_loss: 227770.5781\n",
      "Epoch 316/500\n",
      "1/1 [==============================] - 0s 16ms/step - loss: 13062.6924 - val_loss: 227734.1719\n",
      "Epoch 317/500\n",
      "1/1 [==============================] - 0s 31ms/step - loss: 13010.7441 - val_loss: 228088.4375\n",
      "Epoch 318/500\n",
      "1/1 [==============================] - 0s 16ms/step - loss: 12958.9727 - val_loss: 227551.4844\n",
      "Epoch 319/500\n",
      "1/1 [==============================] - 0s 16ms/step - loss: 12894.0693 - val_loss: 227518.6875\n",
      "Epoch 320/500\n",
      "1/1 [==============================] - 0s 32ms/step - loss: 12841.0762 - val_loss: 227368.0625\n",
      "Epoch 321/500\n",
      "1/1 [==============================] - 0s 16ms/step - loss: 12794.5625 - val_loss: 228026.0938\n",
      "Epoch 322/500\n",
      "1/1 [==============================] - 0s 16ms/step - loss: 12742.3799 - val_loss: 227609.0625\n",
      "Epoch 323/500\n",
      "1/1 [==============================] - 0s 16ms/step - loss: 12687.0928 - val_loss: 227162.0312\n",
      "Epoch 324/500\n",
      "1/1 [==============================] - 0s 31ms/step - loss: 12637.7705 - val_loss: 226828.8281\n",
      "Epoch 325/500\n",
      "1/1 [==============================] - 0s 16ms/step - loss: 12598.5371 - val_loss: 226709.6875\n",
      "Epoch 326/500\n",
      "1/1 [==============================] - 0s 16ms/step - loss: 12563.6367 - val_loss: 227944.5625\n",
      "Epoch 327/500\n",
      "1/1 [==============================] - 0s 31ms/step - loss: 12544.6143 - val_loss: 225360.8750\n",
      "Epoch 328/500\n",
      "1/1 [==============================] - 0s 16ms/step - loss: 12514.9980 - val_loss: 226947.7031\n",
      "Epoch 329/500\n",
      "1/1 [==============================] - 0s 16ms/step - loss: 12438.5264 - val_loss: 226620.2188\n",
      "Epoch 330/500\n",
      "1/1 [==============================] - 0s 17ms/step - loss: 12375.4004 - val_loss: 226397.3750\n",
      "Epoch 331/500\n",
      "1/1 [==============================] - 0s 31ms/step - loss: 12342.6484 - val_loss: 227754.3125\n",
      "Epoch 332/500\n",
      "1/1 [==============================] - 0s 16ms/step - loss: 12309.8320 - val_loss: 226253.2188\n",
      "Epoch 333/500\n",
      "1/1 [==============================] - 0s 16ms/step - loss: 12255.7939 - val_loss: 224511.4219\n",
      "Epoch 334/500\n",
      "1/1 [==============================] - 0s 31ms/step - loss: 12229.1172 - val_loss: 224722.5781\n",
      "Epoch 335/500\n",
      "1/1 [==============================] - 0s 16ms/step - loss: 12189.3945 - val_loss: 223790.9219\n",
      "Epoch 336/500\n",
      "1/1 [==============================] - 0s 16ms/step - loss: 12163.9141 - val_loss: 224985.1875\n",
      "Epoch 337/500\n",
      "1/1 [==============================] - 0s 16ms/step - loss: 12113.3525 - val_loss: 224688.1719\n",
      "Epoch 338/500\n",
      "1/1 [==============================] - 0s 31ms/step - loss: 12060.7061 - val_loss: 224054.6875\n",
      "Epoch 339/500\n",
      "1/1 [==============================] - 0s 16ms/step - loss: 12032.8818 - val_loss: 225581.2969\n",
      "Epoch 340/500\n",
      "1/1 [==============================] - 0s 16ms/step - loss: 12012.3799 - val_loss: 223726.0625\n",
      "Epoch 341/500\n",
      "1/1 [==============================] - 0s 32ms/step - loss: 11969.7334 - val_loss: 224068.7188\n",
      "Epoch 342/500\n",
      "1/1 [==============================] - 0s 11ms/step - loss: 11923.0576 - val_loss: 223444.0781\n",
      "Epoch 343/500\n",
      "1/1 [==============================] - 0s 31ms/step - loss: 11872.1270 - val_loss: 222549.0781\n",
      "Epoch 344/500\n",
      "1/1 [==============================] - 0s 16ms/step - loss: 11856.0273 - val_loss: 224251.7656\n",
      "Epoch 345/500\n",
      "1/1 [==============================] - 0s 10ms/step - loss: 11843.3008 - val_loss: 222643.0156\n",
      "Epoch 346/500\n",
      "1/1 [==============================] - 0s 31ms/step - loss: 11830.3359 - val_loss: 223333.3125\n",
      "Epoch 347/500\n",
      "1/1 [==============================] - 0s 16ms/step - loss: 11781.5811 - val_loss: 221767.4062\n",
      "Epoch 348/500\n",
      "1/1 [==============================] - 0s 16ms/step - loss: 11725.0186 - val_loss: 221937.8906\n",
      "Epoch 349/500\n",
      "1/1 [==============================] - 0s 16ms/step - loss: 11694.7520 - val_loss: 223127.9219\n",
      "Epoch 350/500\n",
      "1/1 [==============================] - 0s 19ms/step - loss: 11678.6680 - val_loss: 222340.3750\n",
      "Epoch 351/500\n",
      "1/1 [==============================] - 0s 16ms/step - loss: 11627.0166 - val_loss: 223143.2344\n",
      "Epoch 352/500\n",
      "1/1 [==============================] - 0s 16ms/step - loss: 11587.8740 - val_loss: 222580.3281\n",
      "Epoch 353/500\n",
      "1/1 [==============================] - 0s 16ms/step - loss: 11566.8857 - val_loss: 223296.4219\n",
      "Epoch 354/500\n",
      "1/1 [==============================] - 0s 34ms/step - loss: 11505.3750 - val_loss: 223451.6719\n",
      "Epoch 355/500\n",
      "1/1 [==============================] - 0s 13ms/step - loss: 11508.0059 - val_loss: 221571.3594\n",
      "Epoch 356/500\n",
      "1/1 [==============================] - 0s 16ms/step - loss: 11476.4385 - val_loss: 220655.3281\n",
      "Epoch 357/500\n",
      "1/1 [==============================] - 0s 31ms/step - loss: 11440.0947 - val_loss: 221853.9688\n",
      "Epoch 358/500\n",
      "1/1 [==============================] - 0s 16ms/step - loss: 11422.1826 - val_loss: 222130.5625\n",
      "Epoch 359/500\n",
      "1/1 [==============================] - 0s 25ms/step - loss: 11365.9443 - val_loss: 223019.9688\n",
      "Epoch 360/500\n",
      "1/1 [==============================] - 0s 23ms/step - loss: 11345.6523 - val_loss: 222518.5938\n",
      "Epoch 361/500\n",
      "1/1 [==============================] - 0s 16ms/step - loss: 11304.2988 - val_loss: 221538.0156\n",
      "Epoch 362/500\n",
      "1/1 [==============================] - 0s 16ms/step - loss: 11267.3936 - val_loss: 221989.4062\n",
      "Epoch 363/500\n",
      "1/1 [==============================] - 0s 16ms/step - loss: 11249.3916 - val_loss: 222125.9062\n",
      "Epoch 364/500\n",
      "1/1 [==============================] - 0s 32ms/step - loss: 11196.8037 - val_loss: 221974.9375\n",
      "Epoch 365/500\n",
      "1/1 [==============================] - 0s 16ms/step - loss: 11175.9980 - val_loss: 221924.1406\n",
      "Epoch 366/500\n",
      "1/1 [==============================] - 0s 16ms/step - loss: 11139.5537 - val_loss: 219969.8281\n",
      "Epoch 367/500\n",
      "1/1 [==============================] - 0s 31ms/step - loss: 11127.6172 - val_loss: 222525.5000\n",
      "Epoch 368/500\n",
      "1/1 [==============================] - 0s 16ms/step - loss: 11123.8379 - val_loss: 219708.7031\n",
      "Epoch 369/500\n",
      "1/1 [==============================] - 0s 21ms/step - loss: 11147.2803 - val_loss: 224646.1094\n",
      "Epoch 370/500\n",
      "1/1 [==============================] - 0s 16ms/step - loss: 11191.6523 - val_loss: 220484.6094\n",
      "Epoch 371/500\n",
      "1/1 [==============================] - 0s 16ms/step - loss: 11113.0791 - val_loss: 223741.7188\n",
      "Epoch 372/500\n",
      "1/1 [==============================] - 0s 16ms/step - loss: 11015.9512 - val_loss: 221444.9375\n",
      "Epoch 373/500\n",
      "1/1 [==============================] - 0s 16ms/step - loss: 10909.5635 - val_loss: 221598.7656\n",
      "Epoch 374/500\n",
      "1/1 [==============================] - 0s 16ms/step - loss: 10878.4424 - val_loss: 224319.6406\n",
      "Epoch 375/500\n",
      "1/1 [==============================] - 0s 31ms/step - loss: 10936.0244 - val_loss: 220724.4844\n",
      "Epoch 376/500\n"
     ]
    },
    {
     "name": "stdout",
     "output_type": "stream",
     "text": [
      "1/1 [==============================] - 0s 16ms/step - loss: 10988.3916 - val_loss: 225556.7344\n",
      "Epoch 377/500\n",
      "1/1 [==============================] - 0s 16ms/step - loss: 10949.2686 - val_loss: 222237.1250\n",
      "Epoch 378/500\n",
      "1/1 [==============================] - 0s 16ms/step - loss: 10772.2705 - val_loss: 222749.8906\n",
      "Epoch 379/500\n",
      "1/1 [==============================] - 0s 16ms/step - loss: 10718.8125 - val_loss: 225611.9219\n",
      "Epoch 380/500\n",
      "1/1 [==============================] - 0s 16ms/step - loss: 10792.8330 - val_loss: 221733.3281\n",
      "Epoch 381/500\n",
      "1/1 [==============================] - 0s 16ms/step - loss: 10873.6836 - val_loss: 225010.7344\n",
      "Epoch 382/500\n",
      "1/1 [==============================] - 0s 31ms/step - loss: 10805.7773 - val_loss: 220834.2188\n",
      "Epoch 383/500\n",
      "1/1 [==============================] - 0s 16ms/step - loss: 10649.5459 - val_loss: 221358.0156\n",
      "Epoch 384/500\n",
      "1/1 [==============================] - 0s 16ms/step - loss: 10611.6367 - val_loss: 223846.5625\n",
      "Epoch 385/500\n",
      "1/1 [==============================] - 0s 31ms/step - loss: 10646.2725 - val_loss: 221134.7188\n",
      "Epoch 386/500\n",
      "1/1 [==============================] - 0s 16ms/step - loss: 10660.2295 - val_loss: 224997.5156\n",
      "Epoch 387/500\n",
      "1/1 [==============================] - 0s 16ms/step - loss: 10610.5576 - val_loss: 223028.4219\n",
      "Epoch 388/500\n",
      "1/1 [==============================] - 0s 32ms/step - loss: 10503.6621 - val_loss: 223587.2969\n",
      "Epoch 389/500\n",
      "1/1 [==============================] - 0s 16ms/step - loss: 10472.8613 - val_loss: 224405.1094\n",
      "Epoch 390/500\n",
      "1/1 [==============================] - 0s 31ms/step - loss: 10471.8936 - val_loss: 222136.3594\n",
      "Epoch 391/500\n",
      "1/1 [==============================] - 0s 16ms/step - loss: 10472.9180 - val_loss: 224237.5938\n",
      "Epoch 392/500\n",
      "1/1 [==============================] - 0s 16ms/step - loss: 10427.3291 - val_loss: 222454.8750\n",
      "Epoch 393/500\n",
      "1/1 [==============================] - 0s 32ms/step - loss: 10396.9873 - val_loss: 222732.5625\n",
      "Epoch 394/500\n",
      "1/1 [==============================] - 0s 16ms/step - loss: 10347.6709 - val_loss: 223296.3906\n",
      "Epoch 395/500\n",
      "1/1 [==============================] - 0s 16ms/step - loss: 10334.1445 - val_loss: 222297.6875\n",
      "Epoch 396/500\n",
      "1/1 [==============================] - 0s 31ms/step - loss: 10319.6455 - val_loss: 224078.2969\n",
      "Epoch 397/500\n",
      "1/1 [==============================] - 0s 26ms/step - loss: 10282.5020 - val_loss: 223300.9062\n",
      "Epoch 398/500\n",
      "1/1 [==============================] - 0s 21ms/step - loss: 10256.8018 - val_loss: 223457.5312\n",
      "Epoch 399/500\n",
      "1/1 [==============================] - 0s 16ms/step - loss: 10217.4502 - val_loss: 222198.7344\n",
      "Epoch 400/500\n",
      "1/1 [==============================] - 0s 16ms/step - loss: 10208.9492 - val_loss: 223666.2031\n",
      "Epoch 401/500\n",
      "1/1 [==============================] - 0s 16ms/step - loss: 10188.9814 - val_loss: 222824.2969\n",
      "Epoch 402/500\n",
      "1/1 [==============================] - 0s 31ms/step - loss: 10160.6689 - val_loss: 223739.8594\n",
      "Epoch 403/500\n",
      "1/1 [==============================] - 0s 15ms/step - loss: 10123.2354 - val_loss: 222844.6719\n",
      "Epoch 404/500\n",
      "1/1 [==============================] - 0s 16ms/step - loss: 10093.8252 - val_loss: 221644.4375\n",
      "Epoch 405/500\n",
      "1/1 [==============================] - 0s 16ms/step - loss: 10092.3916 - val_loss: 223545.4062\n",
      "Epoch 406/500\n",
      "1/1 [==============================] - 0s 16ms/step - loss: 10095.7197 - val_loss: 221054.1719\n",
      "Epoch 407/500\n",
      "1/1 [==============================] - 0s 23ms/step - loss: 10145.3838 - val_loss: 225598.5938\n",
      "Epoch 408/500\n",
      "1/1 [==============================] - 0s 9ms/step - loss: 10260.4326 - val_loss: 219336.5312\n",
      "Epoch 409/500\n",
      "1/1 [==============================] - 0s 31ms/step - loss: 10266.9990 - val_loss: 224862.3750\n",
      "Epoch 410/500\n",
      "1/1 [==============================] - 0s 16ms/step - loss: 10207.1299 - val_loss: 220352.1250\n",
      "Epoch 411/500\n",
      "1/1 [==============================] - 0s 16ms/step - loss: 10028.7646 - val_loss: 221799.2031\n",
      "Epoch 412/500\n",
      "1/1 [==============================] - 0s 32ms/step - loss: 9921.4551 - val_loss: 222829.9375\n",
      "Epoch 413/500\n",
      "1/1 [==============================] - 0s 16ms/step - loss: 9954.8086 - val_loss: 219382.1250\n",
      "Epoch 414/500\n",
      "1/1 [==============================] - 0s 16ms/step - loss: 10039.6689 - val_loss: 224828.7031\n",
      "Epoch 415/500\n",
      "1/1 [==============================] - 0s 16ms/step - loss: 10095.4883 - val_loss: 219597.6719\n",
      "Epoch 416/500\n",
      "1/1 [==============================] - 0s 16ms/step - loss: 10050.4023 - val_loss: 224063.5625\n",
      "Epoch 417/500\n",
      "1/1 [==============================] - 0s 19ms/step - loss: 9952.5625 - val_loss: 220592.5000\n",
      "Epoch 418/500\n",
      "1/1 [==============================] - 0s 13ms/step - loss: 9833.9111 - val_loss: 221740.4375\n",
      "Epoch 419/500\n",
      "1/1 [==============================] - 0s 31ms/step - loss: 9783.0684 - val_loss: 222489.3594\n",
      "Epoch 420/500\n",
      "1/1 [==============================] - 0s 16ms/step - loss: 9769.7432 - val_loss: 219524.6406\n",
      "Epoch 421/500\n",
      "1/1 [==============================] - 0s 16ms/step - loss: 9834.7480 - val_loss: 222884.8125\n",
      "Epoch 422/500\n",
      "1/1 [==============================] - 0s 32ms/step - loss: 9884.8379 - val_loss: 218256.9062\n",
      "Epoch 423/500\n",
      "1/1 [==============================] - 0s 16ms/step - loss: 9867.6299 - val_loss: 222919.0156\n",
      "Epoch 424/500\n",
      "1/1 [==============================] - 0s 16ms/step - loss: 9807.8662 - val_loss: 220498.3125\n",
      "Epoch 425/500\n",
      "1/1 [==============================] - 0s 31ms/step - loss: 9681.6104 - val_loss: 221827.7656\n",
      "Epoch 426/500\n",
      "1/1 [==============================] - 0s 16ms/step - loss: 9648.7676 - val_loss: 224315.2188\n",
      "Epoch 427/500\n",
      "1/1 [==============================] - 0s 16ms/step - loss: 9700.4814 - val_loss: 220496.2188\n",
      "Epoch 428/500\n",
      "1/1 [==============================] - 0s 31ms/step - loss: 9752.2295 - val_loss: 224672.8906\n",
      "Epoch 429/500\n",
      "1/1 [==============================] - 0s 16ms/step - loss: 9859.2549 - val_loss: 217741.7812\n",
      "Epoch 430/500\n",
      "1/1 [==============================] - 0s 31ms/step - loss: 9802.3682 - val_loss: 222331.6719\n",
      "Epoch 431/500\n",
      "1/1 [==============================] - 0s 16ms/step - loss: 9642.9746 - val_loss: 220421.6250\n",
      "Epoch 432/500\n",
      "1/1 [==============================] - 0s 25ms/step - loss: 9533.9336 - val_loss: 220750.6094\n",
      "Epoch 433/500\n",
      "1/1 [==============================] - 0s 16ms/step - loss: 9512.9287 - val_loss: 224125.4375\n",
      "Epoch 434/500\n",
      "1/1 [==============================] - 0s 31ms/step - loss: 9605.0303 - val_loss: 218934.3906\n",
      "Epoch 435/500\n",
      "1/1 [==============================] - 0s 16ms/step - loss: 9747.7705 - val_loss: 225283.6719\n",
      "Epoch 436/500\n",
      "1/1 [==============================] - 0s 16ms/step - loss: 9833.5146 - val_loss: 217963.0312\n",
      "Epoch 437/500\n",
      "1/1 [==============================] - 0s 16ms/step - loss: 9757.4980 - val_loss: 223519.0625\n",
      "Epoch 438/500\n",
      "1/1 [==============================] - 0s 31ms/step - loss: 9543.0293 - val_loss: 220849.1250\n",
      "Epoch 439/500\n",
      "1/1 [==============================] - 0s 16ms/step - loss: 9387.0615 - val_loss: 219384.8594\n",
      "Epoch 440/500\n",
      "1/1 [==============================] - 0s 16ms/step - loss: 9456.9766 - val_loss: 222974.6719\n",
      "Epoch 441/500\n",
      "1/1 [==============================] - 0s 32ms/step - loss: 9565.6367 - val_loss: 217636.3906\n",
      "Epoch 442/500\n",
      "1/1 [==============================] - 0s 16ms/step - loss: 9567.8125 - val_loss: 223746.4844\n",
      "Epoch 443/500\n",
      "1/1 [==============================] - 0s 16ms/step - loss: 9475.3447 - val_loss: 220742.9219\n",
      "Epoch 444/500\n",
      "1/1 [==============================] - 0s 16ms/step - loss: 9315.4854 - val_loss: 220797.2188\n",
      "Epoch 445/500\n",
      "1/1 [==============================] - 0s 25ms/step - loss: 9266.5693 - val_loss: 221720.7969\n",
      "Epoch 446/500\n",
      "1/1 [==============================] - 0s 23ms/step - loss: 9302.1113 - val_loss: 218570.9219\n",
      "Epoch 447/500\n",
      "1/1 [==============================] - 0s 16ms/step - loss: 9342.3936 - val_loss: 223793.2656\n",
      "Epoch 448/500\n",
      "1/1 [==============================] - 0s 31ms/step - loss: 9358.3945 - val_loss: 219665.5000\n",
      "Epoch 449/500\n",
      "1/1 [==============================] - 0s 16ms/step - loss: 9327.2588 - val_loss: 223141.5000\n",
      "Epoch 450/500\n",
      "1/1 [==============================] - 0s 32ms/step - loss: 9278.0225 - val_loss: 218822.1406\n",
      "Epoch 451/500\n"
     ]
    },
    {
     "name": "stdout",
     "output_type": "stream",
     "text": [
      "1/1 [==============================] - 0s 16ms/step - loss: 9178.0107 - val_loss: 219297.9688\n",
      "Epoch 452/500\n",
      "1/1 [==============================] - 0s 16ms/step - loss: 9118.5303 - val_loss: 220472.0156\n",
      "Epoch 453/500\n",
      "1/1 [==============================] - 0s 16ms/step - loss: 9136.0381 - val_loss: 217979.7656\n",
      "Epoch 454/500\n",
      "1/1 [==============================] - 0s 21ms/step - loss: 9202.5176 - val_loss: 223570.8750\n",
      "Epoch 455/500\n",
      "1/1 [==============================] - 0s 26ms/step - loss: 9328.6777 - val_loss: 217296.4844\n",
      "Epoch 456/500\n",
      "1/1 [==============================] - 0s 16ms/step - loss: 9401.9883 - val_loss: 224616.7188\n",
      "Epoch 457/500\n",
      "1/1 [==============================] - 0s 31ms/step - loss: 9402.6729 - val_loss: 217981.0938\n",
      "Epoch 458/500\n",
      "1/1 [==============================] - 0s 16ms/step - loss: 9255.5576 - val_loss: 222588.7969\n",
      "Epoch 459/500\n",
      "1/1 [==============================] - 0s 16ms/step - loss: 9083.5869 - val_loss: 220352.4688\n",
      "Epoch 460/500\n",
      "1/1 [==============================] - 0s 31ms/step - loss: 8985.2480 - val_loss: 218925.5938\n",
      "Epoch 461/500\n",
      "1/1 [==============================] - 0s 16ms/step - loss: 8988.3320 - val_loss: 222371.1250\n",
      "Epoch 462/500\n",
      "1/1 [==============================] - 0s 16ms/step - loss: 9092.2676 - val_loss: 217271.8906\n",
      "Epoch 463/500\n",
      "1/1 [==============================] - 0s 16ms/step - loss: 9172.7793 - val_loss: 223840.8750\n",
      "Epoch 464/500\n",
      "1/1 [==============================] - 0s 16ms/step - loss: 9226.8740 - val_loss: 217428.7344\n",
      "Epoch 465/500\n",
      "1/1 [==============================] - 0s 16ms/step - loss: 9167.9268 - val_loss: 222855.4062\n",
      "Epoch 466/500\n",
      "1/1 [==============================] - 0s 16ms/step - loss: 9076.8955 - val_loss: 217622.0156\n",
      "Epoch 467/500\n",
      "1/1 [==============================] - 0s 16ms/step - loss: 8938.8213 - val_loss: 219242.9844\n",
      "Epoch 468/500\n",
      "1/1 [==============================] - 0s 32ms/step - loss: 8836.3252 - val_loss: 219246.8281\n",
      "Epoch 469/500\n",
      "1/1 [==============================] - 0s 16ms/step - loss: 8824.9961 - val_loss: 217097.5781\n",
      "Epoch 470/500\n",
      "1/1 [==============================] - 0s 31ms/step - loss: 8873.7520 - val_loss: 221861.5938\n",
      "Epoch 471/500\n",
      "1/1 [==============================] - 0s 16ms/step - loss: 8973.2207 - val_loss: 216545.8281\n",
      "Epoch 472/500\n",
      "1/1 [==============================] - 0s 16ms/step - loss: 9059.2969 - val_loss: 223667.3906\n",
      "Epoch 473/500\n",
      "1/1 [==============================] - 0s 16ms/step - loss: 9110.6299 - val_loss: 217041.3906\n",
      "Epoch 474/500\n",
      "1/1 [==============================] - 0s 16ms/step - loss: 9050.1924 - val_loss: 222638.1719\n",
      "Epoch 475/500\n",
      "1/1 [==============================] - 0s 16ms/step - loss: 8981.8916 - val_loss: 216749.5000\n",
      "Epoch 476/500\n",
      "1/1 [==============================] - 0s 16ms/step - loss: 8841.1553 - val_loss: 219931.4688\n",
      "Epoch 477/500\n",
      "1/1 [==============================] - 0s 31ms/step - loss: 8724.3887 - val_loss: 218619.4844\n",
      "Epoch 478/500\n",
      "1/1 [==============================] - 0s 16ms/step - loss: 8657.4502 - val_loss: 216882.0156\n",
      "Epoch 479/500\n",
      "1/1 [==============================] - 0s 31ms/step - loss: 8692.0205 - val_loss: 219987.4844\n",
      "Epoch 480/500\n",
      "1/1 [==============================] - 0s 16ms/step - loss: 8760.9678 - val_loss: 214687.8906\n",
      "Epoch 481/500\n",
      "1/1 [==============================] - 0s 31ms/step - loss: 8866.4775 - val_loss: 222130.2969\n",
      "Epoch 482/500\n",
      "1/1 [==============================] - 0s 16ms/step - loss: 9002.8672 - val_loss: 214784.5312\n",
      "Epoch 483/500\n",
      "1/1 [==============================] - 0s 16ms/step - loss: 9034.7412 - val_loss: 222895.0156\n",
      "Epoch 484/500\n",
      "1/1 [==============================] - 0s 31ms/step - loss: 9060.7334 - val_loss: 214588.4219\n",
      "Epoch 485/500\n",
      "1/1 [==============================] - 0s 16ms/step - loss: 8884.8457 - val_loss: 220438.4062\n",
      "Epoch 486/500\n",
      "1/1 [==============================] - 0s 16ms/step - loss: 8701.3936 - val_loss: 216599.6875\n",
      "Epoch 487/500\n",
      "1/1 [==============================] - 0s 32ms/step - loss: 8564.6504 - val_loss: 217623.9844\n",
      "Epoch 488/500\n",
      "1/1 [==============================] - 0s 16ms/step - loss: 8498.8584 - val_loss: 219090.7344\n",
      "Epoch 489/500\n",
      "1/1 [==============================] - 0s 16ms/step - loss: 8536.2744 - val_loss: 215249.9688\n",
      "Epoch 490/500\n",
      "1/1 [==============================] - 0s 16ms/step - loss: 8624.5361 - val_loss: 220493.9844\n",
      "Epoch 491/500\n",
      "1/1 [==============================] - 0s 31ms/step - loss: 8753.3877 - val_loss: 213170.8281\n",
      "Epoch 492/500\n",
      "1/1 [==============================] - 0s 16ms/step - loss: 8861.6699 - val_loss: 222011.7812\n",
      "Epoch 493/500\n",
      "1/1 [==============================] - 0s 31ms/step - loss: 8922.1045 - val_loss: 213936.5000\n",
      "Epoch 494/500\n",
      "1/1 [==============================] - 0s 16ms/step - loss: 8823.4990 - val_loss: 220516.6875\n",
      "Epoch 495/500\n",
      "1/1 [==============================] - 0s 16ms/step - loss: 8715.6572 - val_loss: 213649.6875\n",
      "Epoch 496/500\n",
      "1/1 [==============================] - 0s 29ms/step - loss: 8531.6738 - val_loss: 216910.5938\n",
      "Epoch 497/500\n",
      "1/1 [==============================] - 0s 16ms/step - loss: 8398.0576 - val_loss: 216635.3281\n",
      "Epoch 498/500\n",
      "1/1 [==============================] - 0s 16ms/step - loss: 8358.7266 - val_loss: 215076.0781\n",
      "Epoch 499/500\n",
      "1/1 [==============================] - 0s 16ms/step - loss: 8408.4863 - val_loss: 219644.2344\n",
      "Epoch 500/500\n",
      "1/1 [==============================] - 0s 31ms/step - loss: 8543.0303 - val_loss: 212538.1875\n"
     ]
    },
    {
     "data": {
      "text/plain": [
       "<keras.callbacks.History at 0x1d344813cd0>"
      ]
     },
     "execution_count": 56,
     "metadata": {},
     "output_type": "execute_result"
    }
   ],
   "source": [
    "model.fit(x=x_train, y=y_train, validation_data=(x_test, y_test), batch_size=128, epochs=500, verbose=1)"
   ]
  },
  {
   "cell_type": "code",
   "execution_count": 57,
   "id": "fe1d636b",
   "metadata": {},
   "outputs": [
    {
     "name": "stdout",
     "output_type": "stream",
     "text": [
      "Model: \"sequential\"\n",
      "_________________________________________________________________\n",
      " Layer (type)                Output Shape              Param #   \n",
      "=================================================================\n",
      " dense (Dense)               (None, 440)               6160      \n",
      "                                                                 \n",
      " dense_1 (Dense)             (None, 400)               176400    \n",
      "                                                                 \n",
      " dense_2 (Dense)             (None, 380)               152380    \n",
      "                                                                 \n",
      " dense_3 (Dense)             (None, 340)               129540    \n",
      "                                                                 \n",
      " dense_4 (Dense)             (None, 300)               102300    \n",
      "                                                                 \n",
      " dense_5 (Dense)             (None, 250)               75250     \n",
      "                                                                 \n",
      " dense_6 (Dense)             (None, 220)               55220     \n",
      "                                                                 \n",
      " dense_7 (Dense)             (None, 198)               43758     \n",
      "                                                                 \n",
      " dense_8 (Dense)             (None, 180)               35820     \n",
      "                                                                 \n",
      " dense_9 (Dense)             (None, 150)               27150     \n",
      "                                                                 \n",
      " dense_10 (Dense)            (None, 100)               15100     \n",
      "                                                                 \n",
      " dense_11 (Dense)            (None, 70)                7070      \n",
      "                                                                 \n",
      " dense_12 (Dense)            (None, 40)                2840      \n",
      "                                                                 \n",
      " dense_13 (Dense)            (None, 30)                1230      \n",
      "                                                                 \n",
      " dense_14 (Dense)            (None, 10)                310       \n",
      "                                                                 \n",
      " dense_15 (Dense)            (None, 1)                 11        \n",
      "                                                                 \n",
      "=================================================================\n",
      "Total params: 830,539\n",
      "Trainable params: 830,539\n",
      "Non-trainable params: 0\n",
      "_________________________________________________________________\n"
     ]
    }
   ],
   "source": [
    "model.summary()"
   ]
  },
  {
   "cell_type": "code",
   "execution_count": 58,
   "id": "a9719de9",
   "metadata": {},
   "outputs": [
    {
     "data": {
      "text/plain": [
       "<AxesSubplot:>"
      ]
     },
     "execution_count": 58,
     "metadata": {},
     "output_type": "execute_result"
    },
    {
     "data": {
      "image/png": "[encoded data removed]",
      "text/plain": [
       "<Figure size 864x576 with 1 Axes>"
      ]
     },
     "metadata": {
      "needs_background": "light"
     },
     "output_type": "display_data"
    }
   ],
   "source": [
    "loss_df=pd.DataFrame(model.history.history)\n",
    "loss_df.plot(figsize=(12,8))"
   ]
  },
  {
   "cell_type": "code",
   "execution_count": 59,
   "id": "9da64f46",
   "metadata": {},
   "outputs": [
    {
     "name": "stdout",
     "output_type": "stream",
     "text": [
      "1/1 [==============================] - 0s 109ms/step\n"
     ]
    }
   ],
   "source": [
    "pred=model.predict(x_test)"
   ]
  },
  {
   "cell_type": "code",
   "execution_count": 60,
   "id": "cf34aeaa",
   "metadata": {},
   "outputs": [
    {
     "data": {
      "text/plain": [
       "461.01861936916254"
      ]
     },
     "execution_count": 60,
     "metadata": {},
     "output_type": "execute_result"
    }
   ],
   "source": [
    "(mean_squared_error(y_test,pred))**.5"
   ]
  },
  {
   "cell_type": "code",
   "execution_count": 61,
   "id": "457b5da1",
   "metadata": {},
   "outputs": [
    {
     "data": {
      "text/plain": [
       "0.20127132871708375"
      ]
     },
     "execution_count": 61,
     "metadata": {},
     "output_type": "execute_result"
    }
   ],
   "source": [
    "r2_score(y_test,pred)"
   ]
  },
  {
   "cell_type": "markdown",
   "id": "e8b8f6c7",
   "metadata": {},
   "source": [
    "The results are not great, but I had really problem dealing with the values given of the scraper."
   ]
  },
  {
   "cell_type": "markdown",
   "id": "d2fe736c",
   "metadata": {},
   "source": [
    "## Using WordCloud to see mostly occuring words in the title"
   ]
  },
  {
   "cell_type": "code",
   "execution_count": 62,
   "id": "1551e0a9",
   "metadata": {},
   "outputs": [],
   "source": [
    "# Text processing\n",
    "df[\"title\"]=df[\"title\"].str.lower() # change to lower case\n",
    "df[\"title\"]=df[\"title\"].str.replace('[^\\w\\s]','') # get rid of punctuation\n",
    "df[\"title\"]=df[\"title\"].str.replace('\\d+','') # get rid of digits\n",
    "df[\"title\"]=df[\"title\"].str.replace('\\n',' ').replace('\\r',' ') # get rid of enter and returns"
   ]
  },
  {
   "cell_type": "code",
   "execution_count": 77,
   "id": "e4941830",
   "metadata": {},
   "outputs": [],
   "source": [
    "from wordcloud import WordCloud\n",
    "\n",
    "def wc(data,bgcolor):\n",
    "    from PIL import Image\n",
    "    mask = np.array(Image.open(\"cloud.png\"))\n",
    "    wc=WordCloud(background_color=bgcolor, width=800, height=400,mask=mask,max_words=100).generate(' '.join(data))\n",
    "    plt.figure( figsize=(20,10) )\n",
    "    plt.imshow(wc)\n",
    "    plt.axis('off')\n",
    "    plt.show()"
   ]
  },
  {
   "cell_type": "code",
   "execution_count": 78,
   "id": "597b4c7a",
   "metadata": {},
   "outputs": [
    {
     "data": {
      "image/png": "[encoded data removed]",
      "text/plain": [
       "<Figure size 1440x720 with 1 Axes>"
      ]
     },
     "metadata": {
      "needs_background": "light"
     },
     "output_type": "display_data"
    }
   ],
   "source": [
    "wc(df.title,'white')"
   ]
  },
  {
   "cell_type": "code",
   "execution_count": null,
   "id": "2cfe7a68",
   "metadata": {},
   "outputs": [],
   "source": []
  }
 ],
 "metadata": {
  "kernelspec": {
   "display_name": "Python 3 (ipykernel)",
   "language": "python",
   "name": "python3"
  },
  "language_info": {
   "codemirror_mode": {
    "name": "ipython",
    "version": 3
   },
   "file_extension": ".py",
   "mimetype": "text/x-python",
   "name": "python",
   "nbconvert_exporter": "python",
   "pygments_lexer": "ipython3",
   "version": "3.9.12"
  }
 },
 "nbformat": 4,
 "nbformat_minor": 5
}
