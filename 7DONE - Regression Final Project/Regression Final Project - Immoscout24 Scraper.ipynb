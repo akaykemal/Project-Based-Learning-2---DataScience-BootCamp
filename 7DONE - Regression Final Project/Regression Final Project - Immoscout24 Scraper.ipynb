{
 "cells": [
  {
   "cell_type": "markdown",
   "id": "40039bad",
   "metadata": {},
   "source": [
    "# Web Scraping - ImmobielenScour24.at\n",
    "###  Scraping Rental Apartments informations from Austria - Kufstein\n",
    "<img src=\"ImmoScout.png\">"
   ]
  },
  {
   "cell_type": "code",
   "execution_count": 1,
   "id": "dda88648",
   "metadata": {},
   "outputs": [],
   "source": [
    "#import needed libraries\n",
    "import pandas as pd\n",
    "import numpy as np\n",
    "\n",
    "from bs4 import BeautifulSoup\n",
    "import requests"
   ]
  },
  {
   "cell_type": "markdown",
   "id": "43243b13",
   "metadata": {},
   "source": [
    "First define the URL which we are going to use and the pages which we have to loop through"
   ]
  },
  {
   "cell_type": "code",
   "execution_count": 2,
   "id": "d840e13f",
   "metadata": {},
   "outputs": [],
   "source": [
    "#define the url which we need\n",
    "url=requests.get(\"https://www.immobilienscout24.at/regional/tirol/kufstein/wohnung-mieten\")\n",
    "soup = BeautifulSoup(url.content,'html.parser')\n",
    "#soup.prettify"
   ]
  },
  {
   "cell_type": "code",
   "execution_count": 3,
   "id": "0b7eb710",
   "metadata": {},
   "outputs": [
    {
     "name": "stdout",
     "output_type": "stream",
     "text": [
      "/regional/tirol/kufstein/wohnung-mieten\n",
      "/regional/tirol/kufstein/wohnung-mieten/seite-2\n"
     ]
    }
   ],
   "source": [
    "# I don't know the reason and I tried other solutions but none of them worked. I can get only up to two pages, even thoughh all class names are the same.\n",
    "# Therefore I hard coded the pages down below, which is not pretty but it does the job for now..\n",
    "pages = soup.find_all('li', class_=\"zViKw\")\n",
    "for i in pages:\n",
    "    print(i.a.get(\"href\"))"
   ]
  },
  {
   "cell_type": "code",
   "execution_count": 4,
   "id": "1fea6274",
   "metadata": {},
   "outputs": [],
   "source": [
    "#Hard code the pages because code above did not work as intented\n",
    "pages=[\"https://www.immobilienscout24.at/regional/tirol/kufstein/wohnung-mieten\",\n",
    "       \"https://www.immobilienscout24.at/regional/tirol/kufstein/wohnung-mieten/seite-2\",\n",
    "       \"https://www.immobilienscout24.at/regional/tirol/kufstein/wohnung-mieten/seite-3\",\n",
    "       \"https://www.immobilienscout24.at/regional/tirol/kufstein/wohnung-mieten/seite-4\",\n",
    "       \"https://www.immobilienscout24.at/regional/tirol/kufstein/wohnung-mieten/seite-5\",\n",
    "       \"https://www.immobilienscout24.at/regional/tirol/kufstein/wohnung-mieten/seite-6\",]"
   ]
  },
  {
   "cell_type": "markdown",
   "id": "a70ee2c1",
   "metadata": {},
   "source": [
    "Loop though all pages and apartment links to scrape the needed infos about the apartments"
   ]
  },
  {
   "cell_type": "code",
   "execution_count": 5,
   "id": "ab91ac76",
   "metadata": {},
   "outputs": [],
   "source": [
    "names=[]\n",
    "rooms=[]\n",
    "infos=[]\n",
    "features=[]\n",
    "heating_type=[]\n",
    "description=[]\n",
    "price=[]\n",
    "\n",
    "# loop through all pages, in our case 6 pages\n",
    "for page in pages:\n",
    "    page_links = page #hard coded page links\n",
    "    html = requests.get(page_links)\n",
    "    soup_page = BeautifulSoup(html.content,'html.parser')\n",
    "    links=soup_page.find_all('li',{\"class\": \"J04SL\"}) # get all the apartment links\n",
    "\n",
    "    #loop through all the apartment links\n",
    "    for link in links:\n",
    "        immo_links = \"https://www.immobilienscout24.at\" + link.a.get(\"href\") #rental apartment links\n",
    "        immo_page = requests.get(immo_links)\n",
    "        soup = BeautifulSoup(immo_page.content,'html.parser')\n",
    "        \n",
    "        #scrape infos of apartments\n",
    "        name = soup.find(\"h1\", class_=\"wi_ND MhP2K t5Xdw\").text\n",
    "        info = soup.find('div', class_=\"x_Y9W n4wFn LbMEg xsCew\").text\n",
    "        descr= soup.find('div',{\"class\": \"AhB_5 wi_ND X2vjS\"}).text\n",
    "        rent = soup.find('div', class_=\"mb-8 n4wFn kjqJt Vdufh\").text.rsplit('€', 2)[:2]\n",
    "        \n",
    "        \n",
    "        # Some infos were nested so I had to add them like this to not get an error\n",
    "        roar=[] # (roar = room-area)\n",
    "        room_area = soup.find_all('span', class_=\"liRmo wi_ND j5x8k t5Xdw\") # This contains num of rooms and apt sqft area (2 columns)\n",
    "        for i in room_area:\n",
    "            roar.append(i.text)\n",
    "        \n",
    "        feature=[]\n",
    "        ftr = soup.find_all('div', class_=\"n5x5v\") # This containts 8 columns of diverse infos about the apartment (not all of them are needed)\n",
    "        for i in ftr:\n",
    "            feature.append(i.text)\n",
    "\n",
    "        heating=[]\n",
    "        heat = soup.find_all('div', class_=\"wi_ND X2vjS t5Xdw\") # This containts infos about the heating type (3 columns)\n",
    "        for i in heat:\n",
    "            heating.append(i.text)\n",
    "\n",
    "            \n",
    "        # Append all infos to their list (fill the columns with infos(rows))\n",
    "        names.append(name) \n",
    "        rooms.append(roar)\n",
    "        infos.append(info)\n",
    "        features.append(feature)\n",
    "        heating_type.append(heating)\n",
    "        description.append(descr)\n",
    "        price.append(rent)"
   ]
  },
  {
   "cell_type": "code",
   "execution_count": 6,
   "id": "d704bded",
   "metadata": {},
   "outputs": [
    {
     "name": "stdout",
     "output_type": "stream",
     "text": [
      "Number of Apartments: 131\n"
     ]
    }
   ],
   "source": [
    "print(\"Number of Apartments:\", len(names))"
   ]
  },
  {
   "cell_type": "markdown",
   "id": "b4c776e9",
   "metadata": {},
   "source": [
    "We can see that we have infos about 135 apartments, which are for rent in Kufstein Austria.<br>\n",
    "(In my first try I had a result of 135 and saved the csv file like this. The next days when I came back to check, the number of apartments changed.)"
   ]
  },
  {
   "cell_type": "markdown",
   "id": "9f3f241d",
   "metadata": {},
   "source": [
    "### Create a Dataframe with the scraped infos"
   ]
  },
  {
   "cell_type": "code",
   "execution_count": 23,
   "id": "c1f97a50",
   "metadata": {},
   "outputs": [],
   "source": [
    "# create the dataframe\n",
    "df=pd.DataFrame(columns=[\"names\",\"rooms\",\"infos\",\"features\",\"heating_type\",\"description\",\"price\"])"
   ]
  },
  {
   "cell_type": "code",
   "execution_count": 24,
   "id": "85f8df93",
   "metadata": {},
   "outputs": [],
   "source": [
    "# assign scraped infos to columns\n",
    "df[\"names\"]=names\n",
    "df[\"rooms\"]=rooms\n",
    "df[\"infos\"]=infos\n",
    "df[\"features\"]=features\n",
    "df[\"heating_type\"]=heating_type\n",
    "df[\"description\"]=description\n",
    "df[\"price\"]=price"
   ]
  },
  {
   "cell_type": "markdown",
   "id": "26e91e20",
   "metadata": {},
   "source": [
    "Gather basic infos about the Dataframe"
   ]
  },
  {
   "cell_type": "code",
   "execution_count": 25,
   "id": "1391d903",
   "metadata": {
    "scrolled": true
   },
   "outputs": [
    {
     "data": {
      "text/html": [
       "<div>\n",
       "<style scoped>\n",
       "    .dataframe tbody tr th:only-of-type {\n",
       "        vertical-align: middle;\n",
       "    }\n",
       "\n",
       "    .dataframe tbody tr th {\n",
       "        vertical-align: top;\n",
       "    }\n",
       "\n",
       "    .dataframe thead th {\n",
       "        text-align: right;\n",
       "    }\n",
       "</style>\n",
       "<table border=\"1\" class=\"dataframe\">\n",
       "  <thead>\n",
       "    <tr style=\"text-align: right;\">\n",
       "      <th></th>\n",
       "      <th>names</th>\n",
       "      <th>rooms</th>\n",
       "      <th>infos</th>\n",
       "      <th>features</th>\n",
       "      <th>heating_type</th>\n",
       "      <th>description</th>\n",
       "      <th>price</th>\n",
       "    </tr>\n",
       "  </thead>\n",
       "  <tbody>\n",
       "    <tr>\n",
       "      <th>0</th>\n",
       "      <td>Bezaubernde Wohnung am Kraftplatz Hintersteine...</td>\n",
       "      <td>[136]</td>\n",
       "      <td>Fläche m²136Miete2.150 €15,81 € / m²</td>\n",
       "      <td>[Baujahr 2007Neuwertig, Dielen, Fliesen, Wohnf...</td>\n",
       "      <td>[Fußbodenheizung]</td>\n",
       "      <td>Diese einzigartige Wohnung liegt direkt im Nat...</td>\n",
       "      <td>[2.150 , 15,81 ]</td>\n",
       "    </tr>\n",
       "    <tr>\n",
       "      <th>1</th>\n",
       "      <td>Moderne Terrassenwohnung mit Blick auf den Wil...</td>\n",
       "      <td>[5, 143]</td>\n",
       "      <td>Zimmer5Fläche m²143Miete2.500 €17,48 € / m²</td>\n",
       "      <td>[Wohnfläche 143 m², 1 TerrasseTerrasse, 5 Zimm...</td>\n",
       "      <td>[]</td>\n",
       "      <td>Diese moderne Terrassenwohnung verfügt über in...</td>\n",
       "      <td>[2.500 , 17,48 ]</td>\n",
       "    </tr>\n",
       "    <tr>\n",
       "      <th>2</th>\n",
       "      <td>Erstbezug! TOP 11 im Neubauprojekt \"Endach 18\"...</td>\n",
       "      <td>[3, 61]</td>\n",
       "      <td>Zimmer3Fläche m²61Miete1.100 €18,1 € / m²</td>\n",
       "      <td>[Verfügbar ab Jänner 2023, Baujahr 2022Erstbez...</td>\n",
       "      <td>[Fußbodenheizung, Heizwärmebedarf, Gesamtenerg...</td>\n",
       "      <td>Im aufstrebenden Stadtteil Endach wurde kürzli...</td>\n",
       "      <td>[1.100 , 18,1 ]</td>\n",
       "    </tr>\n",
       "    <tr>\n",
       "      <th>3</th>\n",
       "      <td>Tolle Wohnung im Bauernhaus mit eigenen Eingan...</td>\n",
       "      <td>[2, 90]</td>\n",
       "      <td>Zimmer2Fläche m²90Miete1.050 €11,67 € / m²</td>\n",
       "      <td>[Wohnfläche 90 m², 2 Zimmer]</td>\n",
       "      <td>[]</td>\n",
       "      <td>Die Wohnung befindet sich in einem Bauernhaus ...</td>\n",
       "      <td>[1.050 , 11,67 ]</td>\n",
       "    </tr>\n",
       "    <tr>\n",
       "      <th>4</th>\n",
       "      <td>Erstbezug! TOP 7 im Neubauprojekt \"Endach 18\":...</td>\n",
       "      <td>[2, 47]</td>\n",
       "      <td>Zimmer2Fläche m²47Miete1.100 €23,18 € / m²</td>\n",
       "      <td>[Verfügbar ab Ende 2022, Baujahr 2022Erstbezug...</td>\n",
       "      <td>[Fußbodenheizung, Heizwärmebedarf, Gesamtenerg...</td>\n",
       "      <td>Im aufstrebenden Stadtteil Endach wurde kürzli...</td>\n",
       "      <td>[1.100 , 23,18 ]</td>\n",
       "    </tr>\n",
       "  </tbody>\n",
       "</table>\n",
       "</div>"
      ],
      "text/plain": [
       "                                               names     rooms  \\\n",
       "0  Bezaubernde Wohnung am Kraftplatz Hintersteine...     [136]   \n",
       "1  Moderne Terrassenwohnung mit Blick auf den Wil...  [5, 143]   \n",
       "2  Erstbezug! TOP 11 im Neubauprojekt \"Endach 18\"...   [3, 61]   \n",
       "3  Tolle Wohnung im Bauernhaus mit eigenen Eingan...   [2, 90]   \n",
       "4  Erstbezug! TOP 7 im Neubauprojekt \"Endach 18\":...   [2, 47]   \n",
       "\n",
       "                                         infos  \\\n",
       "0         Fläche m²136Miete2.150 €15,81 € / m²   \n",
       "1  Zimmer5Fläche m²143Miete2.500 €17,48 € / m²   \n",
       "2    Zimmer3Fläche m²61Miete1.100 €18,1 € / m²   \n",
       "3   Zimmer2Fläche m²90Miete1.050 €11,67 € / m²   \n",
       "4   Zimmer2Fläche m²47Miete1.100 €23,18 € / m²   \n",
       "\n",
       "                                            features  \\\n",
       "0  [Baujahr 2007Neuwertig, Dielen, Fliesen, Wohnf...   \n",
       "1  [Wohnfläche 143 m², 1 TerrasseTerrasse, 5 Zimm...   \n",
       "2  [Verfügbar ab Jänner 2023, Baujahr 2022Erstbez...   \n",
       "3                       [Wohnfläche 90 m², 2 Zimmer]   \n",
       "4  [Verfügbar ab Ende 2022, Baujahr 2022Erstbezug...   \n",
       "\n",
       "                                        heating_type  \\\n",
       "0                                  [Fußbodenheizung]   \n",
       "1                                                 []   \n",
       "2  [Fußbodenheizung, Heizwärmebedarf, Gesamtenerg...   \n",
       "3                                                 []   \n",
       "4  [Fußbodenheizung, Heizwärmebedarf, Gesamtenerg...   \n",
       "\n",
       "                                         description             price  \n",
       "0  Diese einzigartige Wohnung liegt direkt im Nat...  [2.150 , 15,81 ]  \n",
       "1  Diese moderne Terrassenwohnung verfügt über in...  [2.500 , 17,48 ]  \n",
       "2  Im aufstrebenden Stadtteil Endach wurde kürzli...   [1.100 , 18,1 ]  \n",
       "3  Die Wohnung befindet sich in einem Bauernhaus ...  [1.050 , 11,67 ]  \n",
       "4  Im aufstrebenden Stadtteil Endach wurde kürzli...  [1.100 , 23,18 ]  "
      ]
     },
     "execution_count": 25,
     "metadata": {},
     "output_type": "execute_result"
    }
   ],
   "source": [
    "df.head()"
   ]
  },
  {
   "cell_type": "code",
   "execution_count": 26,
   "id": "8ef23a7e",
   "metadata": {},
   "outputs": [
    {
     "data": {
      "text/plain": [
       "(131, 7)"
      ]
     },
     "execution_count": 26,
     "metadata": {},
     "output_type": "execute_result"
    }
   ],
   "source": [
    "df.shape"
   ]
  },
  {
   "cell_type": "code",
   "execution_count": 27,
   "id": "d62381ea",
   "metadata": {},
   "outputs": [
    {
     "name": "stdout",
     "output_type": "stream",
     "text": [
      "<class 'pandas.core.frame.DataFrame'>\n",
      "RangeIndex: 131 entries, 0 to 130\n",
      "Data columns (total 7 columns):\n",
      " #   Column        Non-Null Count  Dtype \n",
      "---  ------        --------------  ----- \n",
      " 0   names         131 non-null    object\n",
      " 1   rooms         131 non-null    object\n",
      " 2   infos         131 non-null    object\n",
      " 3   features      131 non-null    object\n",
      " 4   heating_type  131 non-null    object\n",
      " 5   description   131 non-null    object\n",
      " 6   price         131 non-null    object\n",
      "dtypes: object(7)\n",
      "memory usage: 7.3+ KB\n"
     ]
    }
   ],
   "source": [
    "df.info()"
   ]
  },
  {
   "cell_type": "code",
   "execution_count": 28,
   "id": "c85e5b11",
   "metadata": {},
   "outputs": [
    {
     "data": {
      "text/plain": [
       "names           0\n",
       "rooms           0\n",
       "infos           0\n",
       "features        0\n",
       "heating_type    0\n",
       "description     0\n",
       "price           0\n",
       "dtype: int64"
      ]
     },
     "execution_count": 28,
     "metadata": {},
     "output_type": "execute_result"
    }
   ],
   "source": [
    "df.isnull().sum()"
   ]
  },
  {
   "cell_type": "markdown",
   "id": "7dbd7f34",
   "metadata": {},
   "source": [
    "Since some of the infos we scraped were nested, it created them  as lists, so we can't see the empty values. After trying various mehtods the to_list() method helped me most to list all the values alone and seperate them. Then we combine all to our dataframe with the concat() method"
   ]
  },
  {
   "cell_type": "code",
   "execution_count": 30,
   "id": "2c2fd671",
   "metadata": {},
   "outputs": [],
   "source": [
    "#seperate the infos of each column and list them as new dataframes\n",
    "df2 = pd.DataFrame(df['rooms'].to_list(), columns=['num_rooms','area'])\n",
    "df3 = pd.DataFrame(df['features'].to_list(), columns=['feature1','feature2','feature3','feature4','feature5','feature6','feature7','feature8'])\n",
    "df4 = pd.DataFrame(df['price'].to_list(), columns=['price','price_sqrft'])\n",
    "df5 = pd.DataFrame(df['heating_type'].to_list(), columns=['heating_type','attr1','attr2'])\n",
    "#combine them all to our new dataframe with all infos\n",
    "df  = pd.concat([df['names'],df['description'],df2,df3,df4,df5], ignore_index=True, axis = 1)"
   ]
  },
  {
   "cell_type": "code",
   "execution_count": 31,
   "id": "38882e76",
   "metadata": {},
   "outputs": [
    {
     "data": {
      "text/plain": [
       "(131, 17)"
      ]
     },
     "execution_count": 31,
     "metadata": {},
     "output_type": "execute_result"
    }
   ],
   "source": [
    "df.shape"
   ]
  },
  {
   "cell_type": "code",
   "execution_count": 32,
   "id": "4656433d",
   "metadata": {},
   "outputs": [
    {
     "data": {
      "text/plain": [
       "(131, 11)"
      ]
     },
     "execution_count": 32,
     "metadata": {},
     "output_type": "execute_result"
    }
   ],
   "source": [
    "df.columns=['title','description','num_rooms','area','availability','build_year','del1','del2','del3','parking','del4','elevator','price','sqft_price','heating_type','del5','del6']\n",
    "df.drop(['del1', 'del2', 'del3', 'del4', 'del5', 'del6'], axis=1, inplace=True)\n",
    "df.shape"
   ]
  },
  {
   "cell_type": "code",
   "execution_count": 33,
   "id": "884b2529",
   "metadata": {},
   "outputs": [
    {
     "data": {
      "text/html": [
       "<div>\n",
       "<style scoped>\n",
       "    .dataframe tbody tr th:only-of-type {\n",
       "        vertical-align: middle;\n",
       "    }\n",
       "\n",
       "    .dataframe tbody tr th {\n",
       "        vertical-align: top;\n",
       "    }\n",
       "\n",
       "    .dataframe thead th {\n",
       "        text-align: right;\n",
       "    }\n",
       "</style>\n",
       "<table border=\"1\" class=\"dataframe\">\n",
       "  <thead>\n",
       "    <tr style=\"text-align: right;\">\n",
       "      <th></th>\n",
       "      <th>title</th>\n",
       "      <th>description</th>\n",
       "      <th>num_rooms</th>\n",
       "      <th>area</th>\n",
       "      <th>availability</th>\n",
       "      <th>build_year</th>\n",
       "      <th>parking</th>\n",
       "      <th>elevator</th>\n",
       "      <th>price</th>\n",
       "      <th>sqft_price</th>\n",
       "      <th>heating_type</th>\n",
       "    </tr>\n",
       "  </thead>\n",
       "  <tbody>\n",
       "    <tr>\n",
       "      <th>0</th>\n",
       "      <td>Bezaubernde Wohnung am Kraftplatz Hintersteine...</td>\n",
       "      <td>Diese einzigartige Wohnung liegt direkt im Nat...</td>\n",
       "      <td>136</td>\n",
       "      <td>None</td>\n",
       "      <td>Baujahr 2007Neuwertig, Dielen, Fliesen</td>\n",
       "      <td>Wohnfläche 136 m²</td>\n",
       "      <td>Einbauküche, Badewanne, Dusche, Kamin</td>\n",
       "      <td>None</td>\n",
       "      <td>2.150</td>\n",
       "      <td>15,81</td>\n",
       "      <td>Fußbodenheizung</td>\n",
       "    </tr>\n",
       "    <tr>\n",
       "      <th>1</th>\n",
       "      <td>Moderne Terrassenwohnung mit Blick auf den Wil...</td>\n",
       "      <td>Diese moderne Terrassenwohnung verfügt über in...</td>\n",
       "      <td>5</td>\n",
       "      <td>143</td>\n",
       "      <td>Wohnfläche 143 m²</td>\n",
       "      <td>1 TerrasseTerrasse</td>\n",
       "      <td>None</td>\n",
       "      <td>None</td>\n",
       "      <td>2.500</td>\n",
       "      <td>17,48</td>\n",
       "      <td>None</td>\n",
       "    </tr>\n",
       "    <tr>\n",
       "      <th>2</th>\n",
       "      <td>Erstbezug! TOP 11 im Neubauprojekt \"Endach 18\"...</td>\n",
       "      <td>Im aufstrebenden Stadtteil Endach wurde kürzli...</td>\n",
       "      <td>3</td>\n",
       "      <td>61</td>\n",
       "      <td>Verfügbar ab Jänner 2023</td>\n",
       "      <td>Baujahr 2022Erstbezug, Massivbauweise, Unterke...</td>\n",
       "      <td>Fahrradabstellraum1 Garage, 1 Parkmöglichkeit</td>\n",
       "      <td>Barrierefrei, Personenaufzug</td>\n",
       "      <td>1.100</td>\n",
       "      <td>18,1</td>\n",
       "      <td>Fußbodenheizung</td>\n",
       "    </tr>\n",
       "    <tr>\n",
       "      <th>3</th>\n",
       "      <td>Tolle Wohnung im Bauernhaus mit eigenen Eingan...</td>\n",
       "      <td>Die Wohnung befindet sich in einem Bauernhaus ...</td>\n",
       "      <td>2</td>\n",
       "      <td>90</td>\n",
       "      <td>Wohnfläche 90 m²</td>\n",
       "      <td>2 Zimmer</td>\n",
       "      <td>None</td>\n",
       "      <td>None</td>\n",
       "      <td>1.050</td>\n",
       "      <td>11,67</td>\n",
       "      <td>None</td>\n",
       "    </tr>\n",
       "    <tr>\n",
       "      <th>4</th>\n",
       "      <td>Erstbezug! TOP 7 im Neubauprojekt \"Endach 18\":...</td>\n",
       "      <td>Im aufstrebenden Stadtteil Endach wurde kürzli...</td>\n",
       "      <td>2</td>\n",
       "      <td>47</td>\n",
       "      <td>Verfügbar ab Ende 2022</td>\n",
       "      <td>Baujahr 2022Erstbezug, Massivbauweise, Unterke...</td>\n",
       "      <td>1 Garage1 Parkmöglichkeit</td>\n",
       "      <td>Barrierefrei, Personenaufzug</td>\n",
       "      <td>1.100</td>\n",
       "      <td>23,18</td>\n",
       "      <td>Fußbodenheizung</td>\n",
       "    </tr>\n",
       "  </tbody>\n",
       "</table>\n",
       "</div>"
      ],
      "text/plain": [
       "                                               title  \\\n",
       "0  Bezaubernde Wohnung am Kraftplatz Hintersteine...   \n",
       "1  Moderne Terrassenwohnung mit Blick auf den Wil...   \n",
       "2  Erstbezug! TOP 11 im Neubauprojekt \"Endach 18\"...   \n",
       "3  Tolle Wohnung im Bauernhaus mit eigenen Eingan...   \n",
       "4  Erstbezug! TOP 7 im Neubauprojekt \"Endach 18\":...   \n",
       "\n",
       "                                         description num_rooms  area  \\\n",
       "0  Diese einzigartige Wohnung liegt direkt im Nat...       136  None   \n",
       "1  Diese moderne Terrassenwohnung verfügt über in...         5   143   \n",
       "2  Im aufstrebenden Stadtteil Endach wurde kürzli...         3    61   \n",
       "3  Die Wohnung befindet sich in einem Bauernhaus ...         2    90   \n",
       "4  Im aufstrebenden Stadtteil Endach wurde kürzli...         2    47   \n",
       "\n",
       "                             availability  \\\n",
       "0  Baujahr 2007Neuwertig, Dielen, Fliesen   \n",
       "1                       Wohnfläche 143 m²   \n",
       "2                Verfügbar ab Jänner 2023   \n",
       "3                        Wohnfläche 90 m²   \n",
       "4                  Verfügbar ab Ende 2022   \n",
       "\n",
       "                                          build_year  \\\n",
       "0                                  Wohnfläche 136 m²   \n",
       "1                                 1 TerrasseTerrasse   \n",
       "2  Baujahr 2022Erstbezug, Massivbauweise, Unterke...   \n",
       "3                                           2 Zimmer   \n",
       "4  Baujahr 2022Erstbezug, Massivbauweise, Unterke...   \n",
       "\n",
       "                                         parking  \\\n",
       "0          Einbauküche, Badewanne, Dusche, Kamin   \n",
       "1                                           None   \n",
       "2  Fahrradabstellraum1 Garage, 1 Parkmöglichkeit   \n",
       "3                                           None   \n",
       "4                      1 Garage1 Parkmöglichkeit   \n",
       "\n",
       "                       elevator   price sqft_price     heating_type  \n",
       "0                          None  2.150      15,81   Fußbodenheizung  \n",
       "1                          None  2.500      17,48              None  \n",
       "2  Barrierefrei, Personenaufzug  1.100       18,1   Fußbodenheizung  \n",
       "3                          None  1.050      11,67              None  \n",
       "4  Barrierefrei, Personenaufzug  1.100      23,18   Fußbodenheizung  "
      ]
     },
     "execution_count": 33,
     "metadata": {},
     "output_type": "execute_result"
    }
   ],
   "source": [
    "df.head()"
   ]
  },
  {
   "cell_type": "code",
   "execution_count": 34,
   "id": "c8f0fecb",
   "metadata": {
    "scrolled": true
   },
   "outputs": [
    {
     "name": "stderr",
     "output_type": "stream",
     "text": [
      "C:\\Users\\Kemal\\AppData\\Local\\Temp\\ipykernel_12920\\2987760724.py:5: FutureWarning: The default value of regex will change from True to False in a future version. In addition, single character regular expressions will *not* be treated as literal strings when regex=True.\n",
      "  df['price']=df['price'].str.replace('.','')\n"
     ]
    }
   ],
   "source": [
    "# The second apartment had a displacement of area and number of rooms, so we change that here\n",
    "df['area'][0]=136\n",
    "df['num_rooms'][0]=2\n",
    "#When reading the csv in the other file, the price were only 2.50, 2.15, therefor i replaced the dots with empty\n",
    "df['price']=df['price'].str.replace('.','')"
   ]
  },
  {
   "cell_type": "markdown",
   "id": "76ab3b63",
   "metadata": {},
   "source": [
    "Save our Dataframe to a csv File to peform Regression model"
   ]
  },
  {
   "cell_type": "code",
   "execution_count": 18,
   "id": "67de9cd2",
   "metadata": {},
   "outputs": [],
   "source": [
    "#df.to_csv(\"immoscout_regression.csv\")"
   ]
  },
  {
   "cell_type": "code",
   "execution_count": 35,
   "id": "1cdb8f9d",
   "metadata": {},
   "outputs": [
    {
     "data": {
      "text/html": [
       "<div>\n",
       "<style scoped>\n",
       "    .dataframe tbody tr th:only-of-type {\n",
       "        vertical-align: middle;\n",
       "    }\n",
       "\n",
       "    .dataframe tbody tr th {\n",
       "        vertical-align: top;\n",
       "    }\n",
       "\n",
       "    .dataframe thead th {\n",
       "        text-align: right;\n",
       "    }\n",
       "</style>\n",
       "<table border=\"1\" class=\"dataframe\">\n",
       "  <thead>\n",
       "    <tr style=\"text-align: right;\">\n",
       "      <th></th>\n",
       "      <th>feature1</th>\n",
       "      <th>feature2</th>\n",
       "      <th>feature3</th>\n",
       "      <th>feature4</th>\n",
       "      <th>feature5</th>\n",
       "      <th>feature6</th>\n",
       "      <th>feature7</th>\n",
       "      <th>feature8</th>\n",
       "    </tr>\n",
       "  </thead>\n",
       "  <tbody>\n",
       "    <tr>\n",
       "      <th>0</th>\n",
       "      <td>Baujahr 2007Neuwertig, Dielen, Fliesen</td>\n",
       "      <td>Wohnfläche 136 m²</td>\n",
       "      <td>1 Balkonsüdostseitig</td>\n",
       "      <td>2 Schlafzimmer1 Badezimmer, 1 Toilette, Gäste WC</td>\n",
       "      <td>2 Parkplätze1 Garage, 3 Parkmöglichkeiten</td>\n",
       "      <td>Einbauküche, Badewanne, Dusche, Kamin</td>\n",
       "      <td>None</td>\n",
       "      <td>None</td>\n",
       "    </tr>\n",
       "    <tr>\n",
       "      <th>1</th>\n",
       "      <td>Wohnfläche 143 m²</td>\n",
       "      <td>1 TerrasseTerrasse</td>\n",
       "      <td>5 Zimmer3 Schlafzimmer, 2 Badezimmer, 1 Toilette</td>\n",
       "      <td>None</td>\n",
       "      <td>None</td>\n",
       "      <td>None</td>\n",
       "      <td>None</td>\n",
       "      <td>None</td>\n",
       "    </tr>\n",
       "    <tr>\n",
       "      <th>2</th>\n",
       "      <td>Verfügbar ab Jänner 2023</td>\n",
       "      <td>Baujahr 2022Erstbezug, Massivbauweise, Unterke...</td>\n",
       "      <td>Wohnfläche 60,76 m²</td>\n",
       "      <td>1 Balkonwestseitig</td>\n",
       "      <td>3 ZimmerKellerfläche 4 m², 2 Schlafzimmer, 1 B...</td>\n",
       "      <td>Fahrradabstellraum1 Garage, 1 Parkmöglichkeit</td>\n",
       "      <td>Einbauküche, Teilmöbliert</td>\n",
       "      <td>Barrierefrei, Personenaufzug</td>\n",
       "    </tr>\n",
       "    <tr>\n",
       "      <th>3</th>\n",
       "      <td>Wohnfläche 90 m²</td>\n",
       "      <td>2 Zimmer</td>\n",
       "      <td>None</td>\n",
       "      <td>None</td>\n",
       "      <td>None</td>\n",
       "      <td>None</td>\n",
       "      <td>None</td>\n",
       "      <td>None</td>\n",
       "    </tr>\n",
       "    <tr>\n",
       "      <th>4</th>\n",
       "      <td>Verfügbar ab Ende 2022</td>\n",
       "      <td>Baujahr 2022Erstbezug, Massivbauweise, Unterke...</td>\n",
       "      <td>Wohnfläche 47,45 m²Gartenfläche 45 m²</td>\n",
       "      <td>1 Terrassewestseitig, Garten, Terrasse</td>\n",
       "      <td>2 ZimmerKellerfläche 3,25 m², 1 Schlafzimmer, ...</td>\n",
       "      <td>1 Garage1 Parkmöglichkeit</td>\n",
       "      <td>Einbauküche, Teilmöbliert, Gartennutzung</td>\n",
       "      <td>Barrierefrei, Personenaufzug</td>\n",
       "    </tr>\n",
       "    <tr>\n",
       "      <th>5</th>\n",
       "      <td>Verfügbar ab Ende 2022</td>\n",
       "      <td>Baujahr 2022Erstbezug, Massivbauweise, Unterke...</td>\n",
       "      <td>Wohnfläche 56,48 m²Gartenfläche 8 m²</td>\n",
       "      <td>1 Balkonwestseitig, Garten</td>\n",
       "      <td>2 ZimmerKellerfläche 2,84 m², 1 Schlafzimmer, ...</td>\n",
       "      <td>1 Garage1 Parkmöglichkeit</td>\n",
       "      <td>Einbauküche, Teilmöbliert, Gartennutzung</td>\n",
       "      <td>Barrierefrei, Personenaufzug</td>\n",
       "    </tr>\n",
       "    <tr>\n",
       "      <th>6</th>\n",
       "      <td>Verfügbar ab ab sofort</td>\n",
       "      <td>Parkett</td>\n",
       "      <td>Wohnfläche 130 m²Gesamtfläche 130 m²</td>\n",
       "      <td>1 Balkon</td>\n",
       "      <td>4 Zimmer1 Badezimmer, 1 Toilette, WG-tauglich</td>\n",
       "      <td>Carport2 Parkmöglichkeiten</td>\n",
       "      <td>Einbauküche, Teilmöbliert, Badewanne, Dusche, ...</td>\n",
       "      <td>None</td>\n",
       "    </tr>\n",
       "    <tr>\n",
       "      <th>7</th>\n",
       "      <td>Verfügbar ab sofort</td>\n",
       "      <td>Baujahr 2009Neubau, Neuwertig, Unterkellert, P...</td>\n",
       "      <td>Gesamtfläche 88 m²</td>\n",
       "      <td>1 Balkon 10 m²</td>\n",
       "      <td>4 Zimmer3 Schlafzimmer, 1 Badezimmer</td>\n",
       "      <td>Tiefgarage2 Parkmöglichkeiten</td>\n",
       "      <td>Einbauküche, Badewanne</td>\n",
       "      <td>None</td>\n",
       "    </tr>\n",
       "    <tr>\n",
       "      <th>8</th>\n",
       "      <td>Verfügbar ab 01.02.2023</td>\n",
       "      <td>Baujahr 1956Altbau, Gepflegt</td>\n",
       "      <td>Wohnfläche 57 m²</td>\n",
       "      <td>Garten</td>\n",
       "      <td>3 Zimmer2 Schlafzimmer, 1 Badezimmer</td>\n",
       "      <td>Garage1 Garage, 1 Parkmöglichkeit</td>\n",
       "      <td>Einbauküche, Gartennutzung</td>\n",
       "      <td>None</td>\n",
       "    </tr>\n",
       "    <tr>\n",
       "      <th>9</th>\n",
       "      <td>Verfügbar ab ab 01.02.2023</td>\n",
       "      <td>Baujahr 2022</td>\n",
       "      <td>Wohnfläche 117 m²</td>\n",
       "      <td>1 Terrasse  19 m²</td>\n",
       "      <td>2 ZimmerKellerfläche 5,5 m², 1 Schlafzimmer, 1...</td>\n",
       "      <td>1 Tiefgaragenplätze1 Parkmöglichkeit</td>\n",
       "      <td>None</td>\n",
       "      <td>None</td>\n",
       "    </tr>\n",
       "  </tbody>\n",
       "</table>\n",
       "</div>"
      ],
      "text/plain": [
       "                                 feature1  \\\n",
       "0  Baujahr 2007Neuwertig, Dielen, Fliesen   \n",
       "1                       Wohnfläche 143 m²   \n",
       "2                Verfügbar ab Jänner 2023   \n",
       "3                        Wohnfläche 90 m²   \n",
       "4                  Verfügbar ab Ende 2022   \n",
       "5                  Verfügbar ab Ende 2022   \n",
       "6                  Verfügbar ab ab sofort   \n",
       "7                     Verfügbar ab sofort   \n",
       "8                 Verfügbar ab 01.02.2023   \n",
       "9              Verfügbar ab ab 01.02.2023   \n",
       "\n",
       "                                            feature2  \\\n",
       "0                                  Wohnfläche 136 m²   \n",
       "1                                 1 TerrasseTerrasse   \n",
       "2  Baujahr 2022Erstbezug, Massivbauweise, Unterke...   \n",
       "3                                           2 Zimmer   \n",
       "4  Baujahr 2022Erstbezug, Massivbauweise, Unterke...   \n",
       "5  Baujahr 2022Erstbezug, Massivbauweise, Unterke...   \n",
       "6                                            Parkett   \n",
       "7  Baujahr 2009Neubau, Neuwertig, Unterkellert, P...   \n",
       "8                       Baujahr 1956Altbau, Gepflegt   \n",
       "9                                       Baujahr 2022   \n",
       "\n",
       "                                           feature3  \\\n",
       "0                              1 Balkonsüdostseitig   \n",
       "1  5 Zimmer3 Schlafzimmer, 2 Badezimmer, 1 Toilette   \n",
       "2                               Wohnfläche 60,76 m²   \n",
       "3                                              None   \n",
       "4             Wohnfläche 47,45 m²Gartenfläche 45 m²   \n",
       "5              Wohnfläche 56,48 m²Gartenfläche 8 m²   \n",
       "6              Wohnfläche 130 m²Gesamtfläche 130 m²   \n",
       "7                                Gesamtfläche 88 m²   \n",
       "8                                  Wohnfläche 57 m²   \n",
       "9                                 Wohnfläche 117 m²   \n",
       "\n",
       "                                           feature4  \\\n",
       "0  2 Schlafzimmer1 Badezimmer, 1 Toilette, Gäste WC   \n",
       "1                                              None   \n",
       "2                                1 Balkonwestseitig   \n",
       "3                                              None   \n",
       "4            1 Terrassewestseitig, Garten, Terrasse   \n",
       "5                        1 Balkonwestseitig, Garten   \n",
       "6                                          1 Balkon   \n",
       "7                                    1 Balkon 10 m²   \n",
       "8                                            Garten   \n",
       "9                                 1 Terrasse  19 m²   \n",
       "\n",
       "                                            feature5  \\\n",
       "0          2 Parkplätze1 Garage, 3 Parkmöglichkeiten   \n",
       "1                                               None   \n",
       "2  3 ZimmerKellerfläche 4 m², 2 Schlafzimmer, 1 B...   \n",
       "3                                               None   \n",
       "4  2 ZimmerKellerfläche 3,25 m², 1 Schlafzimmer, ...   \n",
       "5  2 ZimmerKellerfläche 2,84 m², 1 Schlafzimmer, ...   \n",
       "6      4 Zimmer1 Badezimmer, 1 Toilette, WG-tauglich   \n",
       "7               4 Zimmer3 Schlafzimmer, 1 Badezimmer   \n",
       "8               3 Zimmer2 Schlafzimmer, 1 Badezimmer   \n",
       "9  2 ZimmerKellerfläche 5,5 m², 1 Schlafzimmer, 1...   \n",
       "\n",
       "                                        feature6  \\\n",
       "0          Einbauküche, Badewanne, Dusche, Kamin   \n",
       "1                                           None   \n",
       "2  Fahrradabstellraum1 Garage, 1 Parkmöglichkeit   \n",
       "3                                           None   \n",
       "4                      1 Garage1 Parkmöglichkeit   \n",
       "5                      1 Garage1 Parkmöglichkeit   \n",
       "6                     Carport2 Parkmöglichkeiten   \n",
       "7                  Tiefgarage2 Parkmöglichkeiten   \n",
       "8              Garage1 Garage, 1 Parkmöglichkeit   \n",
       "9           1 Tiefgaragenplätze1 Parkmöglichkeit   \n",
       "\n",
       "                                            feature7  \\\n",
       "0                                               None   \n",
       "1                                               None   \n",
       "2                          Einbauküche, Teilmöbliert   \n",
       "3                                               None   \n",
       "4           Einbauküche, Teilmöbliert, Gartennutzung   \n",
       "5           Einbauküche, Teilmöbliert, Gartennutzung   \n",
       "6  Einbauküche, Teilmöbliert, Badewanne, Dusche, ...   \n",
       "7                             Einbauküche, Badewanne   \n",
       "8                         Einbauküche, Gartennutzung   \n",
       "9                                               None   \n",
       "\n",
       "                       feature8  \n",
       "0                          None  \n",
       "1                          None  \n",
       "2  Barrierefrei, Personenaufzug  \n",
       "3                          None  \n",
       "4  Barrierefrei, Personenaufzug  \n",
       "5  Barrierefrei, Personenaufzug  \n",
       "6                          None  \n",
       "7                          None  \n",
       "8                          None  \n",
       "9                          None  "
      ]
     },
     "execution_count": 35,
     "metadata": {},
     "output_type": "execute_result"
    }
   ],
   "source": [
    "df3.head(10)"
   ]
  },
  {
   "cell_type": "markdown",
   "id": "c787e792",
   "metadata": {},
   "source": [
    "## Using WordCloud to see mostly occuring words in the description"
   ]
  },
  {
   "cell_type": "code",
   "execution_count": 36,
   "id": "9ca7da34",
   "metadata": {},
   "outputs": [
    {
     "name": "stderr",
     "output_type": "stream",
     "text": [
      "C:\\Users\\Kemal\\AppData\\Local\\Temp\\ipykernel_12920\\64252763.py:3: FutureWarning: The default value of regex will change from True to False in a future version.\n",
      "  df[\"description\"]=df[\"description\"].str.replace('[^\\w\\s]','') # get rid of punctuation\n",
      "C:\\Users\\Kemal\\AppData\\Local\\Temp\\ipykernel_12920\\64252763.py:4: FutureWarning: The default value of regex will change from True to False in a future version.\n",
      "  df[\"description\"]=df[\"description\"].str.replace('\\d+','') # get rid of digits\n"
     ]
    }
   ],
   "source": [
    "# Text processing\n",
    "df[\"description\"]=df[\"description\"].str.lower() # change to lower case\n",
    "df[\"description\"]=df[\"description\"].str.replace('[^\\w\\s]','') # get rid of punctuation\n",
    "df[\"description\"]=df[\"description\"].str.replace('\\d+','') # get rid of digits\n",
    "df[\"description\"]=df[\"description\"].str.replace('\\n',' ').replace('\\r',' ') # get rid of enter and returns"
   ]
  },
  {
   "cell_type": "code",
   "execution_count": 38,
   "id": "4052f849",
   "metadata": {},
   "outputs": [
    {
     "data": {
      "text/plain": [
       "'diese einzigartige wohnung liegt direkt im naturschutzgebiet hintersteiner seescheffau am fuße des wilden kaisers regelmäßig ist der see unter den schönsten gewählten plätzen österreichs vertreten am seeufer befindet sich ein im jahre  neu errichtete bauernhof mit der angebotenen dachgeschosswohnung die langfristig zu mietende wohnung in dieser einzigartigen umgebung bietet absolute ruhe und die chance dem alltag zu entfliehendas bauernhaus wurde unter strengen naturschutzrichtlinien errichtet und verfügt ausschließlich über biologische und gesunde baustoffe wie tonziegel holzblockwände bienenwachsanstrich und fassadenwärmedämmung aus korkauf den  m² wohnfläche befinden sich zwei schlafzimmer ein großzügiges badezimmer ein schöner wohnessbereich sowie ein separates wc und ein großer balkon zudem gehören zur wohnung ein  m² großer kellerraum und ein garagenabstellplatzein hauptwohnsitz muss am objekt angemeldet werdenverpassen sie nicht diese einzigartige mietgelegenheit in absoluter ausnahmelage'"
      ]
     },
     "execution_count": 38,
     "metadata": {},
     "output_type": "execute_result"
    }
   ],
   "source": [
    "df['description'][0]"
   ]
  },
  {
   "cell_type": "code",
   "execution_count": 44,
   "id": "a4e3233b",
   "metadata": {},
   "outputs": [],
   "source": [
    "#pip install stop_words"
   ]
  },
  {
   "cell_type": "code",
   "execution_count": 45,
   "id": "a7286b2f",
   "metadata": {},
   "outputs": [],
   "source": [
    "from stop_words import get_stop_words\n",
    "stop_words = get_stop_words('german')"
   ]
  },
  {
   "cell_type": "code",
   "execution_count": 46,
   "id": "b605e460",
   "metadata": {
    "collapsed": true
   },
   "outputs": [
    {
     "data": {
      "text/plain": [
       "['aber',\n",
       " 'alle',\n",
       " 'allem',\n",
       " 'allen',\n",
       " 'aller',\n",
       " 'alles',\n",
       " 'als',\n",
       " 'also',\n",
       " 'am',\n",
       " 'an',\n",
       " 'ander',\n",
       " 'andere',\n",
       " 'anderem',\n",
       " 'anderen',\n",
       " 'anderer',\n",
       " 'anderes',\n",
       " 'anderm',\n",
       " 'andern',\n",
       " 'anders',\n",
       " 'auch',\n",
       " 'auf',\n",
       " 'aus',\n",
       " 'bei',\n",
       " 'bin',\n",
       " 'bis',\n",
       " 'bist',\n",
       " 'da',\n",
       " 'damit',\n",
       " 'dann',\n",
       " 'das',\n",
       " 'dass',\n",
       " 'dasselbe',\n",
       " 'dazu',\n",
       " 'daß',\n",
       " 'dein',\n",
       " 'deine',\n",
       " 'deinem',\n",
       " 'deinen',\n",
       " 'deiner',\n",
       " 'deines',\n",
       " 'dem',\n",
       " 'demselben',\n",
       " 'den',\n",
       " 'denn',\n",
       " 'denselben',\n",
       " 'der',\n",
       " 'derer',\n",
       " 'derselbe',\n",
       " 'derselben',\n",
       " 'des',\n",
       " 'desselben',\n",
       " 'dessen',\n",
       " 'dich',\n",
       " 'die',\n",
       " 'dies',\n",
       " 'diese',\n",
       " 'dieselbe',\n",
       " 'dieselben',\n",
       " 'diesem',\n",
       " 'diesen',\n",
       " 'dieser',\n",
       " 'dieses',\n",
       " 'dir',\n",
       " 'doch',\n",
       " 'dort',\n",
       " 'du',\n",
       " 'durch',\n",
       " 'ein',\n",
       " 'eine',\n",
       " 'einem',\n",
       " 'einen',\n",
       " 'einer',\n",
       " 'eines',\n",
       " 'einig',\n",
       " 'einige',\n",
       " 'einigem',\n",
       " 'einigen',\n",
       " 'einiger',\n",
       " 'einiges',\n",
       " 'einmal',\n",
       " 'er',\n",
       " 'es',\n",
       " 'etwas',\n",
       " 'euch',\n",
       " 'euer',\n",
       " 'eure',\n",
       " 'eurem',\n",
       " 'euren',\n",
       " 'eurer',\n",
       " 'eures',\n",
       " 'für',\n",
       " 'gegen',\n",
       " 'gewesen',\n",
       " 'hab',\n",
       " 'habe',\n",
       " 'haben',\n",
       " 'hat',\n",
       " 'hatte',\n",
       " 'hatten',\n",
       " 'hier',\n",
       " 'hin',\n",
       " 'hinter',\n",
       " 'ich',\n",
       " 'ihm',\n",
       " 'ihn',\n",
       " 'ihnen',\n",
       " 'ihr',\n",
       " 'ihre',\n",
       " 'ihrem',\n",
       " 'ihren',\n",
       " 'ihrer',\n",
       " 'ihres',\n",
       " 'im',\n",
       " 'in',\n",
       " 'indem',\n",
       " 'ins',\n",
       " 'ist',\n",
       " 'jede',\n",
       " 'jedem',\n",
       " 'jeden',\n",
       " 'jeder',\n",
       " 'jedes',\n",
       " 'jene',\n",
       " 'jenem',\n",
       " 'jenen',\n",
       " 'jener',\n",
       " 'jenes',\n",
       " 'jetzt',\n",
       " 'kann',\n",
       " 'kein',\n",
       " 'keine',\n",
       " 'keinem',\n",
       " 'keinen',\n",
       " 'keiner',\n",
       " 'keines',\n",
       " 'können',\n",
       " 'könnte',\n",
       " 'machen',\n",
       " 'man',\n",
       " 'manche',\n",
       " 'manchem',\n",
       " 'manchen',\n",
       " 'mancher',\n",
       " 'manches',\n",
       " 'mein',\n",
       " 'meine',\n",
       " 'meinem',\n",
       " 'meinen',\n",
       " 'meiner',\n",
       " 'meines',\n",
       " 'mich',\n",
       " 'mir',\n",
       " 'mit',\n",
       " 'muss',\n",
       " 'musste',\n",
       " 'nach',\n",
       " 'nicht',\n",
       " 'nichts',\n",
       " 'noch',\n",
       " 'nun',\n",
       " 'nur',\n",
       " 'ob',\n",
       " 'oder',\n",
       " 'ohne',\n",
       " 'sehr',\n",
       " 'sein',\n",
       " 'seine',\n",
       " 'seinem',\n",
       " 'seinen',\n",
       " 'seiner',\n",
       " 'seines',\n",
       " 'selbst',\n",
       " 'sich',\n",
       " 'sie',\n",
       " 'sind',\n",
       " 'so',\n",
       " 'solche',\n",
       " 'solchem',\n",
       " 'solchen',\n",
       " 'solcher',\n",
       " 'solches',\n",
       " 'soll',\n",
       " 'sollte',\n",
       " 'sondern',\n",
       " 'sonst',\n",
       " 'um',\n",
       " 'und',\n",
       " 'uns',\n",
       " 'unser',\n",
       " 'unsere',\n",
       " 'unserem',\n",
       " 'unseren',\n",
       " 'unserer',\n",
       " 'unseres',\n",
       " 'unter',\n",
       " 'viel',\n",
       " 'vom',\n",
       " 'von',\n",
       " 'vor',\n",
       " 'war',\n",
       " 'waren',\n",
       " 'warst',\n",
       " 'was',\n",
       " 'weg',\n",
       " 'weil',\n",
       " 'weiter',\n",
       " 'welche',\n",
       " 'welchem',\n",
       " 'welchen',\n",
       " 'welcher',\n",
       " 'welches',\n",
       " 'wenn',\n",
       " 'werde',\n",
       " 'werden',\n",
       " 'wie',\n",
       " 'wieder',\n",
       " 'will',\n",
       " 'wir',\n",
       " 'wird',\n",
       " 'wirst',\n",
       " 'wo',\n",
       " 'wollen',\n",
       " 'wollte',\n",
       " 'während',\n",
       " 'würde',\n",
       " 'würden',\n",
       " 'zu',\n",
       " 'zum',\n",
       " 'zur',\n",
       " 'zwar',\n",
       " 'zwischen',\n",
       " 'über']"
      ]
     },
     "execution_count": 46,
     "metadata": {},
     "output_type": "execute_result"
    }
   ],
   "source": [
    "stop_words"
   ]
  },
  {
   "cell_type": "code",
   "execution_count": 51,
   "id": "c422309b",
   "metadata": {},
   "outputs": [],
   "source": [
    "from wordcloud import WordCloud\n",
    "import matplotlib.pyplot as plt\n",
    "\n",
    "def wc(data,bgcolor):\n",
    "    from PIL import Image\n",
    "    mask = np.array(Image.open(\"cloud.png\"))\n",
    "    wc=WordCloud(background_color=bgcolor, width=800, height=400,mask=mask,max_words=100, stopwords=stop_words).generate(' '.join(data))\n",
    "    plt.figure(figsize=(20,10))\n",
    "    plt.imshow(wc)\n",
    "    plt.axis('off')\n",
    "    plt.show()"
   ]
  },
  {
   "cell_type": "code",
   "execution_count": 52,
   "id": "ce001338",
   "metadata": {},
   "outputs": [
    {
     "data": {
      "image/png": "[encoded data removed]",
      "text/plain": [
       "<Figure size 1440x720 with 1 Axes>"
      ]
     },
     "metadata": {
      "needs_background": "light"
     },
     "output_type": "display_data"
    }
   ],
   "source": [
    "wc(df.description,'white')"
   ]
  },
  {
   "cell_type": "markdown",
   "id": "881b4abd",
   "metadata": {},
   "source": [
    "* wohnung = apartment\n",
    "* küche = kitchen\n",
    "* kellerabteil = basement compartment\n",
    "* schlafzimmer = bedroom"
   ]
  },
  {
   "cell_type": "code",
   "execution_count": null,
   "id": "d76c66da",
   "metadata": {},
   "outputs": [],
   "source": []
  }
 ],
 "metadata": {
  "kernelspec": {
   "display_name": "Python 3 (ipykernel)",
   "language": "python",
   "name": "python3"
  },
  "language_info": {
   "codemirror_mode": {
    "name": "ipython",
    "version": 3
   },
   "file_extension": ".py",
   "mimetype": "text/x-python",
   "name": "python",
   "nbconvert_exporter": "python",
   "pygments_lexer": "ipython3",
   "version": "3.9.12"
  }
 },
 "nbformat": 4,
 "nbformat_minor": 5
}
