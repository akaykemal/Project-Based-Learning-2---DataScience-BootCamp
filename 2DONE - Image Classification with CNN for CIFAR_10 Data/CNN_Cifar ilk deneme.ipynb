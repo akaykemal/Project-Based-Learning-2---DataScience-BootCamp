{
 "cells": [
  {
   "cell_type": "code",
   "execution_count": null,
   "id": "46b9b0f4",
   "metadata": {},
   "outputs": [],
   "source": [
    "#First Version"
   ]
  },
  {
   "cell_type": "code",
   "execution_count": 1,
   "id": "ef561fac",
   "metadata": {},
   "outputs": [],
   "source": [
    "import pandas as pd\n",
    "import seaborn as sns\n",
    "import matplotlib.pyplot as plt\n",
    "\n",
    "import tensorflow as tf\n",
    "from tensorflow.keras.models import Sequential\n",
    "from tensorflow.keras.layers import Dense, Conv2D, InputLayer, Reshape, MaxPooling2D, Flatten"
   ]
  },
  {
   "cell_type": "code",
   "execution_count": 2,
   "id": "b0a7769b",
   "metadata": {},
   "outputs": [],
   "source": [
    "# get the CIFAR10 dataset\n",
    "from tensorflow.keras.datasets import cifar10"
   ]
  },
  {
   "cell_type": "code",
   "execution_count": 3,
   "id": "17e05e70",
   "metadata": {},
   "outputs": [],
   "source": [
    "# load the CIFAR10 dataset\n",
    "(x_train, y_train), (x_test, y_test) = cifar10.load_data()"
   ]
  },
  {
   "cell_type": "code",
   "execution_count": 4,
   "id": "fbba4085",
   "metadata": {},
   "outputs": [
    {
     "data": {
      "text/plain": [
       "((50000, 32, 32, 3), (10000, 1))"
      ]
     },
     "execution_count": 4,
     "metadata": {},
     "output_type": "execute_result"
    }
   ],
   "source": [
    "x_train.shape, y_test.shape"
   ]
  },
  {
   "cell_type": "code",
   "execution_count": 5,
   "id": "25aaf1fd",
   "metadata": {},
   "outputs": [],
   "source": [
    "#Normalize Data"
   ]
  },
  {
   "cell_type": "code",
   "execution_count": 6,
   "id": "75c124a7",
   "metadata": {},
   "outputs": [],
   "source": [
    "x_train=x_train/255.0\n",
    "x_test=x_test/255.0"
   ]
  },
  {
   "cell_type": "code",
   "execution_count": 7,
   "id": "a8066853",
   "metadata": {},
   "outputs": [],
   "source": [
    "from tensorflow.keras.models import Sequential\n",
    "from tensorflow.keras.layers import Dense, Conv2D, InputLayer, Reshape, MaxPooling2D, Flatten\n",
    "#Conv2D deyince CNN bitmis oluyor"
   ]
  },
  {
   "cell_type": "code",
   "execution_count": 8,
   "id": "645715c0",
   "metadata": {},
   "outputs": [],
   "source": [
    "model=Sequential()\n",
    "model.add(InputLayer(input_shape=(32,32,3)))\n",
    "model.add(Reshape(target_shape=(32,32,3)))\n",
    "model.add(Conv2D(filters=12,kernel_size=(3,3),activation='relu'))\n",
    "model.add(MaxPooling2D(pool_size=(2,2)))\n",
    "model.add(Flatten())\n",
    "model.add(Dense(10))"
   ]
  },
  {
   "cell_type": "code",
   "execution_count": 9,
   "id": "65ce41ff",
   "metadata": {},
   "outputs": [],
   "source": [
    "model.compile(loss=tf.keras.losses.SparseCategoricalCrossentropy(from_logits=True),optimizer=\"adam\",metrics=\"accuracy\")"
   ]
  },
  {
   "cell_type": "code",
   "execution_count": 10,
   "id": "c18e92c5",
   "metadata": {},
   "outputs": [
    {
     "name": "stdout",
     "output_type": "stream",
     "text": [
      "Epoch 1/30\n",
      "1407/1407 [==============================] - 5s 3ms/step - loss: 1.5918 - accuracy: 0.4404 - val_loss: 1.3893 - val_accuracy: 0.5202\n",
      "Epoch 2/30\n",
      "1407/1407 [==============================] - 4s 3ms/step - loss: 1.3321 - accuracy: 0.5318 - val_loss: 1.3059 - val_accuracy: 0.5430\n",
      "Epoch 3/30\n",
      "1407/1407 [==============================] - 4s 3ms/step - loss: 1.2430 - accuracy: 0.5668 - val_loss: 1.2553 - val_accuracy: 0.5644\n",
      "Epoch 4/30\n",
      "1407/1407 [==============================] - 4s 3ms/step - loss: 1.1857 - accuracy: 0.5881 - val_loss: 1.1990 - val_accuracy: 0.5910\n",
      "Epoch 5/30\n",
      "1407/1407 [==============================] - 4s 3ms/step - loss: 1.1469 - accuracy: 0.6028 - val_loss: 1.2092 - val_accuracy: 0.5814\n",
      "Epoch 6/30\n",
      "1407/1407 [==============================] - 4s 3ms/step - loss: 1.1159 - accuracy: 0.6132 - val_loss: 1.1606 - val_accuracy: 0.6052\n",
      "Epoch 7/30\n",
      "1407/1407 [==============================] - 4s 3ms/step - loss: 1.0914 - accuracy: 0.6231 - val_loss: 1.1748 - val_accuracy: 0.5966\n",
      "Epoch 8/30\n",
      "1407/1407 [==============================] - 5s 3ms/step - loss: 1.0675 - accuracy: 0.6290 - val_loss: 1.1681 - val_accuracy: 0.6038\n",
      "Epoch 9/30\n",
      "1407/1407 [==============================] - 4s 3ms/step - loss: 1.0475 - accuracy: 0.6368 - val_loss: 1.1419 - val_accuracy: 0.6104\n",
      "Epoch 10/30\n",
      "1407/1407 [==============================] - 4s 3ms/step - loss: 1.0285 - accuracy: 0.6452 - val_loss: 1.2487 - val_accuracy: 0.5808\n",
      "Epoch 11/30\n",
      "1407/1407 [==============================] - 4s 3ms/step - loss: 1.0145 - accuracy: 0.6495 - val_loss: 1.1322 - val_accuracy: 0.6162\n",
      "Epoch 12/30\n",
      "1407/1407 [==============================] - 4s 3ms/step - loss: 1.0009 - accuracy: 0.6540 - val_loss: 1.1348 - val_accuracy: 0.6172\n",
      "Epoch 13/30\n",
      "1407/1407 [==============================] - 4s 3ms/step - loss: 0.9849 - accuracy: 0.6593 - val_loss: 1.1092 - val_accuracy: 0.6248\n",
      "Epoch 14/30\n",
      "1407/1407 [==============================] - 5s 3ms/step - loss: 0.9749 - accuracy: 0.6635 - val_loss: 1.1099 - val_accuracy: 0.6244\n",
      "Epoch 15/30\n",
      "1407/1407 [==============================] - 4s 3ms/step - loss: 0.9667 - accuracy: 0.6650 - val_loss: 1.1314 - val_accuracy: 0.6204\n",
      "Epoch 16/30\n",
      "1407/1407 [==============================] - 4s 3ms/step - loss: 0.9525 - accuracy: 0.6710 - val_loss: 1.1104 - val_accuracy: 0.6248\n",
      "Epoch 17/30\n",
      "1407/1407 [==============================] - 4s 3ms/step - loss: 0.9449 - accuracy: 0.6738 - val_loss: 1.1292 - val_accuracy: 0.6258\n",
      "Epoch 18/30\n",
      "1407/1407 [==============================] - 4s 3ms/step - loss: 0.9363 - accuracy: 0.6740 - val_loss: 1.1597 - val_accuracy: 0.6058\n",
      "Epoch 19/30\n",
      "1407/1407 [==============================] - 4s 3ms/step - loss: 0.9280 - accuracy: 0.6782 - val_loss: 1.1481 - val_accuracy: 0.6144\n",
      "Epoch 20/30\n",
      "1407/1407 [==============================] - 4s 3ms/step - loss: 0.9223 - accuracy: 0.6787 - val_loss: 1.1166 - val_accuracy: 0.6218\n",
      "Epoch 21/30\n",
      "1407/1407 [==============================] - 4s 3ms/step - loss: 0.9148 - accuracy: 0.6826 - val_loss: 1.1426 - val_accuracy: 0.6174\n",
      "Epoch 22/30\n",
      "1407/1407 [==============================] - 4s 3ms/step - loss: 0.9075 - accuracy: 0.6849 - val_loss: 1.1715 - val_accuracy: 0.6134\n",
      "Epoch 23/30\n",
      "1407/1407 [==============================] - 4s 3ms/step - loss: 0.9018 - accuracy: 0.6866 - val_loss: 1.1671 - val_accuracy: 0.6146\n",
      "Epoch 24/30\n",
      "1407/1407 [==============================] - 4s 3ms/step - loss: 0.8980 - accuracy: 0.6869 - val_loss: 1.1586 - val_accuracy: 0.6100\n",
      "Epoch 25/30\n",
      "1407/1407 [==============================] - 4s 3ms/step - loss: 0.8913 - accuracy: 0.6893 - val_loss: 1.1428 - val_accuracy: 0.6186\n",
      "Epoch 26/30\n",
      "1407/1407 [==============================] - 4s 3ms/step - loss: 0.8879 - accuracy: 0.6916 - val_loss: 1.1506 - val_accuracy: 0.6200\n",
      "Epoch 27/30\n",
      "1407/1407 [==============================] - 4s 3ms/step - loss: 0.8806 - accuracy: 0.6949 - val_loss: 1.1412 - val_accuracy: 0.6208\n",
      "Epoch 28/30\n",
      "1407/1407 [==============================] - 4s 3ms/step - loss: 0.8744 - accuracy: 0.6957 - val_loss: 1.1611 - val_accuracy: 0.6174\n",
      "Epoch 29/30\n",
      "1407/1407 [==============================] - 4s 3ms/step - loss: 0.8769 - accuracy: 0.6956 - val_loss: 1.1499 - val_accuracy: 0.6168\n",
      "Epoch 30/30\n",
      "1407/1407 [==============================] - 4s 3ms/step - loss: 0.8654 - accuracy: 0.6983 - val_loss: 1.1698 - val_accuracy: 0.6076\n"
     ]
    },
    {
     "data": {
      "text/plain": [
       "<keras.callbacks.History at 0x17b48b92a00>"
      ]
     },
     "execution_count": 10,
     "metadata": {},
     "output_type": "execute_result"
    }
   ],
   "source": [
    "model.fit(x_train,y_train,validation_split=0.10,epochs=30)"
   ]
  },
  {
   "cell_type": "code",
   "execution_count": 11,
   "id": "dc103cdc",
   "metadata": {},
   "outputs": [
    {
     "name": "stdout",
     "output_type": "stream",
     "text": [
      "313/313 [==============================] - 0s 1ms/step - loss: 1.1964 - accuracy: 0.5990\n"
     ]
    }
   ],
   "source": [
    "_,accuracy=model.evaluate(x_test,y_test)\n",
    "#_ hata göstreyiro , evaluate deyine 1. loss 2. accuracy, _, yapmak la 1. skip yaptik"
   ]
  },
  {
   "cell_type": "code",
   "execution_count": 12,
   "id": "7d1cb40d",
   "metadata": {},
   "outputs": [
    {
     "data": {
      "text/plain": [
       "1.1963523626327515"
      ]
     },
     "execution_count": 12,
     "metadata": {},
     "output_type": "execute_result"
    }
   ],
   "source": [
    "_"
   ]
  },
  {
   "cell_type": "code",
   "execution_count": null,
   "id": "c6aaa49d",
   "metadata": {},
   "outputs": [],
   "source": []
  }
 ],
 "metadata": {
  "kernelspec": {
   "display_name": "Python 3 (ipykernel)",
   "language": "python",
   "name": "python3"
  },
  "language_info": {
   "codemirror_mode": {
    "name": "ipython",
    "version": 3
   },
   "file_extension": ".py",
   "mimetype": "text/x-python",
   "name": "python",
   "nbconvert_exporter": "python",
   "pygments_lexer": "ipython3",
   "version": "3.9.12"
  }
 },
 "nbformat": 4,
 "nbformat_minor": 5
}
