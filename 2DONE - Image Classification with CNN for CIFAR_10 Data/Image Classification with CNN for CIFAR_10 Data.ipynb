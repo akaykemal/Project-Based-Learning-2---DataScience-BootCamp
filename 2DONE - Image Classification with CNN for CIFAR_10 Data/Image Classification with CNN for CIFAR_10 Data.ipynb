{
 "cells": [
  {
   "cell_type": "code",
   "execution_count": 1,
   "id": "ca555202",
   "metadata": {},
   "outputs": [],
   "source": [
    "import pandas as pd\n",
    "import seaborn as sns\n",
    "import matplotlib.pyplot as plt\n",
    "\n",
    "import tensorflow as tf\n",
    "from tensorflow.keras.models import Sequential\n",
    "from tensorflow.keras.layers import Dense, Conv2D, InputLayer, Reshape, MaxPooling2D, Flatten"
   ]
  },
  {
   "cell_type": "code",
   "execution_count": 2,
   "id": "8b57ddee",
   "metadata": {},
   "outputs": [],
   "source": [
    "# get the CIFAR10 dataset\n",
    "from tensorflow.keras.datasets import cifar10"
   ]
  },
  {
   "cell_type": "code",
   "execution_count": 3,
   "id": "873396f0",
   "metadata": {},
   "outputs": [
    {
     "name": "stdout",
     "output_type": "stream",
     "text": [
      "Downloading data from https://www.cs.toronto.edu/~kriz/cifar-10-python.tar.gz\n",
      "170498071/170498071 [==============================] - 91s 1us/step\n"
     ]
    }
   ],
   "source": [
    "# load the CIFAR10 dataset\n",
    "(x_train, y_train), (x_test, y_test) = cifar10.load_data()"
   ]
  },
  {
   "cell_type": "code",
   "execution_count": 6,
   "id": "e53a61ea",
   "metadata": {},
   "outputs": [
    {
     "data": {
      "text/plain": [
       "((50000, 32, 32, 3), (10000, 1))"
      ]
     },
     "execution_count": 6,
     "metadata": {},
     "output_type": "execute_result"
    }
   ],
   "source": [
    "x_train.shape, y_test.shape"
   ]
  },
  {
   "cell_type": "markdown",
   "id": "45a4f6a9",
   "metadata": {},
   "source": [
    "There is a total of 60000 images of 10 different classes naming , ,, , ,,,,,. All the images are of size 32×32. There are in total 50000 train images and 10000 test images."
   ]
  },
  {
   "cell_type": "code",
   "execution_count": 14,
   "id": "c5a3d151",
   "metadata": {
    "collapsed": true
   },
   "outputs": [
    {
     "data": {
      "text/plain": [
       "array([[6],\n",
       "       [9],\n",
       "       [9],\n",
       "       ...,\n",
       "       [9],\n",
       "       [1],\n",
       "       [1]], dtype=uint8)"
      ]
     },
     "execution_count": 14,
     "metadata": {},
     "output_type": "execute_result"
    }
   ],
   "source": [
    "y_train"
   ]
  },
  {
   "cell_type": "code",
   "execution_count": 8,
   "id": "94f86690",
   "metadata": {
    "collapsed": true
   },
   "outputs": [
    {
     "data": {
      "text/plain": [
       "array([[3],\n",
       "       [8],\n",
       "       [8],\n",
       "       ...,\n",
       "       [5],\n",
       "       [1],\n",
       "       [7]], dtype=uint8)"
      ]
     },
     "execution_count": 8,
     "metadata": {},
     "output_type": "execute_result"
    }
   ],
   "source": [
    "y_test"
   ]
  },
  {
   "cell_type": "code",
   "execution_count": 12,
   "id": "d6573735",
   "metadata": {
    "scrolled": true
   },
   "outputs": [
    {
     "data": {
      "text/plain": [
       "array([[[[ 59,  62,  63],\n",
       "         [ 43,  46,  45],\n",
       "         [ 50,  48,  43],\n",
       "         ...,\n",
       "         [158, 132, 108],\n",
       "         [152, 125, 102],\n",
       "         [148, 124, 103]],\n",
       "\n",
       "        [[ 16,  20,  20],\n",
       "         [  0,   0,   0],\n",
       "         [ 18,   8,   0],\n",
       "         ...,\n",
       "         [123,  88,  55],\n",
       "         [119,  83,  50],\n",
       "         [122,  87,  57]],\n",
       "\n",
       "        [[ 25,  24,  21],\n",
       "         [ 16,   7,   0],\n",
       "         [ 49,  27,   8],\n",
       "         ...,\n",
       "         [118,  84,  50],\n",
       "         [120,  84,  50],\n",
       "         [109,  73,  42]],\n",
       "\n",
       "        ...,\n",
       "\n",
       "        [[208, 170,  96],\n",
       "         [201, 153,  34],\n",
       "         [198, 161,  26],\n",
       "         ...,\n",
       "         [160, 133,  70],\n",
       "         [ 56,  31,   7],\n",
       "         [ 53,  34,  20]],\n",
       "\n",
       "        [[180, 139,  96],\n",
       "         [173, 123,  42],\n",
       "         [186, 144,  30],\n",
       "         ...,\n",
       "         [184, 148,  94],\n",
       "         [ 97,  62,  34],\n",
       "         [ 83,  53,  34]],\n",
       "\n",
       "        [[177, 144, 116],\n",
       "         [168, 129,  94],\n",
       "         [179, 142,  87],\n",
       "         ...,\n",
       "         [216, 184, 140],\n",
       "         [151, 118,  84],\n",
       "         [123,  92,  72]]],\n",
       "\n",
       "\n",
       "       [[[154, 177, 187],\n",
       "         [126, 137, 136],\n",
       "         [105, 104,  95],\n",
       "         ...,\n",
       "         [ 91,  95,  71],\n",
       "         [ 87,  90,  71],\n",
       "         [ 79,  81,  70]],\n",
       "\n",
       "        [[140, 160, 169],\n",
       "         [145, 153, 154],\n",
       "         [125, 125, 118],\n",
       "         ...,\n",
       "         [ 96,  99,  78],\n",
       "         [ 77,  80,  62],\n",
       "         [ 71,  73,  61]],\n",
       "\n",
       "        [[140, 155, 164],\n",
       "         [139, 146, 149],\n",
       "         [115, 115, 112],\n",
       "         ...,\n",
       "         [ 79,  82,  64],\n",
       "         [ 68,  70,  55],\n",
       "         [ 67,  69,  55]],\n",
       "\n",
       "        ...,\n",
       "\n",
       "        [[175, 167, 166],\n",
       "         [156, 154, 160],\n",
       "         [154, 160, 170],\n",
       "         ...,\n",
       "         [ 42,  34,  36],\n",
       "         [ 61,  53,  57],\n",
       "         [ 93,  83,  91]],\n",
       "\n",
       "        [[165, 154, 128],\n",
       "         [156, 152, 130],\n",
       "         [159, 161, 142],\n",
       "         ...,\n",
       "         [103,  93,  96],\n",
       "         [123, 114, 120],\n",
       "         [131, 121, 131]],\n",
       "\n",
       "        [[163, 148, 120],\n",
       "         [158, 148, 122],\n",
       "         [163, 156, 133],\n",
       "         ...,\n",
       "         [143, 133, 139],\n",
       "         [143, 134, 142],\n",
       "         [143, 133, 144]]],\n",
       "\n",
       "\n",
       "       [[[255, 255, 255],\n",
       "         [253, 253, 253],\n",
       "         [253, 253, 253],\n",
       "         ...,\n",
       "         [253, 253, 253],\n",
       "         [253, 253, 253],\n",
       "         [253, 253, 253]],\n",
       "\n",
       "        [[255, 255, 255],\n",
       "         [255, 255, 255],\n",
       "         [255, 255, 255],\n",
       "         ...,\n",
       "         [255, 255, 255],\n",
       "         [255, 255, 255],\n",
       "         [255, 255, 255]],\n",
       "\n",
       "        [[255, 255, 255],\n",
       "         [254, 254, 254],\n",
       "         [254, 254, 254],\n",
       "         ...,\n",
       "         [254, 254, 254],\n",
       "         [254, 254, 254],\n",
       "         [254, 254, 254]],\n",
       "\n",
       "        ...,\n",
       "\n",
       "        [[113, 120, 112],\n",
       "         [111, 118, 111],\n",
       "         [105, 112, 106],\n",
       "         ...,\n",
       "         [ 72,  81,  80],\n",
       "         [ 72,  80,  79],\n",
       "         [ 72,  80,  79]],\n",
       "\n",
       "        [[111, 118, 110],\n",
       "         [104, 111, 104],\n",
       "         [ 99, 106,  98],\n",
       "         ...,\n",
       "         [ 68,  75,  73],\n",
       "         [ 70,  76,  75],\n",
       "         [ 78,  84,  82]],\n",
       "\n",
       "        [[106, 113, 105],\n",
       "         [ 99, 106,  98],\n",
       "         [ 95, 102,  94],\n",
       "         ...,\n",
       "         [ 78,  85,  83],\n",
       "         [ 79,  85,  83],\n",
       "         [ 80,  86,  84]]],\n",
       "\n",
       "\n",
       "       ...,\n",
       "\n",
       "\n",
       "       [[[ 35, 178, 235],\n",
       "         [ 40, 176, 239],\n",
       "         [ 42, 176, 241],\n",
       "         ...,\n",
       "         [ 99, 177, 219],\n",
       "         [ 79, 147, 197],\n",
       "         [ 89, 148, 189]],\n",
       "\n",
       "        [[ 57, 182, 234],\n",
       "         [ 44, 184, 250],\n",
       "         [ 50, 183, 240],\n",
       "         ...,\n",
       "         [156, 182, 200],\n",
       "         [141, 177, 206],\n",
       "         [116, 149, 175]],\n",
       "\n",
       "        [[ 98, 197, 237],\n",
       "         [ 64, 189, 252],\n",
       "         [ 69, 192, 245],\n",
       "         ...,\n",
       "         [188, 195, 206],\n",
       "         [119, 135, 147],\n",
       "         [ 61,  79,  90]],\n",
       "\n",
       "        ...,\n",
       "\n",
       "        [[ 73,  79,  77],\n",
       "         [ 53,  63,  68],\n",
       "         [ 54,  68,  80],\n",
       "         ...,\n",
       "         [ 17,  40,  64],\n",
       "         [ 21,  36,  51],\n",
       "         [ 33,  48,  49]],\n",
       "\n",
       "        [[ 61,  68,  75],\n",
       "         [ 55,  70,  86],\n",
       "         [ 57,  79, 103],\n",
       "         ...,\n",
       "         [ 24,  48,  72],\n",
       "         [ 17,  35,  53],\n",
       "         [  7,  23,  32]],\n",
       "\n",
       "        [[ 44,  56,  73],\n",
       "         [ 46,  66,  88],\n",
       "         [ 49,  77, 105],\n",
       "         ...,\n",
       "         [ 27,  52,  77],\n",
       "         [ 21,  43,  66],\n",
       "         [ 12,  31,  50]]],\n",
       "\n",
       "\n",
       "       [[[189, 211, 240],\n",
       "         [186, 208, 236],\n",
       "         [185, 207, 235],\n",
       "         ...,\n",
       "         [175, 195, 224],\n",
       "         [172, 194, 222],\n",
       "         [169, 194, 220]],\n",
       "\n",
       "        [[194, 210, 239],\n",
       "         [191, 207, 236],\n",
       "         [190, 206, 235],\n",
       "         ...,\n",
       "         [173, 192, 220],\n",
       "         [171, 191, 218],\n",
       "         [167, 190, 216]],\n",
       "\n",
       "        [[208, 219, 244],\n",
       "         [205, 216, 240],\n",
       "         [204, 215, 239],\n",
       "         ...,\n",
       "         [175, 191, 217],\n",
       "         [172, 190, 216],\n",
       "         [169, 191, 215]],\n",
       "\n",
       "        ...,\n",
       "\n",
       "        [[207, 199, 181],\n",
       "         [203, 195, 175],\n",
       "         [203, 196, 173],\n",
       "         ...,\n",
       "         [135, 132, 127],\n",
       "         [162, 158, 150],\n",
       "         [168, 163, 151]],\n",
       "\n",
       "        [[198, 190, 170],\n",
       "         [189, 181, 159],\n",
       "         [180, 172, 147],\n",
       "         ...,\n",
       "         [178, 171, 160],\n",
       "         [175, 169, 156],\n",
       "         [175, 169, 154]],\n",
       "\n",
       "        [[198, 189, 173],\n",
       "         [189, 181, 162],\n",
       "         [178, 170, 149],\n",
       "         ...,\n",
       "         [195, 184, 169],\n",
       "         [196, 189, 171],\n",
       "         [195, 190, 171]]],\n",
       "\n",
       "\n",
       "       [[[229, 229, 239],\n",
       "         [236, 237, 247],\n",
       "         [234, 236, 247],\n",
       "         ...,\n",
       "         [217, 219, 233],\n",
       "         [221, 223, 234],\n",
       "         [222, 223, 233]],\n",
       "\n",
       "        [[222, 221, 229],\n",
       "         [239, 239, 249],\n",
       "         [233, 234, 246],\n",
       "         ...,\n",
       "         [223, 223, 236],\n",
       "         [227, 228, 238],\n",
       "         [210, 211, 220]],\n",
       "\n",
       "        [[213, 206, 211],\n",
       "         [234, 232, 239],\n",
       "         [231, 233, 244],\n",
       "         ...,\n",
       "         [220, 220, 232],\n",
       "         [220, 219, 232],\n",
       "         [202, 203, 215]],\n",
       "\n",
       "        ...,\n",
       "\n",
       "        [[150, 143, 135],\n",
       "         [140, 135, 127],\n",
       "         [132, 127, 120],\n",
       "         ...,\n",
       "         [224, 222, 218],\n",
       "         [230, 228, 225],\n",
       "         [241, 241, 238]],\n",
       "\n",
       "        [[137, 132, 126],\n",
       "         [130, 127, 120],\n",
       "         [125, 121, 115],\n",
       "         ...,\n",
       "         [181, 180, 178],\n",
       "         [202, 201, 198],\n",
       "         [212, 211, 207]],\n",
       "\n",
       "        [[122, 119, 114],\n",
       "         [118, 116, 110],\n",
       "         [120, 116, 111],\n",
       "         ...,\n",
       "         [179, 177, 173],\n",
       "         [164, 164, 162],\n",
       "         [163, 163, 161]]]], dtype=uint8)"
      ]
     },
     "execution_count": 12,
     "metadata": {},
     "output_type": "execute_result"
    }
   ],
   "source": [
    "x_train"
   ]
  },
  {
   "cell_type": "code",
   "execution_count": 15,
   "id": "1e4559c2",
   "metadata": {},
   "outputs": [
    {
     "data": {
      "text/plain": [
       "<matplotlib.image.AxesImage at 0x1fa52ed5e20>"
      ]
     },
     "execution_count": 15,
     "metadata": {},
     "output_type": "execute_result"
    },
    {
     "data": {
      "image/png": "[encoded data removed]",
      "text/plain": [
       "<Figure size 432x288 with 1 Axes>"
      ]
     },
     "metadata": {
      "needs_background": "light"
     },
     "output_type": "display_data"
    }
   ],
   "source": [
    "plt.imshow(x_train[0],cmap='gray') # first image"
   ]
  },
  {
   "cell_type": "code",
   "execution_count": 16,
   "id": "f2f8d166",
   "metadata": {},
   "outputs": [
    {
     "data": {
      "text/plain": [
       "<matplotlib.image.AxesImage at 0x1fa53a652e0>"
      ]
     },
     "execution_count": 16,
     "metadata": {},
     "output_type": "execute_result"
    },
    {
     "data": {
      "image/png": "[encoded data removed]",
      "text/plain": [
       "<Figure size 432x288 with 1 Axes>"
      ]
     },
     "metadata": {
      "needs_background": "light"
     },
     "output_type": "display_data"
    }
   ],
   "source": [
    "plt.imshow(x_train[-1],cmap='gray') # last image"
   ]
  },
  {
   "cell_type": "markdown",
   "id": "7eb5e40c",
   "metadata": {},
   "source": [
    "### Normalize Data"
   ]
  },
  {
   "cell_type": "markdown",
   "id": "43214306",
   "metadata": {},
   "source": [
    "We know that the pixel values for each image in the dataset are unsigned integers in the range between no color and full color, or 0 and 255.<br>\n",
    "So to scale them we normalize the pixel values by rescaling them to the range [0,1]"
   ]
  },
  {
   "cell_type": "code",
   "execution_count": 17,
   "id": "b39bd01d",
   "metadata": {},
   "outputs": [],
   "source": [
    "x_train=x_train/255.0\n",
    "x_test=x_test/255.0"
   ]
  },
  {
   "cell_type": "code",
   "execution_count": 81,
   "id": "1193a388",
   "metadata": {
    "scrolled": true
   },
   "outputs": [
    {
     "data": {
      "text/plain": [
       "array([[[[0.23137255, 0.24313725, 0.24705882],\n",
       "         [0.16862745, 0.18039216, 0.17647059],\n",
       "         [0.19607843, 0.18823529, 0.16862745],\n",
       "         ...,\n",
       "         [0.61960784, 0.51764706, 0.42352941],\n",
       "         [0.59607843, 0.49019608, 0.4       ],\n",
       "         [0.58039216, 0.48627451, 0.40392157]],\n",
       "\n",
       "        [[0.0627451 , 0.07843137, 0.07843137],\n",
       "         [0.        , 0.        , 0.        ],\n",
       "         [0.07058824, 0.03137255, 0.        ],\n",
       "         ...,\n",
       "         [0.48235294, 0.34509804, 0.21568627],\n",
       "         [0.46666667, 0.3254902 , 0.19607843],\n",
       "         [0.47843137, 0.34117647, 0.22352941]],\n",
       "\n",
       "        [[0.09803922, 0.09411765, 0.08235294],\n",
       "         [0.0627451 , 0.02745098, 0.        ],\n",
       "         [0.19215686, 0.10588235, 0.03137255],\n",
       "         ...,\n",
       "         [0.4627451 , 0.32941176, 0.19607843],\n",
       "         [0.47058824, 0.32941176, 0.19607843],\n",
       "         [0.42745098, 0.28627451, 0.16470588]],\n",
       "\n",
       "        ...,\n",
       "\n",
       "        [[0.81568627, 0.66666667, 0.37647059],\n",
       "         [0.78823529, 0.6       , 0.13333333],\n",
       "         [0.77647059, 0.63137255, 0.10196078],\n",
       "         ...,\n",
       "         [0.62745098, 0.52156863, 0.2745098 ],\n",
       "         [0.21960784, 0.12156863, 0.02745098],\n",
       "         [0.20784314, 0.13333333, 0.07843137]],\n",
       "\n",
       "        [[0.70588235, 0.54509804, 0.37647059],\n",
       "         [0.67843137, 0.48235294, 0.16470588],\n",
       "         [0.72941176, 0.56470588, 0.11764706],\n",
       "         ...,\n",
       "         [0.72156863, 0.58039216, 0.36862745],\n",
       "         [0.38039216, 0.24313725, 0.13333333],\n",
       "         [0.3254902 , 0.20784314, 0.13333333]],\n",
       "\n",
       "        [[0.69411765, 0.56470588, 0.45490196],\n",
       "         [0.65882353, 0.50588235, 0.36862745],\n",
       "         [0.70196078, 0.55686275, 0.34117647],\n",
       "         ...,\n",
       "         [0.84705882, 0.72156863, 0.54901961],\n",
       "         [0.59215686, 0.4627451 , 0.32941176],\n",
       "         [0.48235294, 0.36078431, 0.28235294]]],\n",
       "\n",
       "\n",
       "       [[[0.60392157, 0.69411765, 0.73333333],\n",
       "         [0.49411765, 0.5372549 , 0.53333333],\n",
       "         [0.41176471, 0.40784314, 0.37254902],\n",
       "         ...,\n",
       "         [0.35686275, 0.37254902, 0.27843137],\n",
       "         [0.34117647, 0.35294118, 0.27843137],\n",
       "         [0.30980392, 0.31764706, 0.2745098 ]],\n",
       "\n",
       "        [[0.54901961, 0.62745098, 0.6627451 ],\n",
       "         [0.56862745, 0.6       , 0.60392157],\n",
       "         [0.49019608, 0.49019608, 0.4627451 ],\n",
       "         ...,\n",
       "         [0.37647059, 0.38823529, 0.30588235],\n",
       "         [0.30196078, 0.31372549, 0.24313725],\n",
       "         [0.27843137, 0.28627451, 0.23921569]],\n",
       "\n",
       "        [[0.54901961, 0.60784314, 0.64313725],\n",
       "         [0.54509804, 0.57254902, 0.58431373],\n",
       "         [0.45098039, 0.45098039, 0.43921569],\n",
       "         ...,\n",
       "         [0.30980392, 0.32156863, 0.25098039],\n",
       "         [0.26666667, 0.2745098 , 0.21568627],\n",
       "         [0.2627451 , 0.27058824, 0.21568627]],\n",
       "\n",
       "        ...,\n",
       "\n",
       "        [[0.68627451, 0.65490196, 0.65098039],\n",
       "         [0.61176471, 0.60392157, 0.62745098],\n",
       "         [0.60392157, 0.62745098, 0.66666667],\n",
       "         ...,\n",
       "         [0.16470588, 0.13333333, 0.14117647],\n",
       "         [0.23921569, 0.20784314, 0.22352941],\n",
       "         [0.36470588, 0.3254902 , 0.35686275]],\n",
       "\n",
       "        [[0.64705882, 0.60392157, 0.50196078],\n",
       "         [0.61176471, 0.59607843, 0.50980392],\n",
       "         [0.62352941, 0.63137255, 0.55686275],\n",
       "         ...,\n",
       "         [0.40392157, 0.36470588, 0.37647059],\n",
       "         [0.48235294, 0.44705882, 0.47058824],\n",
       "         [0.51372549, 0.4745098 , 0.51372549]],\n",
       "\n",
       "        [[0.63921569, 0.58039216, 0.47058824],\n",
       "         [0.61960784, 0.58039216, 0.47843137],\n",
       "         [0.63921569, 0.61176471, 0.52156863],\n",
       "         ...,\n",
       "         [0.56078431, 0.52156863, 0.54509804],\n",
       "         [0.56078431, 0.5254902 , 0.55686275],\n",
       "         [0.56078431, 0.52156863, 0.56470588]]],\n",
       "\n",
       "\n",
       "       [[[1.        , 1.        , 1.        ],\n",
       "         [0.99215686, 0.99215686, 0.99215686],\n",
       "         [0.99215686, 0.99215686, 0.99215686],\n",
       "         ...,\n",
       "         [0.99215686, 0.99215686, 0.99215686],\n",
       "         [0.99215686, 0.99215686, 0.99215686],\n",
       "         [0.99215686, 0.99215686, 0.99215686]],\n",
       "\n",
       "        [[1.        , 1.        , 1.        ],\n",
       "         [1.        , 1.        , 1.        ],\n",
       "         [1.        , 1.        , 1.        ],\n",
       "         ...,\n",
       "         [1.        , 1.        , 1.        ],\n",
       "         [1.        , 1.        , 1.        ],\n",
       "         [1.        , 1.        , 1.        ]],\n",
       "\n",
       "        [[1.        , 1.        , 1.        ],\n",
       "         [0.99607843, 0.99607843, 0.99607843],\n",
       "         [0.99607843, 0.99607843, 0.99607843],\n",
       "         ...,\n",
       "         [0.99607843, 0.99607843, 0.99607843],\n",
       "         [0.99607843, 0.99607843, 0.99607843],\n",
       "         [0.99607843, 0.99607843, 0.99607843]],\n",
       "\n",
       "        ...,\n",
       "\n",
       "        [[0.44313725, 0.47058824, 0.43921569],\n",
       "         [0.43529412, 0.4627451 , 0.43529412],\n",
       "         [0.41176471, 0.43921569, 0.41568627],\n",
       "         ...,\n",
       "         [0.28235294, 0.31764706, 0.31372549],\n",
       "         [0.28235294, 0.31372549, 0.30980392],\n",
       "         [0.28235294, 0.31372549, 0.30980392]],\n",
       "\n",
       "        [[0.43529412, 0.4627451 , 0.43137255],\n",
       "         [0.40784314, 0.43529412, 0.40784314],\n",
       "         [0.38823529, 0.41568627, 0.38431373],\n",
       "         ...,\n",
       "         [0.26666667, 0.29411765, 0.28627451],\n",
       "         [0.2745098 , 0.29803922, 0.29411765],\n",
       "         [0.30588235, 0.32941176, 0.32156863]],\n",
       "\n",
       "        [[0.41568627, 0.44313725, 0.41176471],\n",
       "         [0.38823529, 0.41568627, 0.38431373],\n",
       "         [0.37254902, 0.4       , 0.36862745],\n",
       "         ...,\n",
       "         [0.30588235, 0.33333333, 0.3254902 ],\n",
       "         [0.30980392, 0.33333333, 0.3254902 ],\n",
       "         [0.31372549, 0.3372549 , 0.32941176]]],\n",
       "\n",
       "\n",
       "       ...,\n",
       "\n",
       "\n",
       "       [[[0.1372549 , 0.69803922, 0.92156863],\n",
       "         [0.15686275, 0.69019608, 0.9372549 ],\n",
       "         [0.16470588, 0.69019608, 0.94509804],\n",
       "         ...,\n",
       "         [0.38823529, 0.69411765, 0.85882353],\n",
       "         [0.30980392, 0.57647059, 0.77254902],\n",
       "         [0.34901961, 0.58039216, 0.74117647]],\n",
       "\n",
       "        [[0.22352941, 0.71372549, 0.91764706],\n",
       "         [0.17254902, 0.72156863, 0.98039216],\n",
       "         [0.19607843, 0.71764706, 0.94117647],\n",
       "         ...,\n",
       "         [0.61176471, 0.71372549, 0.78431373],\n",
       "         [0.55294118, 0.69411765, 0.80784314],\n",
       "         [0.45490196, 0.58431373, 0.68627451]],\n",
       "\n",
       "        [[0.38431373, 0.77254902, 0.92941176],\n",
       "         [0.25098039, 0.74117647, 0.98823529],\n",
       "         [0.27058824, 0.75294118, 0.96078431],\n",
       "         ...,\n",
       "         [0.7372549 , 0.76470588, 0.80784314],\n",
       "         [0.46666667, 0.52941176, 0.57647059],\n",
       "         [0.23921569, 0.30980392, 0.35294118]],\n",
       "\n",
       "        ...,\n",
       "\n",
       "        [[0.28627451, 0.30980392, 0.30196078],\n",
       "         [0.20784314, 0.24705882, 0.26666667],\n",
       "         [0.21176471, 0.26666667, 0.31372549],\n",
       "         ...,\n",
       "         [0.06666667, 0.15686275, 0.25098039],\n",
       "         [0.08235294, 0.14117647, 0.2       ],\n",
       "         [0.12941176, 0.18823529, 0.19215686]],\n",
       "\n",
       "        [[0.23921569, 0.26666667, 0.29411765],\n",
       "         [0.21568627, 0.2745098 , 0.3372549 ],\n",
       "         [0.22352941, 0.30980392, 0.40392157],\n",
       "         ...,\n",
       "         [0.09411765, 0.18823529, 0.28235294],\n",
       "         [0.06666667, 0.1372549 , 0.20784314],\n",
       "         [0.02745098, 0.09019608, 0.1254902 ]],\n",
       "\n",
       "        [[0.17254902, 0.21960784, 0.28627451],\n",
       "         [0.18039216, 0.25882353, 0.34509804],\n",
       "         [0.19215686, 0.30196078, 0.41176471],\n",
       "         ...,\n",
       "         [0.10588235, 0.20392157, 0.30196078],\n",
       "         [0.08235294, 0.16862745, 0.25882353],\n",
       "         [0.04705882, 0.12156863, 0.19607843]]],\n",
       "\n",
       "\n",
       "       [[[0.74117647, 0.82745098, 0.94117647],\n",
       "         [0.72941176, 0.81568627, 0.9254902 ],\n",
       "         [0.7254902 , 0.81176471, 0.92156863],\n",
       "         ...,\n",
       "         [0.68627451, 0.76470588, 0.87843137],\n",
       "         [0.6745098 , 0.76078431, 0.87058824],\n",
       "         [0.6627451 , 0.76078431, 0.8627451 ]],\n",
       "\n",
       "        [[0.76078431, 0.82352941, 0.9372549 ],\n",
       "         [0.74901961, 0.81176471, 0.9254902 ],\n",
       "         [0.74509804, 0.80784314, 0.92156863],\n",
       "         ...,\n",
       "         [0.67843137, 0.75294118, 0.8627451 ],\n",
       "         [0.67058824, 0.74901961, 0.85490196],\n",
       "         [0.65490196, 0.74509804, 0.84705882]],\n",
       "\n",
       "        [[0.81568627, 0.85882353, 0.95686275],\n",
       "         [0.80392157, 0.84705882, 0.94117647],\n",
       "         [0.8       , 0.84313725, 0.9372549 ],\n",
       "         ...,\n",
       "         [0.68627451, 0.74901961, 0.85098039],\n",
       "         [0.6745098 , 0.74509804, 0.84705882],\n",
       "         [0.6627451 , 0.74901961, 0.84313725]],\n",
       "\n",
       "        ...,\n",
       "\n",
       "        [[0.81176471, 0.78039216, 0.70980392],\n",
       "         [0.79607843, 0.76470588, 0.68627451],\n",
       "         [0.79607843, 0.76862745, 0.67843137],\n",
       "         ...,\n",
       "         [0.52941176, 0.51764706, 0.49803922],\n",
       "         [0.63529412, 0.61960784, 0.58823529],\n",
       "         [0.65882353, 0.63921569, 0.59215686]],\n",
       "\n",
       "        [[0.77647059, 0.74509804, 0.66666667],\n",
       "         [0.74117647, 0.70980392, 0.62352941],\n",
       "         [0.70588235, 0.6745098 , 0.57647059],\n",
       "         ...,\n",
       "         [0.69803922, 0.67058824, 0.62745098],\n",
       "         [0.68627451, 0.6627451 , 0.61176471],\n",
       "         [0.68627451, 0.6627451 , 0.60392157]],\n",
       "\n",
       "        [[0.77647059, 0.74117647, 0.67843137],\n",
       "         [0.74117647, 0.70980392, 0.63529412],\n",
       "         [0.69803922, 0.66666667, 0.58431373],\n",
       "         ...,\n",
       "         [0.76470588, 0.72156863, 0.6627451 ],\n",
       "         [0.76862745, 0.74117647, 0.67058824],\n",
       "         [0.76470588, 0.74509804, 0.67058824]]],\n",
       "\n",
       "\n",
       "       [[[0.89803922, 0.89803922, 0.9372549 ],\n",
       "         [0.9254902 , 0.92941176, 0.96862745],\n",
       "         [0.91764706, 0.9254902 , 0.96862745],\n",
       "         ...,\n",
       "         [0.85098039, 0.85882353, 0.91372549],\n",
       "         [0.86666667, 0.8745098 , 0.91764706],\n",
       "         [0.87058824, 0.8745098 , 0.91372549]],\n",
       "\n",
       "        [[0.87058824, 0.86666667, 0.89803922],\n",
       "         [0.9372549 , 0.9372549 , 0.97647059],\n",
       "         [0.91372549, 0.91764706, 0.96470588],\n",
       "         ...,\n",
       "         [0.8745098 , 0.8745098 , 0.9254902 ],\n",
       "         [0.89019608, 0.89411765, 0.93333333],\n",
       "         [0.82352941, 0.82745098, 0.8627451 ]],\n",
       "\n",
       "        [[0.83529412, 0.80784314, 0.82745098],\n",
       "         [0.91764706, 0.90980392, 0.9372549 ],\n",
       "         [0.90588235, 0.91372549, 0.95686275],\n",
       "         ...,\n",
       "         [0.8627451 , 0.8627451 , 0.90980392],\n",
       "         [0.8627451 , 0.85882353, 0.90980392],\n",
       "         [0.79215686, 0.79607843, 0.84313725]],\n",
       "\n",
       "        ...,\n",
       "\n",
       "        [[0.58823529, 0.56078431, 0.52941176],\n",
       "         [0.54901961, 0.52941176, 0.49803922],\n",
       "         [0.51764706, 0.49803922, 0.47058824],\n",
       "         ...,\n",
       "         [0.87843137, 0.87058824, 0.85490196],\n",
       "         [0.90196078, 0.89411765, 0.88235294],\n",
       "         [0.94509804, 0.94509804, 0.93333333]],\n",
       "\n",
       "        [[0.5372549 , 0.51764706, 0.49411765],\n",
       "         [0.50980392, 0.49803922, 0.47058824],\n",
       "         [0.49019608, 0.4745098 , 0.45098039],\n",
       "         ...,\n",
       "         [0.70980392, 0.70588235, 0.69803922],\n",
       "         [0.79215686, 0.78823529, 0.77647059],\n",
       "         [0.83137255, 0.82745098, 0.81176471]],\n",
       "\n",
       "        [[0.47843137, 0.46666667, 0.44705882],\n",
       "         [0.4627451 , 0.45490196, 0.43137255],\n",
       "         [0.47058824, 0.45490196, 0.43529412],\n",
       "         ...,\n",
       "         [0.70196078, 0.69411765, 0.67843137],\n",
       "         [0.64313725, 0.64313725, 0.63529412],\n",
       "         [0.63921569, 0.63921569, 0.63137255]]]])"
      ]
     },
     "execution_count": 81,
     "metadata": {},
     "output_type": "execute_result"
    }
   ],
   "source": [
    "x_train"
   ]
  },
  {
   "cell_type": "markdown",
   "id": "f3200bcb",
   "metadata": {},
   "source": [
    "### Convolutional Neural Netwroks - CNN"
   ]
  },
  {
   "cell_type": "markdown",
   "id": "8c6fb9a8",
   "metadata": {},
   "source": [
    "VGG (Visual Geometry Group) models : The architecture involves stacking convolutional layers with small 3×3 filters followed by a max pooling layer. We will first try a basic Model with 1 , 2 and 3 blocks<br>\n",
    "Moreover, it is now still one of the most popular image recognition architectures.<br>\n",
    "ReLU stands for rectified linear unit activation function; it is a piecewise linear function that will output the input if positive; otherwise, the output is zero"
   ]
  },
  {
   "cell_type": "markdown",
   "id": "9657899e",
   "metadata": {},
   "source": [
    "### Basic Model"
   ]
  },
  {
   "cell_type": "code",
   "execution_count": 93,
   "id": "c2c4197b",
   "metadata": {},
   "outputs": [],
   "source": [
    "#Basic Model - 1-block VGG\n",
    "model=Sequential()\n",
    "model.add(InputLayer(input_shape=(32,32,3)))\n",
    "model.add(Reshape(target_shape=(32,32,3)))\n",
    "model.add(Conv2D(filters=12,kernel_size=(3,3),activation='relu'))\n",
    "model.add(Conv2D(filters=12,kernel_size=(3,3),activation='relu'))\n",
    "model.add(MaxPooling2D(pool_size=(2,2)))\n",
    "model.add(Flatten())\n",
    "model.add(Dense(10)) #The dense has to be 10 because we have 10 classes in our dataset"
   ]
  },
  {
   "cell_type": "code",
   "execution_count": 94,
   "id": "7cc56249",
   "metadata": {},
   "outputs": [],
   "source": [
    "model.compile(loss=tf.keras.losses.SparseCategoricalCrossentropy(from_logits=True),optimizer=\"adam\",metrics=\"accuracy\")"
   ]
  },
  {
   "cell_type": "code",
   "execution_count": 95,
   "id": "ba919501",
   "metadata": {
    "collapsed": true
   },
   "outputs": [
    {
     "name": "stdout",
     "output_type": "stream",
     "text": [
      "Epoch 1/30\n",
      "1407/1407 [==============================] - 10s 7ms/step - loss: 1.5381 - accuracy: 0.4520 - val_loss: 1.2837 - val_accuracy: 0.5522\n",
      "Epoch 2/30\n",
      "1407/1407 [==============================] - 9s 7ms/step - loss: 1.2264 - accuracy: 0.5716 - val_loss: 1.1841 - val_accuracy: 0.5874\n",
      "Epoch 3/30\n",
      "1407/1407 [==============================] - 9s 7ms/step - loss: 1.1191 - accuracy: 0.6110 - val_loss: 1.1358 - val_accuracy: 0.6034\n",
      "Epoch 4/30\n",
      "1407/1407 [==============================] - 10s 7ms/step - loss: 1.0593 - accuracy: 0.6316 - val_loss: 1.1006 - val_accuracy: 0.6236\n",
      "Epoch 5/30\n",
      "1407/1407 [==============================] - 10s 7ms/step - loss: 1.0114 - accuracy: 0.6495 - val_loss: 1.0520 - val_accuracy: 0.6368\n",
      "Epoch 6/30\n",
      "1407/1407 [==============================] - 10s 7ms/step - loss: 0.9768 - accuracy: 0.6602 - val_loss: 1.0436 - val_accuracy: 0.6398\n",
      "Epoch 7/30\n",
      "1407/1407 [==============================] - 9s 7ms/step - loss: 0.9464 - accuracy: 0.6710 - val_loss: 1.0392 - val_accuracy: 0.6356\n",
      "Epoch 8/30\n",
      "1407/1407 [==============================] - 9s 7ms/step - loss: 0.9284 - accuracy: 0.6777 - val_loss: 1.0517 - val_accuracy: 0.6362\n",
      "Epoch 9/30\n",
      "1407/1407 [==============================] - 9s 7ms/step - loss: 0.9102 - accuracy: 0.6837 - val_loss: 1.0894 - val_accuracy: 0.6300\n",
      "Epoch 10/30\n",
      "1407/1407 [==============================] - 9s 7ms/step - loss: 0.8913 - accuracy: 0.6901 - val_loss: 1.0690 - val_accuracy: 0.6376\n",
      "Epoch 11/30\n",
      "1407/1407 [==============================] - 9s 7ms/step - loss: 0.8774 - accuracy: 0.6938 - val_loss: 1.0803 - val_accuracy: 0.6400\n",
      "Epoch 12/30\n",
      "1407/1407 [==============================] - 9s 7ms/step - loss: 0.8647 - accuracy: 0.7006 - val_loss: 1.0405 - val_accuracy: 0.6460\n",
      "Epoch 13/30\n",
      "1407/1407 [==============================] - 9s 7ms/step - loss: 0.8502 - accuracy: 0.7041 - val_loss: 1.0726 - val_accuracy: 0.6400\n",
      "Epoch 14/30\n",
      "1407/1407 [==============================] - 9s 7ms/step - loss: 0.8410 - accuracy: 0.7061 - val_loss: 1.0440 - val_accuracy: 0.6430\n",
      "Epoch 15/30\n",
      "1407/1407 [==============================] - 9s 7ms/step - loss: 0.8323 - accuracy: 0.7085 - val_loss: 1.1084 - val_accuracy: 0.6294\n",
      "Epoch 16/30\n",
      "1407/1407 [==============================] - 10s 7ms/step - loss: 0.8237 - accuracy: 0.7111 - val_loss: 1.0750 - val_accuracy: 0.6398\n",
      "Epoch 17/30\n",
      "1407/1407 [==============================] - 9s 7ms/step - loss: 0.8120 - accuracy: 0.7154 - val_loss: 1.1081 - val_accuracy: 0.6314\n",
      "Epoch 18/30\n",
      "1407/1407 [==============================] - 9s 7ms/step - loss: 0.8044 - accuracy: 0.7179 - val_loss: 1.0892 - val_accuracy: 0.6364\n",
      "Epoch 19/30\n",
      "1407/1407 [==============================] - 9s 7ms/step - loss: 0.7967 - accuracy: 0.7217 - val_loss: 1.1041 - val_accuracy: 0.6346\n",
      "Epoch 20/30\n",
      "1407/1407 [==============================] - 10s 7ms/step - loss: 0.7957 - accuracy: 0.7219 - val_loss: 1.1104 - val_accuracy: 0.6352\n",
      "Epoch 21/30\n",
      "1407/1407 [==============================] - 11s 7ms/step - loss: 0.7859 - accuracy: 0.7251 - val_loss: 1.1364 - val_accuracy: 0.6214\n",
      "Epoch 22/30\n",
      "1407/1407 [==============================] - 11s 7ms/step - loss: 0.7777 - accuracy: 0.7265 - val_loss: 1.1621 - val_accuracy: 0.6234\n",
      "Epoch 23/30\n",
      "1407/1407 [==============================] - 11s 8ms/step - loss: 0.7755 - accuracy: 0.7272 - val_loss: 1.1473 - val_accuracy: 0.6208\n",
      "Epoch 24/30\n",
      "1407/1407 [==============================] - 11s 8ms/step - loss: 0.7696 - accuracy: 0.7293 - val_loss: 1.1577 - val_accuracy: 0.6246\n",
      "Epoch 25/30\n",
      "1407/1407 [==============================] - 11s 8ms/step - loss: 0.7651 - accuracy: 0.7331 - val_loss: 1.1714 - val_accuracy: 0.6144\n",
      "Epoch 26/30\n",
      "1407/1407 [==============================] - 11s 8ms/step - loss: 0.7606 - accuracy: 0.7321 - val_loss: 1.1594 - val_accuracy: 0.6262\n",
      "Epoch 27/30\n",
      "1407/1407 [==============================] - 11s 8ms/step - loss: 0.7573 - accuracy: 0.7344 - val_loss: 1.1295 - val_accuracy: 0.6290\n",
      "Epoch 28/30\n",
      "1407/1407 [==============================] - 11s 8ms/step - loss: 0.7500 - accuracy: 0.7370 - val_loss: 1.1591 - val_accuracy: 0.6214\n",
      "Epoch 29/30\n",
      "1407/1407 [==============================] - 11s 8ms/step - loss: 0.7487 - accuracy: 0.7370 - val_loss: 1.1620 - val_accuracy: 0.6258\n",
      "Epoch 30/30\n",
      "1407/1407 [==============================] - 11s 8ms/step - loss: 0.7430 - accuracy: 0.7409 - val_loss: 1.1682 - val_accuracy: 0.6264\n"
     ]
    },
    {
     "data": {
      "text/plain": [
       "<keras.callbacks.History at 0x1fab95470a0>"
      ]
     },
     "execution_count": 95,
     "metadata": {},
     "output_type": "execute_result"
    }
   ],
   "source": [
    "model.fit(x_train,y_train,validation_split=0.10,epochs=30)"
   ]
  },
  {
   "cell_type": "code",
   "execution_count": 96,
   "id": "d27292e6",
   "metadata": {},
   "outputs": [
    {
     "name": "stdout",
     "output_type": "stream",
     "text": [
      "313/313 [==============================] - 1s 2ms/step - loss: 1.1737 - accuracy: 0.6221\n"
     ]
    }
   ],
   "source": [
    "_,accuracy=model.evaluate(x_test,y_test)\n",
    "#_ hata göstreyiro , evaluate deyine 1. loss 2. accuracy, _, yapmak la 1. skip yaptik"
   ]
  },
  {
   "cell_type": "code",
   "execution_count": 97,
   "id": "38ba3c25",
   "metadata": {},
   "outputs": [
    {
     "data": {
      "text/plain": [
       "1.1737327575683594"
      ]
     },
     "execution_count": 97,
     "metadata": {},
     "output_type": "execute_result"
    }
   ],
   "source": [
    "_"
   ]
  },
  {
   "cell_type": "code",
   "execution_count": 104,
   "id": "4bb5c305",
   "metadata": {},
   "outputs": [],
   "source": [
    "#Basic Model with 2 VGG blocks\n",
    "model=Sequential()\n",
    "model.add(InputLayer(input_shape=(32,32,3)))\n",
    "model.add(Reshape(target_shape=(32,32,3)))\n",
    "model.add(Conv2D(filters=12,kernel_size=(3,3),activation='relu'))\n",
    "model.add(Conv2D(filters=12,kernel_size=(3,3),activation='relu'))\n",
    "model.add(MaxPooling2D(pool_size=(2,2)))\n",
    "model.add(Conv2D(filters=32,kernel_size=(3,3),activation='relu')) #added a second block\n",
    "model.add(Conv2D(filters=32,kernel_size=(3,3),activation='relu'))\n",
    "model.add(MaxPooling2D(pool_size=(2,2)))\n",
    "model.add(Flatten())\n",
    "model.add(Dense(10))"
   ]
  },
  {
   "cell_type": "code",
   "execution_count": 99,
   "id": "c2fc8aa7",
   "metadata": {},
   "outputs": [],
   "source": [
    "model.compile(loss=tf.keras.losses.SparseCategoricalCrossentropy(from_logits=True),optimizer=\"adam\",metrics=\"accuracy\")"
   ]
  },
  {
   "cell_type": "code",
   "execution_count": 100,
   "id": "da754d33",
   "metadata": {
    "collapsed": true
   },
   "outputs": [
    {
     "name": "stdout",
     "output_type": "stream",
     "text": [
      "Epoch 1/30\n",
      "1407/1407 [==============================] - 18s 12ms/step - loss: 1.6189 - accuracy: 0.4105 - val_loss: 1.3642 - val_accuracy: 0.5100\n",
      "Epoch 2/30\n",
      "1407/1407 [==============================] - 17s 12ms/step - loss: 1.2973 - accuracy: 0.5397 - val_loss: 1.1749 - val_accuracy: 0.5870\n",
      "Epoch 3/30\n",
      "1407/1407 [==============================] - 17s 12ms/step - loss: 1.1513 - accuracy: 0.5993 - val_loss: 1.1064 - val_accuracy: 0.6148\n",
      "Epoch 4/30\n",
      "1407/1407 [==============================] - 17s 12ms/step - loss: 1.0653 - accuracy: 0.6301 - val_loss: 1.0729 - val_accuracy: 0.6206\n",
      "Epoch 5/30\n",
      "1407/1407 [==============================] - 16s 12ms/step - loss: 1.0047 - accuracy: 0.6488 - val_loss: 0.9926 - val_accuracy: 0.6454\n",
      "Epoch 6/30\n",
      "1407/1407 [==============================] - 16s 12ms/step - loss: 0.9595 - accuracy: 0.6669 - val_loss: 0.9565 - val_accuracy: 0.6696\n",
      "Epoch 7/30\n",
      "1407/1407 [==============================] - 17s 12ms/step - loss: 0.9195 - accuracy: 0.6800 - val_loss: 0.9116 - val_accuracy: 0.6818\n",
      "Epoch 8/30\n",
      "1407/1407 [==============================] - 16s 11ms/step - loss: 0.8854 - accuracy: 0.6916 - val_loss: 0.9315 - val_accuracy: 0.6774\n",
      "Epoch 9/30\n",
      "1407/1407 [==============================] - 15s 11ms/step - loss: 0.8547 - accuracy: 0.7020 - val_loss: 0.8676 - val_accuracy: 0.7030\n",
      "Epoch 10/30\n",
      "1407/1407 [==============================] - 15s 11ms/step - loss: 0.8282 - accuracy: 0.7122 - val_loss: 0.8828 - val_accuracy: 0.6934\n",
      "Epoch 11/30\n",
      "1407/1407 [==============================] - 15s 11ms/step - loss: 0.8074 - accuracy: 0.7212 - val_loss: 0.8637 - val_accuracy: 0.7028\n",
      "Epoch 12/30\n",
      "1407/1407 [==============================] - 15s 11ms/step - loss: 0.7840 - accuracy: 0.7254 - val_loss: 0.8936 - val_accuracy: 0.6928\n",
      "Epoch 13/30\n",
      "1407/1407 [==============================] - 15s 11ms/step - loss: 0.7646 - accuracy: 0.7335 - val_loss: 0.8535 - val_accuracy: 0.7084\n",
      "Epoch 14/30\n",
      "1407/1407 [==============================] - 15s 11ms/step - loss: 0.7462 - accuracy: 0.7395 - val_loss: 0.9039 - val_accuracy: 0.6966\n",
      "Epoch 15/30\n",
      "1407/1407 [==============================] - 15s 11ms/step - loss: 0.7340 - accuracy: 0.7443 - val_loss: 0.8493 - val_accuracy: 0.7004\n",
      "Epoch 16/30\n",
      "1407/1407 [==============================] - 15s 11ms/step - loss: 0.7155 - accuracy: 0.7502 - val_loss: 0.8536 - val_accuracy: 0.7096\n",
      "Epoch 17/30\n",
      "1407/1407 [==============================] - 15s 11ms/step - loss: 0.6998 - accuracy: 0.7554 - val_loss: 0.8691 - val_accuracy: 0.7040\n",
      "Epoch 18/30\n",
      "1407/1407 [==============================] - 15s 11ms/step - loss: 0.6876 - accuracy: 0.7581 - val_loss: 0.8721 - val_accuracy: 0.7080\n",
      "Epoch 19/30\n",
      "1407/1407 [==============================] - 15s 11ms/step - loss: 0.6760 - accuracy: 0.7646 - val_loss: 0.8876 - val_accuracy: 0.7058\n",
      "Epoch 20/30\n",
      "1407/1407 [==============================] - 15s 11ms/step - loss: 0.6637 - accuracy: 0.7682 - val_loss: 0.8846 - val_accuracy: 0.6980\n",
      "Epoch 21/30\n",
      "1407/1407 [==============================] - 15s 11ms/step - loss: 0.6561 - accuracy: 0.7714 - val_loss: 0.8599 - val_accuracy: 0.7162\n",
      "Epoch 22/30\n",
      "1407/1407 [==============================] - 15s 11ms/step - loss: 0.6453 - accuracy: 0.7760 - val_loss: 0.8520 - val_accuracy: 0.7168\n",
      "Epoch 23/30\n",
      "1407/1407 [==============================] - 14s 10ms/step - loss: 0.6363 - accuracy: 0.7760 - val_loss: 0.8670 - val_accuracy: 0.7110\n",
      "Epoch 24/30\n",
      "1407/1407 [==============================] - 14s 10ms/step - loss: 0.6262 - accuracy: 0.7808 - val_loss: 0.8731 - val_accuracy: 0.7124\n",
      "Epoch 25/30\n",
      "1407/1407 [==============================] - 14s 10ms/step - loss: 0.6181 - accuracy: 0.7834 - val_loss: 0.9278 - val_accuracy: 0.6974\n",
      "Epoch 26/30\n",
      "1407/1407 [==============================] - 14s 10ms/step - loss: 0.6094 - accuracy: 0.7860 - val_loss: 0.8783 - val_accuracy: 0.7114\n",
      "Epoch 27/30\n",
      "1407/1407 [==============================] - 14s 10ms/step - loss: 0.5972 - accuracy: 0.7904 - val_loss: 0.8796 - val_accuracy: 0.7168\n",
      "Epoch 28/30\n",
      "1407/1407 [==============================] - 14s 10ms/step - loss: 0.5969 - accuracy: 0.7901 - val_loss: 0.9020 - val_accuracy: 0.7116\n",
      "Epoch 29/30\n",
      "1407/1407 [==============================] - 14s 10ms/step - loss: 0.5874 - accuracy: 0.7915 - val_loss: 0.9197 - val_accuracy: 0.7036\n",
      "Epoch 30/30\n",
      "1407/1407 [==============================] - 14s 10ms/step - loss: 0.5828 - accuracy: 0.7949 - val_loss: 0.9191 - val_accuracy: 0.7086\n"
     ]
    },
    {
     "data": {
      "text/plain": [
       "<keras.callbacks.History at 0x1fab98c2e50>"
      ]
     },
     "execution_count": 100,
     "metadata": {},
     "output_type": "execute_result"
    }
   ],
   "source": [
    "model.fit(x_train,y_train,validation_split=0.10,epochs=30)"
   ]
  },
  {
   "cell_type": "code",
   "execution_count": 101,
   "id": "a25787e1",
   "metadata": {},
   "outputs": [
    {
     "name": "stdout",
     "output_type": "stream",
     "text": [
      "313/313 [==============================] - 1s 3ms/step - loss: 0.9745 - accuracy: 0.6934\n"
     ]
    }
   ],
   "source": [
    "_,accuracy=model.evaluate(x_test,y_test)"
   ]
  },
  {
   "cell_type": "markdown",
   "id": "ad9f260f",
   "metadata": {},
   "source": [
    "<font color=darkgreen>**Results for basic Models:**<br></font>\n",
    "Basic Model with **1-block VGG: 62%**<br>\n",
    "Basic Model with **2-block VGG: 69%**<br>\n",
    "Basic Model with **3-block VGG: Error on my hand..**<br>\n",
    "We can see that our results are better with 2-block VGG's<br>\n",
    "(I tried to run a 3-block VGG but it showed me an error which I couldn't solve with googling)"
   ]
  },
  {
   "cell_type": "markdown",
   "id": "e100db58",
   "metadata": {},
   "source": [
    "### Develop a model with Regularization for improvement"
   ]
  },
  {
   "cell_type": "markdown",
   "id": "5350667a",
   "metadata": {},
   "source": [
    "We will try 3 different Regularitaion methods with our 2-base VGG model:<br>\n",
    "Dropout, Weight Decay and Data Augmentation"
   ]
  },
  {
   "cell_type": "markdown",
   "id": "cf7a2f76",
   "metadata": {},
   "source": [
    "Try second model with Regularization techniques - **Dropout Regularization:**<br>\n",
    "Dropout is a simple technique that will randomly drop nodes out of the network. It has a regularizing effect as the remaining nodes must adapt to pick-up the slack of the removed nodes.<br>\n",
    "We use a fixed dropout rate of 20% (e.g. retain 80% of the nodes)"
   ]
  },
  {
   "cell_type": "code",
   "execution_count": 44,
   "id": "889a2eb2",
   "metadata": {},
   "outputs": [],
   "source": [
    "from keras.layers import Dropout"
   ]
  },
  {
   "cell_type": "code",
   "execution_count": 108,
   "id": "ba4c337f",
   "metadata": {},
   "outputs": [],
   "source": [
    "#Model with Dropout Regularization\n",
    "model2=Sequential()\n",
    "model2.add(InputLayer(input_shape=(32,32,3)))\n",
    "model2.add(Reshape(target_shape=(32,32,3)))\n",
    "model2.add(Conv2D(filters=12,kernel_size=(3,3),activation='relu'))\n",
    "model2.add(Conv2D(filters=12,kernel_size=(3,3),activation='relu'))\n",
    "model2.add(MaxPooling2D(pool_size=(2,2)))\n",
    "model2.add(Dropout(0.2)) # added Dropout Regularization\n",
    "model2.add(Conv2D(filters=32,kernel_size=(3,3),activation='relu'))\n",
    "model2.add(Conv2D(filters=32,kernel_size=(3,3),activation='relu'))\n",
    "model2.add(MaxPooling2D(pool_size=(2,2)))\n",
    "model2.add(Dropout(0.2))\n",
    "model2.add(Flatten())\n",
    "model2.add(Dense(10))"
   ]
  },
  {
   "cell_type": "code",
   "execution_count": 109,
   "id": "74410eed",
   "metadata": {},
   "outputs": [],
   "source": [
    "model2.compile(loss=tf.keras.losses.SparseCategoricalCrossentropy(from_logits=True),optimizer=\"adam\",metrics=\"accuracy\")"
   ]
  },
  {
   "cell_type": "code",
   "execution_count": 110,
   "id": "f4b99044",
   "metadata": {
    "collapsed": true
   },
   "outputs": [
    {
     "name": "stdout",
     "output_type": "stream",
     "text": [
      "Epoch 1/30\n",
      "1407/1407 [==============================] - 15s 11ms/step - loss: 1.6304 - accuracy: 0.4032 - val_loss: 1.3522 - val_accuracy: 0.5150\n",
      "Epoch 2/30\n",
      "1407/1407 [==============================] - 14s 10ms/step - loss: 1.3483 - accuracy: 0.5180 - val_loss: 1.1946 - val_accuracy: 0.5828\n",
      "Epoch 3/30\n",
      "1407/1407 [==============================] - 15s 10ms/step - loss: 1.2366 - accuracy: 0.5622 - val_loss: 1.1167 - val_accuracy: 0.6096\n",
      "Epoch 4/30\n",
      "1407/1407 [==============================] - 14s 10ms/step - loss: 1.1563 - accuracy: 0.5937 - val_loss: 1.0368 - val_accuracy: 0.6334\n",
      "Epoch 5/30\n",
      "1407/1407 [==============================] - 15s 11ms/step - loss: 1.0947 - accuracy: 0.6133 - val_loss: 0.9949 - val_accuracy: 0.6528\n",
      "Epoch 6/30\n",
      "1407/1407 [==============================] - 14s 10ms/step - loss: 1.0458 - accuracy: 0.6333 - val_loss: 0.9509 - val_accuracy: 0.6696\n",
      "Epoch 7/30\n",
      "1407/1407 [==============================] - 15s 11ms/step - loss: 1.0086 - accuracy: 0.6453 - val_loss: 0.9151 - val_accuracy: 0.6804\n",
      "Epoch 8/30\n",
      "1407/1407 [==============================] - 15s 10ms/step - loss: 0.9759 - accuracy: 0.6586 - val_loss: 0.8689 - val_accuracy: 0.7038\n",
      "Epoch 9/30\n",
      "1407/1407 [==============================] - 14s 10ms/step - loss: 0.9492 - accuracy: 0.6676 - val_loss: 0.8722 - val_accuracy: 0.6934\n",
      "Epoch 10/30\n",
      "1407/1407 [==============================] - 14s 10ms/step - loss: 0.9315 - accuracy: 0.6760 - val_loss: 0.8415 - val_accuracy: 0.7030\n",
      "Epoch 11/30\n",
      "1407/1407 [==============================] - 15s 10ms/step - loss: 0.9164 - accuracy: 0.6773 - val_loss: 0.8813 - val_accuracy: 0.6896\n",
      "Epoch 12/30\n",
      "1407/1407 [==============================] - 14s 10ms/step - loss: 0.8996 - accuracy: 0.6848 - val_loss: 0.8183 - val_accuracy: 0.7110\n",
      "Epoch 13/30\n",
      "1407/1407 [==============================] - 14s 10ms/step - loss: 0.8860 - accuracy: 0.6875 - val_loss: 0.8003 - val_accuracy: 0.7150\n",
      "Epoch 14/30\n",
      "1407/1407 [==============================] - 14s 10ms/step - loss: 0.8739 - accuracy: 0.6927 - val_loss: 0.8442 - val_accuracy: 0.7026\n",
      "Epoch 15/30\n",
      "1407/1407 [==============================] - 14s 10ms/step - loss: 0.8575 - accuracy: 0.6992 - val_loss: 0.8074 - val_accuracy: 0.7174\n",
      "Epoch 16/30\n",
      "1407/1407 [==============================] - 16s 11ms/step - loss: 0.8490 - accuracy: 0.7017 - val_loss: 0.8465 - val_accuracy: 0.7028\n",
      "Epoch 17/30\n",
      "1407/1407 [==============================] - 15s 11ms/step - loss: 0.8365 - accuracy: 0.7045 - val_loss: 0.7897 - val_accuracy: 0.7218\n",
      "Epoch 18/30\n",
      "1407/1407 [==============================] - 15s 11ms/step - loss: 0.8323 - accuracy: 0.7083 - val_loss: 0.7752 - val_accuracy: 0.7316\n",
      "Epoch 19/30\n",
      "1407/1407 [==============================] - 14s 10ms/step - loss: 0.8261 - accuracy: 0.7101 - val_loss: 0.7583 - val_accuracy: 0.7314\n",
      "Epoch 20/30\n",
      "1407/1407 [==============================] - 14s 10ms/step - loss: 0.8138 - accuracy: 0.7140 - val_loss: 0.7708 - val_accuracy: 0.7268\n",
      "Epoch 21/30\n",
      "1407/1407 [==============================] - 14s 10ms/step - loss: 0.8034 - accuracy: 0.7183 - val_loss: 0.7494 - val_accuracy: 0.7344\n",
      "Epoch 22/30\n",
      "1407/1407 [==============================] - 15s 11ms/step - loss: 0.8014 - accuracy: 0.7207 - val_loss: 0.7554 - val_accuracy: 0.7354\n",
      "Epoch 23/30\n",
      "1407/1407 [==============================] - 16s 11ms/step - loss: 0.7976 - accuracy: 0.7204 - val_loss: 0.7701 - val_accuracy: 0.7258\n",
      "Epoch 24/30\n",
      "1407/1407 [==============================] - 15s 11ms/step - loss: 0.7909 - accuracy: 0.7227 - val_loss: 0.7517 - val_accuracy: 0.7326\n",
      "Epoch 25/30\n",
      "1407/1407 [==============================] - 15s 11ms/step - loss: 0.7814 - accuracy: 0.7260 - val_loss: 0.7728 - val_accuracy: 0.7278\n",
      "Epoch 26/30\n",
      "1407/1407 [==============================] - 15s 11ms/step - loss: 0.7737 - accuracy: 0.7285 - val_loss: 0.7561 - val_accuracy: 0.7372\n",
      "Epoch 27/30\n",
      "1407/1407 [==============================] - 15s 11ms/step - loss: 0.7752 - accuracy: 0.7291 - val_loss: 0.7803 - val_accuracy: 0.7290\n",
      "Epoch 28/30\n",
      "1407/1407 [==============================] - 15s 11ms/step - loss: 0.7709 - accuracy: 0.7297 - val_loss: 0.7452 - val_accuracy: 0.7354\n",
      "Epoch 29/30\n",
      "1407/1407 [==============================] - 15s 11ms/step - loss: 0.7680 - accuracy: 0.7298 - val_loss: 0.7307 - val_accuracy: 0.7444\n",
      "Epoch 30/30\n",
      "1407/1407 [==============================] - 16s 11ms/step - loss: 0.7676 - accuracy: 0.7324 - val_loss: 0.7571 - val_accuracy: 0.7332\n"
     ]
    },
    {
     "data": {
      "text/plain": [
       "<keras.callbacks.History at 0x1fad1ec3a90>"
      ]
     },
     "execution_count": 110,
     "metadata": {},
     "output_type": "execute_result"
    }
   ],
   "source": [
    "model2.fit(x_train,y_train,validation_split=0.10,epochs=30)"
   ]
  },
  {
   "cell_type": "code",
   "execution_count": 111,
   "id": "30022eae",
   "metadata": {},
   "outputs": [
    {
     "name": "stdout",
     "output_type": "stream",
     "text": [
      "313/313 [==============================] - 1s 3ms/step - loss: 0.7924 - accuracy: 0.7276\n"
     ]
    }
   ],
   "source": [
    "_,accuracy=model2.evaluate(x_test,y_test)"
   ]
  },
  {
   "cell_type": "markdown",
   "id": "4cd4abe8",
   "metadata": {},
   "source": [
    "Our model with Dropout has an accuray of 73% where the model without Dropout has an accuracy of 69%<br>\n",
    "We can see that Dropout performed well in our  model"
   ]
  },
  {
   "cell_type": "markdown",
   "id": "e7434964",
   "metadata": {},
   "source": [
    "Try another Regularization technique - **Weight Decay**:<br>\n",
    "Weight regularization or weight decay involves updating the loss function to penalize the model in proportion to the size of the model weights.<br>\n",
    "This has a regularizing effect, as larger weights result in a more complex and less stable model, whereas smaller weights are often more stable and more general."
   ]
  },
  {
   "cell_type": "code",
   "execution_count": 70,
   "id": "04c24a17",
   "metadata": {},
   "outputs": [],
   "source": [
    "from keras.regularizers import l2"
   ]
  },
  {
   "cell_type": "markdown",
   "id": "499a671b",
   "metadata": {},
   "source": [
    "we will use _L2 weight regularization_, the most common type used for neural networks and a sensible default weighting of 0.001."
   ]
  },
  {
   "cell_type": "code",
   "execution_count": 112,
   "id": "50e72598",
   "metadata": {},
   "outputs": [],
   "source": [
    "#Model with Weight Decay\n",
    "model2=Sequential()\n",
    "model2.add(InputLayer(input_shape=(32,32,3)))\n",
    "model2.add(Reshape(target_shape=(32,32,3)))\n",
    "model2.add(Conv2D(filters=12,kernel_size=(3,3),activation='relu', kernel_regularizer=l2(0.001))) # added Weight Decay\n",
    "model2.add(Conv2D(filters=12,kernel_size=(3,3),activation='relu', kernel_regularizer=l2(0.001)))\n",
    "model2.add(MaxPooling2D(pool_size=(2,2)))\n",
    "model2.add(Conv2D(filters=32,kernel_size=(3,3),activation='relu', kernel_regularizer=l2(0.001)))\n",
    "model2.add(Conv2D(filters=32,kernel_size=(3,3),activation='relu', kernel_regularizer=l2(0.001)))\n",
    "model2.add(MaxPooling2D(pool_size=(2,2)))\n",
    "model2.add(Flatten())\n",
    "model2.add(Dense(10))"
   ]
  },
  {
   "cell_type": "code",
   "execution_count": 113,
   "id": "e82e8ac5",
   "metadata": {},
   "outputs": [],
   "source": [
    "model2.compile(loss=tf.keras.losses.SparseCategoricalCrossentropy(from_logits=True),optimizer=\"adam\",metrics=\"accuracy\")"
   ]
  },
  {
   "cell_type": "code",
   "execution_count": 114,
   "id": "a8da2d4c",
   "metadata": {
    "collapsed": true
   },
   "outputs": [
    {
     "name": "stdout",
     "output_type": "stream",
     "text": [
      "Epoch 1/30\n",
      "1407/1407 [==============================] - 16s 11ms/step - loss: 1.6716 - accuracy: 0.4104 - val_loss: 1.5171 - val_accuracy: 0.4758\n",
      "Epoch 2/30\n",
      "1407/1407 [==============================] - 14s 10ms/step - loss: 1.3890 - accuracy: 0.5253 - val_loss: 1.3232 - val_accuracy: 0.5580\n",
      "Epoch 3/30\n",
      "1407/1407 [==============================] - 14s 10ms/step - loss: 1.2554 - accuracy: 0.5787 - val_loss: 1.1769 - val_accuracy: 0.6154\n",
      "Epoch 4/30\n",
      "1407/1407 [==============================] - 14s 10ms/step - loss: 1.1661 - accuracy: 0.6167 - val_loss: 1.1193 - val_accuracy: 0.6402\n",
      "Epoch 5/30\n",
      "1407/1407 [==============================] - 14s 10ms/step - loss: 1.1021 - accuracy: 0.6428 - val_loss: 1.0957 - val_accuracy: 0.6452\n",
      "Epoch 6/30\n",
      "1407/1407 [==============================] - 14s 10ms/step - loss: 1.0588 - accuracy: 0.6589 - val_loss: 1.0812 - val_accuracy: 0.6526\n",
      "Epoch 7/30\n",
      "1407/1407 [==============================] - 15s 10ms/step - loss: 1.0214 - accuracy: 0.6742 - val_loss: 1.0493 - val_accuracy: 0.6720\n",
      "Epoch 8/30\n",
      "1407/1407 [==============================] - 15s 10ms/step - loss: 0.9923 - accuracy: 0.6830 - val_loss: 1.0335 - val_accuracy: 0.6786\n",
      "Epoch 9/30\n",
      "1407/1407 [==============================] - 14s 10ms/step - loss: 0.9687 - accuracy: 0.6921 - val_loss: 1.0148 - val_accuracy: 0.6808\n",
      "Epoch 10/30\n",
      "1407/1407 [==============================] - 14s 10ms/step - loss: 0.9511 - accuracy: 0.7006 - val_loss: 1.0235 - val_accuracy: 0.6724\n",
      "Epoch 11/30\n",
      "1407/1407 [==============================] - 15s 11ms/step - loss: 0.9267 - accuracy: 0.7091 - val_loss: 0.9987 - val_accuracy: 0.6860\n",
      "Epoch 12/30\n",
      "1407/1407 [==============================] - 15s 10ms/step - loss: 0.9152 - accuracy: 0.7138 - val_loss: 0.9731 - val_accuracy: 0.6994\n",
      "Epoch 13/30\n",
      "1407/1407 [==============================] - 14s 10ms/step - loss: 0.8966 - accuracy: 0.7209 - val_loss: 0.9615 - val_accuracy: 0.7086\n",
      "Epoch 14/30\n",
      "1407/1407 [==============================] - 14s 10ms/step - loss: 0.8838 - accuracy: 0.7261 - val_loss: 0.9252 - val_accuracy: 0.7144\n",
      "Epoch 15/30\n",
      "1407/1407 [==============================] - 15s 11ms/step - loss: 0.8736 - accuracy: 0.7318 - val_loss: 0.9280 - val_accuracy: 0.7092\n",
      "Epoch 16/30\n",
      "1407/1407 [==============================] - 14s 10ms/step - loss: 0.8581 - accuracy: 0.7388 - val_loss: 0.9434 - val_accuracy: 0.7050\n",
      "Epoch 17/30\n",
      "1407/1407 [==============================] - 15s 10ms/step - loss: 0.8562 - accuracy: 0.7370 - val_loss: 0.9664 - val_accuracy: 0.7014\n",
      "Epoch 18/30\n",
      "1407/1407 [==============================] - 14s 10ms/step - loss: 0.8434 - accuracy: 0.7434 - val_loss: 0.9134 - val_accuracy: 0.7198\n",
      "Epoch 19/30\n",
      "1407/1407 [==============================] - 15s 11ms/step - loss: 0.8335 - accuracy: 0.7474 - val_loss: 0.9389 - val_accuracy: 0.7134\n",
      "Epoch 20/30\n",
      "1407/1407 [==============================] - 15s 11ms/step - loss: 0.8327 - accuracy: 0.7442 - val_loss: 0.9507 - val_accuracy: 0.7056\n",
      "Epoch 21/30\n",
      "1407/1407 [==============================] - 15s 11ms/step - loss: 0.8267 - accuracy: 0.7490 - val_loss: 0.9520 - val_accuracy: 0.7062\n",
      "Epoch 22/30\n",
      "1407/1407 [==============================] - 14s 10ms/step - loss: 0.8169 - accuracy: 0.7515 - val_loss: 0.9468 - val_accuracy: 0.7048\n",
      "Epoch 23/30\n",
      "1407/1407 [==============================] - 14s 10ms/step - loss: 0.8100 - accuracy: 0.7546 - val_loss: 0.9349 - val_accuracy: 0.7220\n",
      "Epoch 24/30\n",
      "1407/1407 [==============================] - 14s 10ms/step - loss: 0.8107 - accuracy: 0.7547 - val_loss: 0.9297 - val_accuracy: 0.7136\n",
      "Epoch 25/30\n",
      "1407/1407 [==============================] - 15s 11ms/step - loss: 0.8026 - accuracy: 0.7575 - val_loss: 0.9374 - val_accuracy: 0.7130\n",
      "Epoch 26/30\n",
      "1407/1407 [==============================] - 15s 11ms/step - loss: 0.7950 - accuracy: 0.7617 - val_loss: 0.9390 - val_accuracy: 0.7138\n",
      "Epoch 27/30\n",
      "1407/1407 [==============================] - 15s 11ms/step - loss: 0.7967 - accuracy: 0.7603 - val_loss: 0.9421 - val_accuracy: 0.7148\n",
      "Epoch 28/30\n",
      "1407/1407 [==============================] - 15s 10ms/step - loss: 0.7896 - accuracy: 0.7618 - val_loss: 0.9830 - val_accuracy: 0.7052\n",
      "Epoch 29/30\n",
      "1407/1407 [==============================] - 14s 10ms/step - loss: 0.7848 - accuracy: 0.7641 - val_loss: 0.9341 - val_accuracy: 0.7148\n",
      "Epoch 30/30\n",
      "1407/1407 [==============================] - 15s 10ms/step - loss: 0.7840 - accuracy: 0.7650 - val_loss: 0.9857 - val_accuracy: 0.7086\n"
     ]
    },
    {
     "data": {
      "text/plain": [
       "<keras.callbacks.History at 0x1fadf2a7580>"
      ]
     },
     "execution_count": 114,
     "metadata": {},
     "output_type": "execute_result"
    }
   ],
   "source": [
    "model2.fit(x_train,y_train,validation_split=0.10,epochs=30)"
   ]
  },
  {
   "cell_type": "code",
   "execution_count": 85,
   "id": "9403eae3",
   "metadata": {},
   "outputs": [
    {
     "name": "stdout",
     "output_type": "stream",
     "text": [
      "313/313 [==============================] - 1s 2ms/step - loss: 1.0811 - accuracy: 0.6452\n"
     ]
    }
   ],
   "source": [
    "_,accuracy=model2.evaluate(x_test,y_test)"
   ]
  },
  {
   "cell_type": "markdown",
   "id": "b768dba0",
   "metadata": {},
   "source": [
    "Our model with Weight Decay has an accuray of 64,52%%, a worse perfomance then using Dropouts with 73%"
   ]
  },
  {
   "cell_type": "markdown",
   "id": "09ee51d7",
   "metadata": {},
   "source": [
    "Try **Data Augmentation**:<br>\n",
    "Data augmentation involves making copies of the examples in the training dataset with small random modifications.<br>\n",
    "It both expands the training dataset and allows the model to learn the same general features, although in a more generalized manner<br>"
   ]
  },
  {
   "cell_type": "code",
   "execution_count": 115,
   "id": "514257e4",
   "metadata": {},
   "outputs": [],
   "source": [
    "from keras.preprocessing.image import ImageDataGenerator"
   ]
  },
  {
   "cell_type": "markdown",
   "id": "d0222cf9",
   "metadata": {},
   "source": [
    "We will investigate the effect of simple augmentation on the baseline image, specifically horizontal flips and 10% shifts in the height and width of the image."
   ]
  },
  {
   "cell_type": "code",
   "execution_count": 121,
   "id": "3194dee2",
   "metadata": {},
   "outputs": [],
   "source": [
    "# create data generator\n",
    "datagen = ImageDataGenerator(width_shift_range=0.1, height_shift_range=0.1, horizontal_flip=True)\n",
    "# prepare iterator\n",
    "it_train = datagen.flow(x_train, y_train, batch_size=64)"
   ]
  },
  {
   "cell_type": "code",
   "execution_count": 122,
   "id": "ef711e94",
   "metadata": {},
   "outputs": [],
   "source": [
    "model2=Sequential()\n",
    "model2.add(InputLayer(input_shape=(32,32,3)))\n",
    "model2.add(Reshape(target_shape=(32,32,3)))\n",
    "model2.add(Conv2D(filters=12,kernel_size=(3,3),activation='relu',))\n",
    "model2.add(Conv2D(filters=12,kernel_size=(3,3),activation='relu',))\n",
    "model2.add(MaxPooling2D(pool_size=(2,2)))\n",
    "model2.add(Conv2D(filters=32,kernel_size=(3,3),activation='relu',))\n",
    "model2.add(Conv2D(filters=32,kernel_size=(3,3),activation='relu',))\n",
    "model2.add(MaxPooling2D(pool_size=(2,2)))\n",
    "model2.add(Flatten())\n",
    "model2.add(Dense(10))"
   ]
  },
  {
   "cell_type": "code",
   "execution_count": 123,
   "id": "2b94aac2",
   "metadata": {},
   "outputs": [],
   "source": [
    "model2.compile(loss=tf.keras.losses.SparseCategoricalCrossentropy(from_logits=True),optimizer=\"adam\",metrics=\"accuracy\")"
   ]
  },
  {
   "cell_type": "code",
   "execution_count": 124,
   "id": "002b6e80",
   "metadata": {
    "collapsed": true
   },
   "outputs": [
    {
     "name": "stdout",
     "output_type": "stream",
     "text": [
      "Epoch 1/30\n",
      "781/781 [==============================] - 20s 25ms/step - loss: 1.7380 - accuracy: 0.1080 - val_loss: 1.4475 - val_accuracy: 0.0663\n",
      "Epoch 2/30\n",
      "781/781 [==============================] - 19s 24ms/step - loss: 1.4707 - accuracy: 0.0966 - val_loss: 1.4341 - val_accuracy: 0.1277\n",
      "Epoch 3/30\n",
      "781/781 [==============================] - 19s 24ms/step - loss: 1.3380 - accuracy: 0.0953 - val_loss: 1.2347 - val_accuracy: 0.0904\n",
      "Epoch 4/30\n",
      "781/781 [==============================] - 19s 24ms/step - loss: 1.2615 - accuracy: 0.0966 - val_loss: 1.1105 - val_accuracy: 0.0951\n",
      "Epoch 5/30\n",
      "781/781 [==============================] - 19s 25ms/step - loss: 1.2037 - accuracy: 0.0961 - val_loss: 1.0912 - val_accuracy: 0.1067\n",
      "Epoch 6/30\n",
      "781/781 [==============================] - 19s 25ms/step - loss: 1.1649 - accuracy: 0.0977 - val_loss: 1.1755 - val_accuracy: 0.0780\n",
      "Epoch 7/30\n",
      "781/781 [==============================] - 19s 24ms/step - loss: 1.1262 - accuracy: 0.0971 - val_loss: 1.1678 - val_accuracy: 0.0826\n",
      "Epoch 8/30\n",
      "781/781 [==============================] - 19s 25ms/step - loss: 1.1022 - accuracy: 0.0988 - val_loss: 1.0619 - val_accuracy: 0.0950\n",
      "Epoch 9/30\n",
      "781/781 [==============================] - 19s 24ms/step - loss: 1.0782 - accuracy: 0.0992 - val_loss: 1.1206 - val_accuracy: 0.0970\n",
      "Epoch 10/30\n",
      "781/781 [==============================] - 19s 24ms/step - loss: 1.0526 - accuracy: 0.1010 - val_loss: 1.0053 - val_accuracy: 0.1001\n",
      "Epoch 11/30\n",
      "781/781 [==============================] - 19s 24ms/step - loss: 1.0336 - accuracy: 0.0999 - val_loss: 1.0263 - val_accuracy: 0.0820\n",
      "Epoch 12/30\n",
      "781/781 [==============================] - 19s 25ms/step - loss: 1.0157 - accuracy: 0.0993 - val_loss: 1.0121 - val_accuracy: 0.0897\n",
      "Epoch 13/30\n",
      "781/781 [==============================] - 19s 25ms/step - loss: 1.0028 - accuracy: 0.1010 - val_loss: 0.9717 - val_accuracy: 0.0984\n",
      "Epoch 14/30\n",
      "781/781 [==============================] - 19s 25ms/step - loss: 0.9850 - accuracy: 0.1004 - val_loss: 0.9554 - val_accuracy: 0.0878\n",
      "Epoch 15/30\n",
      "781/781 [==============================] - 19s 25ms/step - loss: 0.9768 - accuracy: 0.1004 - val_loss: 0.8940 - val_accuracy: 0.1028\n",
      "Epoch 16/30\n",
      "781/781 [==============================] - 19s 24ms/step - loss: 0.9688 - accuracy: 0.0991 - val_loss: 0.9348 - val_accuracy: 0.1013\n",
      "Epoch 17/30\n",
      "781/781 [==============================] - 19s 24ms/step - loss: 0.9552 - accuracy: 0.1006 - val_loss: 0.9509 - val_accuracy: 0.0824\n",
      "Epoch 18/30\n",
      "781/781 [==============================] - 19s 24ms/step - loss: 0.9512 - accuracy: 0.1007 - val_loss: 0.9226 - val_accuracy: 0.1118\n",
      "Epoch 19/30\n",
      "781/781 [==============================] - 19s 24ms/step - loss: 0.9367 - accuracy: 0.1012 - val_loss: 0.9442 - val_accuracy: 0.0963\n",
      "Epoch 20/30\n",
      "781/781 [==============================] - 19s 24ms/step - loss: 0.9285 - accuracy: 0.1006 - val_loss: 0.9231 - val_accuracy: 0.0872\n",
      "Epoch 21/30\n",
      "781/781 [==============================] - 19s 24ms/step - loss: 0.9172 - accuracy: 0.1005 - val_loss: 0.8827 - val_accuracy: 0.0923\n",
      "Epoch 22/30\n",
      "781/781 [==============================] - 20s 25ms/step - loss: 0.9078 - accuracy: 0.1007 - val_loss: 0.8991 - val_accuracy: 0.0990\n",
      "Epoch 23/30\n",
      "781/781 [==============================] - 20s 25ms/step - loss: 0.8967 - accuracy: 0.1004 - val_loss: 0.8725 - val_accuracy: 0.0869\n",
      "Epoch 24/30\n",
      "781/781 [==============================] - 20s 26ms/step - loss: 0.8971 - accuracy: 0.1010 - val_loss: 0.8609 - val_accuracy: 0.0995\n",
      "Epoch 25/30\n",
      "781/781 [==============================] - 20s 25ms/step - loss: 0.8847 - accuracy: 0.1009 - val_loss: 0.8573 - val_accuracy: 0.0968\n",
      "Epoch 26/30\n",
      "781/781 [==============================] - 20s 25ms/step - loss: 0.8777 - accuracy: 0.1021 - val_loss: 0.8775 - val_accuracy: 0.0992\n",
      "Epoch 27/30\n",
      "781/781 [==============================] - 20s 25ms/step - loss: 0.8670 - accuracy: 0.1008 - val_loss: 0.8717 - val_accuracy: 0.1084\n",
      "Epoch 28/30\n",
      "781/781 [==============================] - 20s 25ms/step - loss: 0.8643 - accuracy: 0.1000 - val_loss: 0.8330 - val_accuracy: 0.0833\n",
      "Epoch 29/30\n",
      "781/781 [==============================] - 20s 25ms/step - loss: 0.8600 - accuracy: 0.1010 - val_loss: 0.8543 - val_accuracy: 0.1005\n",
      "Epoch 30/30\n",
      "781/781 [==============================] - 20s 25ms/step - loss: 0.8498 - accuracy: 0.1003 - val_loss: 0.8592 - val_accuracy: 0.1035\n"
     ]
    },
    {
     "data": {
      "text/plain": [
       "<keras.callbacks.History at 0x1fad5c2ceb0>"
      ]
     },
     "execution_count": 124,
     "metadata": {},
     "output_type": "execute_result"
    }
   ],
   "source": [
    "steps = int(x_train.shape[0] / 64)\n",
    "model2.fit(it_train, steps_per_epoch=steps, epochs=30, validation_data=(x_test, y_test))"
   ]
  },
  {
   "cell_type": "code",
   "execution_count": 125,
   "id": "b44bacdf",
   "metadata": {},
   "outputs": [
    {
     "name": "stdout",
     "output_type": "stream",
     "text": [
      "313/313 [==============================] - 1s 3ms/step - loss: 0.8592 - accuracy: 0.1035\n"
     ]
    }
   ],
   "source": [
    "_,accuracy=model2.evaluate(x_test,y_test)"
   ]
  },
  {
   "cell_type": "markdown",
   "id": "0521eb96",
   "metadata": {},
   "source": [
    "I think I didn't do the Data Augmentation right, because the results should be more than 10%...<br>\n",
    "I hope prof. Zafer can help me with this problem later on and try to understand how to implement Data Augmentation (if it is a helpfull method)... :)"
   ]
  },
  {
   "cell_type": "markdown",
   "id": "0859fe4c",
   "metadata": {},
   "source": [
    "<font color=darkgreen>**Results for models with Regularization methods:**<br></font>\n",
    "Model with **Dropout: 73%**<br>\n",
    "Model with **Weight Decay: 64,52%**<br>\n",
    "(Model with **Data Augmentation: 10%***)<br>\n",
    "We can see that our results are better when using Dropout instead of Weight Decay method.<br>\n",
    "(*Data Augmentation was a failure on my end and the result is probably not right so I am going to ignore this method for now.)"
   ]
  },
  {
   "cell_type": "markdown",
   "id": "a3678508",
   "metadata": {},
   "source": [
    "### Try to further improve Model"
   ]
  },
  {
   "cell_type": "markdown",
   "id": "13f8ae66",
   "metadata": {},
   "source": [
    "Our Results show us that the Dropout methos had a good effect on our accuracy score. So we can try to look more into Dropout methods.<br>\n",
    "We will try to **increace the dropout percentage** for each block"
   ]
  },
  {
   "cell_type": "code",
   "execution_count": 127,
   "id": "84534028",
   "metadata": {},
   "outputs": [],
   "source": [
    "#Model with increased Dropout Regularization\n",
    "model3=Sequential()\n",
    "model3.add(InputLayer(input_shape=(32,32,3)))\n",
    "model3.add(Reshape(target_shape=(32,32,3)))\n",
    "model3.add(Conv2D(filters=12,kernel_size=(3,3),activation='relu'))\n",
    "model3.add(Conv2D(filters=12,kernel_size=(3,3),activation='relu'))\n",
    "model3.add(MaxPooling2D(pool_size=(2,2)))\n",
    "model3.add(Dropout(0.2))\n",
    "model3.add(Conv2D(filters=32,kernel_size=(3,3),activation='relu'))\n",
    "model3.add(Conv2D(filters=32,kernel_size=(3,3),activation='relu'))\n",
    "model3.add(MaxPooling2D(pool_size=(2,2)))\n",
    "model3.add(Dropout(0.4)) # increase the dropout percentage from 0.2 to 0.4\n",
    "model3.add(Flatten())\n",
    "model3.add(Dense(10))"
   ]
  },
  {
   "cell_type": "code",
   "execution_count": 128,
   "id": "72be903e",
   "metadata": {},
   "outputs": [],
   "source": [
    "model3.compile(loss=tf.keras.losses.SparseCategoricalCrossentropy(from_logits=True),optimizer=\"adam\",metrics=\"accuracy\")"
   ]
  },
  {
   "cell_type": "code",
   "execution_count": 129,
   "id": "da7b00a6",
   "metadata": {
    "collapsed": true
   },
   "outputs": [
    {
     "name": "stdout",
     "output_type": "stream",
     "text": [
      "Epoch 1/30\n",
      "1407/1407 [==============================] - 16s 11ms/step - loss: 1.6620 - accuracy: 0.3883 - val_loss: 1.3658 - val_accuracy: 0.5144\n",
      "Epoch 2/30\n",
      "1407/1407 [==============================] - 15s 11ms/step - loss: 1.3690 - accuracy: 0.5065 - val_loss: 1.2602 - val_accuracy: 0.5558\n",
      "Epoch 3/30\n",
      "1407/1407 [==============================] - 15s 11ms/step - loss: 1.2642 - accuracy: 0.5493 - val_loss: 1.2325 - val_accuracy: 0.5696\n",
      "Epoch 4/30\n",
      "1407/1407 [==============================] - 15s 11ms/step - loss: 1.1821 - accuracy: 0.5790 - val_loss: 1.0293 - val_accuracy: 0.6312\n",
      "Epoch 5/30\n",
      "1407/1407 [==============================] - 15s 10ms/step - loss: 1.1187 - accuracy: 0.6031 - val_loss: 0.9892 - val_accuracy: 0.6506\n",
      "Epoch 6/30\n",
      "1407/1407 [==============================] - 14s 10ms/step - loss: 1.0766 - accuracy: 0.6192 - val_loss: 1.0163 - val_accuracy: 0.6444\n",
      "Epoch 7/30\n",
      "1407/1407 [==============================] - 15s 10ms/step - loss: 1.0421 - accuracy: 0.6322 - val_loss: 0.9571 - val_accuracy: 0.6608\n",
      "Epoch 8/30\n",
      "1407/1407 [==============================] - 14s 10ms/step - loss: 1.0166 - accuracy: 0.6412 - val_loss: 0.9200 - val_accuracy: 0.6800\n",
      "Epoch 9/30\n",
      "1407/1407 [==============================] - 14s 10ms/step - loss: 0.9875 - accuracy: 0.6520 - val_loss: 0.8818 - val_accuracy: 0.6900\n",
      "Epoch 10/30\n",
      "1407/1407 [==============================] - 14s 10ms/step - loss: 0.9688 - accuracy: 0.6597 - val_loss: 0.8385 - val_accuracy: 0.7062\n",
      "Epoch 11/30\n",
      "1407/1407 [==============================] - 14s 10ms/step - loss: 0.9518 - accuracy: 0.6650 - val_loss: 0.8834 - val_accuracy: 0.6964\n",
      "Epoch 12/30\n",
      "1407/1407 [==============================] - 14s 10ms/step - loss: 0.9390 - accuracy: 0.6689 - val_loss: 0.8168 - val_accuracy: 0.7144\n",
      "Epoch 13/30\n",
      "1407/1407 [==============================] - 15s 10ms/step - loss: 0.9244 - accuracy: 0.6722 - val_loss: 0.8087 - val_accuracy: 0.7124\n",
      "Epoch 14/30\n",
      "1407/1407 [==============================] - 14s 10ms/step - loss: 0.9161 - accuracy: 0.6770 - val_loss: 0.8355 - val_accuracy: 0.7042\n",
      "Epoch 15/30\n",
      "1407/1407 [==============================] - 16s 11ms/step - loss: 0.9084 - accuracy: 0.6771 - val_loss: 0.7902 - val_accuracy: 0.7228\n",
      "Epoch 16/30\n",
      "1407/1407 [==============================] - 15s 11ms/step - loss: 0.8967 - accuracy: 0.6828 - val_loss: 0.8015 - val_accuracy: 0.7238\n",
      "Epoch 17/30\n",
      "1407/1407 [==============================] - 16s 11ms/step - loss: 0.8888 - accuracy: 0.6874 - val_loss: 0.7859 - val_accuracy: 0.7218\n",
      "Epoch 18/30\n",
      "1407/1407 [==============================] - 15s 11ms/step - loss: 0.8871 - accuracy: 0.6860 - val_loss: 0.7918 - val_accuracy: 0.7258\n",
      "Epoch 19/30\n",
      "1407/1407 [==============================] - 15s 10ms/step - loss: 0.8821 - accuracy: 0.6900 - val_loss: 0.8286 - val_accuracy: 0.7144\n",
      "Epoch 20/30\n",
      "1407/1407 [==============================] - 15s 11ms/step - loss: 0.8760 - accuracy: 0.6918 - val_loss: 0.7951 - val_accuracy: 0.7162\n",
      "Epoch 21/30\n",
      "1407/1407 [==============================] - 15s 11ms/step - loss: 0.8662 - accuracy: 0.6953 - val_loss: 0.7583 - val_accuracy: 0.7298\n",
      "Epoch 22/30\n",
      "1407/1407 [==============================] - 16s 11ms/step - loss: 0.8675 - accuracy: 0.6932 - val_loss: 0.7731 - val_accuracy: 0.7300\n",
      "Epoch 23/30\n",
      "1407/1407 [==============================] - 15s 11ms/step - loss: 0.8540 - accuracy: 0.6984 - val_loss: 0.7647 - val_accuracy: 0.7346\n",
      "Epoch 24/30\n",
      "1407/1407 [==============================] - 16s 11ms/step - loss: 0.8543 - accuracy: 0.6978 - val_loss: 0.8117 - val_accuracy: 0.7188\n",
      "Epoch 25/30\n",
      "1407/1407 [==============================] - 15s 11ms/step - loss: 0.8534 - accuracy: 0.6998 - val_loss: 0.7936 - val_accuracy: 0.7286\n",
      "Epoch 26/30\n",
      "1407/1407 [==============================] - 15s 11ms/step - loss: 0.8485 - accuracy: 0.7019 - val_loss: 0.7781 - val_accuracy: 0.7262\n",
      "Epoch 27/30\n",
      "1407/1407 [==============================] - 15s 10ms/step - loss: 0.8447 - accuracy: 0.7011 - val_loss: 0.7867 - val_accuracy: 0.7248\n",
      "Epoch 28/30\n",
      "1407/1407 [==============================] - 15s 11ms/step - loss: 0.8446 - accuracy: 0.7009 - val_loss: 0.7585 - val_accuracy: 0.7322\n",
      "Epoch 29/30\n",
      "1407/1407 [==============================] - 15s 11ms/step - loss: 0.8384 - accuracy: 0.7065 - val_loss: 0.7574 - val_accuracy: 0.7394\n",
      "Epoch 30/30\n",
      "1407/1407 [==============================] - 15s 11ms/step - loss: 0.8361 - accuracy: 0.7048 - val_loss: 0.8129 - val_accuracy: 0.7192\n"
     ]
    },
    {
     "data": {
      "text/plain": [
       "<keras.callbacks.History at 0x1fac3691d90>"
      ]
     },
     "execution_count": 129,
     "metadata": {},
     "output_type": "execute_result"
    }
   ],
   "source": [
    "model3.fit(x_train,y_train,validation_split=0.10,epochs=30)"
   ]
  },
  {
   "cell_type": "code",
   "execution_count": 130,
   "id": "62b2aafd",
   "metadata": {},
   "outputs": [
    {
     "name": "stdout",
     "output_type": "stream",
     "text": [
      "313/313 [==============================] - 1s 3ms/step - loss: 0.8279 - accuracy: 0.7072\n"
     ]
    }
   ],
   "source": [
    "_,accuracy=model3.evaluate(x_test,y_test)"
   ]
  },
  {
   "cell_type": "markdown",
   "id": "3f8ca731",
   "metadata": {},
   "source": [
    "in our model, increasing the dropout rate leads to a less accuracy with 71%"
   ]
  },
  {
   "cell_type": "code",
   "execution_count": 131,
   "id": "d6d09dd0",
   "metadata": {},
   "outputs": [],
   "source": [
    "#Model with increased filters and Dropout Regularization\n",
    "model3=Sequential()\n",
    "model3.add(InputLayer(input_shape=(32,32,3)))\n",
    "model3.add(Reshape(target_shape=(32,32,3)))\n",
    "model3.add(Conv2D(filters=32,kernel_size=(3,3),activation='relu')) # increased filter from 12 to 32\n",
    "model3.add(Conv2D(filters=32,kernel_size=(3,3),activation='relu'))\n",
    "model3.add(MaxPooling2D(pool_size=(2,2)))\n",
    "model3.add(Dropout(0.2))\n",
    "model3.add(Conv2D(filters=64,kernel_size=(3,3),activation='relu')) # increased filter from 32 to 64\n",
    "model3.add(Conv2D(filters=64,kernel_size=(3,3),activation='relu'))\n",
    "model3.add(MaxPooling2D(pool_size=(2,2)))\n",
    "model3.add(Dropout(0.4)) #we increased the dropout percentage from 0.2 to 0.4\n",
    "model3.add(Flatten())\n",
    "model3.add(Dense(10))"
   ]
  },
  {
   "cell_type": "code",
   "execution_count": 132,
   "id": "04477f76",
   "metadata": {},
   "outputs": [],
   "source": [
    "model3.compile(loss=tf.keras.losses.SparseCategoricalCrossentropy(from_logits=True),optimizer=\"adam\",metrics=\"accuracy\")"
   ]
  },
  {
   "cell_type": "code",
   "execution_count": 133,
   "id": "2b12b140",
   "metadata": {
    "collapsed": true
   },
   "outputs": [
    {
     "name": "stdout",
     "output_type": "stream",
     "text": [
      "Epoch 1/30\n",
      "1407/1407 [==============================] - 34s 24ms/step - loss: 1.5976 - accuracy: 0.4160 - val_loss: 1.2551 - val_accuracy: 0.5438\n",
      "Epoch 2/30\n",
      "1407/1407 [==============================] - 34s 24ms/step - loss: 1.2099 - accuracy: 0.5714 - val_loss: 1.0703 - val_accuracy: 0.6278\n",
      "Epoch 3/30\n",
      "1407/1407 [==============================] - 34s 24ms/step - loss: 1.0462 - accuracy: 0.6303 - val_loss: 0.8835 - val_accuracy: 0.6926\n",
      "Epoch 4/30\n",
      "1407/1407 [==============================] - 34s 24ms/step - loss: 0.9531 - accuracy: 0.6647 - val_loss: 0.8202 - val_accuracy: 0.7160\n",
      "Epoch 5/30\n",
      "1407/1407 [==============================] - 33s 23ms/step - loss: 0.8917 - accuracy: 0.6871 - val_loss: 0.7886 - val_accuracy: 0.7316\n",
      "Epoch 6/30\n",
      "1407/1407 [==============================] - 33s 23ms/step - loss: 0.8491 - accuracy: 0.7014 - val_loss: 0.7677 - val_accuracy: 0.7320\n",
      "Epoch 7/30\n",
      "1407/1407 [==============================] - 33s 24ms/step - loss: 0.8204 - accuracy: 0.7123 - val_loss: 0.7347 - val_accuracy: 0.7424\n",
      "Epoch 8/30\n",
      "1407/1407 [==============================] - 33s 24ms/step - loss: 0.7863 - accuracy: 0.7231 - val_loss: 0.7283 - val_accuracy: 0.7454\n",
      "Epoch 9/30\n",
      "1407/1407 [==============================] - 33s 23ms/step - loss: 0.7690 - accuracy: 0.7287 - val_loss: 0.7025 - val_accuracy: 0.7570\n",
      "Epoch 10/30\n",
      "1407/1407 [==============================] - 34s 24ms/step - loss: 0.7442 - accuracy: 0.7386 - val_loss: 0.6822 - val_accuracy: 0.7626\n",
      "Epoch 11/30\n",
      "1407/1407 [==============================] - 34s 24ms/step - loss: 0.7351 - accuracy: 0.7424 - val_loss: 0.6739 - val_accuracy: 0.7666\n",
      "Epoch 12/30\n",
      "1407/1407 [==============================] - 34s 24ms/step - loss: 0.7153 - accuracy: 0.7472 - val_loss: 0.6943 - val_accuracy: 0.7556\n",
      "Epoch 13/30\n",
      "1407/1407 [==============================] - 33s 24ms/step - loss: 0.7003 - accuracy: 0.7554 - val_loss: 0.6877 - val_accuracy: 0.7618\n",
      "Epoch 14/30\n",
      "1407/1407 [==============================] - 33s 24ms/step - loss: 0.6916 - accuracy: 0.7593 - val_loss: 0.6829 - val_accuracy: 0.7658\n",
      "Epoch 15/30\n",
      "1407/1407 [==============================] - 33s 24ms/step - loss: 0.6871 - accuracy: 0.7602 - val_loss: 0.6734 - val_accuracy: 0.7676\n",
      "Epoch 16/30\n",
      "1407/1407 [==============================] - 33s 24ms/step - loss: 0.6716 - accuracy: 0.7634 - val_loss: 0.6632 - val_accuracy: 0.7698\n",
      "Epoch 17/30\n",
      "1407/1407 [==============================] - 33s 23ms/step - loss: 0.6590 - accuracy: 0.7684 - val_loss: 0.6739 - val_accuracy: 0.7710\n",
      "Epoch 18/30\n",
      "1407/1407 [==============================] - 33s 24ms/step - loss: 0.6491 - accuracy: 0.7738 - val_loss: 0.6647 - val_accuracy: 0.7712\n",
      "Epoch 19/30\n",
      "1407/1407 [==============================] - 33s 23ms/step - loss: 0.6465 - accuracy: 0.7722 - val_loss: 0.6722 - val_accuracy: 0.7702\n",
      "Epoch 20/30\n",
      "1407/1407 [==============================] - 34s 24ms/step - loss: 0.6384 - accuracy: 0.7748 - val_loss: 0.6464 - val_accuracy: 0.7748\n",
      "Epoch 21/30\n",
      "1407/1407 [==============================] - 34s 24ms/step - loss: 0.6324 - accuracy: 0.7758 - val_loss: 0.6719 - val_accuracy: 0.7742\n",
      "Epoch 22/30\n",
      "1407/1407 [==============================] - 33s 24ms/step - loss: 0.6205 - accuracy: 0.7806 - val_loss: 0.6616 - val_accuracy: 0.7744\n",
      "Epoch 23/30\n",
      "1407/1407 [==============================] - 33s 24ms/step - loss: 0.6217 - accuracy: 0.7806 - val_loss: 0.6648 - val_accuracy: 0.7734\n",
      "Epoch 24/30\n",
      "1407/1407 [==============================] - 33s 24ms/step - loss: 0.6074 - accuracy: 0.7889 - val_loss: 0.6909 - val_accuracy: 0.7640\n",
      "Epoch 25/30\n",
      "1407/1407 [==============================] - 33s 23ms/step - loss: 0.6077 - accuracy: 0.7859 - val_loss: 0.6516 - val_accuracy: 0.7798\n",
      "Epoch 26/30\n",
      "1407/1407 [==============================] - 33s 24ms/step - loss: 0.6035 - accuracy: 0.7858 - val_loss: 0.7034 - val_accuracy: 0.7612\n",
      "Epoch 27/30\n",
      "1407/1407 [==============================] - 33s 24ms/step - loss: 0.6022 - accuracy: 0.7887 - val_loss: 0.6910 - val_accuracy: 0.7688\n",
      "Epoch 28/30\n",
      "1407/1407 [==============================] - 34s 24ms/step - loss: 0.5871 - accuracy: 0.7944 - val_loss: 0.6500 - val_accuracy: 0.7814\n",
      "Epoch 29/30\n",
      "1407/1407 [==============================] - 34s 24ms/step - loss: 0.5877 - accuracy: 0.7921 - val_loss: 0.6436 - val_accuracy: 0.7840\n",
      "Epoch 30/30\n",
      "1407/1407 [==============================] - 33s 24ms/step - loss: 0.5783 - accuracy: 0.7969 - val_loss: 0.6526 - val_accuracy: 0.7786\n"
     ]
    },
    {
     "data": {
      "text/plain": [
       "<keras.callbacks.History at 0x1fabd165d30>"
      ]
     },
     "execution_count": 133,
     "metadata": {},
     "output_type": "execute_result"
    }
   ],
   "source": [
    "model3.fit(x_train,y_train,validation_split=0.10,epochs=30)"
   ]
  },
  {
   "cell_type": "code",
   "execution_count": 134,
   "id": "b538873a",
   "metadata": {},
   "outputs": [
    {
     "name": "stdout",
     "output_type": "stream",
     "text": [
      "313/313 [==============================] - 1s 5ms/step - loss: 0.6952 - accuracy: 0.7625\n"
     ]
    }
   ],
   "source": [
    "_,accuracy=model3.evaluate(x_test,y_test)"
   ]
  },
  {
   "cell_type": "markdown",
   "id": "ab85d637",
   "metadata": {},
   "source": [
    "when increasing the filters from the Conv2D we get a result of 76%"
   ]
  },
  {
   "cell_type": "markdown",
   "id": "c2d28dea",
   "metadata": {},
   "source": [
    "Adding **Batch Normalization**:<br>\n",
    "Batch normalization is a technique designed to automatically standardize the inputs to a layer in a deep learning neural network. <br>\n",
    "It has the effect of dramatically accelerating the training process of a neural network, and in some cases improves the performance of the model via a modest regularization effect."
   ]
  },
  {
   "cell_type": "code",
   "execution_count": 136,
   "id": "5d106c32",
   "metadata": {},
   "outputs": [],
   "source": [
    "from keras.layers import BatchNormalization"
   ]
  },
  {
   "cell_type": "code",
   "execution_count": 145,
   "id": "d48e6bcd",
   "metadata": {},
   "outputs": [],
   "source": [
    "#Model with Batch Normalization\n",
    "model3=Sequential()\n",
    "model3.add(InputLayer(input_shape=(32,32,3)))\n",
    "model3.add(Reshape(target_shape=(32,32,3)))\n",
    "model3.add(Conv2D(filters=32,kernel_size=(3,3),activation='relu')) # increased filter from 12 to 32\n",
    "model3.add(BatchNormalization()) #added Batch Normalization\n",
    "model3.add(Conv2D(filters=32,kernel_size=(3,3),activation='relu'))\n",
    "model3.add(BatchNormalization())\n",
    "model3.add(MaxPooling2D(pool_size=(2,2)))\n",
    "model3.add(Dropout(0.2))\n",
    "model3.add(Conv2D(filters=64,kernel_size=(3,3),activation='relu')) # increased filter from 32 to 64\n",
    "model3.add(BatchNormalization())\n",
    "model3.add(Conv2D(filters=64,kernel_size=(3,3),activation='relu'))\n",
    "model3.add(BatchNormalization()) #added Batch Normalization\n",
    "model3.add(MaxPooling2D(pool_size=(2,2)))\n",
    "model3.add(Dropout(0.4)) #we increased the dropout percentage from 0.2 to 0.4\n",
    "model3.add(Flatten())\n",
    "model3.add(BatchNormalization())\n",
    "model3.add(Dense(10))"
   ]
  },
  {
   "cell_type": "code",
   "execution_count": 146,
   "id": "12135ec0",
   "metadata": {},
   "outputs": [],
   "source": [
    "model3.compile(loss=tf.keras.losses.SparseCategoricalCrossentropy(from_logits=True),optimizer=\"adam\",metrics=\"accuracy\")"
   ]
  },
  {
   "cell_type": "code",
   "execution_count": 147,
   "id": "baff3c10",
   "metadata": {
    "collapsed": true
   },
   "outputs": [
    {
     "name": "stdout",
     "output_type": "stream",
     "text": [
      "Epoch 1/30\n",
      "1407/1407 [==============================] - 43s 30ms/step - loss: 1.5824 - accuracy: 0.4603 - val_loss: 1.2464 - val_accuracy: 0.5646\n",
      "Epoch 2/30\n",
      "1407/1407 [==============================] - 41s 29ms/step - loss: 1.1326 - accuracy: 0.6070 - val_loss: 1.0864 - val_accuracy: 0.6294\n",
      "Epoch 3/30\n",
      "1407/1407 [==============================] - 40s 29ms/step - loss: 1.0097 - accuracy: 0.6512 - val_loss: 1.0393 - val_accuracy: 0.6386\n",
      "Epoch 4/30\n",
      "1407/1407 [==============================] - 41s 29ms/step - loss: 0.9219 - accuracy: 0.6811 - val_loss: 0.9889 - val_accuracy: 0.6634\n",
      "Epoch 5/30\n",
      "1407/1407 [==============================] - 40s 28ms/step - loss: 0.8804 - accuracy: 0.6961 - val_loss: 0.9085 - val_accuracy: 0.6906\n",
      "Epoch 6/30\n",
      "1407/1407 [==============================] - 40s 28ms/step - loss: 0.8271 - accuracy: 0.7150 - val_loss: 0.7773 - val_accuracy: 0.7320\n",
      "Epoch 7/30\n",
      "1407/1407 [==============================] - 39s 28ms/step - loss: 0.7951 - accuracy: 0.7267 - val_loss: 0.7457 - val_accuracy: 0.7428\n",
      "Epoch 8/30\n",
      "1407/1407 [==============================] - 39s 28ms/step - loss: 0.7613 - accuracy: 0.7361 - val_loss: 0.7303 - val_accuracy: 0.7542\n",
      "Epoch 9/30\n",
      "1407/1407 [==============================] - 39s 28ms/step - loss: 0.7358 - accuracy: 0.7466 - val_loss: 0.6875 - val_accuracy: 0.7698\n",
      "Epoch 10/30\n",
      "1407/1407 [==============================] - 39s 28ms/step - loss: 0.7106 - accuracy: 0.7524 - val_loss: 0.7098 - val_accuracy: 0.7602\n",
      "Epoch 11/30\n",
      "1407/1407 [==============================] - 39s 28ms/step - loss: 0.6903 - accuracy: 0.7615 - val_loss: 0.6953 - val_accuracy: 0.7606\n",
      "Epoch 12/30\n",
      "1407/1407 [==============================] - 39s 28ms/step - loss: 0.6715 - accuracy: 0.7658 - val_loss: 0.7013 - val_accuracy: 0.7658\n",
      "Epoch 13/30\n",
      "1407/1407 [==============================] - 40s 29ms/step - loss: 0.6544 - accuracy: 0.7723 - val_loss: 0.6367 - val_accuracy: 0.7890\n",
      "Epoch 14/30\n",
      "1407/1407 [==============================] - 41s 29ms/step - loss: 0.6352 - accuracy: 0.7796 - val_loss: 0.6640 - val_accuracy: 0.7752\n",
      "Epoch 15/30\n",
      "1407/1407 [==============================] - 42s 30ms/step - loss: 0.6307 - accuracy: 0.7810 - val_loss: 0.6655 - val_accuracy: 0.7746\n",
      "Epoch 16/30\n",
      "1407/1407 [==============================] - 42s 30ms/step - loss: 0.6178 - accuracy: 0.7844 - val_loss: 0.6571 - val_accuracy: 0.7846\n",
      "Epoch 17/30\n",
      "1407/1407 [==============================] - 42s 30ms/step - loss: 0.6010 - accuracy: 0.7906 - val_loss: 0.6074 - val_accuracy: 0.8016\n",
      "Epoch 18/30\n",
      "1407/1407 [==============================] - 42s 30ms/step - loss: 0.5979 - accuracy: 0.7907 - val_loss: 0.5851 - val_accuracy: 0.8046\n",
      "Epoch 19/30\n",
      "1407/1407 [==============================] - 42s 30ms/step - loss: 0.5836 - accuracy: 0.7954 - val_loss: 0.6334 - val_accuracy: 0.7890\n",
      "Epoch 20/30\n",
      "1407/1407 [==============================] - 43s 30ms/step - loss: 0.5740 - accuracy: 0.7993 - val_loss: 0.6205 - val_accuracy: 0.7982\n",
      "Epoch 21/30\n",
      "1407/1407 [==============================] - 43s 31ms/step - loss: 0.5669 - accuracy: 0.8014 - val_loss: 0.6056 - val_accuracy: 0.7960\n",
      "Epoch 22/30\n",
      "1407/1407 [==============================] - 43s 30ms/step - loss: 0.5561 - accuracy: 0.8048 - val_loss: 0.5938 - val_accuracy: 0.8022\n",
      "Epoch 23/30\n",
      "1407/1407 [==============================] - 43s 31ms/step - loss: 0.5522 - accuracy: 0.8076 - val_loss: 0.6172 - val_accuracy: 0.7912\n",
      "Epoch 24/30\n",
      "1407/1407 [==============================] - 42s 30ms/step - loss: 0.5483 - accuracy: 0.8074 - val_loss: 0.5910 - val_accuracy: 0.8024\n",
      "Epoch 25/30\n",
      "1407/1407 [==============================] - 42s 30ms/step - loss: 0.5365 - accuracy: 0.8123 - val_loss: 0.6255 - val_accuracy: 0.7930\n",
      "Epoch 26/30\n",
      "1407/1407 [==============================] - 42s 30ms/step - loss: 0.5359 - accuracy: 0.8131 - val_loss: 0.5944 - val_accuracy: 0.8020\n",
      "Epoch 27/30\n",
      "1407/1407 [==============================] - 42s 30ms/step - loss: 0.5232 - accuracy: 0.8165 - val_loss: 0.6490 - val_accuracy: 0.7910\n",
      "Epoch 28/30\n",
      "1407/1407 [==============================] - 42s 30ms/step - loss: 0.5177 - accuracy: 0.8188 - val_loss: 0.5795 - val_accuracy: 0.8128\n",
      "Epoch 29/30\n",
      "1407/1407 [==============================] - 45s 32ms/step - loss: 0.5187 - accuracy: 0.8208 - val_loss: 0.6205 - val_accuracy: 0.7886\n",
      "Epoch 30/30\n",
      "1407/1407 [==============================] - 46s 32ms/step - loss: 0.5074 - accuracy: 0.8218 - val_loss: 0.6406 - val_accuracy: 0.7898\n"
     ]
    },
    {
     "data": {
      "text/plain": [
       "<keras.callbacks.History at 0x1fabe08fdc0>"
      ]
     },
     "execution_count": 147,
     "metadata": {},
     "output_type": "execute_result"
    }
   ],
   "source": [
    "model3.fit(x_train,y_train,validation_split=0.10,epochs=30)"
   ]
  },
  {
   "cell_type": "code",
   "execution_count": 148,
   "id": "38301146",
   "metadata": {},
   "outputs": [
    {
     "name": "stdout",
     "output_type": "stream",
     "text": [
      "313/313 [==============================] - 2s 7ms/step - loss: 0.6777 - accuracy: 0.7748\n"
     ]
    }
   ],
   "source": [
    "_,accuracy=model3.evaluate(x_test,y_test)"
   ]
  },
  {
   "cell_type": "markdown",
   "id": "ed3fefae",
   "metadata": {},
   "source": [
    "Adding Batch Normalization increased our results slightly to 77%"
   ]
  },
  {
   "cell_type": "markdown",
   "id": "63c26f4b",
   "metadata": {},
   "source": [
    "<font color=darkgreen>**Results:**<br></font>\n",
    "Model with **increased Dropout: 71%**<br>\n",
    "Model with **incresed Dropout and Filter: 76%**<br>\n",
    "Model with **incresed Dropout and Filter with Batch Normalization: 77%**<br>\n",
    "Our best model is with increased Dropout, Filters and adding Batch Normalization."
   ]
  },
  {
   "cell_type": "markdown",
   "id": "e95d2dec",
   "metadata": {},
   "source": [
    "Now lets bring our best model home to colab and try with more epochs, otherwise my PC is going to explode."
   ]
  },
  {
   "cell_type": "markdown",
   "id": "90db7b12",
   "metadata": {},
   "source": [
    "On Colab, with an epoch of 200 our result ended with an accuracy of 81,62%"
   ]
  },
  {
   "attachments": {
    "colab_results.png": {
     "image/png": "[encoded data removed]"
    }
   },
   "cell_type": "markdown",
   "id": "3723cc34",
   "metadata": {},
   "source": [
    "![colab_results.png](attachment:colab_results.png)"
   ]
  },
  {
   "cell_type": "markdown",
   "id": "549a01ed",
   "metadata": {},
   "source": [
    "### What I learned while trying to solve this project:\n",
    "At first I had no Idea how to approach this project, because I did not fully understand the concept behindt it in our lessons. I did run the few code lines, which we learned in the MNIST example with the CIFAR dataset and had an accuracy of only 55% and thought this can't be all there is to it. With the help of the internet I learned step by step new things and want to share them, so it can be helpful to our other members in our bootcamp and also a little summary for myself.<br>\n",
    "<br>\n",
    "* <font color=darkgreen>**Model Archcitectures:**</font><br>I learned that there are a good amount of different architecture types for CNN models like LeNet, ResNet, VGG etc. For example VGG involves stacking layers with small 3x3 filters followed by a max pooling layer\n",
    "* <font color=darkgreen>**Filters:**</font><br>The number of filters in each block is increased with the depth of the network such as 32, 64, 128, 256. By increasing them the results can get better\n",
    "* <font color=darkgreen>**Regularizations:**</font><br>Regularization methods help to adress rapid overfitting of the test dataset, by slowing down the rate of learning of the model. For example Dropout our Weight Decay Regularizations.\n",
    "* <font color=darkgreen>**Data Augmentation:**</font><br>By copying the examples in the training dataest with small random modifications, such as horizontal flip, minor shifts of image or small zooming, croppin etc., data augmentation expands the training dataset and allows the model to learn in a more generalized manner\n",
    "* <font color=darkgreen>**Batch Normalization**</font><br>\n",
    "* <font color=darkgreen>**Combining different mehtods:**</font><br>You can combine all of the above and try to see which methods work better together to achieve better results.\n",
    "<br>\n",
    "* <h3> Don't use Jupyter because it took so much time just to load one of the models with just only 30 epochs, while running this on colab with GPU Runtime made it so much faster even with 200 epochs...(I wrote this last part way later after realising this.. and now I am crying for all the lost time I spend.. :) </h2>"
   ]
  },
  {
   "cell_type": "code",
   "execution_count": null,
   "id": "54d8b8b5",
   "metadata": {},
   "outputs": [],
   "source": []
  }
 ],
 "metadata": {
  "kernelspec": {
   "display_name": "Python 3 (ipykernel)",
   "language": "python",
   "name": "python3"
  },
  "language_info": {
   "codemirror_mode": {
    "name": "ipython",
    "version": 3
   },
   "file_extension": ".py",
   "mimetype": "text/x-python",
   "name": "python",
   "nbconvert_exporter": "python",
   "pygments_lexer": "ipython3",
   "version": "3.9.12"
  }
 },
 "nbformat": 4,
 "nbformat_minor": 5
}
