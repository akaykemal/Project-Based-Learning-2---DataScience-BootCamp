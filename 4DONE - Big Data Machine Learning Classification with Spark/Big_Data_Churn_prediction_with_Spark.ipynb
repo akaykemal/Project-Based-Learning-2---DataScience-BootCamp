{
 "cells": [
  {
   "cell_type": "markdown",
   "metadata": {
    "id": "nPHUJPr4nZ01"
   },
   "source": [
    "# Big Data Machine Learning Classification with Spark"
   ]
  },
  {
   "cell_type": "code",
   "execution_count": 631,
   "metadata": {
    "id": "6qO4Rljclav8"
   },
   "outputs": [],
   "source": [
    "#pip install pyspark"
   ]
  },
  {
   "cell_type": "code",
   "execution_count": 632,
   "metadata": {
    "id": "7tsqnUDBn1e6"
   },
   "outputs": [],
   "source": [
    "from pyspark import SparkConf, SparkContext \n",
    "import collections\n",
    "from pyspark.ml.classification import GBTClassifier\n",
    "\n",
    "#from __future__ import print_function #must apperantly occur at the beginning of the file\n",
    "\n",
    "from pyspark.ml.regression import LinearRegression\n",
    "\n",
    "from pyspark.sql import SparkSession\n",
    "from pyspark.ml.linalg import Vectors\n",
    "\n",
    "import pandas as pd"
   ]
  },
  {
   "cell_type": "code",
   "execution_count": 633,
   "metadata": {
    "colab": {
     "base_uri": "https://localhost:8080/",
     "height": 206
    },
    "collapsed": true,
    "id": "0rlrNXwA6fjr",
    "outputId": "b5aa4d54-0097-4d84-e5f5-77b9c4040108"
   },
   "outputs": [
    {
     "data": {
      "text/html": [
       "\n",
       "  <div id=\"df-2a63fdeb-7974-4cc8-bc5c-bcb5c38ef4c4\">\n",
       "    <div class=\"colab-df-container\">\n",
       "      <div>\n",
       "<style scoped>\n",
       "    .dataframe tbody tr th:only-of-type {\n",
       "        vertical-align: middle;\n",
       "    }\n",
       "\n",
       "    .dataframe tbody tr th {\n",
       "        vertical-align: top;\n",
       "    }\n",
       "\n",
       "    .dataframe thead th {\n",
       "        text-align: right;\n",
       "    }\n",
       "</style>\n",
       "<table border=\"1\" class=\"dataframe\">\n",
       "  <thead>\n",
       "    <tr style=\"text-align: right;\">\n",
       "      <th></th>\n",
       "      <th>Unnamed: 0</th>\n",
       "      <th>Names</th>\n",
       "      <th>Age</th>\n",
       "      <th>Total_Purchase</th>\n",
       "      <th>Account_Manager</th>\n",
       "      <th>Years</th>\n",
       "      <th>Num_Sites</th>\n",
       "      <th>Churn</th>\n",
       "    </tr>\n",
       "  </thead>\n",
       "  <tbody>\n",
       "    <tr>\n",
       "      <th>122</th>\n",
       "      <td>122</td>\n",
       "      <td>James Newman</td>\n",
       "      <td>35.0</td>\n",
       "      <td>9766.95</td>\n",
       "      <td>1</td>\n",
       "      <td>4.59</td>\n",
       "      <td>13.0</td>\n",
       "      <td>1</td>\n",
       "    </tr>\n",
       "    <tr>\n",
       "      <th>76</th>\n",
       "      <td>76</td>\n",
       "      <td>Jennifer King</td>\n",
       "      <td>43.0</td>\n",
       "      <td>8024.08</td>\n",
       "      <td>0</td>\n",
       "      <td>4.08</td>\n",
       "      <td>12.0</td>\n",
       "      <td>1</td>\n",
       "    </tr>\n",
       "    <tr>\n",
       "      <th>110</th>\n",
       "      <td>110</td>\n",
       "      <td>Eileen Reyes</td>\n",
       "      <td>34.0</td>\n",
       "      <td>9228.84</td>\n",
       "      <td>1</td>\n",
       "      <td>5.29</td>\n",
       "      <td>12.0</td>\n",
       "      <td>1</td>\n",
       "    </tr>\n",
       "    <tr>\n",
       "      <th>75</th>\n",
       "      <td>75</td>\n",
       "      <td>Ryan Weaver</td>\n",
       "      <td>39.0</td>\n",
       "      <td>10110.40</td>\n",
       "      <td>1</td>\n",
       "      <td>5.78</td>\n",
       "      <td>13.0</td>\n",
       "      <td>1</td>\n",
       "    </tr>\n",
       "    <tr>\n",
       "      <th>376</th>\n",
       "      <td>376</td>\n",
       "      <td>James Rivas</td>\n",
       "      <td>38.0</td>\n",
       "      <td>9557.20</td>\n",
       "      <td>0</td>\n",
       "      <td>4.47</td>\n",
       "      <td>8.0</td>\n",
       "      <td>0</td>\n",
       "    </tr>\n",
       "  </tbody>\n",
       "</table>\n",
       "</div>\n",
       "      <button class=\"colab-df-convert\" onclick=\"convertToInteractive('df-2a63fdeb-7974-4cc8-bc5c-bcb5c38ef4c4')\"\n",
       "              title=\"Convert this dataframe to an interactive table.\"\n",
       "              style=\"display:none;\">\n",
       "        \n",
       "  <svg xmlns=\"http://www.w3.org/2000/svg\" height=\"24px\"viewBox=\"0 0 24 24\"\n",
       "       width=\"24px\">\n",
       "    <path d=\"M0 0h24v24H0V0z\" fill=\"none\"/>\n",
       "    <path d=\"M18.56 5.44l.94 2.06.94-2.06 2.06-.94-2.06-.94-.94-2.06-.94 2.06-2.06.94zm-11 1L8.5 8.5l.94-2.06 2.06-.94-2.06-.94L8.5 2.5l-.94 2.06-2.06.94zm10 10l.94 2.06.94-2.06 2.06-.94-2.06-.94-.94-2.06-.94 2.06-2.06.94z\"/><path d=\"M17.41 7.96l-1.37-1.37c-.4-.4-.92-.59-1.43-.59-.52 0-1.04.2-1.43.59L10.3 9.45l-7.72 7.72c-.78.78-.78 2.05 0 2.83L4 21.41c.39.39.9.59 1.41.59.51 0 1.02-.2 1.41-.59l7.78-7.78 2.81-2.81c.8-.78.8-2.07 0-2.86zM5.41 20L4 18.59l7.72-7.72 1.47 1.35L5.41 20z\"/>\n",
       "  </svg>\n",
       "      </button>\n",
       "      \n",
       "  <style>\n",
       "    .colab-df-container {\n",
       "      display:flex;\n",
       "      flex-wrap:wrap;\n",
       "      gap: 12px;\n",
       "    }\n",
       "\n",
       "    .colab-df-convert {\n",
       "      background-color: #E8F0FE;\n",
       "      border: none;\n",
       "      border-radius: 50%;\n",
       "      cursor: pointer;\n",
       "      display: none;\n",
       "      fill: #1967D2;\n",
       "      height: 32px;\n",
       "      padding: 0 0 0 0;\n",
       "      width: 32px;\n",
       "    }\n",
       "\n",
       "    .colab-df-convert:hover {\n",
       "      background-color: #E2EBFA;\n",
       "      box-shadow: 0px 1px 2px rgba(60, 64, 67, 0.3), 0px 1px 3px 1px rgba(60, 64, 67, 0.15);\n",
       "      fill: #174EA6;\n",
       "    }\n",
       "\n",
       "    [theme=dark] .colab-df-convert {\n",
       "      background-color: #3B4455;\n",
       "      fill: #D2E3FC;\n",
       "    }\n",
       "\n",
       "    [theme=dark] .colab-df-convert:hover {\n",
       "      background-color: #434B5C;\n",
       "      box-shadow: 0px 1px 3px 1px rgba(0, 0, 0, 0.15);\n",
       "      filter: drop-shadow(0px 1px 2px rgba(0, 0, 0, 0.3));\n",
       "      fill: #FFFFFF;\n",
       "    }\n",
       "  </style>\n",
       "\n",
       "      <script>\n",
       "        const buttonEl =\n",
       "          document.querySelector('#df-2a63fdeb-7974-4cc8-bc5c-bcb5c38ef4c4 button.colab-df-convert');\n",
       "        buttonEl.style.display =\n",
       "          google.colab.kernel.accessAllowed ? 'block' : 'none';\n",
       "\n",
       "        async function convertToInteractive(key) {\n",
       "          const element = document.querySelector('#df-2a63fdeb-7974-4cc8-bc5c-bcb5c38ef4c4');\n",
       "          const dataTable =\n",
       "            await google.colab.kernel.invokeFunction('convertToInteractive',\n",
       "                                                     [key], {});\n",
       "          if (!dataTable) return;\n",
       "\n",
       "          const docLinkHtml = 'Like what you see? Visit the ' +\n",
       "            '<a target=\"_blank\" href=https://colab.research.google.com/notebooks/data_table.ipynb>data table notebook</a>'\n",
       "            + ' to learn more about interactive tables.';\n",
       "          element.innerHTML = '';\n",
       "          dataTable['output_type'] = 'display_data';\n",
       "          await google.colab.output.renderOutput(dataTable, element);\n",
       "          const docLink = document.createElement('div');\n",
       "          docLink.innerHTML = docLinkHtml;\n",
       "          element.appendChild(docLink);\n",
       "        }\n",
       "      </script>\n",
       "    </div>\n",
       "  </div>\n",
       "  "
      ],
      "text/plain": [
       "     Unnamed: 0          Names   Age  Total_Purchase  Account_Manager  Years  \\\n",
       "122         122   James Newman  35.0         9766.95                1   4.59   \n",
       "76           76  Jennifer King  43.0         8024.08                0   4.08   \n",
       "110         110   Eileen Reyes  34.0         9228.84                1   5.29   \n",
       "75           75    Ryan Weaver  39.0        10110.40                1   5.78   \n",
       "376         376    James Rivas  38.0         9557.20                0   4.47   \n",
       "\n",
       "     Num_Sites  Churn  \n",
       "122       13.0      1  \n",
       "76        12.0      1  \n",
       "110       12.0      1  \n",
       "75        13.0      1  \n",
       "376        8.0      0  "
      ]
     },
     "execution_count": 633,
     "metadata": {},
     "output_type": "execute_result"
    }
   ],
   "source": [
    "df=pd.read_csv(\"churn.csv\")\n",
    "df.sample(5)"
   ]
  },
  {
   "cell_type": "code",
   "execution_count": 634,
   "metadata": {
    "colab": {
     "base_uri": "https://localhost:8080/"
    },
    "collapsed": true,
    "id": "O-VpVpGp63Zt",
    "outputId": "287b9543-00e6-40ce-80a7-a760e9836f3f"
   },
   "outputs": [
    {
     "data": {
      "text/plain": [
       "0    467\n",
       "1    433\n",
       "Name: Account_Manager, dtype: int64"
      ]
     },
     "execution_count": 634,
     "metadata": {},
     "output_type": "execute_result"
    }
   ],
   "source": [
    "df[\"Account_Manager\"].value_counts()"
   ]
  },
  {
   "cell_type": "code",
   "execution_count": 635,
   "metadata": {
    "colab": {
     "base_uri": "https://localhost:8080/"
    },
    "collapsed": true,
    "id": "9MMHQwsy7BhS",
    "outputId": "2902dc38-355b-4e16-9345-190656bb7a9f"
   },
   "outputs": [
    {
     "data": {
      "text/plain": [
       "8.0     213\n",
       "9.0     186\n",
       "7.0     146\n",
       "10.0    131\n",
       "11.0     83\n",
       "6.0      67\n",
       "12.0     32\n",
       "5.0      22\n",
       "13.0      8\n",
       "14.0      6\n",
       "4.0       4\n",
       "3.0       2\n",
       "Name: Num_Sites, dtype: int64"
      ]
     },
     "execution_count": 635,
     "metadata": {},
     "output_type": "execute_result"
    }
   ],
   "source": [
    "df[\"Num_Sites\"].value_counts()"
   ]
  },
  {
   "cell_type": "markdown",
   "metadata": {
    "id": "XXRgVlQRinbZ"
   },
   "source": [
    "### Create Spark Session"
   ]
  },
  {
   "cell_type": "code",
   "execution_count": 636,
   "metadata": {
    "id": "Z6lIJYHf_gVN"
   },
   "outputs": [],
   "source": [
    "from pyspark.conf import SparkConf\n",
    "\n",
    "spark=SparkSession.builder\\\n",
    "    .master(\"local\")\\\n",
    "    .appName(\"CustomerBehaviour\")\\\n",
    "    .getOrCreate()\n",
    "sc=spark.sparkContext"
   ]
  },
  {
   "cell_type": "markdown",
   "metadata": {
    "id": "oBI-BSf-9crH"
   },
   "source": [
    "### Preparing the data"
   ]
  },
  {
   "cell_type": "code",
   "execution_count": 637,
   "metadata": {
    "id": "bvIxr5QQ_gya"
   },
   "outputs": [],
   "source": [
    "spark_df = spark.read.csv(\"churn.csv\",header=True,inferSchema=True,sep=\",\")\n",
    "#inferSchema = True, helps so that every column is not a string\n",
    "#header = True, takes the column names into the df, other wise the column names will be c0, c1..."
   ]
  },
  {
   "cell_type": "code",
   "execution_count": 638,
   "metadata": {
    "colab": {
     "base_uri": "https://localhost:8080/"
    },
    "id": "EbrQZanu_xuk",
    "outputId": "93697f33-c89b-4521-9b03-c9bb6631a450"
   },
   "outputs": [
    {
     "name": "stdout",
     "output_type": "stream",
     "text": [
      "+---+----------------+----+--------------+---------------+-----+---------+-----+\n",
      "|_c0|           Names| Age|Total_Purchase|Account_Manager|Years|Num_Sites|Churn|\n",
      "+---+----------------+----+--------------+---------------+-----+---------+-----+\n",
      "|  0|Cameron Williams|42.0|       11066.8|              0| 7.22|      8.0|    1|\n",
      "|  1|   Kevin Mueller|41.0|      11916.22|              0|  6.5|     11.0|    1|\n",
      "|  2|     Eric Lozano|38.0|      12884.75|              0| 6.67|     12.0|    1|\n",
      "|  3|   Phillip White|42.0|       8010.76|              0| 6.71|     10.0|    1|\n",
      "|  4|  Cynthia Norton|37.0|       9191.58|              0| 5.56|      9.0|    1|\n",
      "+---+----------------+----+--------------+---------------+-----+---------+-----+\n",
      "only showing top 5 rows\n",
      "\n"
     ]
    }
   ],
   "source": [
    "spark_df.show(5)"
   ]
  },
  {
   "cell_type": "code",
   "execution_count": 639,
   "metadata": {
    "colab": {
     "base_uri": "https://localhost:8080/"
    },
    "id": "MqJPz7fR_1J-",
    "outputId": "00e7c743-e89f-4453-cc32-96fc02f755aa"
   },
   "outputs": [
    {
     "name": "stdout",
     "output_type": "stream",
     "text": [
      "root\n",
      " |-- _c0: integer (nullable = true)\n",
      " |-- Names: string (nullable = true)\n",
      " |-- Age: double (nullable = true)\n",
      " |-- Total_Purchase: double (nullable = true)\n",
      " |-- Account_Manager: integer (nullable = true)\n",
      " |-- Years: double (nullable = true)\n",
      " |-- Num_Sites: double (nullable = true)\n",
      " |-- Churn: integer (nullable = true)\n",
      "\n"
     ]
    }
   ],
   "source": [
    "spark_df.printSchema()"
   ]
  },
  {
   "cell_type": "code",
   "execution_count": 640,
   "metadata": {
    "id": "2U6nyTGciHre"
   },
   "outputs": [],
   "source": [
    "#rename first column to index\n",
    "spark_df=spark_df.withColumnRenamed(\"_c0\",\"index\")"
   ]
  },
  {
   "cell_type": "code",
   "execution_count": 641,
   "metadata": {
    "id": "GtLBqHruIMBJ"
   },
   "outputs": [],
   "source": [
    "#rename churn column to \"label\"\n",
    "spark_df=spark_df.withColumnRenamed(\"churn\",\"label\")"
   ]
  },
  {
   "cell_type": "markdown",
   "metadata": {
    "id": "LXKgc5j6Ipmv"
   },
   "source": [
    "When I tried to show the accuracy below in the code, it showed me an error that the column label doesn't exist, so I renamed the churn column to label and the error didn't occur.\n",
    "\n",
    "P.S.: Later on I read somewhere that Pyspark ML models wants to have \"features\" ,\"label\" datas"
   ]
  },
  {
   "cell_type": "code",
   "execution_count": 642,
   "metadata": {
    "colab": {
     "base_uri": "https://localhost:8080/"
    },
    "id": "UiqHcl0m0FZT",
    "outputId": "66c6f21f-6949-4a20-cbc4-732af85a4a61"
   },
   "outputs": [
    {
     "data": {
      "text/plain": [
       "['index',\n",
       " 'Names',\n",
       " 'Age',\n",
       " 'Total_Purchase',\n",
       " 'Account_Manager',\n",
       " 'Years',\n",
       " 'Num_Sites',\n",
       " 'label']"
      ]
     },
     "execution_count": 642,
     "metadata": {},
     "output_type": "execute_result"
    }
   ],
   "source": [
    "spark_df.columns"
   ]
  },
  {
   "cell_type": "code",
   "execution_count": 643,
   "metadata": {
    "colab": {
     "base_uri": "https://localhost:8080/"
    },
    "id": "DE3aokk_0WGi",
    "outputId": "bb4dbbe5-d808-44f7-c807-7f96b39f27f0"
   },
   "outputs": [
    {
     "name": "stdout",
     "output_type": "stream",
     "text": [
      "+-------+------------------+-------------+-----------------+-----------------+------------------+-----------------+------------------+-------------------+\n",
      "|summary|             index|        Names|              Age|   Total_Purchase|   Account_Manager|            Years|         Num_Sites|              label|\n",
      "+-------+------------------+-------------+-----------------+-----------------+------------------+-----------------+------------------+-------------------+\n",
      "|  count|               900|          900|              900|              900|               900|              900|               900|                900|\n",
      "|   mean|             449.5|         null|41.81666666666667|10062.82403333334|0.4811111111111111| 5.27315555555555| 8.587777777777777|0.16666666666666666|\n",
      "| stddev|259.95191863111916|         null|6.127560416916251|2408.644531858096|0.4999208935073339|1.274449013194616|1.7648355920350969| 0.3728852122772358|\n",
      "|    min|                 0|   Aaron King|             22.0|            100.0|                 0|              1.0|               3.0|                  0|\n",
      "|    max|               899|Zachary Walsh|             65.0|         18026.01|                 1|             9.15|              14.0|                  1|\n",
      "+-------+------------------+-------------+-----------------+-----------------+------------------+-----------------+------------------+-------------------+\n",
      "\n"
     ]
    }
   ],
   "source": [
    "spark_df.describe().show()"
   ]
  },
  {
   "cell_type": "code",
   "execution_count": 644,
   "metadata": {
    "colab": {
     "base_uri": "https://localhost:8080/"
    },
    "id": "ebSaJ9HP0fGN",
    "outputId": "01779bd6-2215-43dd-f6e5-756de687fe6a"
   },
   "outputs": [
    {
     "name": "stdout",
     "output_type": "stream",
     "text": [
      "+-----+-----+\n",
      "|label|count|\n",
      "+-----+-----+\n",
      "|    1|  150|\n",
      "|    0|  750|\n",
      "+-----+-----+\n",
      "\n"
     ]
    }
   ],
   "source": [
    "spark_df.groupby(\"label\").count().show()"
   ]
  },
  {
   "cell_type": "markdown",
   "metadata": {
    "id": "tw7BDWe398Fg"
   },
   "source": [
    "To combine all feature data and separate 'churn' data in a dataset, we use VectorAssembler. Then we split our data into train and test data"
   ]
  },
  {
   "cell_type": "code",
   "execution_count": 645,
   "metadata": {
    "id": "u2R_tMnJ6GC9"
   },
   "outputs": [],
   "source": [
    "from pyspark.ml.feature import VectorAssembler"
   ]
  },
  {
   "cell_type": "code",
   "execution_count": 646,
   "metadata": {
    "id": "s--CUmLH8Lr1"
   },
   "outputs": [],
   "source": [
    "#Index and Names columns will not have an impact on our predictions, so we don't take them into our Assembler\n",
    "vect = VectorAssembler(inputCols=['Age','Total_Purchase','Account_Manager','Years','Num_Sites'],outputCol='features')"
   ]
  },
  {
   "cell_type": "code",
   "execution_count": 647,
   "metadata": {
    "colab": {
     "base_uri": "https://localhost:8080/"
    },
    "id": "ZYbfEFij85IU",
    "outputId": "d920eb55-471f-4f8b-ac84-877c12c7e35c"
   },
   "outputs": [
    {
     "name": "stdout",
     "output_type": "stream",
     "text": [
      "+--------------------+-----+\n",
      "|            features|label|\n",
      "+--------------------+-----+\n",
      "|[42.0,11066.8,0.0...|    1|\n",
      "|[41.0,11916.22,0....|    1|\n",
      "|[38.0,12884.75,0....|    1|\n",
      "+--------------------+-----+\n",
      "only showing top 3 rows\n",
      "\n"
     ]
    }
   ],
   "source": [
    "vect_df = vect.transform(spark_df) #transform our DataFrame to a vector\n",
    "vect_df = vect_df.select(['features', 'label']) # we only select 'features' and 'label' columns because Pyspark ML models wants the dataset like this\n",
    "vect_df.show(3)"
   ]
  },
  {
   "cell_type": "code",
   "execution_count": 648,
   "metadata": {
    "id": "DTA4qvN46Nw6"
   },
   "outputs": [],
   "source": [
    "# split data into train and test \n",
    "(train, test) = vect_df.randomSplit([0.9, 0.1])"
   ]
  },
  {
   "cell_type": "code",
   "execution_count": 664,
   "metadata": {
    "colab": {
     "base_uri": "https://localhost:8080/"
    },
    "id": "3D54AVGN9P4e",
    "outputId": "6888ef07-72d9-47fe-bfd3-1fccf6d6c4b1"
   },
   "outputs": [
    {
     "name": "stdout",
     "output_type": "stream",
     "text": [
      "+--------------------+-----+\n",
      "|            features|label|\n",
      "+--------------------+-----+\n",
      "|[22.0,11254.38,1....|    0|\n",
      "|[25.0,9672.03,0.0...|    0|\n",
      "|[26.0,8787.39,1.0...|    1|\n",
      "+--------------------+-----+\n",
      "only showing top 3 rows\n",
      "\n"
     ]
    },
    {
     "data": {
      "text/plain": [
       "(None,\n",
       " <bound method DataFrame.count of DataFrame[features: vector, label: int]>)"
      ]
     },
     "execution_count": 664,
     "metadata": {},
     "output_type": "execute_result"
    }
   ],
   "source": [
    "train.show(3)"
   ]
  },
  {
   "cell_type": "code",
   "execution_count": 650,
   "metadata": {
    "colab": {
     "base_uri": "https://localhost:8080/"
    },
    "id": "BgS7L-ugEmXF",
    "outputId": "0808a052-2785-4c89-c044-362a35e6f7e2"
   },
   "outputs": [
    {
     "name": "stdout",
     "output_type": "stream",
     "text": [
      "+--------------------+-----+\n",
      "|            features|label|\n",
      "+--------------------+-----+\n",
      "|[27.0,8628.8,1.0,...|    0|\n",
      "|[30.0,12788.37,0....|    0|\n",
      "|[32.0,5756.12,0.0...|    0|\n",
      "+--------------------+-----+\n",
      "only showing top 3 rows\n",
      "\n"
     ]
    }
   ],
   "source": [
    "test.show(3)"
   ]
  },
  {
   "cell_type": "markdown",
   "metadata": {
    "id": "3ZcAxdNHF2-Y"
   },
   "source": [
    "### Using  Gradient-boosted Tree Classifier to fit and predict our model"
   ]
  },
  {
   "cell_type": "code",
   "execution_count": 651,
   "metadata": {
    "id": "ueKy8KogErKJ"
   },
   "outputs": [],
   "source": [
    "# fit the model on train data\n",
    "gbtc = GBTClassifier(labelCol=\"label\", maxIter=20) #max itteration 20\n",
    "gbtc = gbtc.fit(train) # fit train data\n",
    "\n",
    "# predict\n",
    "pred = gbtc.transform(test) #transform() method is for predicting instead of predict()"
   ]
  },
  {
   "cell_type": "code",
   "execution_count": 652,
   "metadata": {
    "colab": {
     "base_uri": "https://localhost:8080/"
    },
    "id": "WTjLmxDaFhqv",
    "outputId": "fc28a245-4f98-408d-d5dc-432b37f5c1c0"
   },
   "outputs": [
    {
     "name": "stdout",
     "output_type": "stream",
     "text": [
      "+--------------------+-----+--------------------+--------------------+----------+\n",
      "|            features|label|       rawPrediction|         probability|prediction|\n",
      "+--------------------+-----+--------------------+--------------------+----------+\n",
      "|[27.0,8628.8,1.0,...|    0|[1.26113490121831...|[0.92568834420212...|       0.0|\n",
      "|[30.0,12788.37,0....|    0|[0.78232502750770...|[0.82701959333826...|       0.0|\n",
      "|[32.0,5756.12,0.0...|    0|[1.28328904187560...|[0.92867938095815...|       0.0|\n",
      "|[32.0,12254.75,1....|    0|[0.98188947904986...|[0.87694134079162...|       0.0|\n",
      "|[32.0,13630.93,0....|    0|[1.66467796868417...|[0.96542227599104...|       0.0|\n",
      "+--------------------+-----+--------------------+--------------------+----------+\n",
      "only showing top 5 rows\n",
      "\n"
     ]
    }
   ],
   "source": [
    "pred.show(5)"
   ]
  },
  {
   "cell_type": "markdown",
   "metadata": {
    "id": "HOhzo1kLGa9v"
   },
   "source": [
    "### Check the accuracy using MulticlassClassificationEvaluator"
   ]
  },
  {
   "cell_type": "code",
   "execution_count": 653,
   "metadata": {
    "id": "MEokORIzGxEX"
   },
   "outputs": [],
   "source": [
    "from pyspark.ml.evaluation import MulticlassClassificationEvaluator\n",
    "from sklearn.metrics import confusion_matrix"
   ]
  },
  {
   "cell_type": "code",
   "execution_count": 654,
   "metadata": {
    "id": "mMGGvw-xFsYA"
   },
   "outputs": [],
   "source": [
    "evaluator=MulticlassClassificationEvaluator(metricName=\"accuracy\")"
   ]
  },
  {
   "cell_type": "code",
   "execution_count": 655,
   "metadata": {
    "colab": {
     "base_uri": "https://localhost:8080/"
    },
    "id": "vCVHCBYrHMTm",
    "outputId": "8602afc4-ca05-468d-94fe-6bd9b0b1aa11"
   },
   "outputs": [
    {
     "name": "stdout",
     "output_type": "stream",
     "text": [
      "Accuracy Score:  0.9523809523809523\n"
     ]
    }
   ],
   "source": [
    "acc = evaluator.evaluate(pred)\n",
    "print(\"Accuracy Score: \", acc)"
   ]
  },
  {
   "cell_type": "markdown",
   "metadata": {
    "id": "ryJ6-5MPJIcg"
   },
   "source": [
    "Create a confusion matrix"
   ]
  },
  {
   "cell_type": "code",
   "execution_count": 656,
   "metadata": {
    "id": "lgq86RVwHUXb"
   },
   "outputs": [],
   "source": [
    "y_predict=pred.select(\"prediction\").collect()\n",
    "y_original=pred.select(\"label\").collect()\n",
    "confmatrix = confusion_matrix(y_original, y_predict)"
   ]
  },
  {
   "cell_type": "code",
   "execution_count": 657,
   "metadata": {
    "colab": {
     "base_uri": "https://localhost:8080/"
    },
    "id": "NpvA4oZuJVBJ",
    "outputId": "98bd4f46-3100-403a-b056-d17b70ca251c"
   },
   "outputs": [
    {
     "name": "stdout",
     "output_type": "stream",
     "text": [
      "Confusion Matrix:\n",
      "[[73  3]\n",
      " [ 1  7]]\n"
     ]
    }
   ],
   "source": [
    "print(\"Confusion Matrix:\")\n",
    "print(confmatrix)"
   ]
  },
  {
   "cell_type": "markdown",
   "metadata": {
    "id": "upSdmzuYLNV4"
   },
   "source": [
    "### Linear Regression with Spark"
   ]
  },
  {
   "cell_type": "code",
   "execution_count": 658,
   "metadata": {
    "id": "EwKZj8jBN-pJ"
   },
   "outputs": [],
   "source": [
    "from pyspark.ml.regression import LinearRegression"
   ]
  },
  {
   "cell_type": "code",
   "execution_count": 659,
   "metadata": {
    "colab": {
     "base_uri": "https://localhost:8080/"
    },
    "id": "Imy0XBK7LPye",
    "outputId": "470e647f-ba8d-4d35-cd18-8e0e0ceb707c",
    "scrolled": true
   },
   "outputs": [
    {
     "name": "stdout",
     "output_type": "stream",
     "text": [
      "(0.17401960784313725, 0)\n",
      "(0.17401960784313725, 0)\n",
      "(0.17401960784313725, 0)\n",
      "(0.17401960784313725, 0)\n",
      "(0.17401960784313725, 0)\n",
      "(0.17401960784313725, 0)\n",
      "(0.17401960784313725, 0)\n",
      "(0.17401960784313725, 0)\n",
      "(0.17401960784313725, 1)\n",
      "(0.17401960784313725, 0)\n",
      "(0.17401960784313725, 0)\n",
      "(0.17401960784313725, 0)\n",
      "(0.17401960784313725, 0)\n",
      "(0.17401960784313725, 0)\n",
      "(0.17401960784313725, 0)\n",
      "(0.17401960784313725, 0)\n",
      "(0.17401960784313725, 0)\n",
      "(0.17401960784313725, 0)\n",
      "(0.17401960784313725, 0)\n",
      "(0.17401960784313725, 1)\n",
      "(0.17401960784313725, 0)\n",
      "(0.17401960784313725, 0)\n",
      "(0.17401960784313725, 0)\n",
      "(0.17401960784313725, 1)\n",
      "(0.17401960784313725, 0)\n",
      "(0.17401960784313725, 0)\n",
      "(0.17401960784313725, 0)\n",
      "(0.17401960784313725, 0)\n",
      "(0.17401960784313725, 0)\n",
      "(0.17401960784313725, 0)\n",
      "(0.17401960784313725, 0)\n",
      "(0.17401960784313725, 1)\n",
      "(0.17401960784313725, 0)\n",
      "(0.17401960784313725, 0)\n",
      "(0.17401960784313725, 0)\n",
      "(0.17401960784313725, 0)\n",
      "(0.17401960784313725, 0)\n",
      "(0.17401960784313725, 0)\n",
      "(0.17401960784313725, 0)\n",
      "(0.17401960784313725, 1)\n",
      "(0.17401960784313725, 0)\n",
      "(0.17401960784313725, 0)\n",
      "(0.17401960784313725, 0)\n",
      "(0.17401960784313725, 0)\n",
      "(0.17401960784313725, 0)\n",
      "(0.17401960784313725, 0)\n",
      "(0.17401960784313725, 0)\n",
      "(0.17401960784313725, 0)\n",
      "(0.17401960784313725, 0)\n",
      "(0.17401960784313725, 0)\n",
      "(0.17401960784313725, 0)\n",
      "(0.17401960784313725, 0)\n",
      "(0.17401960784313725, 1)\n",
      "(0.17401960784313725, 0)\n",
      "(0.17401960784313725, 0)\n",
      "(0.17401960784313725, 0)\n",
      "(0.17401960784313725, 0)\n",
      "(0.17401960784313725, 1)\n",
      "(0.17401960784313725, 0)\n",
      "(0.17401960784313725, 0)\n",
      "(0.17401960784313725, 0)\n",
      "(0.17401960784313725, 0)\n",
      "(0.17401960784313725, 0)\n",
      "(0.17401960784313725, 0)\n",
      "(0.17401960784313725, 0)\n",
      "(0.17401960784313725, 0)\n",
      "(0.17401960784313725, 0)\n",
      "(0.17401960784313725, 0)\n",
      "(0.17401960784313725, 0)\n",
      "(0.17401960784313725, 0)\n",
      "(0.17401960784313725, 0)\n",
      "(0.17401960784313725, 0)\n",
      "(0.17401960784313725, 0)\n",
      "(0.17401960784313725, 0)\n",
      "(0.17401960784313725, 0)\n",
      "(0.17401960784313725, 0)\n",
      "(0.17401960784313725, 0)\n",
      "(0.17401960784313725, 0)\n",
      "(0.17401960784313725, 0)\n",
      "(0.17401960784313725, 0)\n",
      "(0.17401960784313725, 1)\n",
      "(0.17401960784313725, 0)\n",
      "(0.17401960784313725, 0)\n",
      "(0.17401960784313725, 0)\n"
     ]
    }
   ],
   "source": [
    "#Create Linear regression model\n",
    "lir = LinearRegression(maxIter=10, regParam=0.3, elasticNetParam=0.8)\n",
    "\n",
    "# Train the model using our training data\n",
    "model = lir.fit(train)\n",
    "\n",
    "# Now see if we can predict values in our test data.\n",
    "# Generate predictions using our linear regression model for all features in our\n",
    "# test dataframe:\n",
    "fullPredictions = model.transform(test).cache()\n",
    "\n",
    "# Extract the predictions and the \"known\" correct labels.\n",
    "predictions = fullPredictions.select(\"prediction\").rdd.map(lambda x: x[0])\n",
    "labels = fullPredictions.select(\"label\").rdd.map(lambda x: x[0])\n",
    "\n",
    "# Zip them together\n",
    "predictionAndLabel = predictions.zip(labels).collect()\n",
    "\n",
    "# Print out the predicted and actual values for each point\n",
    "for prediction in predictionAndLabel:\n",
    "  print(prediction)"
   ]
  },
  {
   "cell_type": "markdown",
   "metadata": {
    "id": "eaPKOjMFTBri"
   },
   "source": [
    "I didn't understand the outcome of Linear Regression"
   ]
  },
  {
   "cell_type": "markdown",
   "metadata": {
    "id": "qs8LjyypNk2U"
   },
   "source": [
    "### Logistic Regression with Spark"
   ]
  },
  {
   "cell_type": "code",
   "execution_count": 669,
   "metadata": {
    "id": "HfYyfxbLLbgK"
   },
   "outputs": [],
   "source": [
    "from pyspark.ml.classification import LogisticRegression\n",
    "from pyspark.ml.evaluation import BinaryClassificationEvaluator"
   ]
  },
  {
   "cell_type": "code",
   "execution_count": 661,
   "metadata": {
    "colab": {
     "base_uri": "https://localhost:8080/"
    },
    "id": "jIgGmmEgNwKG",
    "outputId": "ddc029d0-0f4f-4a6e-a744-51556c3c360d"
   },
   "outputs": [
    {
     "name": "stdout",
     "output_type": "stream",
     "text": [
      "+-------+-------------------+-------------------+\n",
      "|summary|              label|         prediction|\n",
      "+-------+-------------------+-------------------+\n",
      "|  count|                816|                816|\n",
      "|   mean|0.17401960784313725|0.12990196078431374|\n",
      "| stddev|0.37935886450868445| 0.3364017320791374|\n",
      "|    min|                0.0|                0.0|\n",
      "|    max|                1.0|                1.0|\n",
      "+-------+-------------------+-------------------+\n",
      "\n"
     ]
    }
   ],
   "source": [
    "# Create Logistic Regression model \n",
    "lg = LogisticRegression(labelCol='label')\n",
    "lg_model = lg.fit(train) #fit the model\n",
    "training_sum = lg_model.summary\n",
    "training_sum.predictions.describe().show()"
   ]
  },
  {
   "cell_type": "code",
   "execution_count": 662,
   "metadata": {
    "colab": {
     "base_uri": "https://localhost:8080/"
    },
    "id": "rz8hyGQiLqYr",
    "outputId": "48c658ab-febc-43ca-baeb-b0a6b17d54fd"
   },
   "outputs": [
    {
     "name": "stdout",
     "output_type": "stream",
     "text": [
      "+--------------------+-----+--------------------+--------------------+----------+\n",
      "|            features|label|       rawPrediction|         probability|prediction|\n",
      "+--------------------+-----+--------------------+--------------------+----------+\n",
      "|[27.0,8628.8,1.0,...|    0|[5.37084399282023...|[0.99537131939924...|       0.0|\n",
      "|[30.0,12788.37,0....|    0|[2.47087909669794...|[0.92207495381312...|       0.0|\n",
      "|[32.0,5756.12,0.0...|    0|[4.08599598278138...|[0.98347139413087...|       0.0|\n",
      "|[32.0,12254.75,1....|    0|[2.53956208329779...|[0.92686914893637...|       0.0|\n",
      "|[32.0,13630.93,0....|    0|[2.27723086649077...|[0.90697367151261...|       0.0|\n",
      "|[34.0,7324.32,0.0...|    0|[1.07493410726540...|[0.74553411362035...|       0.0|\n",
      "|[35.0,7361.92,1.0...|    0|[2.74423847211813...|[0.93958713445352...|       0.0|\n",
      "|[35.0,7814.68,1.0...|    0|[2.14348096666331...|[0.89505802466631...|       0.0|\n",
      "|[35.0,9766.95,1.0...|    1|[-1.8858521844061...|[0.13171812450298...|       1.0|\n",
      "|[35.0,12654.35,0....|    0|[7.25504223694179...|[0.99929389640065...|       0.0|\n",
      "|[35.0,13480.91,1....|    0|[5.20901176427108...|[0.99456265260280...|       0.0|\n",
      "|[35.0,15571.26,0....|    0|[2.02581376151292...|[0.88348082759183...|       0.0|\n",
      "|[36.0,8233.25,1.0...|    0|[5.38279415328163...|[0.99542605219003...|       0.0|\n",
      "|[36.0,8918.52,0.0...|    0|[5.02669087167988...|[0.99348227525565...|       0.0|\n",
      "|[36.0,8931.09,1.0...|    0|[3.52563029450467...|[0.97140829683866...|       0.0|\n",
      "|[36.0,8948.86,0.0...|    0|[0.50250730235170...|[0.62304837539188...|       0.0|\n",
      "|[36.0,11047.43,0....|    0|[3.59545098899789...|[0.97328498041010...|       0.0|\n",
      "|[37.0,6362.93,1.0...|    0|[3.99190410165544...|[0.98187023514878...|       0.0|\n",
      "|[37.0,8614.75,0.0...|    0|[2.98203557109760...|[0.95175592375094...|       0.0|\n",
      "|[37.0,11145.95,1....|    1|[-0.4142791661088...|[0.39788650261138...|       1.0|\n",
      "+--------------------+-----+--------------------+--------------------+----------+\n",
      "only showing top 20 rows\n",
      "\n"
     ]
    }
   ],
   "source": [
    "preds = lg_model.evaluate(test)\n",
    "preds.predictions.show()"
   ]
  },
  {
   "cell_type": "code",
   "execution_count": 663,
   "metadata": {
    "colab": {
     "base_uri": "https://localhost:8080/"
    },
    "id": "9hn-ZcJtLwzm",
    "outputId": "72e41fd5-5d97-41cb-814a-6bd7bbc60aad"
   },
   "outputs": [
    {
     "name": "stdout",
     "output_type": "stream",
     "text": [
      "0.924342105263158\n"
     ]
    }
   ],
   "source": [
    "# Using AUC (Area Under Curve)\n",
    "eval = BinaryClassificationEvaluator(rawPredictionCol='prediction',labelCol='label')\n",
    "acc = eval.evaluate(preds.predictions)\n",
    "print(acc)"
   ]
  },
  {
   "cell_type": "markdown",
   "metadata": {
    "id": "TDyRFkdOP_SH"
   },
   "source": [
    "I have a question here: I started the Runtime over and over and always got very different acc scores from 70%-90%+. Why does it differ so much everytime i restart the code. If I remember correctly, in our other classification or regression models without using spark our model would always have the same acc score"
   ]
  },
  {
   "cell_type": "markdown",
   "metadata": {
    "id": "p1uSACT4UcKT"
   },
   "source": [
    "### Decision Tree Classifier"
   ]
  },
  {
   "cell_type": "code",
   "execution_count": null,
   "metadata": {
    "id": "mHljnoAfUiDG"
   },
   "outputs": [],
   "source": [
    "from pyspark.ml.classification import DecisionTreeClassifier"
   ]
  },
  {
   "cell_type": "code",
   "execution_count": 666,
   "metadata": {
    "colab": {
     "base_uri": "https://localhost:8080/"
    },
    "id": "j9-NgHpOQYga",
    "outputId": "01d41416-c190-4f7c-857d-13cc2a815382"
   },
   "outputs": [
    {
     "name": "stdout",
     "output_type": "stream",
     "text": [
      "+-----+----------+-----------------------------------------+\n",
      "|label|prediction|probability                              |\n",
      "+-----+----------+-----------------------------------------+\n",
      "|0    |0.0       |[0.9753086419753086,0.024691358024691357]|\n",
      "|0    |0.0       |[0.9245283018867925,0.07547169811320754] |\n",
      "|0    |0.0       |[0.9753086419753086,0.024691358024691357]|\n",
      "|0    |0.0       |[0.9135802469135802,0.08641975308641975] |\n",
      "|0    |0.0       |[0.9245283018867925,0.07547169811320754] |\n",
      "+-----+----------+-----------------------------------------+\n",
      "only showing top 5 rows\n",
      "\n"
     ]
    }
   ],
   "source": [
    "# Create a DecisionTreeClassifier and fit the training data\n",
    "dtc = DecisionTreeClassifier()\n",
    "dtc_model = dtc.fit(train)\n",
    "\n",
    "# Create predictions for the testing data and take a look at the predictions\n",
    "prediction = dtc_model.transform(test)\n",
    "prediction.select('label', 'prediction', 'probability').show(5, False)"
   ]
  },
  {
   "cell_type": "code",
   "execution_count": 667,
   "metadata": {
    "colab": {
     "base_uri": "https://localhost:8080/"
    },
    "id": "yVtDGFRdUfpc",
    "outputId": "dd8b306a-8069-4d76-d97f-7f1e68918607"
   },
   "outputs": [
    {
     "name": "stdout",
     "output_type": "stream",
     "text": [
      "+-----+----------+-----+\n",
      "|label|prediction|count|\n",
      "+-----+----------+-----+\n",
      "|    1|       0.0|    1|\n",
      "|    0|       0.0|   75|\n",
      "|    1|       1.0|    7|\n",
      "|    0|       1.0|    1|\n",
      "+-----+----------+-----+\n",
      "\n",
      "0.9761904761904762\n"
     ]
    }
   ],
   "source": [
    "prediction.groupBy('label', 'prediction').count().show()\n",
    "\n",
    "# Calculate the elements of the confusion matrix\n",
    "TN = prediction.filter('prediction = 0 AND label = prediction').count() #True Negatives\n",
    "TP = prediction.filter('prediction = 1 AND label = prediction').count() #True Positives\n",
    "FN = prediction.filter('prediction = 0 AND label = 1').count() #False Negatives\n",
    "FP = prediction.filter('prediction = 1 AND label = 0').count() #False Psotives\n",
    "\n",
    "# Accuracy measures the proportion of correct predictions\n",
    "acc = (TN + TP) / (TN + TP + FN + FP)\n",
    "print(acc)"
   ]
  },
  {
   "cell_type": "code",
   "execution_count": 668,
   "metadata": {
    "id": "2UWSC1j1UuiL"
   },
   "outputs": [],
   "source": [
    "sc.stop()"
   ]
  },
  {
   "cell_type": "code",
   "execution_count": null,
   "metadata": {
    "id": "HjyYp6tKWwwY"
   },
   "outputs": [],
   "source": []
  }
 ],
 "metadata": {
  "colab": {
   "provenance": [],
   "toc_visible": true
  },
  "kernelspec": {
   "display_name": "Python 3 (ipykernel)",
   "language": "python",
   "name": "python3"
  },
  "language_info": {
   "codemirror_mode": {
    "name": "ipython",
    "version": 3
   },
   "file_extension": ".py",
   "mimetype": "text/x-python",
   "name": "python",
   "nbconvert_exporter": "python",
   "pygments_lexer": "ipython3",
   "version": "3.9.12"
  }
 },
 "nbformat": 4,
 "nbformat_minor": 1
}
