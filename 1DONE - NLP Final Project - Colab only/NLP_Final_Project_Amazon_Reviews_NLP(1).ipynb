{
  "nbformat": 4,
  "nbformat_minor": 0,
  "metadata": {
    "colab": {
      "provenance": [],
      "collapsed_sections": []
    },
    "kernelspec": {
      "name": "python3",
      "display_name": "Python 3"
    },
    "language_info": {
      "name": "python"
    }
  },
  "cells": [
    {
      "cell_type": "code",
      "execution_count": 2,
      "metadata": {
        "id": "jWC2UaT7Q30H"
      },
      "outputs": [],
      "source": [
        "#Import Libraries\n",
        "import pandas as pd\n",
        "import matplotlib.pyplot as plt\n",
        "import seaborn as sns\n",
        "import numpy as np\n",
        "import re"
      ]
    },
    {
      "cell_type": "code",
      "source": [
        "import os\n",
        "import pandas as pd\n",
        "\n",
        "dataset = \"Electronics_5.json\"\n",
        "\n",
        "if os.path.isfile(dataset):\n",
        "    df = pd.read_json(\"Electronics_5.json\", lines=True)\n",
        "else:\n",
        "    url = r\"http://snap.stanford.edu/data/amazon/productGraph/categoryFiles/reviews_Electronics_5.json.gz\"\n",
        "    df = pd.read_json(url, compression='gzip', lines=True)\n",
        "\n",
        "display(df.head(10))"
      ],
      "metadata": {
        "colab": {
          "base_uri": "https://localhost:8080/",
          "height": 581
        },
        "id": "8t1UUYZmRJts",
        "outputId": "02ee2601-ff7a-4d72-d58b-395c4f1f0d36"
      },
      "execution_count": 3,
      "outputs": [
        {
          "output_type": "display_data",
          "data": {
            "text/plain": [
              "       reviewerID        asin                           reviewerName  \\\n",
              "0   AO94DHGC771SJ  0528881469                                amazdnu   \n",
              "1   AMO214LNFCEI4  0528881469                        Amazon Customer   \n",
              "2  A3N7T0DY83Y4IG  0528881469                          C. A. Freeman   \n",
              "3  A1H8PY3QHMQQA0  0528881469               Dave M. Shaw \"mack dave\"   \n",
              "4  A24EV6RXELQZ63  0528881469                            Wayne Smith   \n",
              "5  A2JXAZZI9PHK9Z  0594451647          Billy G. Noland \"Bill Noland\"   \n",
              "6  A2P5U7BDKKT7FW  0594451647                              Christian   \n",
              "7   AAZ084UMH8VZ2  0594451647  D. L. Brown \"A Knower Of Good Things\"   \n",
              "8   AEZ3CR6BKIROJ  0594451647                           Mark Dietter   \n",
              "9  A3BY5KCNQZXV5U  0594451647                                Matenai   \n",
              "\n",
              "    helpful                                         reviewText  overall  \\\n",
              "0    [0, 0]  We got this GPS for my husband who is an (OTR)...        5   \n",
              "1  [12, 15]  I'm a professional OTR truck driver, and I bou...        1   \n",
              "2  [43, 45]  Well, what can I say.  I've had this unit in m...        3   \n",
              "3   [9, 10]  Not going to write a long review, even thought...        2   \n",
              "4    [0, 0]  I've had mine for a year and here's what we go...        1   \n",
              "5    [3, 3]  I am using this with a Nook HD+. It works as d...        5   \n",
              "6    [0, 0]  The cable is very wobbly and sometimes disconn...        2   \n",
              "7    [0, 0]  This adaptor is real easy to setup and use rig...        5   \n",
              "8    [0, 0]  This adapter easily connects my Nook HD 7&#34;...        4   \n",
              "9    [3, 3]  This product really works great but I found th...        5   \n",
              "\n",
              "                                    summary  unixReviewTime   reviewTime  \n",
              "0                           Gotta have GPS!      1370131200   06 2, 2013  \n",
              "1                         Very Disappointed      1290643200  11 25, 2010  \n",
              "2                            1st impression      1283990400   09 9, 2010  \n",
              "3                   Great grafics, POOR GPS      1290556800  11 24, 2010  \n",
              "4    Major issues, only excuses for support      1317254400  09 29, 2011  \n",
              "5                   HDMI Nook adapter cable      1388707200   01 3, 2014  \n",
              "6                    Cheap proprietary scam      1398556800  04 27, 2014  \n",
              "7               A Perfdect Nook HD+ hook up      1399161600   05 4, 2014  \n",
              "8             A nice easy to use accessory.      1405036800  07 11, 2014  \n",
              "9  This works great but read the details...      1390176000  01 20, 2014  "
            ],
            "text/html": [
              "\n",
              "  <div id=\"df-35facf92-59e2-48c9-bbb8-df48eaefa2b5\">\n",
              "    <div class=\"colab-df-container\">\n",
              "      <div>\n",
              "<style scoped>\n",
              "    .dataframe tbody tr th:only-of-type {\n",
              "        vertical-align: middle;\n",
              "    }\n",
              "\n",
              "    .dataframe tbody tr th {\n",
              "        vertical-align: top;\n",
              "    }\n",
              "\n",
              "    .dataframe thead th {\n",
              "        text-align: right;\n",
              "    }\n",
              "</style>\n",
              "<table border=\"1\" class=\"dataframe\">\n",
              "  <thead>\n",
              "    <tr style=\"text-align: right;\">\n",
              "      <th></th>\n",
              "      <th>reviewerID</th>\n",
              "      <th>asin</th>\n",
              "      <th>reviewerName</th>\n",
              "      <th>helpful</th>\n",
              "      <th>reviewText</th>\n",
              "      <th>overall</th>\n",
              "      <th>summary</th>\n",
              "      <th>unixReviewTime</th>\n",
              "      <th>reviewTime</th>\n",
              "    </tr>\n",
              "  </thead>\n",
              "  <tbody>\n",
              "    <tr>\n",
              "      <th>0</th>\n",
              "      <td>AO94DHGC771SJ</td>\n",
              "      <td>0528881469</td>\n",
              "      <td>amazdnu</td>\n",
              "      <td>[0, 0]</td>\n",
              "      <td>We got this GPS for my husband who is an (OTR)...</td>\n",
              "      <td>5</td>\n",
              "      <td>Gotta have GPS!</td>\n",
              "      <td>1370131200</td>\n",
              "      <td>06 2, 2013</td>\n",
              "    </tr>\n",
              "    <tr>\n",
              "      <th>1</th>\n",
              "      <td>AMO214LNFCEI4</td>\n",
              "      <td>0528881469</td>\n",
              "      <td>Amazon Customer</td>\n",
              "      <td>[12, 15]</td>\n",
              "      <td>I'm a professional OTR truck driver, and I bou...</td>\n",
              "      <td>1</td>\n",
              "      <td>Very Disappointed</td>\n",
              "      <td>1290643200</td>\n",
              "      <td>11 25, 2010</td>\n",
              "    </tr>\n",
              "    <tr>\n",
              "      <th>2</th>\n",
              "      <td>A3N7T0DY83Y4IG</td>\n",
              "      <td>0528881469</td>\n",
              "      <td>C. A. Freeman</td>\n",
              "      <td>[43, 45]</td>\n",
              "      <td>Well, what can I say.  I've had this unit in m...</td>\n",
              "      <td>3</td>\n",
              "      <td>1st impression</td>\n",
              "      <td>1283990400</td>\n",
              "      <td>09 9, 2010</td>\n",
              "    </tr>\n",
              "    <tr>\n",
              "      <th>3</th>\n",
              "      <td>A1H8PY3QHMQQA0</td>\n",
              "      <td>0528881469</td>\n",
              "      <td>Dave M. Shaw \"mack dave\"</td>\n",
              "      <td>[9, 10]</td>\n",
              "      <td>Not going to write a long review, even thought...</td>\n",
              "      <td>2</td>\n",
              "      <td>Great grafics, POOR GPS</td>\n",
              "      <td>1290556800</td>\n",
              "      <td>11 24, 2010</td>\n",
              "    </tr>\n",
              "    <tr>\n",
              "      <th>4</th>\n",
              "      <td>A24EV6RXELQZ63</td>\n",
              "      <td>0528881469</td>\n",
              "      <td>Wayne Smith</td>\n",
              "      <td>[0, 0]</td>\n",
              "      <td>I've had mine for a year and here's what we go...</td>\n",
              "      <td>1</td>\n",
              "      <td>Major issues, only excuses for support</td>\n",
              "      <td>1317254400</td>\n",
              "      <td>09 29, 2011</td>\n",
              "    </tr>\n",
              "    <tr>\n",
              "      <th>5</th>\n",
              "      <td>A2JXAZZI9PHK9Z</td>\n",
              "      <td>0594451647</td>\n",
              "      <td>Billy G. Noland \"Bill Noland\"</td>\n",
              "      <td>[3, 3]</td>\n",
              "      <td>I am using this with a Nook HD+. It works as d...</td>\n",
              "      <td>5</td>\n",
              "      <td>HDMI Nook adapter cable</td>\n",
              "      <td>1388707200</td>\n",
              "      <td>01 3, 2014</td>\n",
              "    </tr>\n",
              "    <tr>\n",
              "      <th>6</th>\n",
              "      <td>A2P5U7BDKKT7FW</td>\n",
              "      <td>0594451647</td>\n",
              "      <td>Christian</td>\n",
              "      <td>[0, 0]</td>\n",
              "      <td>The cable is very wobbly and sometimes disconn...</td>\n",
              "      <td>2</td>\n",
              "      <td>Cheap proprietary scam</td>\n",
              "      <td>1398556800</td>\n",
              "      <td>04 27, 2014</td>\n",
              "    </tr>\n",
              "    <tr>\n",
              "      <th>7</th>\n",
              "      <td>AAZ084UMH8VZ2</td>\n",
              "      <td>0594451647</td>\n",
              "      <td>D. L. Brown \"A Knower Of Good Things\"</td>\n",
              "      <td>[0, 0]</td>\n",
              "      <td>This adaptor is real easy to setup and use rig...</td>\n",
              "      <td>5</td>\n",
              "      <td>A Perfdect Nook HD+ hook up</td>\n",
              "      <td>1399161600</td>\n",
              "      <td>05 4, 2014</td>\n",
              "    </tr>\n",
              "    <tr>\n",
              "      <th>8</th>\n",
              "      <td>AEZ3CR6BKIROJ</td>\n",
              "      <td>0594451647</td>\n",
              "      <td>Mark Dietter</td>\n",
              "      <td>[0, 0]</td>\n",
              "      <td>This adapter easily connects my Nook HD 7&amp;#34;...</td>\n",
              "      <td>4</td>\n",
              "      <td>A nice easy to use accessory.</td>\n",
              "      <td>1405036800</td>\n",
              "      <td>07 11, 2014</td>\n",
              "    </tr>\n",
              "    <tr>\n",
              "      <th>9</th>\n",
              "      <td>A3BY5KCNQZXV5U</td>\n",
              "      <td>0594451647</td>\n",
              "      <td>Matenai</td>\n",
              "      <td>[3, 3]</td>\n",
              "      <td>This product really works great but I found th...</td>\n",
              "      <td>5</td>\n",
              "      <td>This works great but read the details...</td>\n",
              "      <td>1390176000</td>\n",
              "      <td>01 20, 2014</td>\n",
              "    </tr>\n",
              "  </tbody>\n",
              "</table>\n",
              "</div>\n",
              "      <button class=\"colab-df-convert\" onclick=\"convertToInteractive('df-35facf92-59e2-48c9-bbb8-df48eaefa2b5')\"\n",
              "              title=\"Convert this dataframe to an interactive table.\"\n",
              "              style=\"display:none;\">\n",
              "        \n",
              "  <svg xmlns=\"http://www.w3.org/2000/svg\" height=\"24px\"viewBox=\"0 0 24 24\"\n",
              "       width=\"24px\">\n",
              "    <path d=\"M0 0h24v24H0V0z\" fill=\"none\"/>\n",
              "    <path d=\"M18.56 5.44l.94 2.06.94-2.06 2.06-.94-2.06-.94-.94-2.06-.94 2.06-2.06.94zm-11 1L8.5 8.5l.94-2.06 2.06-.94-2.06-.94L8.5 2.5l-.94 2.06-2.06.94zm10 10l.94 2.06.94-2.06 2.06-.94-2.06-.94-.94-2.06-.94 2.06-2.06.94z\"/><path d=\"M17.41 7.96l-1.37-1.37c-.4-.4-.92-.59-1.43-.59-.52 0-1.04.2-1.43.59L10.3 9.45l-7.72 7.72c-.78.78-.78 2.05 0 2.83L4 21.41c.39.39.9.59 1.41.59.51 0 1.02-.2 1.41-.59l7.78-7.78 2.81-2.81c.8-.78.8-2.07 0-2.86zM5.41 20L4 18.59l7.72-7.72 1.47 1.35L5.41 20z\"/>\n",
              "  </svg>\n",
              "      </button>\n",
              "      \n",
              "  <style>\n",
              "    .colab-df-container {\n",
              "      display:flex;\n",
              "      flex-wrap:wrap;\n",
              "      gap: 12px;\n",
              "    }\n",
              "\n",
              "    .colab-df-convert {\n",
              "      background-color: #E8F0FE;\n",
              "      border: none;\n",
              "      border-radius: 50%;\n",
              "      cursor: pointer;\n",
              "      display: none;\n",
              "      fill: #1967D2;\n",
              "      height: 32px;\n",
              "      padding: 0 0 0 0;\n",
              "      width: 32px;\n",
              "    }\n",
              "\n",
              "    .colab-df-convert:hover {\n",
              "      background-color: #E2EBFA;\n",
              "      box-shadow: 0px 1px 2px rgba(60, 64, 67, 0.3), 0px 1px 3px 1px rgba(60, 64, 67, 0.15);\n",
              "      fill: #174EA6;\n",
              "    }\n",
              "\n",
              "    [theme=dark] .colab-df-convert {\n",
              "      background-color: #3B4455;\n",
              "      fill: #D2E3FC;\n",
              "    }\n",
              "\n",
              "    [theme=dark] .colab-df-convert:hover {\n",
              "      background-color: #434B5C;\n",
              "      box-shadow: 0px 1px 3px 1px rgba(0, 0, 0, 0.15);\n",
              "      filter: drop-shadow(0px 1px 2px rgba(0, 0, 0, 0.3));\n",
              "      fill: #FFFFFF;\n",
              "    }\n",
              "  </style>\n",
              "\n",
              "      <script>\n",
              "        const buttonEl =\n",
              "          document.querySelector('#df-35facf92-59e2-48c9-bbb8-df48eaefa2b5 button.colab-df-convert');\n",
              "        buttonEl.style.display =\n",
              "          google.colab.kernel.accessAllowed ? 'block' : 'none';\n",
              "\n",
              "        async function convertToInteractive(key) {\n",
              "          const element = document.querySelector('#df-35facf92-59e2-48c9-bbb8-df48eaefa2b5');\n",
              "          const dataTable =\n",
              "            await google.colab.kernel.invokeFunction('convertToInteractive',\n",
              "                                                     [key], {});\n",
              "          if (!dataTable) return;\n",
              "\n",
              "          const docLinkHtml = 'Like what you see? Visit the ' +\n",
              "            '<a target=\"_blank\" href=https://colab.research.google.com/notebooks/data_table.ipynb>data table notebook</a>'\n",
              "            + ' to learn more about interactive tables.';\n",
              "          element.innerHTML = '';\n",
              "          dataTable['output_type'] = 'display_data';\n",
              "          await google.colab.output.renderOutput(dataTable, element);\n",
              "          const docLink = document.createElement('div');\n",
              "          docLink.innerHTML = docLinkHtml;\n",
              "          element.appendChild(docLink);\n",
              "        }\n",
              "      </script>\n",
              "    </div>\n",
              "  </div>\n",
              "  "
            ]
          },
          "metadata": {}
        }
      ]
    },
    {
      "cell_type": "code",
      "source": [
        "df.to_csv(\"amazon.csv\")"
      ],
      "metadata": {
        "id": "BhidA8MNYOo5"
      },
      "execution_count": 9,
      "outputs": []
    },
    {
      "cell_type": "code",
      "source": [
        "#from google.colab import files\n",
        "#files.download(\"amazon.csv\")"
      ],
      "metadata": {
        "id": "Yo7aaOAvYx8j"
      },
      "execution_count": 4,
      "outputs": []
    },
    {
      "cell_type": "code",
      "source": [
        "df.head()"
      ],
      "metadata": {
        "colab": {
          "base_uri": "https://localhost:8080/",
          "height": 320
        },
        "id": "HJT99Octee1r",
        "outputId": "7ac8e515-f112-4fd1-a481-9efe48b3c72a"
      },
      "execution_count": 5,
      "outputs": [
        {
          "output_type": "execute_result",
          "data": {
            "text/plain": [
              "       reviewerID        asin              reviewerName   helpful  \\\n",
              "0   AO94DHGC771SJ  0528881469                   amazdnu    [0, 0]   \n",
              "1   AMO214LNFCEI4  0528881469           Amazon Customer  [12, 15]   \n",
              "2  A3N7T0DY83Y4IG  0528881469             C. A. Freeman  [43, 45]   \n",
              "3  A1H8PY3QHMQQA0  0528881469  Dave M. Shaw \"mack dave\"   [9, 10]   \n",
              "4  A24EV6RXELQZ63  0528881469               Wayne Smith    [0, 0]   \n",
              "\n",
              "                                          reviewText  overall  \\\n",
              "0  We got this GPS for my husband who is an (OTR)...        5   \n",
              "1  I'm a professional OTR truck driver, and I bou...        1   \n",
              "2  Well, what can I say.  I've had this unit in m...        3   \n",
              "3  Not going to write a long review, even thought...        2   \n",
              "4  I've had mine for a year and here's what we go...        1   \n",
              "\n",
              "                                  summary  unixReviewTime   reviewTime  \n",
              "0                         Gotta have GPS!      1370131200   06 2, 2013  \n",
              "1                       Very Disappointed      1290643200  11 25, 2010  \n",
              "2                          1st impression      1283990400   09 9, 2010  \n",
              "3                 Great grafics, POOR GPS      1290556800  11 24, 2010  \n",
              "4  Major issues, only excuses for support      1317254400  09 29, 2011  "
            ],
            "text/html": [
              "\n",
              "  <div id=\"df-cb6c11f5-551c-42d0-8dc2-20a419b62008\">\n",
              "    <div class=\"colab-df-container\">\n",
              "      <div>\n",
              "<style scoped>\n",
              "    .dataframe tbody tr th:only-of-type {\n",
              "        vertical-align: middle;\n",
              "    }\n",
              "\n",
              "    .dataframe tbody tr th {\n",
              "        vertical-align: top;\n",
              "    }\n",
              "\n",
              "    .dataframe thead th {\n",
              "        text-align: right;\n",
              "    }\n",
              "</style>\n",
              "<table border=\"1\" class=\"dataframe\">\n",
              "  <thead>\n",
              "    <tr style=\"text-align: right;\">\n",
              "      <th></th>\n",
              "      <th>reviewerID</th>\n",
              "      <th>asin</th>\n",
              "      <th>reviewerName</th>\n",
              "      <th>helpful</th>\n",
              "      <th>reviewText</th>\n",
              "      <th>overall</th>\n",
              "      <th>summary</th>\n",
              "      <th>unixReviewTime</th>\n",
              "      <th>reviewTime</th>\n",
              "    </tr>\n",
              "  </thead>\n",
              "  <tbody>\n",
              "    <tr>\n",
              "      <th>0</th>\n",
              "      <td>AO94DHGC771SJ</td>\n",
              "      <td>0528881469</td>\n",
              "      <td>amazdnu</td>\n",
              "      <td>[0, 0]</td>\n",
              "      <td>We got this GPS for my husband who is an (OTR)...</td>\n",
              "      <td>5</td>\n",
              "      <td>Gotta have GPS!</td>\n",
              "      <td>1370131200</td>\n",
              "      <td>06 2, 2013</td>\n",
              "    </tr>\n",
              "    <tr>\n",
              "      <th>1</th>\n",
              "      <td>AMO214LNFCEI4</td>\n",
              "      <td>0528881469</td>\n",
              "      <td>Amazon Customer</td>\n",
              "      <td>[12, 15]</td>\n",
              "      <td>I'm a professional OTR truck driver, and I bou...</td>\n",
              "      <td>1</td>\n",
              "      <td>Very Disappointed</td>\n",
              "      <td>1290643200</td>\n",
              "      <td>11 25, 2010</td>\n",
              "    </tr>\n",
              "    <tr>\n",
              "      <th>2</th>\n",
              "      <td>A3N7T0DY83Y4IG</td>\n",
              "      <td>0528881469</td>\n",
              "      <td>C. A. Freeman</td>\n",
              "      <td>[43, 45]</td>\n",
              "      <td>Well, what can I say.  I've had this unit in m...</td>\n",
              "      <td>3</td>\n",
              "      <td>1st impression</td>\n",
              "      <td>1283990400</td>\n",
              "      <td>09 9, 2010</td>\n",
              "    </tr>\n",
              "    <tr>\n",
              "      <th>3</th>\n",
              "      <td>A1H8PY3QHMQQA0</td>\n",
              "      <td>0528881469</td>\n",
              "      <td>Dave M. Shaw \"mack dave\"</td>\n",
              "      <td>[9, 10]</td>\n",
              "      <td>Not going to write a long review, even thought...</td>\n",
              "      <td>2</td>\n",
              "      <td>Great grafics, POOR GPS</td>\n",
              "      <td>1290556800</td>\n",
              "      <td>11 24, 2010</td>\n",
              "    </tr>\n",
              "    <tr>\n",
              "      <th>4</th>\n",
              "      <td>A24EV6RXELQZ63</td>\n",
              "      <td>0528881469</td>\n",
              "      <td>Wayne Smith</td>\n",
              "      <td>[0, 0]</td>\n",
              "      <td>I've had mine for a year and here's what we go...</td>\n",
              "      <td>1</td>\n",
              "      <td>Major issues, only excuses for support</td>\n",
              "      <td>1317254400</td>\n",
              "      <td>09 29, 2011</td>\n",
              "    </tr>\n",
              "  </tbody>\n",
              "</table>\n",
              "</div>\n",
              "      <button class=\"colab-df-convert\" onclick=\"convertToInteractive('df-cb6c11f5-551c-42d0-8dc2-20a419b62008')\"\n",
              "              title=\"Convert this dataframe to an interactive table.\"\n",
              "              style=\"display:none;\">\n",
              "        \n",
              "  <svg xmlns=\"http://www.w3.org/2000/svg\" height=\"24px\"viewBox=\"0 0 24 24\"\n",
              "       width=\"24px\">\n",
              "    <path d=\"M0 0h24v24H0V0z\" fill=\"none\"/>\n",
              "    <path d=\"M18.56 5.44l.94 2.06.94-2.06 2.06-.94-2.06-.94-.94-2.06-.94 2.06-2.06.94zm-11 1L8.5 8.5l.94-2.06 2.06-.94-2.06-.94L8.5 2.5l-.94 2.06-2.06.94zm10 10l.94 2.06.94-2.06 2.06-.94-2.06-.94-.94-2.06-.94 2.06-2.06.94z\"/><path d=\"M17.41 7.96l-1.37-1.37c-.4-.4-.92-.59-1.43-.59-.52 0-1.04.2-1.43.59L10.3 9.45l-7.72 7.72c-.78.78-.78 2.05 0 2.83L4 21.41c.39.39.9.59 1.41.59.51 0 1.02-.2 1.41-.59l7.78-7.78 2.81-2.81c.8-.78.8-2.07 0-2.86zM5.41 20L4 18.59l7.72-7.72 1.47 1.35L5.41 20z\"/>\n",
              "  </svg>\n",
              "      </button>\n",
              "      \n",
              "  <style>\n",
              "    .colab-df-container {\n",
              "      display:flex;\n",
              "      flex-wrap:wrap;\n",
              "      gap: 12px;\n",
              "    }\n",
              "\n",
              "    .colab-df-convert {\n",
              "      background-color: #E8F0FE;\n",
              "      border: none;\n",
              "      border-radius: 50%;\n",
              "      cursor: pointer;\n",
              "      display: none;\n",
              "      fill: #1967D2;\n",
              "      height: 32px;\n",
              "      padding: 0 0 0 0;\n",
              "      width: 32px;\n",
              "    }\n",
              "\n",
              "    .colab-df-convert:hover {\n",
              "      background-color: #E2EBFA;\n",
              "      box-shadow: 0px 1px 2px rgba(60, 64, 67, 0.3), 0px 1px 3px 1px rgba(60, 64, 67, 0.15);\n",
              "      fill: #174EA6;\n",
              "    }\n",
              "\n",
              "    [theme=dark] .colab-df-convert {\n",
              "      background-color: #3B4455;\n",
              "      fill: #D2E3FC;\n",
              "    }\n",
              "\n",
              "    [theme=dark] .colab-df-convert:hover {\n",
              "      background-color: #434B5C;\n",
              "      box-shadow: 0px 1px 3px 1px rgba(0, 0, 0, 0.15);\n",
              "      filter: drop-shadow(0px 1px 2px rgba(0, 0, 0, 0.3));\n",
              "      fill: #FFFFFF;\n",
              "    }\n",
              "  </style>\n",
              "\n",
              "      <script>\n",
              "        const buttonEl =\n",
              "          document.querySelector('#df-cb6c11f5-551c-42d0-8dc2-20a419b62008 button.colab-df-convert');\n",
              "        buttonEl.style.display =\n",
              "          google.colab.kernel.accessAllowed ? 'block' : 'none';\n",
              "\n",
              "        async function convertToInteractive(key) {\n",
              "          const element = document.querySelector('#df-cb6c11f5-551c-42d0-8dc2-20a419b62008');\n",
              "          const dataTable =\n",
              "            await google.colab.kernel.invokeFunction('convertToInteractive',\n",
              "                                                     [key], {});\n",
              "          if (!dataTable) return;\n",
              "\n",
              "          const docLinkHtml = 'Like what you see? Visit the ' +\n",
              "            '<a target=\"_blank\" href=https://colab.research.google.com/notebooks/data_table.ipynb>data table notebook</a>'\n",
              "            + ' to learn more about interactive tables.';\n",
              "          element.innerHTML = '';\n",
              "          dataTable['output_type'] = 'display_data';\n",
              "          await google.colab.output.renderOutput(dataTable, element);\n",
              "          const docLink = document.createElement('div');\n",
              "          docLink.innerHTML = docLinkHtml;\n",
              "          element.appendChild(docLink);\n",
              "        }\n",
              "      </script>\n",
              "    </div>\n",
              "  </div>\n",
              "  "
            ]
          },
          "metadata": {},
          "execution_count": 5
        }
      ]
    },
    {
      "cell_type": "code",
      "source": [
        "df.columns"
      ],
      "metadata": {
        "colab": {
          "base_uri": "https://localhost:8080/"
        },
        "id": "L99zfn-tqo35",
        "outputId": "dd417d9c-4a95-4c6d-80b8-38bf8c86a73e"
      },
      "execution_count": 6,
      "outputs": [
        {
          "output_type": "execute_result",
          "data": {
            "text/plain": [
              "Index(['reviewerID', 'asin', 'reviewerName', 'helpful', 'reviewText',\n",
              "       'overall', 'summary', 'unixReviewTime', 'reviewTime'],\n",
              "      dtype='object')"
            ]
          },
          "metadata": {},
          "execution_count": 6
        }
      ]
    },
    {
      "cell_type": "code",
      "source": [
        "df.isnull().sum()"
      ],
      "metadata": {
        "colab": {
          "base_uri": "https://localhost:8080/"
        },
        "id": "p3LKoeg1quCV",
        "outputId": "eace0ace-53d7-40a4-d8a9-7dd599899546"
      },
      "execution_count": 7,
      "outputs": [
        {
          "output_type": "execute_result",
          "data": {
            "text/plain": [
              "reviewerID            0\n",
              "asin                  0\n",
              "reviewerName      24730\n",
              "helpful               0\n",
              "reviewText            0\n",
              "overall               0\n",
              "summary               0\n",
              "unixReviewTime        0\n",
              "reviewTime            0\n",
              "dtype: int64"
            ]
          },
          "metadata": {},
          "execution_count": 7
        }
      ]
    },
    {
      "cell_type": "code",
      "source": [
        "df=df.sample(400000) # Because our data is too much, we take a sample of 400k"
      ],
      "metadata": {
        "id": "f5WpMx29rByI"
      },
      "execution_count": 8,
      "outputs": []
    },
    {
      "cell_type": "code",
      "source": [
        "df.info()"
      ],
      "metadata": {
        "colab": {
          "base_uri": "https://localhost:8080/"
        },
        "id": "O5PaHnGYImBu",
        "outputId": "550e9cb8-14c0-441f-a19f-003364c38ee3"
      },
      "execution_count": 9,
      "outputs": [
        {
          "output_type": "stream",
          "name": "stdout",
          "text": [
            "<class 'pandas.core.frame.DataFrame'>\n",
            "Int64Index: 400000 entries, 1627901 to 468496\n",
            "Data columns (total 9 columns):\n",
            " #   Column          Non-Null Count   Dtype \n",
            "---  ------          --------------   ----- \n",
            " 0   reviewerID      400000 non-null  object\n",
            " 1   asin            400000 non-null  object\n",
            " 2   reviewerName    394203 non-null  object\n",
            " 3   helpful         400000 non-null  object\n",
            " 4   reviewText      400000 non-null  object\n",
            " 5   overall         400000 non-null  int64 \n",
            " 6   summary         400000 non-null  object\n",
            " 7   unixReviewTime  400000 non-null  int64 \n",
            " 8   reviewTime      400000 non-null  object\n",
            "dtypes: int64(2), object(7)\n",
            "memory usage: 30.5+ MB\n"
          ]
        }
      ]
    },
    {
      "cell_type": "code",
      "source": [
        "df.reset_index(drop=True,inplace=True) # reset our index after taking the samples"
      ],
      "metadata": {
        "id": "i26wDcACIxPL"
      },
      "execution_count": 10,
      "outputs": []
    },
    {
      "cell_type": "code",
      "source": [
        "df.head()"
      ],
      "metadata": {
        "colab": {
          "base_uri": "https://localhost:8080/",
          "height": 320
        },
        "id": "L-YZz75HI0c0",
        "outputId": "55b82de9-71cd-4fc0-ba36-20a48ce520e8"
      },
      "execution_count": 11,
      "outputs": [
        {
          "output_type": "execute_result",
          "data": {
            "text/plain": [
              "       reviewerID        asin          reviewerName helpful  \\\n",
              "0  A34PJAS16SWEES  B00DVB7F0S          David Delson  [0, 0]   \n",
              "1  A3OR2YSRJ01FRF  B000I1KGKK            R. Gormley  [0, 0]   \n",
              "2  A17AK1Z8KN613L  B004GUT1QO  G. Simms \"Ireadlots\"  [0, 0]   \n",
              "3   AQL3D70CKNTL8  B0042I3J1I         Charles Capko  [0, 0]   \n",
              "4  A3LN1XP3RAA5RI  B00622AG6S                   AMD  [0, 0]   \n",
              "\n",
              "                                          reviewText  overall  \\\n",
              "0  I am EXTREMELY impressed with this power pack....        5   \n",
              "1  I bought these on a flight from Australia to t...        5   \n",
              "2  I live with the buds in my ear, and a protecti...        4   \n",
              "3  I've been using this for a long while now. I u...        4   \n",
              "4  The product for its price does its Job, Have n...        5   \n",
              "\n",
              "                                             summary  unixReviewTime  \\\n",
              "0  Brilliant - charges lots of stuff PLUS runs yo...      1402012800   \n",
              "1                                        Outstanding      1167177600   \n",
              "2                       Does What it Does Prety Well      1308528000   \n",
              "3  Could have a better design but too useful to g...      1356393600   \n",
              "4                              It works a described.      1403136000   \n",
              "\n",
              "    reviewTime  \n",
              "0   06 6, 2014  \n",
              "1  12 27, 2006  \n",
              "2  06 20, 2011  \n",
              "3  12 25, 2012  \n",
              "4  06 19, 2014  "
            ],
            "text/html": [
              "\n",
              "  <div id=\"df-cbee1d0c-aded-4dbf-aca2-48420ea3077a\">\n",
              "    <div class=\"colab-df-container\">\n",
              "      <div>\n",
              "<style scoped>\n",
              "    .dataframe tbody tr th:only-of-type {\n",
              "        vertical-align: middle;\n",
              "    }\n",
              "\n",
              "    .dataframe tbody tr th {\n",
              "        vertical-align: top;\n",
              "    }\n",
              "\n",
              "    .dataframe thead th {\n",
              "        text-align: right;\n",
              "    }\n",
              "</style>\n",
              "<table border=\"1\" class=\"dataframe\">\n",
              "  <thead>\n",
              "    <tr style=\"text-align: right;\">\n",
              "      <th></th>\n",
              "      <th>reviewerID</th>\n",
              "      <th>asin</th>\n",
              "      <th>reviewerName</th>\n",
              "      <th>helpful</th>\n",
              "      <th>reviewText</th>\n",
              "      <th>overall</th>\n",
              "      <th>summary</th>\n",
              "      <th>unixReviewTime</th>\n",
              "      <th>reviewTime</th>\n",
              "    </tr>\n",
              "  </thead>\n",
              "  <tbody>\n",
              "    <tr>\n",
              "      <th>0</th>\n",
              "      <td>A34PJAS16SWEES</td>\n",
              "      <td>B00DVB7F0S</td>\n",
              "      <td>David Delson</td>\n",
              "      <td>[0, 0]</td>\n",
              "      <td>I am EXTREMELY impressed with this power pack....</td>\n",
              "      <td>5</td>\n",
              "      <td>Brilliant - charges lots of stuff PLUS runs yo...</td>\n",
              "      <td>1402012800</td>\n",
              "      <td>06 6, 2014</td>\n",
              "    </tr>\n",
              "    <tr>\n",
              "      <th>1</th>\n",
              "      <td>A3OR2YSRJ01FRF</td>\n",
              "      <td>B000I1KGKK</td>\n",
              "      <td>R. Gormley</td>\n",
              "      <td>[0, 0]</td>\n",
              "      <td>I bought these on a flight from Australia to t...</td>\n",
              "      <td>5</td>\n",
              "      <td>Outstanding</td>\n",
              "      <td>1167177600</td>\n",
              "      <td>12 27, 2006</td>\n",
              "    </tr>\n",
              "    <tr>\n",
              "      <th>2</th>\n",
              "      <td>A17AK1Z8KN613L</td>\n",
              "      <td>B004GUT1QO</td>\n",
              "      <td>G. Simms \"Ireadlots\"</td>\n",
              "      <td>[0, 0]</td>\n",
              "      <td>I live with the buds in my ear, and a protecti...</td>\n",
              "      <td>4</td>\n",
              "      <td>Does What it Does Prety Well</td>\n",
              "      <td>1308528000</td>\n",
              "      <td>06 20, 2011</td>\n",
              "    </tr>\n",
              "    <tr>\n",
              "      <th>3</th>\n",
              "      <td>AQL3D70CKNTL8</td>\n",
              "      <td>B0042I3J1I</td>\n",
              "      <td>Charles Capko</td>\n",
              "      <td>[0, 0]</td>\n",
              "      <td>I've been using this for a long while now. I u...</td>\n",
              "      <td>4</td>\n",
              "      <td>Could have a better design but too useful to g...</td>\n",
              "      <td>1356393600</td>\n",
              "      <td>12 25, 2012</td>\n",
              "    </tr>\n",
              "    <tr>\n",
              "      <th>4</th>\n",
              "      <td>A3LN1XP3RAA5RI</td>\n",
              "      <td>B00622AG6S</td>\n",
              "      <td>AMD</td>\n",
              "      <td>[0, 0]</td>\n",
              "      <td>The product for its price does its Job, Have n...</td>\n",
              "      <td>5</td>\n",
              "      <td>It works a described.</td>\n",
              "      <td>1403136000</td>\n",
              "      <td>06 19, 2014</td>\n",
              "    </tr>\n",
              "  </tbody>\n",
              "</table>\n",
              "</div>\n",
              "      <button class=\"colab-df-convert\" onclick=\"convertToInteractive('df-cbee1d0c-aded-4dbf-aca2-48420ea3077a')\"\n",
              "              title=\"Convert this dataframe to an interactive table.\"\n",
              "              style=\"display:none;\">\n",
              "        \n",
              "  <svg xmlns=\"http://www.w3.org/2000/svg\" height=\"24px\"viewBox=\"0 0 24 24\"\n",
              "       width=\"24px\">\n",
              "    <path d=\"M0 0h24v24H0V0z\" fill=\"none\"/>\n",
              "    <path d=\"M18.56 5.44l.94 2.06.94-2.06 2.06-.94-2.06-.94-.94-2.06-.94 2.06-2.06.94zm-11 1L8.5 8.5l.94-2.06 2.06-.94-2.06-.94L8.5 2.5l-.94 2.06-2.06.94zm10 10l.94 2.06.94-2.06 2.06-.94-2.06-.94-.94-2.06-.94 2.06-2.06.94z\"/><path d=\"M17.41 7.96l-1.37-1.37c-.4-.4-.92-.59-1.43-.59-.52 0-1.04.2-1.43.59L10.3 9.45l-7.72 7.72c-.78.78-.78 2.05 0 2.83L4 21.41c.39.39.9.59 1.41.59.51 0 1.02-.2 1.41-.59l7.78-7.78 2.81-2.81c.8-.78.8-2.07 0-2.86zM5.41 20L4 18.59l7.72-7.72 1.47 1.35L5.41 20z\"/>\n",
              "  </svg>\n",
              "      </button>\n",
              "      \n",
              "  <style>\n",
              "    .colab-df-container {\n",
              "      display:flex;\n",
              "      flex-wrap:wrap;\n",
              "      gap: 12px;\n",
              "    }\n",
              "\n",
              "    .colab-df-convert {\n",
              "      background-color: #E8F0FE;\n",
              "      border: none;\n",
              "      border-radius: 50%;\n",
              "      cursor: pointer;\n",
              "      display: none;\n",
              "      fill: #1967D2;\n",
              "      height: 32px;\n",
              "      padding: 0 0 0 0;\n",
              "      width: 32px;\n",
              "    }\n",
              "\n",
              "    .colab-df-convert:hover {\n",
              "      background-color: #E2EBFA;\n",
              "      box-shadow: 0px 1px 2px rgba(60, 64, 67, 0.3), 0px 1px 3px 1px rgba(60, 64, 67, 0.15);\n",
              "      fill: #174EA6;\n",
              "    }\n",
              "\n",
              "    [theme=dark] .colab-df-convert {\n",
              "      background-color: #3B4455;\n",
              "      fill: #D2E3FC;\n",
              "    }\n",
              "\n",
              "    [theme=dark] .colab-df-convert:hover {\n",
              "      background-color: #434B5C;\n",
              "      box-shadow: 0px 1px 3px 1px rgba(0, 0, 0, 0.15);\n",
              "      filter: drop-shadow(0px 1px 2px rgba(0, 0, 0, 0.3));\n",
              "      fill: #FFFFFF;\n",
              "    }\n",
              "  </style>\n",
              "\n",
              "      <script>\n",
              "        const buttonEl =\n",
              "          document.querySelector('#df-cbee1d0c-aded-4dbf-aca2-48420ea3077a button.colab-df-convert');\n",
              "        buttonEl.style.display =\n",
              "          google.colab.kernel.accessAllowed ? 'block' : 'none';\n",
              "\n",
              "        async function convertToInteractive(key) {\n",
              "          const element = document.querySelector('#df-cbee1d0c-aded-4dbf-aca2-48420ea3077a');\n",
              "          const dataTable =\n",
              "            await google.colab.kernel.invokeFunction('convertToInteractive',\n",
              "                                                     [key], {});\n",
              "          if (!dataTable) return;\n",
              "\n",
              "          const docLinkHtml = 'Like what you see? Visit the ' +\n",
              "            '<a target=\"_blank\" href=https://colab.research.google.com/notebooks/data_table.ipynb>data table notebook</a>'\n",
              "            + ' to learn more about interactive tables.';\n",
              "          element.innerHTML = '';\n",
              "          dataTable['output_type'] = 'display_data';\n",
              "          await google.colab.output.renderOutput(dataTable, element);\n",
              "          const docLink = document.createElement('div');\n",
              "          docLink.innerHTML = docLinkHtml;\n",
              "          element.appendChild(docLink);\n",
              "        }\n",
              "      </script>\n",
              "    </div>\n",
              "  </div>\n",
              "  "
            ]
          },
          "metadata": {},
          "execution_count": 11
        }
      ]
    },
    {
      "cell_type": "code",
      "source": [
        "df.tail()"
      ],
      "metadata": {
        "colab": {
          "base_uri": "https://localhost:8080/",
          "height": 250
        },
        "id": "0Lvd4LpwJDAe",
        "outputId": "c9e66e53-fe2c-49c3-dac7-d681f0f1ada0"
      },
      "execution_count": 12,
      "outputs": [
        {
          "output_type": "execute_result",
          "data": {
            "text/plain": [
              "            reviewerID        asin       reviewerName   helpful  \\\n",
              "399995  A1925WP0C8AGLB  B000E8SY5Q       ice breakers    [1, 1]   \n",
              "399996  A34D4ASUYV6D19  B005ZMHIJE    Amazon Customer    [0, 0]   \n",
              "399997  A3PVKXE8RDK0L7  B00G2J0XUA    Reynold Haywood    [3, 3]   \n",
              "399998  A3FW472GT8OFQV  B00752QXZ2  Elizabeth M. Outt  [25, 51]   \n",
              "399999  A31GJXMQZ0UMBD  B001G7PMNG              L. Ly    [2, 8]   \n",
              "\n",
              "                                               reviewText  overall  \\\n",
              "399995  This item is exactly as illustrated and advert...        4   \n",
              "399996  This silicone cover fits perfectly & still all...        5   \n",
              "399997  Always the best in laptop cant complain works ...        5   \n",
              "399998  picture of product looked larger than the actu...        2   \n",
              "399999  The filter is very nice, but I am having secon...        4   \n",
              "\n",
              "                              summary  unixReviewTime   reviewTime  \n",
              "399995                    Good works!      1177632000  04 27, 2007  \n",
              "399996  Great little mp3 player cover      1365206400   04 6, 2013  \n",
              "399997                        toshiba      1387929600  12 25, 2013  \n",
              "399998                      too short      1361318400  02 20, 2013  \n",
              "399999                 So far so good      1287619200  10 21, 2010  "
            ],
            "text/html": [
              "\n",
              "  <div id=\"df-d9fab78d-7428-40bc-baf5-56bd286d66ff\">\n",
              "    <div class=\"colab-df-container\">\n",
              "      <div>\n",
              "<style scoped>\n",
              "    .dataframe tbody tr th:only-of-type {\n",
              "        vertical-align: middle;\n",
              "    }\n",
              "\n",
              "    .dataframe tbody tr th {\n",
              "        vertical-align: top;\n",
              "    }\n",
              "\n",
              "    .dataframe thead th {\n",
              "        text-align: right;\n",
              "    }\n",
              "</style>\n",
              "<table border=\"1\" class=\"dataframe\">\n",
              "  <thead>\n",
              "    <tr style=\"text-align: right;\">\n",
              "      <th></th>\n",
              "      <th>reviewerID</th>\n",
              "      <th>asin</th>\n",
              "      <th>reviewerName</th>\n",
              "      <th>helpful</th>\n",
              "      <th>reviewText</th>\n",
              "      <th>overall</th>\n",
              "      <th>summary</th>\n",
              "      <th>unixReviewTime</th>\n",
              "      <th>reviewTime</th>\n",
              "    </tr>\n",
              "  </thead>\n",
              "  <tbody>\n",
              "    <tr>\n",
              "      <th>399995</th>\n",
              "      <td>A1925WP0C8AGLB</td>\n",
              "      <td>B000E8SY5Q</td>\n",
              "      <td>ice breakers</td>\n",
              "      <td>[1, 1]</td>\n",
              "      <td>This item is exactly as illustrated and advert...</td>\n",
              "      <td>4</td>\n",
              "      <td>Good works!</td>\n",
              "      <td>1177632000</td>\n",
              "      <td>04 27, 2007</td>\n",
              "    </tr>\n",
              "    <tr>\n",
              "      <th>399996</th>\n",
              "      <td>A34D4ASUYV6D19</td>\n",
              "      <td>B005ZMHIJE</td>\n",
              "      <td>Amazon Customer</td>\n",
              "      <td>[0, 0]</td>\n",
              "      <td>This silicone cover fits perfectly &amp; still all...</td>\n",
              "      <td>5</td>\n",
              "      <td>Great little mp3 player cover</td>\n",
              "      <td>1365206400</td>\n",
              "      <td>04 6, 2013</td>\n",
              "    </tr>\n",
              "    <tr>\n",
              "      <th>399997</th>\n",
              "      <td>A3PVKXE8RDK0L7</td>\n",
              "      <td>B00G2J0XUA</td>\n",
              "      <td>Reynold Haywood</td>\n",
              "      <td>[3, 3]</td>\n",
              "      <td>Always the best in laptop cant complain works ...</td>\n",
              "      <td>5</td>\n",
              "      <td>toshiba</td>\n",
              "      <td>1387929600</td>\n",
              "      <td>12 25, 2013</td>\n",
              "    </tr>\n",
              "    <tr>\n",
              "      <th>399998</th>\n",
              "      <td>A3FW472GT8OFQV</td>\n",
              "      <td>B00752QXZ2</td>\n",
              "      <td>Elizabeth M. Outt</td>\n",
              "      <td>[25, 51]</td>\n",
              "      <td>picture of product looked larger than the actu...</td>\n",
              "      <td>2</td>\n",
              "      <td>too short</td>\n",
              "      <td>1361318400</td>\n",
              "      <td>02 20, 2013</td>\n",
              "    </tr>\n",
              "    <tr>\n",
              "      <th>399999</th>\n",
              "      <td>A31GJXMQZ0UMBD</td>\n",
              "      <td>B001G7PMNG</td>\n",
              "      <td>L. Ly</td>\n",
              "      <td>[2, 8]</td>\n",
              "      <td>The filter is very nice, but I am having secon...</td>\n",
              "      <td>4</td>\n",
              "      <td>So far so good</td>\n",
              "      <td>1287619200</td>\n",
              "      <td>10 21, 2010</td>\n",
              "    </tr>\n",
              "  </tbody>\n",
              "</table>\n",
              "</div>\n",
              "      <button class=\"colab-df-convert\" onclick=\"convertToInteractive('df-d9fab78d-7428-40bc-baf5-56bd286d66ff')\"\n",
              "              title=\"Convert this dataframe to an interactive table.\"\n",
              "              style=\"display:none;\">\n",
              "        \n",
              "  <svg xmlns=\"http://www.w3.org/2000/svg\" height=\"24px\"viewBox=\"0 0 24 24\"\n",
              "       width=\"24px\">\n",
              "    <path d=\"M0 0h24v24H0V0z\" fill=\"none\"/>\n",
              "    <path d=\"M18.56 5.44l.94 2.06.94-2.06 2.06-.94-2.06-.94-.94-2.06-.94 2.06-2.06.94zm-11 1L8.5 8.5l.94-2.06 2.06-.94-2.06-.94L8.5 2.5l-.94 2.06-2.06.94zm10 10l.94 2.06.94-2.06 2.06-.94-2.06-.94-.94-2.06-.94 2.06-2.06.94z\"/><path d=\"M17.41 7.96l-1.37-1.37c-.4-.4-.92-.59-1.43-.59-.52 0-1.04.2-1.43.59L10.3 9.45l-7.72 7.72c-.78.78-.78 2.05 0 2.83L4 21.41c.39.39.9.59 1.41.59.51 0 1.02-.2 1.41-.59l7.78-7.78 2.81-2.81c.8-.78.8-2.07 0-2.86zM5.41 20L4 18.59l7.72-7.72 1.47 1.35L5.41 20z\"/>\n",
              "  </svg>\n",
              "      </button>\n",
              "      \n",
              "  <style>\n",
              "    .colab-df-container {\n",
              "      display:flex;\n",
              "      flex-wrap:wrap;\n",
              "      gap: 12px;\n",
              "    }\n",
              "\n",
              "    .colab-df-convert {\n",
              "      background-color: #E8F0FE;\n",
              "      border: none;\n",
              "      border-radius: 50%;\n",
              "      cursor: pointer;\n",
              "      display: none;\n",
              "      fill: #1967D2;\n",
              "      height: 32px;\n",
              "      padding: 0 0 0 0;\n",
              "      width: 32px;\n",
              "    }\n",
              "\n",
              "    .colab-df-convert:hover {\n",
              "      background-color: #E2EBFA;\n",
              "      box-shadow: 0px 1px 2px rgba(60, 64, 67, 0.3), 0px 1px 3px 1px rgba(60, 64, 67, 0.15);\n",
              "      fill: #174EA6;\n",
              "    }\n",
              "\n",
              "    [theme=dark] .colab-df-convert {\n",
              "      background-color: #3B4455;\n",
              "      fill: #D2E3FC;\n",
              "    }\n",
              "\n",
              "    [theme=dark] .colab-df-convert:hover {\n",
              "      background-color: #434B5C;\n",
              "      box-shadow: 0px 1px 3px 1px rgba(0, 0, 0, 0.15);\n",
              "      filter: drop-shadow(0px 1px 2px rgba(0, 0, 0, 0.3));\n",
              "      fill: #FFFFFF;\n",
              "    }\n",
              "  </style>\n",
              "\n",
              "      <script>\n",
              "        const buttonEl =\n",
              "          document.querySelector('#df-d9fab78d-7428-40bc-baf5-56bd286d66ff button.colab-df-convert');\n",
              "        buttonEl.style.display =\n",
              "          google.colab.kernel.accessAllowed ? 'block' : 'none';\n",
              "\n",
              "        async function convertToInteractive(key) {\n",
              "          const element = document.querySelector('#df-d9fab78d-7428-40bc-baf5-56bd286d66ff');\n",
              "          const dataTable =\n",
              "            await google.colab.kernel.invokeFunction('convertToInteractive',\n",
              "                                                     [key], {});\n",
              "          if (!dataTable) return;\n",
              "\n",
              "          const docLinkHtml = 'Like what you see? Visit the ' +\n",
              "            '<a target=\"_blank\" href=https://colab.research.google.com/notebooks/data_table.ipynb>data table notebook</a>'\n",
              "            + ' to learn more about interactive tables.';\n",
              "          element.innerHTML = '';\n",
              "          dataTable['output_type'] = 'display_data';\n",
              "          await google.colab.output.renderOutput(dataTable, element);\n",
              "          const docLink = document.createElement('div');\n",
              "          docLink.innerHTML = docLinkHtml;\n",
              "          element.appendChild(docLink);\n",
              "        }\n",
              "      </script>\n",
              "    </div>\n",
              "  </div>\n",
              "  "
            ]
          },
          "metadata": {},
          "execution_count": 12
        }
      ]
    },
    {
      "cell_type": "markdown",
      "source": [
        "### NLP Text Processing"
      ],
      "metadata": {
        "id": "dVHg-pWYPS80"
      }
    },
    {
      "cell_type": "code",
      "source": [
        "df[\"reviewText\"][1]"
      ],
      "metadata": {
        "colab": {
          "base_uri": "https://localhost:8080/",
          "height": 71
        },
        "id": "BzinLF00lpAt",
        "outputId": "4089105a-f40a-4e86-bec7-e8ccc453b079"
      },
      "execution_count": 13,
      "outputs": [
        {
          "output_type": "execute_result",
          "data": {
            "text/plain": [
              "\"I bought these on a flight from Australia to the US and was instantly impressed. The adjustability is excellent, and can fit snugly around any size ear. But most important to me was the flexibility as to 'how deep' you can sit the buds - a particular concern for me as I have small openings, and most cause discomfort.Sound quality is fantastic - I'd recommend to anyone!\""
            ],
            "application/vnd.google.colaboratory.intrinsic+json": {
              "type": "string"
            }
          },
          "metadata": {},
          "execution_count": 13
        }
      ]
    },
    {
      "cell_type": "code",
      "source": [
        "df[\"reviewText\"]=df[\"reviewText\"].str.lower() # kücük harfe cevirdik\n",
        "df[\"reviewText\"]=df[\"reviewText\"].str.replace('[^\\w\\s]','') # noktalama isaretlerini kaldirdik\n",
        "df[\"reviewText\"]=df[\"reviewText\"].str.replace('\\d+','') # rakamlari kaldirdik\n",
        "df[\"reviewText\"]=df[\"reviewText\"].str.replace('\\n',' ').replace('\\r',' ') # enter ve return'lari kaldirdik"
      ],
      "metadata": {
        "colab": {
          "base_uri": "https://localhost:8080/"
        },
        "id": "hkkypOm3JJ00",
        "outputId": "fa458730-29ec-463e-c3a8-bf4c937878bd"
      },
      "execution_count": 14,
      "outputs": [
        {
          "output_type": "stream",
          "name": "stderr",
          "text": [
            "/usr/local/lib/python3.7/dist-packages/ipykernel_launcher.py:2: FutureWarning: The default value of regex will change from True to False in a future version.\n",
            "  \n",
            "/usr/local/lib/python3.7/dist-packages/ipykernel_launcher.py:3: FutureWarning: The default value of regex will change from True to False in a future version.\n",
            "  This is separate from the ipykernel package so we can avoid doing imports until\n"
          ]
        }
      ]
    },
    {
      "cell_type": "code",
      "source": [
        "df[\"reviewText\"][1]"
      ],
      "metadata": {
        "colab": {
          "base_uri": "https://localhost:8080/",
          "height": 71
        },
        "id": "vgZsdCuiicUY",
        "outputId": "3cd274e9-1d94-477f-8d35-36acdeabb1b2"
      },
      "execution_count": 15,
      "outputs": [
        {
          "output_type": "execute_result",
          "data": {
            "text/plain": [
              "'i bought these on a flight from australia to the us and was instantly impressed the adjustability is excellent and can fit snugly around any size ear but most important to me was the flexibility as to how deep you can sit the buds  a particular concern for me as i have small openings and most cause discomfortsound quality is fantastic  id recommend to anyone'"
            ],
            "application/vnd.google.colaboratory.intrinsic+json": {
              "type": "string"
            }
          },
          "metadata": {},
          "execution_count": 15
        }
      ]
    },
    {
      "cell_type": "code",
      "source": [
        "print(df[\"reviewText\"].iloc[2]) # sample review after text processing"
      ],
      "metadata": {
        "colab": {
          "base_uri": "https://localhost:8080/"
        },
        "id": "GskBqzw2Pf69",
        "outputId": "3e58304d-a18f-4019-eedd-758df58e76e7"
      },
      "execution_count": 16,
      "outputs": [
        {
          "output_type": "stream",
          "name": "stdout",
          "text": [
            "i live with the buds in my ear and a protective case for the ipod is a necessity ive tried several nonipod cases and this ranks highly though not at the top the fit is excellent and the opennings are where they need to be for the ipod access the tread feature on the back is useful to prevent movement  i had it perched on my car armrest and it did not move during highway drivingwhile it was connected to the ipod dockive had this for just a few days so i really cant respond to how well it will hold up especially if you have the urge to remove the ipod from this cover frequentlyothers to look at more expensive but offering more protection include products from belkin\n"
          ]
        }
      ]
    },
    {
      "cell_type": "markdown",
      "source": [
        "#### Tokenize"
      ],
      "metadata": {
        "id": "7l8iuotdVLEv"
      }
    },
    {
      "cell_type": "code",
      "source": [
        "#pip install nltk"
      ],
      "metadata": {
        "id": "FKlIaIU9RLzU"
      },
      "execution_count": 17,
      "outputs": []
    },
    {
      "cell_type": "code",
      "source": [
        "import nltk"
      ],
      "metadata": {
        "id": "vmGSf9cTRUdw"
      },
      "execution_count": 18,
      "outputs": []
    },
    {
      "cell_type": "code",
      "source": [
        "nltk.download(\"punkt\")"
      ],
      "metadata": {
        "colab": {
          "base_uri": "https://localhost:8080/"
        },
        "id": "vzjebfC5RR8z",
        "outputId": "42b867a6-fe07-4640-d19a-cc7e4b1e235b"
      },
      "execution_count": 19,
      "outputs": [
        {
          "output_type": "stream",
          "name": "stderr",
          "text": [
            "[nltk_data] Downloading package punkt to /root/nltk_data...\n",
            "[nltk_data]   Package punkt is already up-to-date!\n"
          ]
        },
        {
          "output_type": "execute_result",
          "data": {
            "text/plain": [
              "True"
            ]
          },
          "metadata": {},
          "execution_count": 19
        }
      ]
    },
    {
      "cell_type": "code",
      "source": [
        "from nltk.tokenize import sent_tokenize\n",
        "from nltk.tokenize import word_tokenize\n",
        "from nltk.tokenize import TreebankWordTokenizer\n",
        "from nltk.corpus import wordnet"
      ],
      "metadata": {
        "id": "EoAIhy5lPpWd"
      },
      "execution_count": 20,
      "outputs": []
    },
    {
      "cell_type": "code",
      "source": [
        "sent_tokenize(df[\"reviewText\"][0])"
      ],
      "metadata": {
        "colab": {
          "base_uri": "https://localhost:8080/"
        },
        "id": "8q4cK0xlVDbg",
        "outputId": "bf27f3fa-5371-449c-d204-1b531d6a57c6"
      },
      "execution_count": 21,
      "outputs": [
        {
          "output_type": "execute_result",
          "data": {
            "text/plain": [
              "['i am extremely impressed with this power pack  superb quality build and the versatility is amazing  i have charged my cell phone and tablet with this plus   a huge bonus if you are a musician who uses pedals  this works great for powering your pedals away from a power source  it only has a single v outlet but that is no problem  just use a daisy chain connector  at first it wasnt working for my pedals but i finally realized it had to be a polarity issue so i tried a reverse polarity cable the voodoo cable with a red end and a black end and voila  a second issue was my eq pedal takes v but i bought a diago vv adapter and same result  perfection  so with this power pack a reverse polarity cable daisy chain and v adapter i can power my entire pedal board for hours on end  add to that being able to charge almost any device you can think of the adapters provided are plentiful and have worked for everything i have tried i think this is the most incredible and valuable power device you will ever find   happy and would instantly buy another if i needed to']"
            ]
          },
          "metadata": {},
          "execution_count": 21
        }
      ]
    },
    {
      "cell_type": "code",
      "source": [
        "#word_tokenize(df[\"reviewText\"][0])"
      ],
      "metadata": {
        "id": "2TNJCfbhU6fQ"
      },
      "execution_count": 22,
      "outputs": []
    },
    {
      "cell_type": "code",
      "source": [
        "TreebankWordTokenizer().tokenize(df[\"reviewText\"][0])"
      ],
      "metadata": {
        "colab": {
          "base_uri": "https://localhost:8080/"
        },
        "id": "HJ3w0yWORAaV",
        "outputId": "4f87a0d6-3b8a-42e7-e9af-7aeaf6b04126"
      },
      "execution_count": 23,
      "outputs": [
        {
          "output_type": "execute_result",
          "data": {
            "text/plain": [
              "['i',\n",
              " 'am',\n",
              " 'extremely',\n",
              " 'impressed',\n",
              " 'with',\n",
              " 'this',\n",
              " 'power',\n",
              " 'pack',\n",
              " 'superb',\n",
              " 'quality',\n",
              " 'build',\n",
              " 'and',\n",
              " 'the',\n",
              " 'versatility',\n",
              " 'is',\n",
              " 'amazing',\n",
              " 'i',\n",
              " 'have',\n",
              " 'charged',\n",
              " 'my',\n",
              " 'cell',\n",
              " 'phone',\n",
              " 'and',\n",
              " 'tablet',\n",
              " 'with',\n",
              " 'this',\n",
              " 'plus',\n",
              " 'a',\n",
              " 'huge',\n",
              " 'bonus',\n",
              " 'if',\n",
              " 'you',\n",
              " 'are',\n",
              " 'a',\n",
              " 'musician',\n",
              " 'who',\n",
              " 'uses',\n",
              " 'pedals',\n",
              " 'this',\n",
              " 'works',\n",
              " 'great',\n",
              " 'for',\n",
              " 'powering',\n",
              " 'your',\n",
              " 'pedals',\n",
              " 'away',\n",
              " 'from',\n",
              " 'a',\n",
              " 'power',\n",
              " 'source',\n",
              " 'it',\n",
              " 'only',\n",
              " 'has',\n",
              " 'a',\n",
              " 'single',\n",
              " 'v',\n",
              " 'outlet',\n",
              " 'but',\n",
              " 'that',\n",
              " 'is',\n",
              " 'no',\n",
              " 'problem',\n",
              " 'just',\n",
              " 'use',\n",
              " 'a',\n",
              " 'daisy',\n",
              " 'chain',\n",
              " 'connector',\n",
              " 'at',\n",
              " 'first',\n",
              " 'it',\n",
              " 'wasnt',\n",
              " 'working',\n",
              " 'for',\n",
              " 'my',\n",
              " 'pedals',\n",
              " 'but',\n",
              " 'i',\n",
              " 'finally',\n",
              " 'realized',\n",
              " 'it',\n",
              " 'had',\n",
              " 'to',\n",
              " 'be',\n",
              " 'a',\n",
              " 'polarity',\n",
              " 'issue',\n",
              " 'so',\n",
              " 'i',\n",
              " 'tried',\n",
              " 'a',\n",
              " 'reverse',\n",
              " 'polarity',\n",
              " 'cable',\n",
              " 'the',\n",
              " 'voodoo',\n",
              " 'cable',\n",
              " 'with',\n",
              " 'a',\n",
              " 'red',\n",
              " 'end',\n",
              " 'and',\n",
              " 'a',\n",
              " 'black',\n",
              " 'end',\n",
              " 'and',\n",
              " 'voila',\n",
              " 'a',\n",
              " 'second',\n",
              " 'issue',\n",
              " 'was',\n",
              " 'my',\n",
              " 'eq',\n",
              " 'pedal',\n",
              " 'takes',\n",
              " 'v',\n",
              " 'but',\n",
              " 'i',\n",
              " 'bought',\n",
              " 'a',\n",
              " 'diago',\n",
              " 'vv',\n",
              " 'adapter',\n",
              " 'and',\n",
              " 'same',\n",
              " 'result',\n",
              " 'perfection',\n",
              " 'so',\n",
              " 'with',\n",
              " 'this',\n",
              " 'power',\n",
              " 'pack',\n",
              " 'a',\n",
              " 'reverse',\n",
              " 'polarity',\n",
              " 'cable',\n",
              " 'daisy',\n",
              " 'chain',\n",
              " 'and',\n",
              " 'v',\n",
              " 'adapter',\n",
              " 'i',\n",
              " 'can',\n",
              " 'power',\n",
              " 'my',\n",
              " 'entire',\n",
              " 'pedal',\n",
              " 'board',\n",
              " 'for',\n",
              " 'hours',\n",
              " 'on',\n",
              " 'end',\n",
              " 'add',\n",
              " 'to',\n",
              " 'that',\n",
              " 'being',\n",
              " 'able',\n",
              " 'to',\n",
              " 'charge',\n",
              " 'almost',\n",
              " 'any',\n",
              " 'device',\n",
              " 'you',\n",
              " 'can',\n",
              " 'think',\n",
              " 'of',\n",
              " 'the',\n",
              " 'adapters',\n",
              " 'provided',\n",
              " 'are',\n",
              " 'plentiful',\n",
              " 'and',\n",
              " 'have',\n",
              " 'worked',\n",
              " 'for',\n",
              " 'everything',\n",
              " 'i',\n",
              " 'have',\n",
              " 'tried',\n",
              " 'i',\n",
              " 'think',\n",
              " 'this',\n",
              " 'is',\n",
              " 'the',\n",
              " 'most',\n",
              " 'incredible',\n",
              " 'and',\n",
              " 'valuable',\n",
              " 'power',\n",
              " 'device',\n",
              " 'you',\n",
              " 'will',\n",
              " 'ever',\n",
              " 'find',\n",
              " 'happy',\n",
              " 'and',\n",
              " 'would',\n",
              " 'instantly',\n",
              " 'buy',\n",
              " 'another',\n",
              " 'if',\n",
              " 'i',\n",
              " 'needed',\n",
              " 'to']"
            ]
          },
          "metadata": {},
          "execution_count": 23
        }
      ]
    },
    {
      "cell_type": "code",
      "source": [
        "temp = df[\"reviewText\"].values\n",
        "tokenized = [corpus.split(\" \") for corpus in temp]\n",
        "\n",
        "print(tokenized[0])"
      ],
      "metadata": {
        "colab": {
          "base_uri": "https://localhost:8080/"
        },
        "id": "tdNHoyftRHha",
        "outputId": "5eaeebba-5659-4d9c-e3a3-fbdc5260bf95"
      },
      "execution_count": 24,
      "outputs": [
        {
          "output_type": "stream",
          "name": "stdout",
          "text": [
            "['i', 'am', 'extremely', 'impressed', 'with', 'this', 'power', 'pack', '', 'superb', 'quality', 'build', 'and', 'the', 'versatility', 'is', 'amazing', '', 'i', 'have', 'charged', 'my', 'cell', 'phone', 'and', 'tablet', 'with', 'this', 'plus', '', '', 'a', 'huge', 'bonus', 'if', 'you', 'are', 'a', 'musician', 'who', 'uses', 'pedals', '', 'this', 'works', 'great', 'for', 'powering', 'your', 'pedals', 'away', 'from', 'a', 'power', 'source', '', 'it', 'only', 'has', 'a', 'single', 'v', 'outlet', 'but', 'that', 'is', 'no', 'problem', '', 'just', 'use', 'a', 'daisy', 'chain', 'connector', '', 'at', 'first', 'it', 'wasnt', 'working', 'for', 'my', 'pedals', 'but', 'i', 'finally', 'realized', 'it', 'had', 'to', 'be', 'a', 'polarity', 'issue', 'so', 'i', 'tried', 'a', 'reverse', 'polarity', 'cable', 'the', 'voodoo', 'cable', 'with', 'a', 'red', 'end', 'and', 'a', 'black', 'end', 'and', 'voila', '', 'a', 'second', 'issue', 'was', 'my', 'eq', 'pedal', 'takes', 'v', 'but', 'i', 'bought', 'a', 'diago', 'vv', 'adapter', 'and', 'same', 'result', '', 'perfection', '', 'so', 'with', 'this', 'power', 'pack', 'a', 'reverse', 'polarity', 'cable', 'daisy', 'chain', 'and', 'v', 'adapter', 'i', 'can', 'power', 'my', 'entire', 'pedal', 'board', 'for', 'hours', 'on', 'end', '', 'add', 'to', 'that', 'being', 'able', 'to', 'charge', 'almost', 'any', 'device', 'you', 'can', 'think', 'of', 'the', 'adapters', 'provided', 'are', 'plentiful', 'and', 'have', 'worked', 'for', 'everything', 'i', 'have', 'tried', 'i', 'think', 'this', 'is', 'the', 'most', 'incredible', 'and', 'valuable', 'power', 'device', 'you', 'will', 'ever', 'find', '', '', 'happy', 'and', 'would', 'instantly', 'buy', 'another', 'if', 'i', 'needed', 'to']\n"
          ]
        }
      ]
    },
    {
      "cell_type": "code",
      "source": [
        "# Stemmer"
      ],
      "metadata": {
        "id": "bh1TC6vTSOdf"
      },
      "execution_count": 25,
      "outputs": []
    },
    {
      "cell_type": "code",
      "source": [
        "from nltk.stem import PorterStemmer\n",
        "from nltk.stem import LancasterStemmer"
      ],
      "metadata": {
        "id": "lxh1u0L7gRKe"
      },
      "execution_count": 26,
      "outputs": []
    },
    {
      "cell_type": "code",
      "source": [
        "PorterStemmer().stem(df[\"reviewText\"][0])"
      ],
      "metadata": {
        "colab": {
          "base_uri": "https://localhost:8080/",
          "height": 125
        },
        "id": "JavnrVc3gSiv",
        "outputId": "400e3f6a-9335-486e-e54e-e17eec7d9885"
      },
      "execution_count": 27,
      "outputs": [
        {
          "output_type": "execute_result",
          "data": {
            "text/plain": [
              "'i am extremely impressed with this power pack  superb quality build and the versatility is amazing  i have charged my cell phone and tablet with this plus   a huge bonus if you are a musician who uses pedals  this works great for powering your pedals away from a power source  it only has a single v outlet but that is no problem  just use a daisy chain connector  at first it wasnt working for my pedals but i finally realized it had to be a polarity issue so i tried a reverse polarity cable the voodoo cable with a red end and a black end and voila  a second issue was my eq pedal takes v but i bought a diago vv adapter and same result  perfection  so with this power pack a reverse polarity cable daisy chain and v adapter i can power my entire pedal board for hours on end  add to that being able to charge almost any device you can think of the adapters provided are plentiful and have worked for everything i have tried i think this is the most incredible and valuable power device you will ever find   happy and would instantly buy another if i needed to'"
            ],
            "application/vnd.google.colaboratory.intrinsic+json": {
              "type": "string"
            }
          },
          "metadata": {},
          "execution_count": 27
        }
      ]
    },
    {
      "cell_type": "code",
      "source": [
        "LancasterStemmer().stem(df[\"reviewText\"][0])"
      ],
      "metadata": {
        "colab": {
          "base_uri": "https://localhost:8080/",
          "height": 125
        },
        "id": "sPjBjELGgV1Y",
        "outputId": "d7012eb1-ae9b-4149-921c-7f9969ee1fa6"
      },
      "execution_count": 28,
      "outputs": [
        {
          "output_type": "execute_result",
          "data": {
            "text/plain": [
              "'i am extremely impressed with this power pack  superb quality build and the versatility is amazing  i have charged my cell phone and tablet with this plus   a huge bonus if you are a musician who uses pedals  this works great for powering your pedals away from a power source  it only has a single v outlet but that is no problem  just use a daisy chain connector  at first it wasnt working for my pedals but i finally realized it had to be a polarity issue so i tried a reverse polarity cable the voodoo cable with a red end and a black end and voila  a second issue was my eq pedal takes v but i bought a diago vv adapter and same result  perfection  so with this power pack a reverse polarity cable daisy chain and v adapter i can power my entire pedal board for hours on end  add to that being able to charge almost any device you can think of the adapters provided are plentiful and have worked for everything i have tried i think this is the most incredible and valuable power device you will ever find   happy and would instantly buy another if i needed to'"
            ],
            "application/vnd.google.colaboratory.intrinsic+json": {
              "type": "string"
            }
          },
          "metadata": {},
          "execution_count": 28
        }
      ]
    },
    {
      "cell_type": "code",
      "source": [
        "#POS - Part of Speech: Isim ill, özne yüklem, fill fail"
      ],
      "metadata": {
        "id": "gdxmMXMDgZXo"
      },
      "execution_count": 29,
      "outputs": []
    },
    {
      "cell_type": "code",
      "source": [
        "nltk.download(\"averaged_perceptron_tagger\")"
      ],
      "metadata": {
        "id": "rMdk-t-3gpem"
      },
      "execution_count": null,
      "outputs": []
    },
    {
      "cell_type": "code",
      "source": [
        "nltk.pos_tag(word_tokenize(df[\"reviewText\"][0]))"
      ],
      "metadata": {
        "colab": {
          "base_uri": "https://localhost:8080/"
        },
        "id": "NVzolSzogq47",
        "outputId": "60905ec3-b7fc-4973-af55-4164fd94eb22"
      },
      "execution_count": 31,
      "outputs": [
        {
          "output_type": "execute_result",
          "data": {
            "text/plain": [
              "[('i', 'NN'),\n",
              " ('am', 'VBP'),\n",
              " ('extremely', 'RB'),\n",
              " ('impressed', 'JJ'),\n",
              " ('with', 'IN'),\n",
              " ('this', 'DT'),\n",
              " ('power', 'NN'),\n",
              " ('pack', 'NN'),\n",
              " ('superb', 'NN'),\n",
              " ('quality', 'NN'),\n",
              " ('build', 'NN'),\n",
              " ('and', 'CC'),\n",
              " ('the', 'DT'),\n",
              " ('versatility', 'NN'),\n",
              " ('is', 'VBZ'),\n",
              " ('amazing', 'VBG'),\n",
              " ('i', 'NNS'),\n",
              " ('have', 'VBP'),\n",
              " ('charged', 'VBN'),\n",
              " ('my', 'PRP$'),\n",
              " ('cell', 'NN'),\n",
              " ('phone', 'NN'),\n",
              " ('and', 'CC'),\n",
              " ('tablet', 'NN'),\n",
              " ('with', 'IN'),\n",
              " ('this', 'DT'),\n",
              " ('plus', 'VBZ'),\n",
              " ('a', 'DT'),\n",
              " ('huge', 'JJ'),\n",
              " ('bonus', 'NN'),\n",
              " ('if', 'IN'),\n",
              " ('you', 'PRP'),\n",
              " ('are', 'VBP'),\n",
              " ('a', 'DT'),\n",
              " ('musician', 'NN'),\n",
              " ('who', 'WP'),\n",
              " ('uses', 'VBZ'),\n",
              " ('pedals', 'NNS'),\n",
              " ('this', 'DT'),\n",
              " ('works', 'VBZ'),\n",
              " ('great', 'JJ'),\n",
              " ('for', 'IN'),\n",
              " ('powering', 'VBG'),\n",
              " ('your', 'PRP$'),\n",
              " ('pedals', 'NNS'),\n",
              " ('away', 'RB'),\n",
              " ('from', 'IN'),\n",
              " ('a', 'DT'),\n",
              " ('power', 'NN'),\n",
              " ('source', 'NN'),\n",
              " ('it', 'PRP'),\n",
              " ('only', 'RB'),\n",
              " ('has', 'VBZ'),\n",
              " ('a', 'DT'),\n",
              " ('single', 'JJ'),\n",
              " ('v', 'NN'),\n",
              " ('outlet', 'NN'),\n",
              " ('but', 'CC'),\n",
              " ('that', 'DT'),\n",
              " ('is', 'VBZ'),\n",
              " ('no', 'DT'),\n",
              " ('problem', 'NN'),\n",
              " ('just', 'RB'),\n",
              " ('use', 'VB'),\n",
              " ('a', 'DT'),\n",
              " ('daisy', 'NN'),\n",
              " ('chain', 'NN'),\n",
              " ('connector', 'NN'),\n",
              " ('at', 'IN'),\n",
              " ('first', 'JJ'),\n",
              " ('it', 'PRP'),\n",
              " ('wasnt', 'VBZ'),\n",
              " ('working', 'VBG'),\n",
              " ('for', 'IN'),\n",
              " ('my', 'PRP$'),\n",
              " ('pedals', 'NNS'),\n",
              " ('but', 'CC'),\n",
              " ('i', 'VBP'),\n",
              " ('finally', 'RB'),\n",
              " ('realized', 'VBN'),\n",
              " ('it', 'PRP'),\n",
              " ('had', 'VBD'),\n",
              " ('to', 'TO'),\n",
              " ('be', 'VB'),\n",
              " ('a', 'DT'),\n",
              " ('polarity', 'NN'),\n",
              " ('issue', 'NN'),\n",
              " ('so', 'IN'),\n",
              " ('i', 'JJ'),\n",
              " ('tried', 'VBD'),\n",
              " ('a', 'DT'),\n",
              " ('reverse', 'NN'),\n",
              " ('polarity', 'NN'),\n",
              " ('cable', 'NN'),\n",
              " ('the', 'DT'),\n",
              " ('voodoo', 'NN'),\n",
              " ('cable', 'NN'),\n",
              " ('with', 'IN'),\n",
              " ('a', 'DT'),\n",
              " ('red', 'JJ'),\n",
              " ('end', 'NN'),\n",
              " ('and', 'CC'),\n",
              " ('a', 'DT'),\n",
              " ('black', 'JJ'),\n",
              " ('end', 'NN'),\n",
              " ('and', 'CC'),\n",
              " ('voila', 'VB'),\n",
              " ('a', 'DT'),\n",
              " ('second', 'JJ'),\n",
              " ('issue', 'NN'),\n",
              " ('was', 'VBD'),\n",
              " ('my', 'PRP$'),\n",
              " ('eq', 'JJ'),\n",
              " ('pedal', 'JJ'),\n",
              " ('takes', 'VBZ'),\n",
              " ('v', 'NN'),\n",
              " ('but', 'CC'),\n",
              " ('i', 'JJ'),\n",
              " ('bought', 'VBD'),\n",
              " ('a', 'DT'),\n",
              " ('diago', 'NN'),\n",
              " ('vv', 'NN'),\n",
              " ('adapter', 'NN'),\n",
              " ('and', 'CC'),\n",
              " ('same', 'JJ'),\n",
              " ('result', 'NN'),\n",
              " ('perfection', 'NN'),\n",
              " ('so', 'RB'),\n",
              " ('with', 'IN'),\n",
              " ('this', 'DT'),\n",
              " ('power', 'NN'),\n",
              " ('pack', 'VB'),\n",
              " ('a', 'DT'),\n",
              " ('reverse', 'JJ'),\n",
              " ('polarity', 'NN'),\n",
              " ('cable', 'NN'),\n",
              " ('daisy', 'NN'),\n",
              " ('chain', 'NN'),\n",
              " ('and', 'CC'),\n",
              " ('v', 'JJ'),\n",
              " ('adapter', 'NN'),\n",
              " ('i', 'NN'),\n",
              " ('can', 'MD'),\n",
              " ('power', 'NN'),\n",
              " ('my', 'PRP$'),\n",
              " ('entire', 'JJ'),\n",
              " ('pedal', 'NN'),\n",
              " ('board', 'NN'),\n",
              " ('for', 'IN'),\n",
              " ('hours', 'NNS'),\n",
              " ('on', 'IN'),\n",
              " ('end', 'NN'),\n",
              " ('add', 'NN'),\n",
              " ('to', 'TO'),\n",
              " ('that', 'DT'),\n",
              " ('being', 'VBG'),\n",
              " ('able', 'JJ'),\n",
              " ('to', 'TO'),\n",
              " ('charge', 'VB'),\n",
              " ('almost', 'RB'),\n",
              " ('any', 'DT'),\n",
              " ('device', 'NN'),\n",
              " ('you', 'PRP'),\n",
              " ('can', 'MD'),\n",
              " ('think', 'VB'),\n",
              " ('of', 'IN'),\n",
              " ('the', 'DT'),\n",
              " ('adapters', 'NNS'),\n",
              " ('provided', 'VBD'),\n",
              " ('are', 'VBP'),\n",
              " ('plentiful', 'JJ'),\n",
              " ('and', 'CC'),\n",
              " ('have', 'VBP'),\n",
              " ('worked', 'VBN'),\n",
              " ('for', 'IN'),\n",
              " ('everything', 'NN'),\n",
              " ('i', 'NNS'),\n",
              " ('have', 'VBP'),\n",
              " ('tried', 'VBN'),\n",
              " ('i', 'JJ'),\n",
              " ('think', 'VBP'),\n",
              " ('this', 'DT'),\n",
              " ('is', 'VBZ'),\n",
              " ('the', 'DT'),\n",
              " ('most', 'RBS'),\n",
              " ('incredible', 'JJ'),\n",
              " ('and', 'CC'),\n",
              " ('valuable', 'JJ'),\n",
              " ('power', 'NN'),\n",
              " ('device', 'NN'),\n",
              " ('you', 'PRP'),\n",
              " ('will', 'MD'),\n",
              " ('ever', 'RB'),\n",
              " ('find', 'VB'),\n",
              " ('happy', 'JJ'),\n",
              " ('and', 'CC'),\n",
              " ('would', 'MD'),\n",
              " ('instantly', 'RB'),\n",
              " ('buy', 'VB'),\n",
              " ('another', 'DT'),\n",
              " ('if', 'IN'),\n",
              " ('i', 'NN'),\n",
              " ('needed', 'VBD'),\n",
              " ('to', 'TO')]"
            ]
          },
          "metadata": {},
          "execution_count": 31
        }
      ]
    },
    {
      "cell_type": "code",
      "source": [
        "#!pip install autocorrect"
      ],
      "metadata": {
        "id": "4o5s_jfSg4WO"
      },
      "execution_count": 32,
      "outputs": []
    },
    {
      "cell_type": "code",
      "source": [
        "from autocorrect import spell"
      ],
      "metadata": {
        "id": "Oh5Nq3LshPTI"
      },
      "execution_count": 33,
      "outputs": []
    },
    {
      "cell_type": "code",
      "source": [
        "spell(df[\"reviewText\"][0])"
      ],
      "metadata": {
        "colab": {
          "base_uri": "https://localhost:8080/",
          "height": 142
        },
        "id": "YhWWUOUvhSz9",
        "outputId": "9f554688-6756-4bdd-9f4a-8ef23678d810"
      },
      "execution_count": 34,
      "outputs": [
        {
          "output_type": "stream",
          "name": "stdout",
          "text": [
            "autocorrect.spell is deprecated,             use autocorrect.Speller instead\n"
          ]
        },
        {
          "output_type": "execute_result",
          "data": {
            "text/plain": [
              "'i am extremely impressed with this power pack  superb quality build and the versatility is amazing  i have charged my cell phone and tablet with this plus   a huge bonus if you are a musician who uses pedals  this works great for powering your pedals away from a power source  it only has a single v outlet but that is no problem  just use a daisy chain connector  at first it wasnt working for my pedals but i finally realized it had to be a polarity issue so i tried a reverse polarity cable the voodoo cable with a red end and a black end and viola  a second issue was my eq pedal takes v but i bought a diego vv adapter and same result  perfection  so with this power pack a reverse polarity cable daisy chain and v adapter i can power my entire pedal board for hours on end  add to that being able to charge almost any device you can think of the adapters provided are plentiful and have worked for everything i have tried i think this is the most incredible and valuable power device you will ever find   happy and would instantly buy another if i needed to'"
            ],
            "application/vnd.google.colaboratory.intrinsic+json": {
              "type": "string"
            }
          },
          "metadata": {},
          "execution_count": 34
        }
      ]
    },
    {
      "cell_type": "code",
      "source": [
        "df.head()"
      ],
      "metadata": {
        "colab": {
          "base_uri": "https://localhost:8080/",
          "height": 337
        },
        "id": "Rg-HErxihV8l",
        "outputId": "628caf8c-41d7-4a01-97c1-6e12170092da"
      },
      "execution_count": 35,
      "outputs": [
        {
          "output_type": "execute_result",
          "data": {
            "text/plain": [
              "       reviewerID        asin          reviewerName helpful  \\\n",
              "0  A34PJAS16SWEES  B00DVB7F0S          David Delson  [0, 0]   \n",
              "1  A3OR2YSRJ01FRF  B000I1KGKK            R. Gormley  [0, 0]   \n",
              "2  A17AK1Z8KN613L  B004GUT1QO  G. Simms \"Ireadlots\"  [0, 0]   \n",
              "3   AQL3D70CKNTL8  B0042I3J1I         Charles Capko  [0, 0]   \n",
              "4  A3LN1XP3RAA5RI  B00622AG6S                   AMD  [0, 0]   \n",
              "\n",
              "                                          reviewText  overall  \\\n",
              "0  i am extremely impressed with this power pack ...        5   \n",
              "1  i bought these on a flight from australia to t...        5   \n",
              "2  i live with the buds in my ear and a protectiv...        4   \n",
              "3  ive been using this for a long while now i use...        4   \n",
              "4  the product for its price does its job have no...        5   \n",
              "\n",
              "                                             summary  unixReviewTime  \\\n",
              "0  Brilliant - charges lots of stuff PLUS runs yo...      1402012800   \n",
              "1                                        Outstanding      1167177600   \n",
              "2                       Does What it Does Prety Well      1308528000   \n",
              "3  Could have a better design but too useful to g...      1356393600   \n",
              "4                              It works a described.      1403136000   \n",
              "\n",
              "    reviewTime  \n",
              "0   06 6, 2014  \n",
              "1  12 27, 2006  \n",
              "2  06 20, 2011  \n",
              "3  12 25, 2012  \n",
              "4  06 19, 2014  "
            ],
            "text/html": [
              "\n",
              "  <div id=\"df-a3c3972e-7eaf-4521-bd1c-b5a9985c0ce6\">\n",
              "    <div class=\"colab-df-container\">\n",
              "      <div>\n",
              "<style scoped>\n",
              "    .dataframe tbody tr th:only-of-type {\n",
              "        vertical-align: middle;\n",
              "    }\n",
              "\n",
              "    .dataframe tbody tr th {\n",
              "        vertical-align: top;\n",
              "    }\n",
              "\n",
              "    .dataframe thead th {\n",
              "        text-align: right;\n",
              "    }\n",
              "</style>\n",
              "<table border=\"1\" class=\"dataframe\">\n",
              "  <thead>\n",
              "    <tr style=\"text-align: right;\">\n",
              "      <th></th>\n",
              "      <th>reviewerID</th>\n",
              "      <th>asin</th>\n",
              "      <th>reviewerName</th>\n",
              "      <th>helpful</th>\n",
              "      <th>reviewText</th>\n",
              "      <th>overall</th>\n",
              "      <th>summary</th>\n",
              "      <th>unixReviewTime</th>\n",
              "      <th>reviewTime</th>\n",
              "    </tr>\n",
              "  </thead>\n",
              "  <tbody>\n",
              "    <tr>\n",
              "      <th>0</th>\n",
              "      <td>A34PJAS16SWEES</td>\n",
              "      <td>B00DVB7F0S</td>\n",
              "      <td>David Delson</td>\n",
              "      <td>[0, 0]</td>\n",
              "      <td>i am extremely impressed with this power pack ...</td>\n",
              "      <td>5</td>\n",
              "      <td>Brilliant - charges lots of stuff PLUS runs yo...</td>\n",
              "      <td>1402012800</td>\n",
              "      <td>06 6, 2014</td>\n",
              "    </tr>\n",
              "    <tr>\n",
              "      <th>1</th>\n",
              "      <td>A3OR2YSRJ01FRF</td>\n",
              "      <td>B000I1KGKK</td>\n",
              "      <td>R. Gormley</td>\n",
              "      <td>[0, 0]</td>\n",
              "      <td>i bought these on a flight from australia to t...</td>\n",
              "      <td>5</td>\n",
              "      <td>Outstanding</td>\n",
              "      <td>1167177600</td>\n",
              "      <td>12 27, 2006</td>\n",
              "    </tr>\n",
              "    <tr>\n",
              "      <th>2</th>\n",
              "      <td>A17AK1Z8KN613L</td>\n",
              "      <td>B004GUT1QO</td>\n",
              "      <td>G. Simms \"Ireadlots\"</td>\n",
              "      <td>[0, 0]</td>\n",
              "      <td>i live with the buds in my ear and a protectiv...</td>\n",
              "      <td>4</td>\n",
              "      <td>Does What it Does Prety Well</td>\n",
              "      <td>1308528000</td>\n",
              "      <td>06 20, 2011</td>\n",
              "    </tr>\n",
              "    <tr>\n",
              "      <th>3</th>\n",
              "      <td>AQL3D70CKNTL8</td>\n",
              "      <td>B0042I3J1I</td>\n",
              "      <td>Charles Capko</td>\n",
              "      <td>[0, 0]</td>\n",
              "      <td>ive been using this for a long while now i use...</td>\n",
              "      <td>4</td>\n",
              "      <td>Could have a better design but too useful to g...</td>\n",
              "      <td>1356393600</td>\n",
              "      <td>12 25, 2012</td>\n",
              "    </tr>\n",
              "    <tr>\n",
              "      <th>4</th>\n",
              "      <td>A3LN1XP3RAA5RI</td>\n",
              "      <td>B00622AG6S</td>\n",
              "      <td>AMD</td>\n",
              "      <td>[0, 0]</td>\n",
              "      <td>the product for its price does its job have no...</td>\n",
              "      <td>5</td>\n",
              "      <td>It works a described.</td>\n",
              "      <td>1403136000</td>\n",
              "      <td>06 19, 2014</td>\n",
              "    </tr>\n",
              "  </tbody>\n",
              "</table>\n",
              "</div>\n",
              "      <button class=\"colab-df-convert\" onclick=\"convertToInteractive('df-a3c3972e-7eaf-4521-bd1c-b5a9985c0ce6')\"\n",
              "              title=\"Convert this dataframe to an interactive table.\"\n",
              "              style=\"display:none;\">\n",
              "        \n",
              "  <svg xmlns=\"http://www.w3.org/2000/svg\" height=\"24px\"viewBox=\"0 0 24 24\"\n",
              "       width=\"24px\">\n",
              "    <path d=\"M0 0h24v24H0V0z\" fill=\"none\"/>\n",
              "    <path d=\"M18.56 5.44l.94 2.06.94-2.06 2.06-.94-2.06-.94-.94-2.06-.94 2.06-2.06.94zm-11 1L8.5 8.5l.94-2.06 2.06-.94-2.06-.94L8.5 2.5l-.94 2.06-2.06.94zm10 10l.94 2.06.94-2.06 2.06-.94-2.06-.94-.94-2.06-.94 2.06-2.06.94z\"/><path d=\"M17.41 7.96l-1.37-1.37c-.4-.4-.92-.59-1.43-.59-.52 0-1.04.2-1.43.59L10.3 9.45l-7.72 7.72c-.78.78-.78 2.05 0 2.83L4 21.41c.39.39.9.59 1.41.59.51 0 1.02-.2 1.41-.59l7.78-7.78 2.81-2.81c.8-.78.8-2.07 0-2.86zM5.41 20L4 18.59l7.72-7.72 1.47 1.35L5.41 20z\"/>\n",
              "  </svg>\n",
              "      </button>\n",
              "      \n",
              "  <style>\n",
              "    .colab-df-container {\n",
              "      display:flex;\n",
              "      flex-wrap:wrap;\n",
              "      gap: 12px;\n",
              "    }\n",
              "\n",
              "    .colab-df-convert {\n",
              "      background-color: #E8F0FE;\n",
              "      border: none;\n",
              "      border-radius: 50%;\n",
              "      cursor: pointer;\n",
              "      display: none;\n",
              "      fill: #1967D2;\n",
              "      height: 32px;\n",
              "      padding: 0 0 0 0;\n",
              "      width: 32px;\n",
              "    }\n",
              "\n",
              "    .colab-df-convert:hover {\n",
              "      background-color: #E2EBFA;\n",
              "      box-shadow: 0px 1px 2px rgba(60, 64, 67, 0.3), 0px 1px 3px 1px rgba(60, 64, 67, 0.15);\n",
              "      fill: #174EA6;\n",
              "    }\n",
              "\n",
              "    [theme=dark] .colab-df-convert {\n",
              "      background-color: #3B4455;\n",
              "      fill: #D2E3FC;\n",
              "    }\n",
              "\n",
              "    [theme=dark] .colab-df-convert:hover {\n",
              "      background-color: #434B5C;\n",
              "      box-shadow: 0px 1px 3px 1px rgba(0, 0, 0, 0.15);\n",
              "      filter: drop-shadow(0px 1px 2px rgba(0, 0, 0, 0.3));\n",
              "      fill: #FFFFFF;\n",
              "    }\n",
              "  </style>\n",
              "\n",
              "      <script>\n",
              "        const buttonEl =\n",
              "          document.querySelector('#df-a3c3972e-7eaf-4521-bd1c-b5a9985c0ce6 button.colab-df-convert');\n",
              "        buttonEl.style.display =\n",
              "          google.colab.kernel.accessAllowed ? 'block' : 'none';\n",
              "\n",
              "        async function convertToInteractive(key) {\n",
              "          const element = document.querySelector('#df-a3c3972e-7eaf-4521-bd1c-b5a9985c0ce6');\n",
              "          const dataTable =\n",
              "            await google.colab.kernel.invokeFunction('convertToInteractive',\n",
              "                                                     [key], {});\n",
              "          if (!dataTable) return;\n",
              "\n",
              "          const docLinkHtml = 'Like what you see? Visit the ' +\n",
              "            '<a target=\"_blank\" href=https://colab.research.google.com/notebooks/data_table.ipynb>data table notebook</a>'\n",
              "            + ' to learn more about interactive tables.';\n",
              "          element.innerHTML = '';\n",
              "          dataTable['output_type'] = 'display_data';\n",
              "          await google.colab.output.renderOutput(dataTable, element);\n",
              "          const docLink = document.createElement('div');\n",
              "          docLink.innerHTML = docLinkHtml;\n",
              "          element.appendChild(docLink);\n",
              "        }\n",
              "      </script>\n",
              "    </div>\n",
              "  </div>\n",
              "  "
            ]
          },
          "metadata": {},
          "execution_count": 35
        }
      ]
    },
    {
      "cell_type": "code",
      "source": [
        "df.overall.value_counts()"
      ],
      "metadata": {
        "colab": {
          "base_uri": "https://localhost:8080/"
        },
        "id": "jhRopuIHnqMc",
        "outputId": "1d551251-aa1c-48ce-dcea-91f3f4de40b3"
      },
      "execution_count": 36,
      "outputs": [
        {
          "output_type": "execute_result",
          "data": {
            "text/plain": [
              "5    238977\n",
              "4     82001\n",
              "3     33552\n",
              "1     26005\n",
              "2     19465\n",
              "Name: overall, dtype: int64"
            ]
          },
          "metadata": {},
          "execution_count": 36
        }
      ]
    },
    {
      "cell_type": "code",
      "source": [
        "sns.countplot(x=df[\"overall\"]);"
      ],
      "metadata": {
        "colab": {
          "base_uri": "https://localhost:8080/",
          "height": 283
        },
        "id": "y9BwFfsOn0pj",
        "outputId": "ce056e45-e531-4e57-973c-f2f11f119dfd"
      },
      "execution_count": 37,
      "outputs": [
        {
          "output_type": "display_data",
          "data": {
            "text/plain": [
              "<Figure size 432x288 with 1 Axes>"
            ],
            "image/png": "[encoded data removed]"
          },
          "metadata": {
            "needs_background": "light"
          }
        }
      ]
    },
    {
      "cell_type": "code",
      "source": [
        "# adding sentiment Features\n",
        "df[\"sentiment\"]=df[\"overall\"].map({5:\"positive\",4:\"positive\",3:\"neutral\",2:\"negative\",1:\"negative\"})"
      ],
      "metadata": {
        "id": "rxJ-xApbn8Cx"
      },
      "execution_count": 38,
      "outputs": []
    },
    {
      "cell_type": "code",
      "source": [
        "df.sample(5)"
      ],
      "metadata": {
        "colab": {
          "base_uri": "https://localhost:8080/",
          "height": 337
        },
        "id": "LXdCK61zosVC",
        "outputId": "436c11c3-ff5b-4d52-9b21-234e632bc45e"
      },
      "execution_count": 39,
      "outputs": [
        {
          "output_type": "execute_result",
          "data": {
            "text/plain": [
              "            reviewerID        asin                    reviewerName helpful  \\\n",
              "391217  A1XHS2AW2S7LS9  B00DR0PDNE                  Jeffrey Bugbee  [0, 0]   \n",
              "335519  A2WG3BJM948CWV  B000V9D5LG                          philip  [0, 0]   \n",
              "173741   ANMB89ON8576X  B0038KTAXW                   T. J. Mathews  [0, 0]   \n",
              "362283  A1ETF073IG978T  B000KFYD9E  Michele Hermansen \"gengonushi\"  [0, 0]   \n",
              "218122  A2Y7Q9NAZ3D2W0  B003EM0RM2                       philip_ng  [0, 0]   \n",
              "\n",
              "                                               reviewText  overall  \\\n",
              "391217  neat device we use primarily to stream music a...        4   \n",
              "335519  i mostly use this lens for video because im a ...        5   \n",
              "173741  this case is just what i was looking for it is...        5   \n",
              "362283  nice price option to the apple product well ma...        5   \n",
              "218122  was not impressed with the bass on this earpie...        3   \n",
              "\n",
              "                                   summary  unixReviewTime   reviewTime  \\\n",
              "391217      Recommended, with reservations      1390262400  01 21, 2014   \n",
              "335519                     Love this lens!      1386288000   12 6, 2013   \n",
              "173741                  Just what I needed      1285113600  09 22, 2010   \n",
              "362283                       Great Cozies!      1359676800   02 1, 2013   \n",
              "218122  Bass is not strong but overall OK!      1358726400  01 21, 2013   \n",
              "\n",
              "       sentiment  \n",
              "391217  positive  \n",
              "335519  positive  \n",
              "173741  positive  \n",
              "362283  positive  \n",
              "218122   neutral  "
            ],
            "text/html": [
              "\n",
              "  <div id=\"df-10c8bb06-8817-4bc2-b649-22b8eb8f410d\">\n",
              "    <div class=\"colab-df-container\">\n",
              "      <div>\n",
              "<style scoped>\n",
              "    .dataframe tbody tr th:only-of-type {\n",
              "        vertical-align: middle;\n",
              "    }\n",
              "\n",
              "    .dataframe tbody tr th {\n",
              "        vertical-align: top;\n",
              "    }\n",
              "\n",
              "    .dataframe thead th {\n",
              "        text-align: right;\n",
              "    }\n",
              "</style>\n",
              "<table border=\"1\" class=\"dataframe\">\n",
              "  <thead>\n",
              "    <tr style=\"text-align: right;\">\n",
              "      <th></th>\n",
              "      <th>reviewerID</th>\n",
              "      <th>asin</th>\n",
              "      <th>reviewerName</th>\n",
              "      <th>helpful</th>\n",
              "      <th>reviewText</th>\n",
              "      <th>overall</th>\n",
              "      <th>summary</th>\n",
              "      <th>unixReviewTime</th>\n",
              "      <th>reviewTime</th>\n",
              "      <th>sentiment</th>\n",
              "    </tr>\n",
              "  </thead>\n",
              "  <tbody>\n",
              "    <tr>\n",
              "      <th>391217</th>\n",
              "      <td>A1XHS2AW2S7LS9</td>\n",
              "      <td>B00DR0PDNE</td>\n",
              "      <td>Jeffrey Bugbee</td>\n",
              "      <td>[0, 0]</td>\n",
              "      <td>neat device we use primarily to stream music a...</td>\n",
              "      <td>4</td>\n",
              "      <td>Recommended, with reservations</td>\n",
              "      <td>1390262400</td>\n",
              "      <td>01 21, 2014</td>\n",
              "      <td>positive</td>\n",
              "    </tr>\n",
              "    <tr>\n",
              "      <th>335519</th>\n",
              "      <td>A2WG3BJM948CWV</td>\n",
              "      <td>B000V9D5LG</td>\n",
              "      <td>philip</td>\n",
              "      <td>[0, 0]</td>\n",
              "      <td>i mostly use this lens for video because im a ...</td>\n",
              "      <td>5</td>\n",
              "      <td>Love this lens!</td>\n",
              "      <td>1386288000</td>\n",
              "      <td>12 6, 2013</td>\n",
              "      <td>positive</td>\n",
              "    </tr>\n",
              "    <tr>\n",
              "      <th>173741</th>\n",
              "      <td>ANMB89ON8576X</td>\n",
              "      <td>B0038KTAXW</td>\n",
              "      <td>T. J. Mathews</td>\n",
              "      <td>[0, 0]</td>\n",
              "      <td>this case is just what i was looking for it is...</td>\n",
              "      <td>5</td>\n",
              "      <td>Just what I needed</td>\n",
              "      <td>1285113600</td>\n",
              "      <td>09 22, 2010</td>\n",
              "      <td>positive</td>\n",
              "    </tr>\n",
              "    <tr>\n",
              "      <th>362283</th>\n",
              "      <td>A1ETF073IG978T</td>\n",
              "      <td>B000KFYD9E</td>\n",
              "      <td>Michele Hermansen \"gengonushi\"</td>\n",
              "      <td>[0, 0]</td>\n",
              "      <td>nice price option to the apple product well ma...</td>\n",
              "      <td>5</td>\n",
              "      <td>Great Cozies!</td>\n",
              "      <td>1359676800</td>\n",
              "      <td>02 1, 2013</td>\n",
              "      <td>positive</td>\n",
              "    </tr>\n",
              "    <tr>\n",
              "      <th>218122</th>\n",
              "      <td>A2Y7Q9NAZ3D2W0</td>\n",
              "      <td>B003EM0RM2</td>\n",
              "      <td>philip_ng</td>\n",
              "      <td>[0, 0]</td>\n",
              "      <td>was not impressed with the bass on this earpie...</td>\n",
              "      <td>3</td>\n",
              "      <td>Bass is not strong but overall OK!</td>\n",
              "      <td>1358726400</td>\n",
              "      <td>01 21, 2013</td>\n",
              "      <td>neutral</td>\n",
              "    </tr>\n",
              "  </tbody>\n",
              "</table>\n",
              "</div>\n",
              "      <button class=\"colab-df-convert\" onclick=\"convertToInteractive('df-10c8bb06-8817-4bc2-b649-22b8eb8f410d')\"\n",
              "              title=\"Convert this dataframe to an interactive table.\"\n",
              "              style=\"display:none;\">\n",
              "        \n",
              "  <svg xmlns=\"http://www.w3.org/2000/svg\" height=\"24px\"viewBox=\"0 0 24 24\"\n",
              "       width=\"24px\">\n",
              "    <path d=\"M0 0h24v24H0V0z\" fill=\"none\"/>\n",
              "    <path d=\"M18.56 5.44l.94 2.06.94-2.06 2.06-.94-2.06-.94-.94-2.06-.94 2.06-2.06.94zm-11 1L8.5 8.5l.94-2.06 2.06-.94-2.06-.94L8.5 2.5l-.94 2.06-2.06.94zm10 10l.94 2.06.94-2.06 2.06-.94-2.06-.94-.94-2.06-.94 2.06-2.06.94z\"/><path d=\"M17.41 7.96l-1.37-1.37c-.4-.4-.92-.59-1.43-.59-.52 0-1.04.2-1.43.59L10.3 9.45l-7.72 7.72c-.78.78-.78 2.05 0 2.83L4 21.41c.39.39.9.59 1.41.59.51 0 1.02-.2 1.41-.59l7.78-7.78 2.81-2.81c.8-.78.8-2.07 0-2.86zM5.41 20L4 18.59l7.72-7.72 1.47 1.35L5.41 20z\"/>\n",
              "  </svg>\n",
              "      </button>\n",
              "      \n",
              "  <style>\n",
              "    .colab-df-container {\n",
              "      display:flex;\n",
              "      flex-wrap:wrap;\n",
              "      gap: 12px;\n",
              "    }\n",
              "\n",
              "    .colab-df-convert {\n",
              "      background-color: #E8F0FE;\n",
              "      border: none;\n",
              "      border-radius: 50%;\n",
              "      cursor: pointer;\n",
              "      display: none;\n",
              "      fill: #1967D2;\n",
              "      height: 32px;\n",
              "      padding: 0 0 0 0;\n",
              "      width: 32px;\n",
              "    }\n",
              "\n",
              "    .colab-df-convert:hover {\n",
              "      background-color: #E2EBFA;\n",
              "      box-shadow: 0px 1px 2px rgba(60, 64, 67, 0.3), 0px 1px 3px 1px rgba(60, 64, 67, 0.15);\n",
              "      fill: #174EA6;\n",
              "    }\n",
              "\n",
              "    [theme=dark] .colab-df-convert {\n",
              "      background-color: #3B4455;\n",
              "      fill: #D2E3FC;\n",
              "    }\n",
              "\n",
              "    [theme=dark] .colab-df-convert:hover {\n",
              "      background-color: #434B5C;\n",
              "      box-shadow: 0px 1px 3px 1px rgba(0, 0, 0, 0.15);\n",
              "      filter: drop-shadow(0px 1px 2px rgba(0, 0, 0, 0.3));\n",
              "      fill: #FFFFFF;\n",
              "    }\n",
              "  </style>\n",
              "\n",
              "      <script>\n",
              "        const buttonEl =\n",
              "          document.querySelector('#df-10c8bb06-8817-4bc2-b649-22b8eb8f410d button.colab-df-convert');\n",
              "        buttonEl.style.display =\n",
              "          google.colab.kernel.accessAllowed ? 'block' : 'none';\n",
              "\n",
              "        async function convertToInteractive(key) {\n",
              "          const element = document.querySelector('#df-10c8bb06-8817-4bc2-b649-22b8eb8f410d');\n",
              "          const dataTable =\n",
              "            await google.colab.kernel.invokeFunction('convertToInteractive',\n",
              "                                                     [key], {});\n",
              "          if (!dataTable) return;\n",
              "\n",
              "          const docLinkHtml = 'Like what you see? Visit the ' +\n",
              "            '<a target=\"_blank\" href=https://colab.research.google.com/notebooks/data_table.ipynb>data table notebook</a>'\n",
              "            + ' to learn more about interactive tables.';\n",
              "          element.innerHTML = '';\n",
              "          dataTable['output_type'] = 'display_data';\n",
              "          await google.colab.output.renderOutput(dataTable, element);\n",
              "          const docLink = document.createElement('div');\n",
              "          docLink.innerHTML = docLinkHtml;\n",
              "          element.appendChild(docLink);\n",
              "        }\n",
              "      </script>\n",
              "    </div>\n",
              "  </div>\n",
              "  "
            ]
          },
          "metadata": {},
          "execution_count": 39
        }
      ]
    },
    {
      "cell_type": "code",
      "source": [
        "#en iyi ve en kötü\n",
        "dfsent=df[(df.overall==5) | (df.overall==1)]"
      ],
      "metadata": {
        "id": "Rx9AURROow37"
      },
      "execution_count": 40,
      "outputs": []
    },
    {
      "cell_type": "code",
      "source": [
        "dfsent.reset_index(drop=True,inplace=True)  # artik 1 den baslayip sona gidiyor"
      ],
      "metadata": {
        "id": "cTIhe3cxo8WP"
      },
      "execution_count": 41,
      "outputs": []
    },
    {
      "cell_type": "markdown",
      "source": [
        "### Classification - Overall: will the user give 5 or 1 rating"
      ],
      "metadata": {
        "id": "q-afRDXPpMyy"
      }
    },
    {
      "cell_type": "code",
      "source": [
        "dfsent"
      ],
      "metadata": {
        "colab": {
          "base_uri": "https://localhost:8080/",
          "height": 641
        },
        "id": "rb7Uyhuco-kU",
        "outputId": "1ee355ad-8502-45a2-9431-b7e4d48cc73c"
      },
      "execution_count": 42,
      "outputs": [
        {
          "output_type": "execute_result",
          "data": {
            "text/plain": [
              "            reviewerID        asin     reviewerName   helpful  \\\n",
              "0       A34PJAS16SWEES  B00DVB7F0S     David Delson    [0, 0]   \n",
              "1       A3OR2YSRJ01FRF  B000I1KGKK       R. Gormley    [0, 0]   \n",
              "2       A3LN1XP3RAA5RI  B00622AG6S              AMD    [0, 0]   \n",
              "3       A1IIWHYGIJL0VB  B000O5N5AI              NaN    [0, 0]   \n",
              "4        ATUW4B272XLDH  B000AJIF4E             wade    [0, 0]   \n",
              "...                ...         ...              ...       ...   \n",
              "264977  A27VICQZN6MUAN  B0042A8CW2    David J. Hall    [2, 2]   \n",
              "264978   AZUVJ2F7HDJXW  B0092YMZJY           Shadow  [11, 13]   \n",
              "264979  A3EUD541ZM0R0R  B005G4QXWE      Jeff Felker    [0, 0]   \n",
              "264980  A34D4ASUYV6D19  B005ZMHIJE  Amazon Customer    [0, 0]   \n",
              "264981  A3PVKXE8RDK0L7  B00G2J0XUA  Reynold Haywood    [3, 3]   \n",
              "\n",
              "                                               reviewText  overall  \\\n",
              "0       i am extremely impressed with this power pack ...        5   \n",
              "1       i bought these on a flight from australia to t...        5   \n",
              "2       the product for its price does its job have no...        5   \n",
              "3       needed a long hdmi cable to hook up some equip...        5   \n",
              "4       perfect for editingcomfortable i can and have ...        5   \n",
              "...                                                   ...      ...   \n",
              "264977  reading other reviews before and after my purc...        5   \n",
              "264978  to start off with this review is actually of t...        5   \n",
              "264979  this was super easy to use and was just what i...        5   \n",
              "264980  this silicone cover fits perfectly  still allo...        5   \n",
              "264981  always the best in laptop cant complain works ...        5   \n",
              "\n",
              "                                                  summary  unixReviewTime  \\\n",
              "0       Brilliant - charges lots of stuff PLUS runs yo...      1402012800   \n",
              "1                                             Outstanding      1167177600   \n",
              "2                                   It works a described.      1403136000   \n",
              "3                                   Good Reliable Product      1365120000   \n",
              "4                        best studio phones for the money      1401926400   \n",
              "...                                                   ...             ...   \n",
              "264977                         Awesome Headphones!!!!!!!!      1332633600   \n",
              "264978  Integration of TaoTronics TT-CC17 with Magella...      1385078400   \n",
              "264979                   worked perfectly and a good deal      1396656000   \n",
              "264980                      Great little mp3 player cover      1365206400   \n",
              "264981                                            toshiba      1387929600   \n",
              "\n",
              "         reviewTime sentiment  \n",
              "0        06 6, 2014  positive  \n",
              "1       12 27, 2006  positive  \n",
              "2       06 19, 2014  positive  \n",
              "3        04 5, 2013  positive  \n",
              "4        06 5, 2014  positive  \n",
              "...             ...       ...  \n",
              "264977  03 25, 2012  positive  \n",
              "264978  11 22, 2013  positive  \n",
              "264979   04 5, 2014  positive  \n",
              "264980   04 6, 2013  positive  \n",
              "264981  12 25, 2013  positive  \n",
              "\n",
              "[264982 rows x 10 columns]"
            ],
            "text/html": [
              "\n",
              "  <div id=\"df-e5fd236d-419a-4392-bf05-2c3ed6b854aa\">\n",
              "    <div class=\"colab-df-container\">\n",
              "      <div>\n",
              "<style scoped>\n",
              "    .dataframe tbody tr th:only-of-type {\n",
              "        vertical-align: middle;\n",
              "    }\n",
              "\n",
              "    .dataframe tbody tr th {\n",
              "        vertical-align: top;\n",
              "    }\n",
              "\n",
              "    .dataframe thead th {\n",
              "        text-align: right;\n",
              "    }\n",
              "</style>\n",
              "<table border=\"1\" class=\"dataframe\">\n",
              "  <thead>\n",
              "    <tr style=\"text-align: right;\">\n",
              "      <th></th>\n",
              "      <th>reviewerID</th>\n",
              "      <th>asin</th>\n",
              "      <th>reviewerName</th>\n",
              "      <th>helpful</th>\n",
              "      <th>reviewText</th>\n",
              "      <th>overall</th>\n",
              "      <th>summary</th>\n",
              "      <th>unixReviewTime</th>\n",
              "      <th>reviewTime</th>\n",
              "      <th>sentiment</th>\n",
              "    </tr>\n",
              "  </thead>\n",
              "  <tbody>\n",
              "    <tr>\n",
              "      <th>0</th>\n",
              "      <td>A34PJAS16SWEES</td>\n",
              "      <td>B00DVB7F0S</td>\n",
              "      <td>David Delson</td>\n",
              "      <td>[0, 0]</td>\n",
              "      <td>i am extremely impressed with this power pack ...</td>\n",
              "      <td>5</td>\n",
              "      <td>Brilliant - charges lots of stuff PLUS runs yo...</td>\n",
              "      <td>1402012800</td>\n",
              "      <td>06 6, 2014</td>\n",
              "      <td>positive</td>\n",
              "    </tr>\n",
              "    <tr>\n",
              "      <th>1</th>\n",
              "      <td>A3OR2YSRJ01FRF</td>\n",
              "      <td>B000I1KGKK</td>\n",
              "      <td>R. Gormley</td>\n",
              "      <td>[0, 0]</td>\n",
              "      <td>i bought these on a flight from australia to t...</td>\n",
              "      <td>5</td>\n",
              "      <td>Outstanding</td>\n",
              "      <td>1167177600</td>\n",
              "      <td>12 27, 2006</td>\n",
              "      <td>positive</td>\n",
              "    </tr>\n",
              "    <tr>\n",
              "      <th>2</th>\n",
              "      <td>A3LN1XP3RAA5RI</td>\n",
              "      <td>B00622AG6S</td>\n",
              "      <td>AMD</td>\n",
              "      <td>[0, 0]</td>\n",
              "      <td>the product for its price does its job have no...</td>\n",
              "      <td>5</td>\n",
              "      <td>It works a described.</td>\n",
              "      <td>1403136000</td>\n",
              "      <td>06 19, 2014</td>\n",
              "      <td>positive</td>\n",
              "    </tr>\n",
              "    <tr>\n",
              "      <th>3</th>\n",
              "      <td>A1IIWHYGIJL0VB</td>\n",
              "      <td>B000O5N5AI</td>\n",
              "      <td>NaN</td>\n",
              "      <td>[0, 0]</td>\n",
              "      <td>needed a long hdmi cable to hook up some equip...</td>\n",
              "      <td>5</td>\n",
              "      <td>Good Reliable Product</td>\n",
              "      <td>1365120000</td>\n",
              "      <td>04 5, 2013</td>\n",
              "      <td>positive</td>\n",
              "    </tr>\n",
              "    <tr>\n",
              "      <th>4</th>\n",
              "      <td>ATUW4B272XLDH</td>\n",
              "      <td>B000AJIF4E</td>\n",
              "      <td>wade</td>\n",
              "      <td>[0, 0]</td>\n",
              "      <td>perfect for editingcomfortable i can and have ...</td>\n",
              "      <td>5</td>\n",
              "      <td>best studio phones for the money</td>\n",
              "      <td>1401926400</td>\n",
              "      <td>06 5, 2014</td>\n",
              "      <td>positive</td>\n",
              "    </tr>\n",
              "    <tr>\n",
              "      <th>...</th>\n",
              "      <td>...</td>\n",
              "      <td>...</td>\n",
              "      <td>...</td>\n",
              "      <td>...</td>\n",
              "      <td>...</td>\n",
              "      <td>...</td>\n",
              "      <td>...</td>\n",
              "      <td>...</td>\n",
              "      <td>...</td>\n",
              "      <td>...</td>\n",
              "    </tr>\n",
              "    <tr>\n",
              "      <th>264977</th>\n",
              "      <td>A27VICQZN6MUAN</td>\n",
              "      <td>B0042A8CW2</td>\n",
              "      <td>David J. Hall</td>\n",
              "      <td>[2, 2]</td>\n",
              "      <td>reading other reviews before and after my purc...</td>\n",
              "      <td>5</td>\n",
              "      <td>Awesome Headphones!!!!!!!!</td>\n",
              "      <td>1332633600</td>\n",
              "      <td>03 25, 2012</td>\n",
              "      <td>positive</td>\n",
              "    </tr>\n",
              "    <tr>\n",
              "      <th>264978</th>\n",
              "      <td>AZUVJ2F7HDJXW</td>\n",
              "      <td>B0092YMZJY</td>\n",
              "      <td>Shadow</td>\n",
              "      <td>[11, 13]</td>\n",
              "      <td>to start off with this review is actually of t...</td>\n",
              "      <td>5</td>\n",
              "      <td>Integration of TaoTronics TT-CC17 with Magella...</td>\n",
              "      <td>1385078400</td>\n",
              "      <td>11 22, 2013</td>\n",
              "      <td>positive</td>\n",
              "    </tr>\n",
              "    <tr>\n",
              "      <th>264979</th>\n",
              "      <td>A3EUD541ZM0R0R</td>\n",
              "      <td>B005G4QXWE</td>\n",
              "      <td>Jeff Felker</td>\n",
              "      <td>[0, 0]</td>\n",
              "      <td>this was super easy to use and was just what i...</td>\n",
              "      <td>5</td>\n",
              "      <td>worked perfectly and a good deal</td>\n",
              "      <td>1396656000</td>\n",
              "      <td>04 5, 2014</td>\n",
              "      <td>positive</td>\n",
              "    </tr>\n",
              "    <tr>\n",
              "      <th>264980</th>\n",
              "      <td>A34D4ASUYV6D19</td>\n",
              "      <td>B005ZMHIJE</td>\n",
              "      <td>Amazon Customer</td>\n",
              "      <td>[0, 0]</td>\n",
              "      <td>this silicone cover fits perfectly  still allo...</td>\n",
              "      <td>5</td>\n",
              "      <td>Great little mp3 player cover</td>\n",
              "      <td>1365206400</td>\n",
              "      <td>04 6, 2013</td>\n",
              "      <td>positive</td>\n",
              "    </tr>\n",
              "    <tr>\n",
              "      <th>264981</th>\n",
              "      <td>A3PVKXE8RDK0L7</td>\n",
              "      <td>B00G2J0XUA</td>\n",
              "      <td>Reynold Haywood</td>\n",
              "      <td>[3, 3]</td>\n",
              "      <td>always the best in laptop cant complain works ...</td>\n",
              "      <td>5</td>\n",
              "      <td>toshiba</td>\n",
              "      <td>1387929600</td>\n",
              "      <td>12 25, 2013</td>\n",
              "      <td>positive</td>\n",
              "    </tr>\n",
              "  </tbody>\n",
              "</table>\n",
              "<p>264982 rows × 10 columns</p>\n",
              "</div>\n",
              "      <button class=\"colab-df-convert\" onclick=\"convertToInteractive('df-e5fd236d-419a-4392-bf05-2c3ed6b854aa')\"\n",
              "              title=\"Convert this dataframe to an interactive table.\"\n",
              "              style=\"display:none;\">\n",
              "        \n",
              "  <svg xmlns=\"http://www.w3.org/2000/svg\" height=\"24px\"viewBox=\"0 0 24 24\"\n",
              "       width=\"24px\">\n",
              "    <path d=\"M0 0h24v24H0V0z\" fill=\"none\"/>\n",
              "    <path d=\"M18.56 5.44l.94 2.06.94-2.06 2.06-.94-2.06-.94-.94-2.06-.94 2.06-2.06.94zm-11 1L8.5 8.5l.94-2.06 2.06-.94-2.06-.94L8.5 2.5l-.94 2.06-2.06.94zm10 10l.94 2.06.94-2.06 2.06-.94-2.06-.94-.94-2.06-.94 2.06-2.06.94z\"/><path d=\"M17.41 7.96l-1.37-1.37c-.4-.4-.92-.59-1.43-.59-.52 0-1.04.2-1.43.59L10.3 9.45l-7.72 7.72c-.78.78-.78 2.05 0 2.83L4 21.41c.39.39.9.59 1.41.59.51 0 1.02-.2 1.41-.59l7.78-7.78 2.81-2.81c.8-.78.8-2.07 0-2.86zM5.41 20L4 18.59l7.72-7.72 1.47 1.35L5.41 20z\"/>\n",
              "  </svg>\n",
              "      </button>\n",
              "      \n",
              "  <style>\n",
              "    .colab-df-container {\n",
              "      display:flex;\n",
              "      flex-wrap:wrap;\n",
              "      gap: 12px;\n",
              "    }\n",
              "\n",
              "    .colab-df-convert {\n",
              "      background-color: #E8F0FE;\n",
              "      border: none;\n",
              "      border-radius: 50%;\n",
              "      cursor: pointer;\n",
              "      display: none;\n",
              "      fill: #1967D2;\n",
              "      height: 32px;\n",
              "      padding: 0 0 0 0;\n",
              "      width: 32px;\n",
              "    }\n",
              "\n",
              "    .colab-df-convert:hover {\n",
              "      background-color: #E2EBFA;\n",
              "      box-shadow: 0px 1px 2px rgba(60, 64, 67, 0.3), 0px 1px 3px 1px rgba(60, 64, 67, 0.15);\n",
              "      fill: #174EA6;\n",
              "    }\n",
              "\n",
              "    [theme=dark] .colab-df-convert {\n",
              "      background-color: #3B4455;\n",
              "      fill: #D2E3FC;\n",
              "    }\n",
              "\n",
              "    [theme=dark] .colab-df-convert:hover {\n",
              "      background-color: #434B5C;\n",
              "      box-shadow: 0px 1px 3px 1px rgba(0, 0, 0, 0.15);\n",
              "      filter: drop-shadow(0px 1px 2px rgba(0, 0, 0, 0.3));\n",
              "      fill: #FFFFFF;\n",
              "    }\n",
              "  </style>\n",
              "\n",
              "      <script>\n",
              "        const buttonEl =\n",
              "          document.querySelector('#df-e5fd236d-419a-4392-bf05-2c3ed6b854aa button.colab-df-convert');\n",
              "        buttonEl.style.display =\n",
              "          google.colab.kernel.accessAllowed ? 'block' : 'none';\n",
              "\n",
              "        async function convertToInteractive(key) {\n",
              "          const element = document.querySelector('#df-e5fd236d-419a-4392-bf05-2c3ed6b854aa');\n",
              "          const dataTable =\n",
              "            await google.colab.kernel.invokeFunction('convertToInteractive',\n",
              "                                                     [key], {});\n",
              "          if (!dataTable) return;\n",
              "\n",
              "          const docLinkHtml = 'Like what you see? Visit the ' +\n",
              "            '<a target=\"_blank\" href=https://colab.research.google.com/notebooks/data_table.ipynb>data table notebook</a>'\n",
              "            + ' to learn more about interactive tables.';\n",
              "          element.innerHTML = '';\n",
              "          dataTable['output_type'] = 'display_data';\n",
              "          await google.colab.output.renderOutput(dataTable, element);\n",
              "          const docLink = document.createElement('div');\n",
              "          docLink.innerHTML = docLinkHtml;\n",
              "          element.appendChild(docLink);\n",
              "        }\n",
              "      </script>\n",
              "    </div>\n",
              "  </div>\n",
              "  "
            ]
          },
          "metadata": {},
          "execution_count": 42
        }
      ]
    },
    {
      "cell_type": "code",
      "source": [
        "#import classification libraries\n",
        "from sklearn.model_selection import train_test_split\n",
        "from sklearn.feature_extraction.text import CountVectorizer, TfidfVectorizer\n",
        "from sklearn.metrics import accuracy_score\n",
        "\n",
        "from sklearn.naive_bayes import MultinomialNB # cevabi evet/hayir degil, 1 ve 5 olacagi icin multinomial \n",
        "from sklearn.tree import DecisionTreeClassifier\n",
        "from sklearn.ensemble import RandomForestClassifier\n",
        "from sklearn.ensemble import GradientBoostingClassifier\n",
        "from sklearn.neighbors import KNeighborsClassifier\n",
        "\n",
        "mb=MultinomialNB()\n",
        "d=DecisionTreeClassifier()\n",
        "r=RandomForestClassifier()\n",
        "gb=GradientBoostingClassifier()\n",
        "k=KNeighborsClassifier()"
      ],
      "metadata": {
        "id": "9H3148F7o_ug"
      },
      "execution_count": 43,
      "outputs": []
    },
    {
      "cell_type": "code",
      "source": [
        "x=dfsent.reviewText\n",
        "y=dfsent.overall"
      ],
      "metadata": {
        "id": "VoaYlZEepUwt"
      },
      "execution_count": 44,
      "outputs": []
    },
    {
      "cell_type": "code",
      "source": [
        "print(x)"
      ],
      "metadata": {
        "colab": {
          "base_uri": "https://localhost:8080/"
        },
        "id": "HYT19E1kpYgH",
        "outputId": "2543824b-18e7-4f2e-a6f2-efdbf22b508d"
      },
      "execution_count": 45,
      "outputs": [
        {
          "output_type": "stream",
          "name": "stdout",
          "text": [
            "0         i am extremely impressed with this power pack ...\n",
            "1         i bought these on a flight from australia to t...\n",
            "2         the product for its price does its job have no...\n",
            "3         needed a long hdmi cable to hook up some equip...\n",
            "4         perfect for editingcomfortable i can and have ...\n",
            "                                ...                        \n",
            "264977    reading other reviews before and after my purc...\n",
            "264978    to start off with this review is actually of t...\n",
            "264979    this was super easy to use and was just what i...\n",
            "264980    this silicone cover fits perfectly  still allo...\n",
            "264981    always the best in laptop cant complain works ...\n",
            "Name: reviewText, Length: 264982, dtype: object\n"
          ]
        }
      ]
    },
    {
      "cell_type": "code",
      "source": [
        "vect=CountVectorizer(lowercase=True,stop_words=\"english\",ngram_range=(1,2)) # ngram kelimeleri birer birer ve ikiser ikiser alalim \n",
        "x_yeni=vect.fit_transform(x)"
      ],
      "metadata": {
        "id": "xyZLtykXpZLa"
      },
      "execution_count": 46,
      "outputs": []
    },
    {
      "cell_type": "code",
      "source": [
        "x_train,x_test,y_train,y_test=train_test_split(x_yeni,y,random_state=42)"
      ],
      "metadata": {
        "id": "hxJwsM2DpwIj"
      },
      "execution_count": 47,
      "outputs": []
    },
    {
      "cell_type": "code",
      "source": [
        "x[0]"
      ],
      "metadata": {
        "colab": {
          "base_uri": "https://localhost:8080/",
          "height": 125
        },
        "id": "rnwtDdtQpyPK",
        "outputId": "eef8f289-b1c8-4a39-f1ed-c8bfdf5e15a4"
      },
      "execution_count": 48,
      "outputs": [
        {
          "output_type": "execute_result",
          "data": {
            "text/plain": [
              "'i am extremely impressed with this power pack  superb quality build and the versatility is amazing  i have charged my cell phone and tablet with this plus   a huge bonus if you are a musician who uses pedals  this works great for powering your pedals away from a power source  it only has a single v outlet but that is no problem  just use a daisy chain connector  at first it wasnt working for my pedals but i finally realized it had to be a polarity issue so i tried a reverse polarity cable the voodoo cable with a red end and a black end and voila  a second issue was my eq pedal takes v but i bought a diago vv adapter and same result  perfection  so with this power pack a reverse polarity cable daisy chain and v adapter i can power my entire pedal board for hours on end  add to that being able to charge almost any device you can think of the adapters provided are plentiful and have worked for everything i have tried i think this is the most incredible and valuable power device you will ever find   happy and would instantly buy another if i needed to'"
            ],
            "application/vnd.google.colaboratory.intrinsic+json": {
              "type": "string"
            }
          },
          "metadata": {},
          "execution_count": 48
        }
      ]
    },
    {
      "cell_type": "code",
      "source": [
        "# Classification yapiyoruz, 1 mi verecek 5 mi verecek,\n",
        "# kullanilan kelimeleri egitecez"
      ],
      "metadata": {
        "id": "Bcp5Ff3vpy6I"
      },
      "execution_count": 49,
      "outputs": []
    },
    {
      "cell_type": "code",
      "source": [
        "mb.fit(x_train,y_train)\n",
        "#d.fit(x_train,y_train)\n",
        "#r.fit(x_train,y_train)\n",
        "#gb.fit(x_train,y_train)\n",
        "#k.fit(x_train,y_train)\n"
      ],
      "metadata": {
        "colab": {
          "base_uri": "https://localhost:8080/"
        },
        "id": "dAbQwj6Bp0Vq",
        "outputId": "ce92cc7b-8b8e-447a-8dd4-ca11a471b48f"
      },
      "execution_count": 50,
      "outputs": [
        {
          "output_type": "execute_result",
          "data": {
            "text/plain": [
              "MultinomialNB()"
            ]
          },
          "metadata": {},
          "execution_count": 50
        }
      ]
    },
    {
      "cell_type": "markdown",
      "source": [
        "i tried to run the other algos very oft but it always crashed or loaded so long that the ram would die. I only managed to run the MB algo"
      ],
      "metadata": {
        "id": "3NO4-Dj6K84V"
      }
    },
    {
      "cell_type": "code",
      "source": [
        "tahmin=mb.predict(x_test)\n",
        "#tahmin2=d.predict(x_test)\n",
        "#tahmin3=r.predict(x_test)\n",
        "#tahmin4=gb.predict(x_test)\n",
        "#tahmin5=k.predict(x_test)"
      ],
      "metadata": {
        "id": "0_s4yo6Bp1IV"
      },
      "execution_count": 51,
      "outputs": []
    },
    {
      "cell_type": "code",
      "source": [
        "#MultinomialNB()\n",
        "accuracy_score(y_test,tahmin) "
      ],
      "metadata": {
        "colab": {
          "base_uri": "https://localhost:8080/"
        },
        "id": "eT7o0qYXBKnG",
        "outputId": "d9581aaf-993a-4312-b754-4aab138bd8c4"
      },
      "execution_count": 52,
      "outputs": [
        {
          "output_type": "execute_result",
          "data": {
            "text/plain": [
              "0.9202970745403496"
            ]
          },
          "metadata": {},
          "execution_count": 52
        }
      ]
    },
    {
      "cell_type": "markdown",
      "source": [
        "### WordCloud"
      ],
      "metadata": {
        "id": "rDlcl_F6LOzb"
      }
    },
    {
      "cell_type": "code",
      "source": [
        "from wordcloud import WordCloud\n",
        "from wordcloud import STOPWORDS\n",
        "from PIL import Image"
      ],
      "metadata": {
        "id": "BWHOqYxkLRMK"
      },
      "execution_count": 53,
      "outputs": []
    },
    {
      "cell_type": "code",
      "source": [
        "# WorldCloud olusturan Funktion\n",
        "def wc(data,bgcolor):\n",
        "    plt.figure(figsize=(10,10))\n",
        "    mask=np.array(Image.open(\"cloud.png\"))\n",
        "    wc=WordCloud(background_color=bgcolor,stopwords=STOPWORDS,mask=mask) #gönderecegimiz color, ve stopwords sil\n",
        "    wc.generate(' '.join(data)) #datanin icindeki satirlari birlestiriyor ve wc generieren ediyor\n",
        "    plt.imshow(wc) #resim göster\n",
        "    plt.axis(\"off\") #x ve y'yi göstermemis oluyoruz"
      ],
      "metadata": {
        "id": "fgUhpNaqLSPg"
      },
      "execution_count": 54,
      "outputs": []
    },
    {
      "cell_type": "code",
      "source": [
        "wc(dfsent[\"reviewText\"],'white')"
      ],
      "metadata": {
        "colab": {
          "base_uri": "https://localhost:8080/",
          "height": 426
        },
        "id": "Y3n_pB6fLlNQ",
        "outputId": "e4aee6bd-631a-4f9a-93de-7f15720a1902"
      },
      "execution_count": 55,
      "outputs": [
        {
          "output_type": "display_data",
          "data": {
            "text/plain": [
              "<Figure size 720x720 with 1 Axes>"
            ],
            "image/png": "[encoded data removed]"
          },
          "metadata": {
            "needs_background": "light"
          }
        }
      ]
    },
    {
      "cell_type": "code",
      "source": [
        "positive=df[df[\"sentiment\"]==\"positive\"][\"reviewText\"]\n",
        "neutral=df[df[\"sentiment\"]==\"neutral\"][\"reviewText\"]\n",
        "negative=df[df[\"sentiment\"]==\"negative\"][\"reviewText\"]"
      ],
      "metadata": {
        "id": "7htcftZMLmQ4"
      },
      "execution_count": 56,
      "outputs": []
    },
    {
      "cell_type": "code",
      "source": [
        "#wc(positive,'white') # my ram is always crashing i can't get the wc's to load"
      ],
      "metadata": {
        "id": "bT2yO_vqL0DF"
      },
      "execution_count": 57,
      "outputs": []
    },
    {
      "cell_type": "code",
      "source": [
        "#wc(neutral,'black')"
      ],
      "metadata": {
        "id": "IUQ_7E5rL1N_"
      },
      "execution_count": 58,
      "outputs": []
    },
    {
      "cell_type": "code",
      "source": [
        "#wc(negative,'red')"
      ],
      "metadata": {
        "id": "hsZnqQU6L2AC"
      },
      "execution_count": 59,
      "outputs": []
    },
    {
      "cell_type": "markdown",
      "source": [
        "### Sentiment Analysis"
      ],
      "metadata": {
        "id": "sDfeXrdkk7eT"
      }
    },
    {
      "cell_type": "code",
      "source": [
        "from textblob import TextBlob"
      ],
      "metadata": {
        "id": "0vUC48psk8qy"
      },
      "execution_count": 60,
      "outputs": []
    },
    {
      "cell_type": "code",
      "source": [
        "def detect_sentiment(text):\n",
        "    return TextBlob(text).sentiment.polarity"
      ],
      "metadata": {
        "id": "dau8rplBk-U2"
      },
      "execution_count": 61,
      "outputs": []
    },
    {
      "cell_type": "code",
      "source": [
        "df2=df[[\"reviewText\"]]"
      ],
      "metadata": {
        "id": "xPrJnldyk_vE"
      },
      "execution_count": 62,
      "outputs": []
    },
    {
      "cell_type": "code",
      "source": [
        "df2.head()"
      ],
      "metadata": {
        "colab": {
          "base_uri": "https://localhost:8080/",
          "height": 206
        },
        "id": "3M1wrfKrlBjm",
        "outputId": "d65e60a0-c3fa-4a0f-d333-077afcf1c47b"
      },
      "execution_count": 63,
      "outputs": [
        {
          "output_type": "execute_result",
          "data": {
            "text/plain": [
              "                                          reviewText\n",
              "0  i am extremely impressed with this power pack ...\n",
              "1  i bought these on a flight from australia to t...\n",
              "2  i live with the buds in my ear and a protectiv...\n",
              "3  ive been using this for a long while now i use...\n",
              "4  the product for its price does its job have no..."
            ],
            "text/html": [
              "\n",
              "  <div id=\"df-2f9a5dcd-8973-4cce-b332-7d6933be6842\">\n",
              "    <div class=\"colab-df-container\">\n",
              "      <div>\n",
              "<style scoped>\n",
              "    .dataframe tbody tr th:only-of-type {\n",
              "        vertical-align: middle;\n",
              "    }\n",
              "\n",
              "    .dataframe tbody tr th {\n",
              "        vertical-align: top;\n",
              "    }\n",
              "\n",
              "    .dataframe thead th {\n",
              "        text-align: right;\n",
              "    }\n",
              "</style>\n",
              "<table border=\"1\" class=\"dataframe\">\n",
              "  <thead>\n",
              "    <tr style=\"text-align: right;\">\n",
              "      <th></th>\n",
              "      <th>reviewText</th>\n",
              "    </tr>\n",
              "  </thead>\n",
              "  <tbody>\n",
              "    <tr>\n",
              "      <th>0</th>\n",
              "      <td>i am extremely impressed with this power pack ...</td>\n",
              "    </tr>\n",
              "    <tr>\n",
              "      <th>1</th>\n",
              "      <td>i bought these on a flight from australia to t...</td>\n",
              "    </tr>\n",
              "    <tr>\n",
              "      <th>2</th>\n",
              "      <td>i live with the buds in my ear and a protectiv...</td>\n",
              "    </tr>\n",
              "    <tr>\n",
              "      <th>3</th>\n",
              "      <td>ive been using this for a long while now i use...</td>\n",
              "    </tr>\n",
              "    <tr>\n",
              "      <th>4</th>\n",
              "      <td>the product for its price does its job have no...</td>\n",
              "    </tr>\n",
              "  </tbody>\n",
              "</table>\n",
              "</div>\n",
              "      <button class=\"colab-df-convert\" onclick=\"convertToInteractive('df-2f9a5dcd-8973-4cce-b332-7d6933be6842')\"\n",
              "              title=\"Convert this dataframe to an interactive table.\"\n",
              "              style=\"display:none;\">\n",
              "        \n",
              "  <svg xmlns=\"http://www.w3.org/2000/svg\" height=\"24px\"viewBox=\"0 0 24 24\"\n",
              "       width=\"24px\">\n",
              "    <path d=\"M0 0h24v24H0V0z\" fill=\"none\"/>\n",
              "    <path d=\"M18.56 5.44l.94 2.06.94-2.06 2.06-.94-2.06-.94-.94-2.06-.94 2.06-2.06.94zm-11 1L8.5 8.5l.94-2.06 2.06-.94-2.06-.94L8.5 2.5l-.94 2.06-2.06.94zm10 10l.94 2.06.94-2.06 2.06-.94-2.06-.94-.94-2.06-.94 2.06-2.06.94z\"/><path d=\"M17.41 7.96l-1.37-1.37c-.4-.4-.92-.59-1.43-.59-.52 0-1.04.2-1.43.59L10.3 9.45l-7.72 7.72c-.78.78-.78 2.05 0 2.83L4 21.41c.39.39.9.59 1.41.59.51 0 1.02-.2 1.41-.59l7.78-7.78 2.81-2.81c.8-.78.8-2.07 0-2.86zM5.41 20L4 18.59l7.72-7.72 1.47 1.35L5.41 20z\"/>\n",
              "  </svg>\n",
              "      </button>\n",
              "      \n",
              "  <style>\n",
              "    .colab-df-container {\n",
              "      display:flex;\n",
              "      flex-wrap:wrap;\n",
              "      gap: 12px;\n",
              "    }\n",
              "\n",
              "    .colab-df-convert {\n",
              "      background-color: #E8F0FE;\n",
              "      border: none;\n",
              "      border-radius: 50%;\n",
              "      cursor: pointer;\n",
              "      display: none;\n",
              "      fill: #1967D2;\n",
              "      height: 32px;\n",
              "      padding: 0 0 0 0;\n",
              "      width: 32px;\n",
              "    }\n",
              "\n",
              "    .colab-df-convert:hover {\n",
              "      background-color: #E2EBFA;\n",
              "      box-shadow: 0px 1px 2px rgba(60, 64, 67, 0.3), 0px 1px 3px 1px rgba(60, 64, 67, 0.15);\n",
              "      fill: #174EA6;\n",
              "    }\n",
              "\n",
              "    [theme=dark] .colab-df-convert {\n",
              "      background-color: #3B4455;\n",
              "      fill: #D2E3FC;\n",
              "    }\n",
              "\n",
              "    [theme=dark] .colab-df-convert:hover {\n",
              "      background-color: #434B5C;\n",
              "      box-shadow: 0px 1px 3px 1px rgba(0, 0, 0, 0.15);\n",
              "      filter: drop-shadow(0px 1px 2px rgba(0, 0, 0, 0.3));\n",
              "      fill: #FFFFFF;\n",
              "    }\n",
              "  </style>\n",
              "\n",
              "      <script>\n",
              "        const buttonEl =\n",
              "          document.querySelector('#df-2f9a5dcd-8973-4cce-b332-7d6933be6842 button.colab-df-convert');\n",
              "        buttonEl.style.display =\n",
              "          google.colab.kernel.accessAllowed ? 'block' : 'none';\n",
              "\n",
              "        async function convertToInteractive(key) {\n",
              "          const element = document.querySelector('#df-2f9a5dcd-8973-4cce-b332-7d6933be6842');\n",
              "          const dataTable =\n",
              "            await google.colab.kernel.invokeFunction('convertToInteractive',\n",
              "                                                     [key], {});\n",
              "          if (!dataTable) return;\n",
              "\n",
              "          const docLinkHtml = 'Like what you see? Visit the ' +\n",
              "            '<a target=\"_blank\" href=https://colab.research.google.com/notebooks/data_table.ipynb>data table notebook</a>'\n",
              "            + ' to learn more about interactive tables.';\n",
              "          element.innerHTML = '';\n",
              "          dataTable['output_type'] = 'display_data';\n",
              "          await google.colab.output.renderOutput(dataTable, element);\n",
              "          const docLink = document.createElement('div');\n",
              "          docLink.innerHTML = docLinkHtml;\n",
              "          element.appendChild(docLink);\n",
              "        }\n",
              "      </script>\n",
              "    </div>\n",
              "  </div>\n",
              "  "
            ]
          },
          "metadata": {},
          "execution_count": 63
        }
      ]
    },
    {
      "cell_type": "code",
      "source": [
        "df2[\"sentiment\"]=df2[\"reviewText\"].apply(detect_sentiment)"
      ],
      "metadata": {
        "colab": {
          "base_uri": "https://localhost:8080/"
        },
        "id": "0LRL6I58lCVd",
        "outputId": "8777e83a-9091-4a6d-aa99-eafd0dc096fb"
      },
      "execution_count": 64,
      "outputs": [
        {
          "output_type": "stream",
          "name": "stderr",
          "text": [
            "/usr/local/lib/python3.7/dist-packages/ipykernel_launcher.py:1: SettingWithCopyWarning: \n",
            "A value is trying to be set on a copy of a slice from a DataFrame.\n",
            "Try using .loc[row_indexer,col_indexer] = value instead\n",
            "\n",
            "See the caveats in the documentation: https://pandas.pydata.org/pandas-docs/stable/user_guide/indexing.html#returning-a-view-versus-a-copy\n",
            "  \"\"\"Entry point for launching an IPython kernel.\n"
          ]
        }
      ]
    },
    {
      "cell_type": "code",
      "source": [
        "df2.head()"
      ],
      "metadata": {
        "colab": {
          "base_uri": "https://localhost:8080/",
          "height": 206
        },
        "id": "JlxP32UilFQV",
        "outputId": "e894b1a6-8789-44c1-faa3-790ec0a07a20"
      },
      "execution_count": 65,
      "outputs": [
        {
          "output_type": "execute_result",
          "data": {
            "text/plain": [
              "                                          reviewText  sentiment\n",
              "0  i am extremely impressed with this power pack ...   0.342732\n",
              "1  i bought these on a flight from australia to t...   0.411667\n",
              "2  i live with the buds in my ear and a protectiv...   0.214026\n",
              "3  ive been using this for a long while now i use...   0.125000\n",
              "4  the product for its price does its job have no...   0.000000"
            ],
            "text/html": [
              "\n",
              "  <div id=\"df-a3fdbdbf-fdc0-498e-be86-a48c414988bd\">\n",
              "    <div class=\"colab-df-container\">\n",
              "      <div>\n",
              "<style scoped>\n",
              "    .dataframe tbody tr th:only-of-type {\n",
              "        vertical-align: middle;\n",
              "    }\n",
              "\n",
              "    .dataframe tbody tr th {\n",
              "        vertical-align: top;\n",
              "    }\n",
              "\n",
              "    .dataframe thead th {\n",
              "        text-align: right;\n",
              "    }\n",
              "</style>\n",
              "<table border=\"1\" class=\"dataframe\">\n",
              "  <thead>\n",
              "    <tr style=\"text-align: right;\">\n",
              "      <th></th>\n",
              "      <th>reviewText</th>\n",
              "      <th>sentiment</th>\n",
              "    </tr>\n",
              "  </thead>\n",
              "  <tbody>\n",
              "    <tr>\n",
              "      <th>0</th>\n",
              "      <td>i am extremely impressed with this power pack ...</td>\n",
              "      <td>0.342732</td>\n",
              "    </tr>\n",
              "    <tr>\n",
              "      <th>1</th>\n",
              "      <td>i bought these on a flight from australia to t...</td>\n",
              "      <td>0.411667</td>\n",
              "    </tr>\n",
              "    <tr>\n",
              "      <th>2</th>\n",
              "      <td>i live with the buds in my ear and a protectiv...</td>\n",
              "      <td>0.214026</td>\n",
              "    </tr>\n",
              "    <tr>\n",
              "      <th>3</th>\n",
              "      <td>ive been using this for a long while now i use...</td>\n",
              "      <td>0.125000</td>\n",
              "    </tr>\n",
              "    <tr>\n",
              "      <th>4</th>\n",
              "      <td>the product for its price does its job have no...</td>\n",
              "      <td>0.000000</td>\n",
              "    </tr>\n",
              "  </tbody>\n",
              "</table>\n",
              "</div>\n",
              "      <button class=\"colab-df-convert\" onclick=\"convertToInteractive('df-a3fdbdbf-fdc0-498e-be86-a48c414988bd')\"\n",
              "              title=\"Convert this dataframe to an interactive table.\"\n",
              "              style=\"display:none;\">\n",
              "        \n",
              "  <svg xmlns=\"http://www.w3.org/2000/svg\" height=\"24px\"viewBox=\"0 0 24 24\"\n",
              "       width=\"24px\">\n",
              "    <path d=\"M0 0h24v24H0V0z\" fill=\"none\"/>\n",
              "    <path d=\"M18.56 5.44l.94 2.06.94-2.06 2.06-.94-2.06-.94-.94-2.06-.94 2.06-2.06.94zm-11 1L8.5 8.5l.94-2.06 2.06-.94-2.06-.94L8.5 2.5l-.94 2.06-2.06.94zm10 10l.94 2.06.94-2.06 2.06-.94-2.06-.94-.94-2.06-.94 2.06-2.06.94z\"/><path d=\"M17.41 7.96l-1.37-1.37c-.4-.4-.92-.59-1.43-.59-.52 0-1.04.2-1.43.59L10.3 9.45l-7.72 7.72c-.78.78-.78 2.05 0 2.83L4 21.41c.39.39.9.59 1.41.59.51 0 1.02-.2 1.41-.59l7.78-7.78 2.81-2.81c.8-.78.8-2.07 0-2.86zM5.41 20L4 18.59l7.72-7.72 1.47 1.35L5.41 20z\"/>\n",
              "  </svg>\n",
              "      </button>\n",
              "      \n",
              "  <style>\n",
              "    .colab-df-container {\n",
              "      display:flex;\n",
              "      flex-wrap:wrap;\n",
              "      gap: 12px;\n",
              "    }\n",
              "\n",
              "    .colab-df-convert {\n",
              "      background-color: #E8F0FE;\n",
              "      border: none;\n",
              "      border-radius: 50%;\n",
              "      cursor: pointer;\n",
              "      display: none;\n",
              "      fill: #1967D2;\n",
              "      height: 32px;\n",
              "      padding: 0 0 0 0;\n",
              "      width: 32px;\n",
              "    }\n",
              "\n",
              "    .colab-df-convert:hover {\n",
              "      background-color: #E2EBFA;\n",
              "      box-shadow: 0px 1px 2px rgba(60, 64, 67, 0.3), 0px 1px 3px 1px rgba(60, 64, 67, 0.15);\n",
              "      fill: #174EA6;\n",
              "    }\n",
              "\n",
              "    [theme=dark] .colab-df-convert {\n",
              "      background-color: #3B4455;\n",
              "      fill: #D2E3FC;\n",
              "    }\n",
              "\n",
              "    [theme=dark] .colab-df-convert:hover {\n",
              "      background-color: #434B5C;\n",
              "      box-shadow: 0px 1px 3px 1px rgba(0, 0, 0, 0.15);\n",
              "      filter: drop-shadow(0px 1px 2px rgba(0, 0, 0, 0.3));\n",
              "      fill: #FFFFFF;\n",
              "    }\n",
              "  </style>\n",
              "\n",
              "      <script>\n",
              "        const buttonEl =\n",
              "          document.querySelector('#df-a3fdbdbf-fdc0-498e-be86-a48c414988bd button.colab-df-convert');\n",
              "        buttonEl.style.display =\n",
              "          google.colab.kernel.accessAllowed ? 'block' : 'none';\n",
              "\n",
              "        async function convertToInteractive(key) {\n",
              "          const element = document.querySelector('#df-a3fdbdbf-fdc0-498e-be86-a48c414988bd');\n",
              "          const dataTable =\n",
              "            await google.colab.kernel.invokeFunction('convertToInteractive',\n",
              "                                                     [key], {});\n",
              "          if (!dataTable) return;\n",
              "\n",
              "          const docLinkHtml = 'Like what you see? Visit the ' +\n",
              "            '<a target=\"_blank\" href=https://colab.research.google.com/notebooks/data_table.ipynb>data table notebook</a>'\n",
              "            + ' to learn more about interactive tables.';\n",
              "          element.innerHTML = '';\n",
              "          dataTable['output_type'] = 'display_data';\n",
              "          await google.colab.output.renderOutput(dataTable, element);\n",
              "          const docLink = document.createElement('div');\n",
              "          docLink.innerHTML = docLinkHtml;\n",
              "          element.appendChild(docLink);\n",
              "        }\n",
              "      </script>\n",
              "    </div>\n",
              "  </div>\n",
              "  "
            ]
          },
          "metadata": {},
          "execution_count": 65
        }
      ]
    },
    {
      "cell_type": "code",
      "source": [
        "df2.sentiment.value_counts()"
      ],
      "metadata": {
        "colab": {
          "base_uri": "https://localhost:8080/"
        },
        "id": "JEzc5wezmlZy",
        "outputId": "b7c71441-8baa-4cf2-a034-f1d0c0e55705"
      },
      "execution_count": 66,
      "outputs": [
        {
          "output_type": "execute_result",
          "data": {
            "text/plain": [
              " 0.000000    9767\n",
              " 0.500000    4685\n",
              " 0.250000    2787\n",
              " 0.800000    2784\n",
              " 0.400000    2632\n",
              "             ... \n",
              " 0.077260       1\n",
              " 0.078553       1\n",
              "-0.000573       1\n",
              " 0.219681       1\n",
              " 0.182959       1\n",
              "Name: sentiment, Length: 143404, dtype: int64"
            ]
          },
          "metadata": {},
          "execution_count": 66
        }
      ]
    },
    {
      "cell_type": "code",
      "source": [
        "#wc(df2.reviewText,'white')"
      ],
      "metadata": {
        "id": "HXfigQBBmqhr"
      },
      "execution_count": 67,
      "outputs": []
    },
    {
      "cell_type": "code",
      "source": [
        "# 1 positive\n",
        "# 2 negative\n",
        "# 0 neutral\n",
        "def sentiment2(sent):\n",
        "    if sent<-0.02: #0.02:limitin tanimi bu\n",
        "        return 2\n",
        "    elif sent>0.02:\n",
        "        return 1\n",
        "    else:\n",
        "        return 0\n",
        "    #returnlara yazi da yazabiliriz mesela \"pozitif\" vb.\n",
        "    \n",
        "#0 ve 0'in epsilon komsulugunda olan tam 0 degil ama 0 yakin ise, 0 kabul ediyoruz"
      ],
      "metadata": {
        "id": "J8o1OT6lmvU6"
      },
      "execution_count": 68,
      "outputs": []
    },
    {
      "cell_type": "code",
      "source": [
        "df2[\"sent\"]=df2[\"sentiment\"].apply(sentiment2)"
      ],
      "metadata": {
        "colab": {
          "base_uri": "https://localhost:8080/"
        },
        "id": "pgVoni9YmwlM",
        "outputId": "915c712a-cc98-4c31-d260-caf061a7da4d"
      },
      "execution_count": 69,
      "outputs": [
        {
          "output_type": "stream",
          "name": "stderr",
          "text": [
            "/usr/local/lib/python3.7/dist-packages/ipykernel_launcher.py:1: SettingWithCopyWarning: \n",
            "A value is trying to be set on a copy of a slice from a DataFrame.\n",
            "Try using .loc[row_indexer,col_indexer] = value instead\n",
            "\n",
            "See the caveats in the documentation: https://pandas.pydata.org/pandas-docs/stable/user_guide/indexing.html#returning-a-view-versus-a-copy\n",
            "  \"\"\"Entry point for launching an IPython kernel.\n"
          ]
        }
      ]
    },
    {
      "cell_type": "code",
      "source": [
        "df2.head()"
      ],
      "metadata": {
        "colab": {
          "base_uri": "https://localhost:8080/",
          "height": 206
        },
        "id": "XUXww-iNmyJe",
        "outputId": "f876966e-3734-44fa-97ba-ab5256577e42"
      },
      "execution_count": 70,
      "outputs": [
        {
          "output_type": "execute_result",
          "data": {
            "text/plain": [
              "                                          reviewText  sentiment  sent\n",
              "0  i am extremely impressed with this power pack ...   0.342732     1\n",
              "1  i bought these on a flight from australia to t...   0.411667     1\n",
              "2  i live with the buds in my ear and a protectiv...   0.214026     1\n",
              "3  ive been using this for a long while now i use...   0.125000     1\n",
              "4  the product for its price does its job have no...   0.000000     0"
            ],
            "text/html": [
              "\n",
              "  <div id=\"df-728933b9-6ac0-4ccb-aee0-04daf144c2c6\">\n",
              "    <div class=\"colab-df-container\">\n",
              "      <div>\n",
              "<style scoped>\n",
              "    .dataframe tbody tr th:only-of-type {\n",
              "        vertical-align: middle;\n",
              "    }\n",
              "\n",
              "    .dataframe tbody tr th {\n",
              "        vertical-align: top;\n",
              "    }\n",
              "\n",
              "    .dataframe thead th {\n",
              "        text-align: right;\n",
              "    }\n",
              "</style>\n",
              "<table border=\"1\" class=\"dataframe\">\n",
              "  <thead>\n",
              "    <tr style=\"text-align: right;\">\n",
              "      <th></th>\n",
              "      <th>reviewText</th>\n",
              "      <th>sentiment</th>\n",
              "      <th>sent</th>\n",
              "    </tr>\n",
              "  </thead>\n",
              "  <tbody>\n",
              "    <tr>\n",
              "      <th>0</th>\n",
              "      <td>i am extremely impressed with this power pack ...</td>\n",
              "      <td>0.342732</td>\n",
              "      <td>1</td>\n",
              "    </tr>\n",
              "    <tr>\n",
              "      <th>1</th>\n",
              "      <td>i bought these on a flight from australia to t...</td>\n",
              "      <td>0.411667</td>\n",
              "      <td>1</td>\n",
              "    </tr>\n",
              "    <tr>\n",
              "      <th>2</th>\n",
              "      <td>i live with the buds in my ear and a protectiv...</td>\n",
              "      <td>0.214026</td>\n",
              "      <td>1</td>\n",
              "    </tr>\n",
              "    <tr>\n",
              "      <th>3</th>\n",
              "      <td>ive been using this for a long while now i use...</td>\n",
              "      <td>0.125000</td>\n",
              "      <td>1</td>\n",
              "    </tr>\n",
              "    <tr>\n",
              "      <th>4</th>\n",
              "      <td>the product for its price does its job have no...</td>\n",
              "      <td>0.000000</td>\n",
              "      <td>0</td>\n",
              "    </tr>\n",
              "  </tbody>\n",
              "</table>\n",
              "</div>\n",
              "      <button class=\"colab-df-convert\" onclick=\"convertToInteractive('df-728933b9-6ac0-4ccb-aee0-04daf144c2c6')\"\n",
              "              title=\"Convert this dataframe to an interactive table.\"\n",
              "              style=\"display:none;\">\n",
              "        \n",
              "  <svg xmlns=\"http://www.w3.org/2000/svg\" height=\"24px\"viewBox=\"0 0 24 24\"\n",
              "       width=\"24px\">\n",
              "    <path d=\"M0 0h24v24H0V0z\" fill=\"none\"/>\n",
              "    <path d=\"M18.56 5.44l.94 2.06.94-2.06 2.06-.94-2.06-.94-.94-2.06-.94 2.06-2.06.94zm-11 1L8.5 8.5l.94-2.06 2.06-.94-2.06-.94L8.5 2.5l-.94 2.06-2.06.94zm10 10l.94 2.06.94-2.06 2.06-.94-2.06-.94-.94-2.06-.94 2.06-2.06.94z\"/><path d=\"M17.41 7.96l-1.37-1.37c-.4-.4-.92-.59-1.43-.59-.52 0-1.04.2-1.43.59L10.3 9.45l-7.72 7.72c-.78.78-.78 2.05 0 2.83L4 21.41c.39.39.9.59 1.41.59.51 0 1.02-.2 1.41-.59l7.78-7.78 2.81-2.81c.8-.78.8-2.07 0-2.86zM5.41 20L4 18.59l7.72-7.72 1.47 1.35L5.41 20z\"/>\n",
              "  </svg>\n",
              "      </button>\n",
              "      \n",
              "  <style>\n",
              "    .colab-df-container {\n",
              "      display:flex;\n",
              "      flex-wrap:wrap;\n",
              "      gap: 12px;\n",
              "    }\n",
              "\n",
              "    .colab-df-convert {\n",
              "      background-color: #E8F0FE;\n",
              "      border: none;\n",
              "      border-radius: 50%;\n",
              "      cursor: pointer;\n",
              "      display: none;\n",
              "      fill: #1967D2;\n",
              "      height: 32px;\n",
              "      padding: 0 0 0 0;\n",
              "      width: 32px;\n",
              "    }\n",
              "\n",
              "    .colab-df-convert:hover {\n",
              "      background-color: #E2EBFA;\n",
              "      box-shadow: 0px 1px 2px rgba(60, 64, 67, 0.3), 0px 1px 3px 1px rgba(60, 64, 67, 0.15);\n",
              "      fill: #174EA6;\n",
              "    }\n",
              "\n",
              "    [theme=dark] .colab-df-convert {\n",
              "      background-color: #3B4455;\n",
              "      fill: #D2E3FC;\n",
              "    }\n",
              "\n",
              "    [theme=dark] .colab-df-convert:hover {\n",
              "      background-color: #434B5C;\n",
              "      box-shadow: 0px 1px 3px 1px rgba(0, 0, 0, 0.15);\n",
              "      filter: drop-shadow(0px 1px 2px rgba(0, 0, 0, 0.3));\n",
              "      fill: #FFFFFF;\n",
              "    }\n",
              "  </style>\n",
              "\n",
              "      <script>\n",
              "        const buttonEl =\n",
              "          document.querySelector('#df-728933b9-6ac0-4ccb-aee0-04daf144c2c6 button.colab-df-convert');\n",
              "        buttonEl.style.display =\n",
              "          google.colab.kernel.accessAllowed ? 'block' : 'none';\n",
              "\n",
              "        async function convertToInteractive(key) {\n",
              "          const element = document.querySelector('#df-728933b9-6ac0-4ccb-aee0-04daf144c2c6');\n",
              "          const dataTable =\n",
              "            await google.colab.kernel.invokeFunction('convertToInteractive',\n",
              "                                                     [key], {});\n",
              "          if (!dataTable) return;\n",
              "\n",
              "          const docLinkHtml = 'Like what you see? Visit the ' +\n",
              "            '<a target=\"_blank\" href=https://colab.research.google.com/notebooks/data_table.ipynb>data table notebook</a>'\n",
              "            + ' to learn more about interactive tables.';\n",
              "          element.innerHTML = '';\n",
              "          dataTable['output_type'] = 'display_data';\n",
              "          await google.colab.output.renderOutput(dataTable, element);\n",
              "          const docLink = document.createElement('div');\n",
              "          docLink.innerHTML = docLinkHtml;\n",
              "          element.appendChild(docLink);\n",
              "        }\n",
              "      </script>\n",
              "    </div>\n",
              "  </div>\n",
              "  "
            ]
          },
          "metadata": {},
          "execution_count": 70
        }
      ]
    },
    {
      "cell_type": "code",
      "source": [
        "sns.countplot(df2.sent);"
      ],
      "metadata": {
        "colab": {
          "base_uri": "https://localhost:8080/",
          "height": 335
        },
        "id": "KoTwfdcsmz0X",
        "outputId": "a872a657-6fe4-40f3-c2de-877d38cdbbc9"
      },
      "execution_count": 71,
      "outputs": [
        {
          "output_type": "stream",
          "name": "stderr",
          "text": [
            "/usr/local/lib/python3.7/dist-packages/seaborn/_decorators.py:43: FutureWarning: Pass the following variable as a keyword arg: x. From version 0.12, the only valid positional argument will be `data`, and passing other arguments without an explicit keyword will result in an error or misinterpretation.\n",
            "  FutureWarning\n"
          ]
        },
        {
          "output_type": "display_data",
          "data": {
            "text/plain": [
              "<Figure size 432x288 with 1 Axes>"
            ],
            "image/png": "[encoded data removed]"
          },
          "metadata": {
            "needs_background": "light"
          }
        }
      ]
    },
    {
      "cell_type": "code",
      "source": [
        "df2.sent.value_counts()"
      ],
      "metadata": {
        "colab": {
          "base_uri": "https://localhost:8080/"
        },
        "id": "az_HyBFem1ee",
        "outputId": "e0226bf2-9b5b-4caf-b2dc-1a01854e8b1b"
      },
      "execution_count": 72,
      "outputs": [
        {
          "output_type": "execute_result",
          "data": {
            "text/plain": [
              "1    347710\n",
              "2     29849\n",
              "0     22441\n",
              "Name: sent, dtype: int64"
            ]
          },
          "metadata": {},
          "execution_count": 72
        }
      ]
    },
    {
      "cell_type": "code",
      "source": [
        "#347710 positive, 29849 negative, 22441 neutral comments"
      ],
      "metadata": {
        "id": "qlrYEpYDm3nd"
      },
      "execution_count": 73,
      "outputs": []
    },
    {
      "cell_type": "code",
      "source": [
        "x=df2.reviewText\n",
        "y=df2.sent"
      ],
      "metadata": {
        "id": "oqOaYhszm9ey"
      },
      "execution_count": 75,
      "outputs": []
    },
    {
      "cell_type": "code",
      "source": [
        "vect=CountVectorizer(stop_words=\"english\")"
      ],
      "metadata": {
        "id": "yOFUGGvDm_Gl"
      },
      "execution_count": 76,
      "outputs": []
    },
    {
      "cell_type": "code",
      "source": [
        "x=vect.fit_transform(x)"
      ],
      "metadata": {
        "id": "jBuDdRxunBTJ"
      },
      "execution_count": 77,
      "outputs": []
    },
    {
      "cell_type": "code",
      "source": [
        "x_train,x_test,y_train,y_test=train_test_split(x,y,random_state=42,test_size=.15)"
      ],
      "metadata": {
        "id": "PLlRkRvfnEf_"
      },
      "execution_count": 78,
      "outputs": []
    },
    {
      "cell_type": "code",
      "source": [
        "tahmin=mb.fit(x_train,y_train).predict(x_test)\n",
        "#tahmin2=d.fit(x_train,y_train).predict(x_test)\n",
        "#tahmin3=r.fit(x_train,y_train).predict(x_test)\n",
        "#tahmin4=gb.fit(x_train,y_train).predict(x_test)\n",
        "#tahmin5=k.fit(x_train,y_train).predict(x_test)"
      ],
      "metadata": {
        "id": "swN0DxLSnfOj"
      },
      "execution_count": 79,
      "outputs": []
    },
    {
      "cell_type": "code",
      "source": [
        "accuracy_score(tahmin,y_test) #MB"
      ],
      "metadata": {
        "colab": {
          "base_uri": "https://localhost:8080/"
        },
        "id": "amLErs6dni4M",
        "outputId": "8f12afa6-f8de-4e6e-8b45-f1f68c52bdc5"
      },
      "execution_count": 80,
      "outputs": [
        {
          "output_type": "execute_result",
          "data": {
            "text/plain": [
              "0.8660333333333333"
            ]
          },
          "metadata": {},
          "execution_count": 80
        }
      ]
    },
    {
      "cell_type": "code",
      "source": [
        "tahmin2=d.fit(x_train,y_train).predict(x_test) # this code needed more than 1 hout to load"
      ],
      "metadata": {
        "id": "omwo8nI6nle4"
      },
      "execution_count": 81,
      "outputs": []
    },
    {
      "cell_type": "code",
      "source": [
        "accuracy_score(tahmin2,y_test) #DecTree"
      ],
      "metadata": {
        "colab": {
          "base_uri": "https://localhost:8080/"
        },
        "id": "4PJvnlOpyIPW",
        "outputId": "225ca78d-81a7-46c7-dc9b-5f8d4c2113d1"
      },
      "execution_count": 84,
      "outputs": [
        {
          "output_type": "execute_result",
          "data": {
            "text/plain": [
              "0.8698166666666667"
            ]
          },
          "metadata": {},
          "execution_count": 84
        }
      ]
    },
    {
      "cell_type": "code",
      "source": [
        "positive=df2[df2[\"sent\"]==1][\"reviewText\"]\n",
        "neutral=df2[df2[\"sent\"]==0][\"reviewText\"]\n",
        "negative=df2[df2[\"sent\"]==2][\"reviewText\"]"
      ],
      "metadata": {
        "id": "did6lZ1InnY4"
      },
      "execution_count": 83,
      "outputs": []
    },
    {
      "cell_type": "code",
      "source": [
        "#wc(positive,'white')"
      ],
      "metadata": {
        "id": "haW_O1vmnt9h"
      },
      "execution_count": null,
      "outputs": []
    },
    {
      "cell_type": "code",
      "source": [
        "#wc(neutral,'black')"
      ],
      "metadata": {
        "id": "fY4IrgKLnvHF"
      },
      "execution_count": null,
      "outputs": []
    },
    {
      "cell_type": "code",
      "source": [
        "#wc(negative,'red')"
      ],
      "metadata": {
        "id": "CoitXS5Onwad"
      },
      "execution_count": null,
      "outputs": []
    },
    {
      "cell_type": "code",
      "source": [
        "# because of low RAM I couldn't run all the codes even though i waited a long time for each of them"
      ],
      "metadata": {
        "id": "AErJv3IInxZc"
      },
      "execution_count": null,
      "outputs": []
    },
    {
      "cell_type": "markdown",
      "source": [
        "### NER - Named-Entity Recognition \n",
        "NER attempts to extract words that categorized into proper names and even numerical entities"
      ],
      "metadata": {
        "id": "EPajul3i3_3P"
      }
    },
    {
      "cell_type": "code",
      "source": [
        "#pip install -U spacy"
      ],
      "metadata": {
        "id": "LxmbLqzX4BVI"
      },
      "execution_count": 3,
      "outputs": []
    },
    {
      "cell_type": "code",
      "source": [
        "# for natural language processing: named entity recognition\n",
        "import spacy\n",
        "from collections import Counter\n",
        "import en_core_web_sm\n",
        "nlp = en_core_web_sm.load()\n",
        "\n",
        "from collections import defaultdict"
      ],
      "metadata": {
        "id": "qVGYu8Zq4EKt"
      },
      "execution_count": 87,
      "outputs": []
    },
    {
      "cell_type": "markdown",
      "source": [
        "I had to restart because my RAM crashed again"
      ],
      "metadata": {
        "id": "YIYZk7ge5Pv9"
      }
    },
    {
      "cell_type": "code",
      "source": [
        "df=df.sample(40)"
      ],
      "metadata": {
        "id": "N8tlhbzG4FqD"
      },
      "execution_count": 88,
      "outputs": []
    },
    {
      "cell_type": "code",
      "source": [
        "df.reset_index(drop=True,inplace=True) # reset our index after taking the samples"
      ],
      "metadata": {
        "id": "dhRxVLLL5OD9"
      },
      "execution_count": 89,
      "outputs": []
    },
    {
      "cell_type": "code",
      "source": [
        "#text processing\n",
        "df[\"reviewText\"]=df[\"reviewText\"].str.lower() # kücük harfe cevirdik\n",
        "df[\"reviewText\"]=df[\"reviewText\"].str.replace('[^\\w\\s]','') # noktalama isaretlerini kaldirdik\n",
        "df[\"reviewText\"]=df[\"reviewText\"].str.replace('\\d+','') # rakamlari kaldirdik\n",
        "df[\"reviewText\"]=df[\"reviewText\"].str.replace('\\n',' ').replace('\\r',' ') # enter ve return'lari kaldirdik"
      ],
      "metadata": {
        "colab": {
          "base_uri": "https://localhost:8080/"
        },
        "id": "pCR3lLI35YN-",
        "outputId": "dd6cdf9f-7f60-4fca-a322-78d6cde05963"
      },
      "execution_count": 90,
      "outputs": [
        {
          "output_type": "stream",
          "name": "stderr",
          "text": [
            "/usr/local/lib/python3.7/dist-packages/ipykernel_launcher.py:3: FutureWarning: The default value of regex will change from True to False in a future version.\n",
            "  This is separate from the ipykernel package so we can avoid doing imports until\n",
            "/usr/local/lib/python3.7/dist-packages/ipykernel_launcher.py:4: FutureWarning: The default value of regex will change from True to False in a future version.\n",
            "  after removing the cwd from sys.path.\n"
          ]
        }
      ]
    },
    {
      "cell_type": "code",
      "source": [
        "#nlp.max_length = 2430079\n",
        "#ValueError: [E088] Text of length 2430079 exceeds maximum of 1000000: bu hataya binaen nlp max leng "
      ],
      "metadata": {
        "id": "-nAh7niE6GsQ"
      },
      "execution_count": 91,
      "outputs": []
    },
    {
      "cell_type": "code",
      "source": [
        "# create tokens that will serve as input for spaCy.\n",
        "# create a variable tokens that contains all the words in 'reviewText'\n",
        "tokens = nlp(''.join(str(df.reviewText.tolist())))\n",
        "#RAM crashed again even though I started over from just reading the df and spacy, so I dropped from 400k to 40k sample values, then 4k because it crashed, after 400 I tried 40 to just test how NER is done"
      ],
      "metadata": {
        "id": "jJbMskAI5dpl"
      },
      "execution_count": 92,
      "outputs": []
    },
    {
      "cell_type": "code",
      "source": [
        "df.head()"
      ],
      "metadata": {
        "colab": {
          "base_uri": "https://localhost:8080/",
          "height": 337
        },
        "id": "mtG2C9HC5qQS",
        "outputId": "b3d6747e-b0e8-454f-d908-7c064a216c87"
      },
      "execution_count": 93,
      "outputs": [
        {
          "output_type": "execute_result",
          "data": {
            "text/plain": [
              "       reviewerID        asin                     reviewerName helpful  \\\n",
              "0  A2V1J3JT5OOZFO  B00DQZSIW8                Dragonwort Castle  [0, 0]   \n",
              "1  A3PVI8NJSB0NOB  B009QMZ7SS  Stephen S. Osborn \"spendthrift\"  [1, 2]   \n",
              "2  A3JU16JTNLVK1J  B000Y16TY6                             Tony  [0, 0]   \n",
              "3  A2830FG65LOK6S  B000KO0GY6                      Stacy Burns  [0, 0]   \n",
              "4  A3B6UM8QZVGXUH  B007UMLEWO                              Dee  [0, 0]   \n",
              "\n",
              "                                          reviewText  overall  \\\n",
              "0  perfect fit and looks and feels nice but does ...        3   \n",
              "1  these pads are adequate but they bring down wh...        3   \n",
              "2  i am a photographer and use this card in my ca...        5   \n",
              "3  i bought this about  years ago i have needed a...        5   \n",
              "4  i didnt like the material i found it to be qui...        3   \n",
              "\n",
              "                                             summary  unixReviewTime  \\\n",
              "0  Perfect fit and looks and feels nice, no auto ...      1404172800   \n",
              "1               There is a better option than these.      1398729600   \n",
              "2                                           Reliable      1372118400   \n",
              "3                                New favorite gadget      1359936000   \n",
              "4                          Less than what I expected      1394496000   \n",
              "\n",
              "    reviewTime  \n",
              "0   07 1, 2014  \n",
              "1  04 29, 2014  \n",
              "2  06 25, 2013  \n",
              "3   02 4, 2013  \n",
              "4  03 11, 2014  "
            ],
            "text/html": [
              "\n",
              "  <div id=\"df-40dde174-248e-4dab-a96f-6ee1c0e6c746\">\n",
              "    <div class=\"colab-df-container\">\n",
              "      <div>\n",
              "<style scoped>\n",
              "    .dataframe tbody tr th:only-of-type {\n",
              "        vertical-align: middle;\n",
              "    }\n",
              "\n",
              "    .dataframe tbody tr th {\n",
              "        vertical-align: top;\n",
              "    }\n",
              "\n",
              "    .dataframe thead th {\n",
              "        text-align: right;\n",
              "    }\n",
              "</style>\n",
              "<table border=\"1\" class=\"dataframe\">\n",
              "  <thead>\n",
              "    <tr style=\"text-align: right;\">\n",
              "      <th></th>\n",
              "      <th>reviewerID</th>\n",
              "      <th>asin</th>\n",
              "      <th>reviewerName</th>\n",
              "      <th>helpful</th>\n",
              "      <th>reviewText</th>\n",
              "      <th>overall</th>\n",
              "      <th>summary</th>\n",
              "      <th>unixReviewTime</th>\n",
              "      <th>reviewTime</th>\n",
              "    </tr>\n",
              "  </thead>\n",
              "  <tbody>\n",
              "    <tr>\n",
              "      <th>0</th>\n",
              "      <td>A2V1J3JT5OOZFO</td>\n",
              "      <td>B00DQZSIW8</td>\n",
              "      <td>Dragonwort Castle</td>\n",
              "      <td>[0, 0]</td>\n",
              "      <td>perfect fit and looks and feels nice but does ...</td>\n",
              "      <td>3</td>\n",
              "      <td>Perfect fit and looks and feels nice, no auto ...</td>\n",
              "      <td>1404172800</td>\n",
              "      <td>07 1, 2014</td>\n",
              "    </tr>\n",
              "    <tr>\n",
              "      <th>1</th>\n",
              "      <td>A3PVI8NJSB0NOB</td>\n",
              "      <td>B009QMZ7SS</td>\n",
              "      <td>Stephen S. Osborn \"spendthrift\"</td>\n",
              "      <td>[1, 2]</td>\n",
              "      <td>these pads are adequate but they bring down wh...</td>\n",
              "      <td>3</td>\n",
              "      <td>There is a better option than these.</td>\n",
              "      <td>1398729600</td>\n",
              "      <td>04 29, 2014</td>\n",
              "    </tr>\n",
              "    <tr>\n",
              "      <th>2</th>\n",
              "      <td>A3JU16JTNLVK1J</td>\n",
              "      <td>B000Y16TY6</td>\n",
              "      <td>Tony</td>\n",
              "      <td>[0, 0]</td>\n",
              "      <td>i am a photographer and use this card in my ca...</td>\n",
              "      <td>5</td>\n",
              "      <td>Reliable</td>\n",
              "      <td>1372118400</td>\n",
              "      <td>06 25, 2013</td>\n",
              "    </tr>\n",
              "    <tr>\n",
              "      <th>3</th>\n",
              "      <td>A2830FG65LOK6S</td>\n",
              "      <td>B000KO0GY6</td>\n",
              "      <td>Stacy Burns</td>\n",
              "      <td>[0, 0]</td>\n",
              "      <td>i bought this about  years ago i have needed a...</td>\n",
              "      <td>5</td>\n",
              "      <td>New favorite gadget</td>\n",
              "      <td>1359936000</td>\n",
              "      <td>02 4, 2013</td>\n",
              "    </tr>\n",
              "    <tr>\n",
              "      <th>4</th>\n",
              "      <td>A3B6UM8QZVGXUH</td>\n",
              "      <td>B007UMLEWO</td>\n",
              "      <td>Dee</td>\n",
              "      <td>[0, 0]</td>\n",
              "      <td>i didnt like the material i found it to be qui...</td>\n",
              "      <td>3</td>\n",
              "      <td>Less than what I expected</td>\n",
              "      <td>1394496000</td>\n",
              "      <td>03 11, 2014</td>\n",
              "    </tr>\n",
              "  </tbody>\n",
              "</table>\n",
              "</div>\n",
              "      <button class=\"colab-df-convert\" onclick=\"convertToInteractive('df-40dde174-248e-4dab-a96f-6ee1c0e6c746')\"\n",
              "              title=\"Convert this dataframe to an interactive table.\"\n",
              "              style=\"display:none;\">\n",
              "        \n",
              "  <svg xmlns=\"http://www.w3.org/2000/svg\" height=\"24px\"viewBox=\"0 0 24 24\"\n",
              "       width=\"24px\">\n",
              "    <path d=\"M0 0h24v24H0V0z\" fill=\"none\"/>\n",
              "    <path d=\"M18.56 5.44l.94 2.06.94-2.06 2.06-.94-2.06-.94-.94-2.06-.94 2.06-2.06.94zm-11 1L8.5 8.5l.94-2.06 2.06-.94-2.06-.94L8.5 2.5l-.94 2.06-2.06.94zm10 10l.94 2.06.94-2.06 2.06-.94-2.06-.94-.94-2.06-.94 2.06-2.06.94z\"/><path d=\"M17.41 7.96l-1.37-1.37c-.4-.4-.92-.59-1.43-.59-.52 0-1.04.2-1.43.59L10.3 9.45l-7.72 7.72c-.78.78-.78 2.05 0 2.83L4 21.41c.39.39.9.59 1.41.59.51 0 1.02-.2 1.41-.59l7.78-7.78 2.81-2.81c.8-.78.8-2.07 0-2.86zM5.41 20L4 18.59l7.72-7.72 1.47 1.35L5.41 20z\"/>\n",
              "  </svg>\n",
              "      </button>\n",
              "      \n",
              "  <style>\n",
              "    .colab-df-container {\n",
              "      display:flex;\n",
              "      flex-wrap:wrap;\n",
              "      gap: 12px;\n",
              "    }\n",
              "\n",
              "    .colab-df-convert {\n",
              "      background-color: #E8F0FE;\n",
              "      border: none;\n",
              "      border-radius: 50%;\n",
              "      cursor: pointer;\n",
              "      display: none;\n",
              "      fill: #1967D2;\n",
              "      height: 32px;\n",
              "      padding: 0 0 0 0;\n",
              "      width: 32px;\n",
              "    }\n",
              "\n",
              "    .colab-df-convert:hover {\n",
              "      background-color: #E2EBFA;\n",
              "      box-shadow: 0px 1px 2px rgba(60, 64, 67, 0.3), 0px 1px 3px 1px rgba(60, 64, 67, 0.15);\n",
              "      fill: #174EA6;\n",
              "    }\n",
              "\n",
              "    [theme=dark] .colab-df-convert {\n",
              "      background-color: #3B4455;\n",
              "      fill: #D2E3FC;\n",
              "    }\n",
              "\n",
              "    [theme=dark] .colab-df-convert:hover {\n",
              "      background-color: #434B5C;\n",
              "      box-shadow: 0px 1px 3px 1px rgba(0, 0, 0, 0.15);\n",
              "      filter: drop-shadow(0px 1px 2px rgba(0, 0, 0, 0.3));\n",
              "      fill: #FFFFFF;\n",
              "    }\n",
              "  </style>\n",
              "\n",
              "      <script>\n",
              "        const buttonEl =\n",
              "          document.querySelector('#df-40dde174-248e-4dab-a96f-6ee1c0e6c746 button.colab-df-convert');\n",
              "        buttonEl.style.display =\n",
              "          google.colab.kernel.accessAllowed ? 'block' : 'none';\n",
              "\n",
              "        async function convertToInteractive(key) {\n",
              "          const element = document.querySelector('#df-40dde174-248e-4dab-a96f-6ee1c0e6c746');\n",
              "          const dataTable =\n",
              "            await google.colab.kernel.invokeFunction('convertToInteractive',\n",
              "                                                     [key], {});\n",
              "          if (!dataTable) return;\n",
              "\n",
              "          const docLinkHtml = 'Like what you see? Visit the ' +\n",
              "            '<a target=\"_blank\" href=https://colab.research.google.com/notebooks/data_table.ipynb>data table notebook</a>'\n",
              "            + ' to learn more about interactive tables.';\n",
              "          element.innerHTML = '';\n",
              "          dataTable['output_type'] = 'display_data';\n",
              "          await google.colab.output.renderOutput(dataTable, element);\n",
              "          const docLink = document.createElement('div');\n",
              "          docLink.innerHTML = docLinkHtml;\n",
              "          element.appendChild(docLink);\n",
              "        }\n",
              "      </script>\n",
              "    </div>\n",
              "  </div>\n",
              "  "
            ]
          },
          "metadata": {},
          "execution_count": 93
        }
      ]
    },
    {
      "cell_type": "markdown",
      "source": [
        "extract entities - for now most common entities"
      ],
      "metadata": {
        "id": "Euqs5JgA-mrI"
      }
    },
    {
      "cell_type": "code",
      "source": [
        "items = [x.text for x in tokens.ents]\n",
        "Counter(items).most_common(30)"
      ],
      "metadata": {
        "colab": {
          "base_uri": "https://localhost:8080/"
        },
        "id": "SzGfzqta-cdI",
        "outputId": "93f15da3-3281-45bf-e23a-5238f40789f1"
      },
      "execution_count": 94,
      "outputs": [
        {
          "output_type": "execute_result",
          "data": {
            "text/plain": [
              "[('one', 11),\n",
              " ('sony', 7),\n",
              " ('two', 5),\n",
              " ('first', 4),\n",
              " ('about  hours', 3),\n",
              " ('over  years', 2),\n",
              " ('next year', 2),\n",
              " ('years', 2),\n",
              " ('half', 2),\n",
              " ('usb', 2),\n",
              " ('usado', 2),\n",
              " ('jvc harx', 1),\n",
              " ('this day', 1),\n",
              " ('this about  years ago', 1),\n",
              " ('about  months', 1),\n",
              " ('about a year and a half', 1),\n",
              " ('a few years', 1),\n",
              " ('mosaic', 1),\n",
              " (\"the last few years'\", 1),\n",
              " ('nextyears ultrabooks', 1),\n",
              " ('gen ultrabooks', 1),\n",
              " ('at least  hours', 1),\n",
              " ('every day', 1),\n",
              " ('samsung phillips', 1),\n",
              " ('earlier this month', 1),\n",
              " ('four to five', 1),\n",
              " ('netflix pandora', 1),\n",
              " ('last year', 1),\n",
              " ('a month', 1),\n",
              " ('xm  ', 1)]"
            ]
          },
          "metadata": {},
          "execution_count": 94
        }
      ]
    },
    {
      "cell_type": "markdown",
      "source": [
        "Extracting Named-Entities - extract the entities based on their categories\n",
        "\n",
        "To start, we’ll extract people (real and fictional) using the PERSON type."
      ],
      "metadata": {
        "id": "wRt_UYAI-vK_"
      }
    },
    {
      "cell_type": "code",
      "source": [
        "person_list = []\n",
        "\n",
        "for ent in tokens.ents: #loop through token entities\n",
        "  if ent.label_ == 'PERSON': #if entitiy label is equal to person type\n",
        "    person_list.append(ent.text)\n",
        "\n",
        "#we want to know how many person types appear in the tokens        \n",
        "person_counts = Counter(person_list).most_common(20) #top 20 common entities for this type\n",
        "df_person = pd.DataFrame(person_counts, columns =['reviewText', 'count'])"
      ],
      "metadata": {
        "id": "2hGT_wwK-fBr"
      },
      "execution_count": 95,
      "outputs": []
    },
    {
      "cell_type": "code",
      "source": [
        "df_person.head()"
      ],
      "metadata": {
        "colab": {
          "base_uri": "https://localhost:8080/",
          "height": 206
        },
        "id": "g_LasfHo-1O7",
        "outputId": "38b2cd0a-3447-46aa-8696-167ef1911e42"
      },
      "execution_count": 96,
      "outputs": [
        {
          "output_type": "execute_result",
          "data": {
            "text/plain": [
              "             reviewText  count\n",
              "0              jvc harx      1\n",
              "1  nextyears ultrabooks      1\n",
              "2        gen ultrabooks      1\n",
              "3    antenna  something      1\n",
              "4     multiline display      1"
            ],
            "text/html": [
              "\n",
              "  <div id=\"df-f00ddaee-aaf6-40f4-88b9-64a9c02bdf23\">\n",
              "    <div class=\"colab-df-container\">\n",
              "      <div>\n",
              "<style scoped>\n",
              "    .dataframe tbody tr th:only-of-type {\n",
              "        vertical-align: middle;\n",
              "    }\n",
              "\n",
              "    .dataframe tbody tr th {\n",
              "        vertical-align: top;\n",
              "    }\n",
              "\n",
              "    .dataframe thead th {\n",
              "        text-align: right;\n",
              "    }\n",
              "</style>\n",
              "<table border=\"1\" class=\"dataframe\">\n",
              "  <thead>\n",
              "    <tr style=\"text-align: right;\">\n",
              "      <th></th>\n",
              "      <th>reviewText</th>\n",
              "      <th>count</th>\n",
              "    </tr>\n",
              "  </thead>\n",
              "  <tbody>\n",
              "    <tr>\n",
              "      <th>0</th>\n",
              "      <td>jvc harx</td>\n",
              "      <td>1</td>\n",
              "    </tr>\n",
              "    <tr>\n",
              "      <th>1</th>\n",
              "      <td>nextyears ultrabooks</td>\n",
              "      <td>1</td>\n",
              "    </tr>\n",
              "    <tr>\n",
              "      <th>2</th>\n",
              "      <td>gen ultrabooks</td>\n",
              "      <td>1</td>\n",
              "    </tr>\n",
              "    <tr>\n",
              "      <th>3</th>\n",
              "      <td>antenna  something</td>\n",
              "      <td>1</td>\n",
              "    </tr>\n",
              "    <tr>\n",
              "      <th>4</th>\n",
              "      <td>multiline display</td>\n",
              "      <td>1</td>\n",
              "    </tr>\n",
              "  </tbody>\n",
              "</table>\n",
              "</div>\n",
              "      <button class=\"colab-df-convert\" onclick=\"convertToInteractive('df-f00ddaee-aaf6-40f4-88b9-64a9c02bdf23')\"\n",
              "              title=\"Convert this dataframe to an interactive table.\"\n",
              "              style=\"display:none;\">\n",
              "        \n",
              "  <svg xmlns=\"http://www.w3.org/2000/svg\" height=\"24px\"viewBox=\"0 0 24 24\"\n",
              "       width=\"24px\">\n",
              "    <path d=\"M0 0h24v24H0V0z\" fill=\"none\"/>\n",
              "    <path d=\"M18.56 5.44l.94 2.06.94-2.06 2.06-.94-2.06-.94-.94-2.06-.94 2.06-2.06.94zm-11 1L8.5 8.5l.94-2.06 2.06-.94-2.06-.94L8.5 2.5l-.94 2.06-2.06.94zm10 10l.94 2.06.94-2.06 2.06-.94-2.06-.94-.94-2.06-.94 2.06-2.06.94z\"/><path d=\"M17.41 7.96l-1.37-1.37c-.4-.4-.92-.59-1.43-.59-.52 0-1.04.2-1.43.59L10.3 9.45l-7.72 7.72c-.78.78-.78 2.05 0 2.83L4 21.41c.39.39.9.59 1.41.59.51 0 1.02-.2 1.41-.59l7.78-7.78 2.81-2.81c.8-.78.8-2.07 0-2.86zM5.41 20L4 18.59l7.72-7.72 1.47 1.35L5.41 20z\"/>\n",
              "  </svg>\n",
              "      </button>\n",
              "      \n",
              "  <style>\n",
              "    .colab-df-container {\n",
              "      display:flex;\n",
              "      flex-wrap:wrap;\n",
              "      gap: 12px;\n",
              "    }\n",
              "\n",
              "    .colab-df-convert {\n",
              "      background-color: #E8F0FE;\n",
              "      border: none;\n",
              "      border-radius: 50%;\n",
              "      cursor: pointer;\n",
              "      display: none;\n",
              "      fill: #1967D2;\n",
              "      height: 32px;\n",
              "      padding: 0 0 0 0;\n",
              "      width: 32px;\n",
              "    }\n",
              "\n",
              "    .colab-df-convert:hover {\n",
              "      background-color: #E2EBFA;\n",
              "      box-shadow: 0px 1px 2px rgba(60, 64, 67, 0.3), 0px 1px 3px 1px rgba(60, 64, 67, 0.15);\n",
              "      fill: #174EA6;\n",
              "    }\n",
              "\n",
              "    [theme=dark] .colab-df-convert {\n",
              "      background-color: #3B4455;\n",
              "      fill: #D2E3FC;\n",
              "    }\n",
              "\n",
              "    [theme=dark] .colab-df-convert:hover {\n",
              "      background-color: #434B5C;\n",
              "      box-shadow: 0px 1px 3px 1px rgba(0, 0, 0, 0.15);\n",
              "      filter: drop-shadow(0px 1px 2px rgba(0, 0, 0, 0.3));\n",
              "      fill: #FFFFFF;\n",
              "    }\n",
              "  </style>\n",
              "\n",
              "      <script>\n",
              "        const buttonEl =\n",
              "          document.querySelector('#df-f00ddaee-aaf6-40f4-88b9-64a9c02bdf23 button.colab-df-convert');\n",
              "        buttonEl.style.display =\n",
              "          google.colab.kernel.accessAllowed ? 'block' : 'none';\n",
              "\n",
              "        async function convertToInteractive(key) {\n",
              "          const element = document.querySelector('#df-f00ddaee-aaf6-40f4-88b9-64a9c02bdf23');\n",
              "          const dataTable =\n",
              "            await google.colab.kernel.invokeFunction('convertToInteractive',\n",
              "                                                     [key], {});\n",
              "          if (!dataTable) return;\n",
              "\n",
              "          const docLinkHtml = 'Like what you see? Visit the ' +\n",
              "            '<a target=\"_blank\" href=https://colab.research.google.com/notebooks/data_table.ipynb>data table notebook</a>'\n",
              "            + ' to learn more about interactive tables.';\n",
              "          element.innerHTML = '';\n",
              "          dataTable['output_type'] = 'display_data';\n",
              "          await google.colab.output.renderOutput(dataTable, element);\n",
              "          const docLink = document.createElement('div');\n",
              "          docLink.innerHTML = docLinkHtml;\n",
              "          element.appendChild(docLink);\n",
              "        }\n",
              "      </script>\n",
              "    </div>\n",
              "  </div>\n",
              "  "
            ]
          },
          "metadata": {},
          "execution_count": 96
        }
      ]
    },
    {
      "cell_type": "markdown",
      "source": [
        "repeat the same pattern for the NORP type which recognizes nationalities, religious and political groups."
      ],
      "metadata": {
        "id": "CRNvJtarAHjx"
      }
    },
    {
      "cell_type": "code",
      "source": [
        "norp_list = []\n",
        "for ent in tokens.ents:\n",
        "  if ent.label_ == 'NORP':\n",
        "      norp_list.append(ent.text)\n",
        "        \n",
        "norp_counts = Counter(norp_list).most_common(20)\n",
        "df_norp = pd.DataFrame(norp_counts, columns =['reviewText', 'count'])\n"
      ],
      "metadata": {
        "id": "Uk6JVkR1_CJi"
      },
      "execution_count": 97,
      "outputs": []
    },
    {
      "cell_type": "code",
      "source": [
        "df_norp.head()"
      ],
      "metadata": {
        "colab": {
          "base_uri": "https://localhost:8080/",
          "height": 81
        },
        "id": "U8MBNKh1_Uji",
        "outputId": "e4238e4c-9dc8-4a96-d959-57ae62f93a59"
      },
      "execution_count": 98,
      "outputs": [
        {
          "output_type": "execute_result",
          "data": {
            "text/plain": [
              "  reviewText  count\n",
              "0    chinese      1"
            ],
            "text/html": [
              "\n",
              "  <div id=\"df-ccc50c83-48d5-493d-9f9b-e4f2d41b3b86\">\n",
              "    <div class=\"colab-df-container\">\n",
              "      <div>\n",
              "<style scoped>\n",
              "    .dataframe tbody tr th:only-of-type {\n",
              "        vertical-align: middle;\n",
              "    }\n",
              "\n",
              "    .dataframe tbody tr th {\n",
              "        vertical-align: top;\n",
              "    }\n",
              "\n",
              "    .dataframe thead th {\n",
              "        text-align: right;\n",
              "    }\n",
              "</style>\n",
              "<table border=\"1\" class=\"dataframe\">\n",
              "  <thead>\n",
              "    <tr style=\"text-align: right;\">\n",
              "      <th></th>\n",
              "      <th>reviewText</th>\n",
              "      <th>count</th>\n",
              "    </tr>\n",
              "  </thead>\n",
              "  <tbody>\n",
              "    <tr>\n",
              "      <th>0</th>\n",
              "      <td>chinese</td>\n",
              "      <td>1</td>\n",
              "    </tr>\n",
              "  </tbody>\n",
              "</table>\n",
              "</div>\n",
              "      <button class=\"colab-df-convert\" onclick=\"convertToInteractive('df-ccc50c83-48d5-493d-9f9b-e4f2d41b3b86')\"\n",
              "              title=\"Convert this dataframe to an interactive table.\"\n",
              "              style=\"display:none;\">\n",
              "        \n",
              "  <svg xmlns=\"http://www.w3.org/2000/svg\" height=\"24px\"viewBox=\"0 0 24 24\"\n",
              "       width=\"24px\">\n",
              "    <path d=\"M0 0h24v24H0V0z\" fill=\"none\"/>\n",
              "    <path d=\"M18.56 5.44l.94 2.06.94-2.06 2.06-.94-2.06-.94-.94-2.06-.94 2.06-2.06.94zm-11 1L8.5 8.5l.94-2.06 2.06-.94-2.06-.94L8.5 2.5l-.94 2.06-2.06.94zm10 10l.94 2.06.94-2.06 2.06-.94-2.06-.94-.94-2.06-.94 2.06-2.06.94z\"/><path d=\"M17.41 7.96l-1.37-1.37c-.4-.4-.92-.59-1.43-.59-.52 0-1.04.2-1.43.59L10.3 9.45l-7.72 7.72c-.78.78-.78 2.05 0 2.83L4 21.41c.39.39.9.59 1.41.59.51 0 1.02-.2 1.41-.59l7.78-7.78 2.81-2.81c.8-.78.8-2.07 0-2.86zM5.41 20L4 18.59l7.72-7.72 1.47 1.35L5.41 20z\"/>\n",
              "  </svg>\n",
              "      </button>\n",
              "      \n",
              "  <style>\n",
              "    .colab-df-container {\n",
              "      display:flex;\n",
              "      flex-wrap:wrap;\n",
              "      gap: 12px;\n",
              "    }\n",
              "\n",
              "    .colab-df-convert {\n",
              "      background-color: #E8F0FE;\n",
              "      border: none;\n",
              "      border-radius: 50%;\n",
              "      cursor: pointer;\n",
              "      display: none;\n",
              "      fill: #1967D2;\n",
              "      height: 32px;\n",
              "      padding: 0 0 0 0;\n",
              "      width: 32px;\n",
              "    }\n",
              "\n",
              "    .colab-df-convert:hover {\n",
              "      background-color: #E2EBFA;\n",
              "      box-shadow: 0px 1px 2px rgba(60, 64, 67, 0.3), 0px 1px 3px 1px rgba(60, 64, 67, 0.15);\n",
              "      fill: #174EA6;\n",
              "    }\n",
              "\n",
              "    [theme=dark] .colab-df-convert {\n",
              "      background-color: #3B4455;\n",
              "      fill: #D2E3FC;\n",
              "    }\n",
              "\n",
              "    [theme=dark] .colab-df-convert:hover {\n",
              "      background-color: #434B5C;\n",
              "      box-shadow: 0px 1px 3px 1px rgba(0, 0, 0, 0.15);\n",
              "      filter: drop-shadow(0px 1px 2px rgba(0, 0, 0, 0.3));\n",
              "      fill: #FFFFFF;\n",
              "    }\n",
              "  </style>\n",
              "\n",
              "      <script>\n",
              "        const buttonEl =\n",
              "          document.querySelector('#df-ccc50c83-48d5-493d-9f9b-e4f2d41b3b86 button.colab-df-convert');\n",
              "        buttonEl.style.display =\n",
              "          google.colab.kernel.accessAllowed ? 'block' : 'none';\n",
              "\n",
              "        async function convertToInteractive(key) {\n",
              "          const element = document.querySelector('#df-ccc50c83-48d5-493d-9f9b-e4f2d41b3b86');\n",
              "          const dataTable =\n",
              "            await google.colab.kernel.invokeFunction('convertToInteractive',\n",
              "                                                     [key], {});\n",
              "          if (!dataTable) return;\n",
              "\n",
              "          const docLinkHtml = 'Like what you see? Visit the ' +\n",
              "            '<a target=\"_blank\" href=https://colab.research.google.com/notebooks/data_table.ipynb>data table notebook</a>'\n",
              "            + ' to learn more about interactive tables.';\n",
              "          element.innerHTML = '';\n",
              "          dataTable['output_type'] = 'display_data';\n",
              "          await google.colab.output.renderOutput(dataTable, element);\n",
              "          const docLink = document.createElement('div');\n",
              "          docLink.innerHTML = docLinkHtml;\n",
              "          element.appendChild(docLink);\n",
              "        }\n",
              "      </script>\n",
              "    </div>\n",
              "  </div>\n",
              "  "
            ]
          },
          "metadata": {},
          "execution_count": 98
        }
      ]
    },
    {
      "cell_type": "markdown",
      "source": [
        "PRDOUCT: Objects, vehicles, foods, etc."
      ],
      "metadata": {
        "id": "-EiqS1gAAf_3"
      }
    },
    {
      "cell_type": "code",
      "source": [
        "prod_list = []\n",
        "for ent in tokens.ents:\n",
        "  if ent.label_ == 'PRODUCT':\n",
        "      prod_list.append(ent.text)\n",
        "        \n",
        "prod_counts = Counter(prod_list).most_common(20)\n",
        "df_prod = pd.DataFrame(prod_counts, columns =['reviewText', 'count'])\n"
      ],
      "metadata": {
        "id": "Yh45Dd54ANJQ"
      },
      "execution_count": 99,
      "outputs": []
    },
    {
      "cell_type": "code",
      "source": [
        "df_prod.head()"
      ],
      "metadata": {
        "colab": {
          "base_uri": "https://localhost:8080/",
          "height": 81
        },
        "id": "qsPsWNakAWNT",
        "outputId": "38aafaef-6766-43ec-d91d-3d67b224a113"
      },
      "execution_count": 100,
      "outputs": [
        {
          "output_type": "execute_result",
          "data": {
            "text/plain": [
              "         reviewText  count\n",
              "0  samsung phillips      1"
            ],
            "text/html": [
              "\n",
              "  <div id=\"df-e80c0458-0e88-4d41-a723-6dfe1d9b0350\">\n",
              "    <div class=\"colab-df-container\">\n",
              "      <div>\n",
              "<style scoped>\n",
              "    .dataframe tbody tr th:only-of-type {\n",
              "        vertical-align: middle;\n",
              "    }\n",
              "\n",
              "    .dataframe tbody tr th {\n",
              "        vertical-align: top;\n",
              "    }\n",
              "\n",
              "    .dataframe thead th {\n",
              "        text-align: right;\n",
              "    }\n",
              "</style>\n",
              "<table border=\"1\" class=\"dataframe\">\n",
              "  <thead>\n",
              "    <tr style=\"text-align: right;\">\n",
              "      <th></th>\n",
              "      <th>reviewText</th>\n",
              "      <th>count</th>\n",
              "    </tr>\n",
              "  </thead>\n",
              "  <tbody>\n",
              "    <tr>\n",
              "      <th>0</th>\n",
              "      <td>samsung phillips</td>\n",
              "      <td>1</td>\n",
              "    </tr>\n",
              "  </tbody>\n",
              "</table>\n",
              "</div>\n",
              "      <button class=\"colab-df-convert\" onclick=\"convertToInteractive('df-e80c0458-0e88-4d41-a723-6dfe1d9b0350')\"\n",
              "              title=\"Convert this dataframe to an interactive table.\"\n",
              "              style=\"display:none;\">\n",
              "        \n",
              "  <svg xmlns=\"http://www.w3.org/2000/svg\" height=\"24px\"viewBox=\"0 0 24 24\"\n",
              "       width=\"24px\">\n",
              "    <path d=\"M0 0h24v24H0V0z\" fill=\"none\"/>\n",
              "    <path d=\"M18.56 5.44l.94 2.06.94-2.06 2.06-.94-2.06-.94-.94-2.06-.94 2.06-2.06.94zm-11 1L8.5 8.5l.94-2.06 2.06-.94-2.06-.94L8.5 2.5l-.94 2.06-2.06.94zm10 10l.94 2.06.94-2.06 2.06-.94-2.06-.94-.94-2.06-.94 2.06-2.06.94z\"/><path d=\"M17.41 7.96l-1.37-1.37c-.4-.4-.92-.59-1.43-.59-.52 0-1.04.2-1.43.59L10.3 9.45l-7.72 7.72c-.78.78-.78 2.05 0 2.83L4 21.41c.39.39.9.59 1.41.59.51 0 1.02-.2 1.41-.59l7.78-7.78 2.81-2.81c.8-.78.8-2.07 0-2.86zM5.41 20L4 18.59l7.72-7.72 1.47 1.35L5.41 20z\"/>\n",
              "  </svg>\n",
              "      </button>\n",
              "      \n",
              "  <style>\n",
              "    .colab-df-container {\n",
              "      display:flex;\n",
              "      flex-wrap:wrap;\n",
              "      gap: 12px;\n",
              "    }\n",
              "\n",
              "    .colab-df-convert {\n",
              "      background-color: #E8F0FE;\n",
              "      border: none;\n",
              "      border-radius: 50%;\n",
              "      cursor: pointer;\n",
              "      display: none;\n",
              "      fill: #1967D2;\n",
              "      height: 32px;\n",
              "      padding: 0 0 0 0;\n",
              "      width: 32px;\n",
              "    }\n",
              "\n",
              "    .colab-df-convert:hover {\n",
              "      background-color: #E2EBFA;\n",
              "      box-shadow: 0px 1px 2px rgba(60, 64, 67, 0.3), 0px 1px 3px 1px rgba(60, 64, 67, 0.15);\n",
              "      fill: #174EA6;\n",
              "    }\n",
              "\n",
              "    [theme=dark] .colab-df-convert {\n",
              "      background-color: #3B4455;\n",
              "      fill: #D2E3FC;\n",
              "    }\n",
              "\n",
              "    [theme=dark] .colab-df-convert:hover {\n",
              "      background-color: #434B5C;\n",
              "      box-shadow: 0px 1px 3px 1px rgba(0, 0, 0, 0.15);\n",
              "      filter: drop-shadow(0px 1px 2px rgba(0, 0, 0, 0.3));\n",
              "      fill: #FFFFFF;\n",
              "    }\n",
              "  </style>\n",
              "\n",
              "      <script>\n",
              "        const buttonEl =\n",
              "          document.querySelector('#df-e80c0458-0e88-4d41-a723-6dfe1d9b0350 button.colab-df-convert');\n",
              "        buttonEl.style.display =\n",
              "          google.colab.kernel.accessAllowed ? 'block' : 'none';\n",
              "\n",
              "        async function convertToInteractive(key) {\n",
              "          const element = document.querySelector('#df-e80c0458-0e88-4d41-a723-6dfe1d9b0350');\n",
              "          const dataTable =\n",
              "            await google.colab.kernel.invokeFunction('convertToInteractive',\n",
              "                                                     [key], {});\n",
              "          if (!dataTable) return;\n",
              "\n",
              "          const docLinkHtml = 'Like what you see? Visit the ' +\n",
              "            '<a target=\"_blank\" href=https://colab.research.google.com/notebooks/data_table.ipynb>data table notebook</a>'\n",
              "            + ' to learn more about interactive tables.';\n",
              "          element.innerHTML = '';\n",
              "          dataTable['output_type'] = 'display_data';\n",
              "          await google.colab.output.renderOutput(dataTable, element);\n",
              "          const docLink = document.createElement('div');\n",
              "          docLink.innerHTML = docLinkHtml;\n",
              "          element.appendChild(docLink);\n",
              "        }\n",
              "      </script>\n",
              "    </div>\n",
              "  </div>\n",
              "  "
            ]
          },
          "metadata": {},
          "execution_count": 100
        }
      ]
    },
    {
      "cell_type": "code",
      "source": [
        "event_list = []\n",
        "for ent in tokens.ents:\n",
        "  if ent.label_ == 'EVENT':\n",
        "      event_list.append(ent.text)\n",
        "        \n",
        "event_counts = Counter(event_list).most_common(20)\n",
        "df_event = pd.DataFrame(event_counts, columns =['reviewText', 'count'])"
      ],
      "metadata": {
        "id": "r1GqRsFAAsEb"
      },
      "execution_count": 101,
      "outputs": []
    },
    {
      "cell_type": "code",
      "source": [
        "df_event.head()"
      ],
      "metadata": {
        "colab": {
          "base_uri": "https://localhost:8080/",
          "height": 49
        },
        "id": "kY2HOYraA1kc",
        "outputId": "cc44d92a-c1d4-4df7-f21c-0aba7b6c5566"
      },
      "execution_count": 102,
      "outputs": [
        {
          "output_type": "execute_result",
          "data": {
            "text/plain": [
              "Empty DataFrame\n",
              "Columns: [reviewText, count]\n",
              "Index: []"
            ],
            "text/html": [
              "\n",
              "  <div id=\"df-8233f8ba-8137-479d-a6a5-1163108622ff\">\n",
              "    <div class=\"colab-df-container\">\n",
              "      <div>\n",
              "<style scoped>\n",
              "    .dataframe tbody tr th:only-of-type {\n",
              "        vertical-align: middle;\n",
              "    }\n",
              "\n",
              "    .dataframe tbody tr th {\n",
              "        vertical-align: top;\n",
              "    }\n",
              "\n",
              "    .dataframe thead th {\n",
              "        text-align: right;\n",
              "    }\n",
              "</style>\n",
              "<table border=\"1\" class=\"dataframe\">\n",
              "  <thead>\n",
              "    <tr style=\"text-align: right;\">\n",
              "      <th></th>\n",
              "      <th>reviewText</th>\n",
              "      <th>count</th>\n",
              "    </tr>\n",
              "  </thead>\n",
              "  <tbody>\n",
              "  </tbody>\n",
              "</table>\n",
              "</div>\n",
              "      <button class=\"colab-df-convert\" onclick=\"convertToInteractive('df-8233f8ba-8137-479d-a6a5-1163108622ff')\"\n",
              "              title=\"Convert this dataframe to an interactive table.\"\n",
              "              style=\"display:none;\">\n",
              "        \n",
              "  <svg xmlns=\"http://www.w3.org/2000/svg\" height=\"24px\"viewBox=\"0 0 24 24\"\n",
              "       width=\"24px\">\n",
              "    <path d=\"M0 0h24v24H0V0z\" fill=\"none\"/>\n",
              "    <path d=\"M18.56 5.44l.94 2.06.94-2.06 2.06-.94-2.06-.94-.94-2.06-.94 2.06-2.06.94zm-11 1L8.5 8.5l.94-2.06 2.06-.94-2.06-.94L8.5 2.5l-.94 2.06-2.06.94zm10 10l.94 2.06.94-2.06 2.06-.94-2.06-.94-.94-2.06-.94 2.06-2.06.94z\"/><path d=\"M17.41 7.96l-1.37-1.37c-.4-.4-.92-.59-1.43-.59-.52 0-1.04.2-1.43.59L10.3 9.45l-7.72 7.72c-.78.78-.78 2.05 0 2.83L4 21.41c.39.39.9.59 1.41.59.51 0 1.02-.2 1.41-.59l7.78-7.78 2.81-2.81c.8-.78.8-2.07 0-2.86zM5.41 20L4 18.59l7.72-7.72 1.47 1.35L5.41 20z\"/>\n",
              "  </svg>\n",
              "      </button>\n",
              "      \n",
              "  <style>\n",
              "    .colab-df-container {\n",
              "      display:flex;\n",
              "      flex-wrap:wrap;\n",
              "      gap: 12px;\n",
              "    }\n",
              "\n",
              "    .colab-df-convert {\n",
              "      background-color: #E8F0FE;\n",
              "      border: none;\n",
              "      border-radius: 50%;\n",
              "      cursor: pointer;\n",
              "      display: none;\n",
              "      fill: #1967D2;\n",
              "      height: 32px;\n",
              "      padding: 0 0 0 0;\n",
              "      width: 32px;\n",
              "    }\n",
              "\n",
              "    .colab-df-convert:hover {\n",
              "      background-color: #E2EBFA;\n",
              "      box-shadow: 0px 1px 2px rgba(60, 64, 67, 0.3), 0px 1px 3px 1px rgba(60, 64, 67, 0.15);\n",
              "      fill: #174EA6;\n",
              "    }\n",
              "\n",
              "    [theme=dark] .colab-df-convert {\n",
              "      background-color: #3B4455;\n",
              "      fill: #D2E3FC;\n",
              "    }\n",
              "\n",
              "    [theme=dark] .colab-df-convert:hover {\n",
              "      background-color: #434B5C;\n",
              "      box-shadow: 0px 1px 3px 1px rgba(0, 0, 0, 0.15);\n",
              "      filter: drop-shadow(0px 1px 2px rgba(0, 0, 0, 0.3));\n",
              "      fill: #FFFFFF;\n",
              "    }\n",
              "  </style>\n",
              "\n",
              "      <script>\n",
              "        const buttonEl =\n",
              "          document.querySelector('#df-8233f8ba-8137-479d-a6a5-1163108622ff button.colab-df-convert');\n",
              "        buttonEl.style.display =\n",
              "          google.colab.kernel.accessAllowed ? 'block' : 'none';\n",
              "\n",
              "        async function convertToInteractive(key) {\n",
              "          const element = document.querySelector('#df-8233f8ba-8137-479d-a6a5-1163108622ff');\n",
              "          const dataTable =\n",
              "            await google.colab.kernel.invokeFunction('convertToInteractive',\n",
              "                                                     [key], {});\n",
              "          if (!dataTable) return;\n",
              "\n",
              "          const docLinkHtml = 'Like what you see? Visit the ' +\n",
              "            '<a target=\"_blank\" href=https://colab.research.google.com/notebooks/data_table.ipynb>data table notebook</a>'\n",
              "            + ' to learn more about interactive tables.';\n",
              "          element.innerHTML = '';\n",
              "          dataTable['output_type'] = 'display_data';\n",
              "          await google.colab.output.renderOutput(dataTable, element);\n",
              "          const docLink = document.createElement('div');\n",
              "          docLink.innerHTML = docLinkHtml;\n",
              "          element.appendChild(docLink);\n",
              "        }\n",
              "      </script>\n",
              "    </div>\n",
              "  </div>\n",
              "  "
            ]
          },
          "metadata": {},
          "execution_count": 102
        }
      ]
    },
    {
      "cell_type": "code",
      "source": [
        "#countries, cities, states\n",
        "gpe_list = []\n",
        "for ent in tokens.ents:\n",
        "  if ent.label_ == 'GPE':\n",
        "      gpe_list.append(ent.text)\n",
        "        \n",
        "gpe_counts = Counter(gpe_list).most_common(20)\n",
        "df_gpe = pd.DataFrame(gpe_counts, columns =['reviewText', 'count'])"
      ],
      "metadata": {
        "id": "F4ZauPgsBHaZ"
      },
      "execution_count": 103,
      "outputs": []
    },
    {
      "cell_type": "code",
      "source": [
        "df_gpe.head()"
      ],
      "metadata": {
        "colab": {
          "base_uri": "https://localhost:8080/",
          "height": 206
        },
        "id": "plyu5eS8BPzW",
        "outputId": "36560a9f-c46a-4743-d9e4-660f55e33f41"
      },
      "execution_count": 104,
      "outputs": [
        {
          "output_type": "execute_result",
          "data": {
            "text/plain": [
              "     reviewText  count\n",
              "0         usado      2\n",
              "1      modelsas      1\n",
              "2      funciona      1\n",
              "3     los flash      1\n",
              "4  las pilas el      1"
            ],
            "text/html": [
              "\n",
              "  <div id=\"df-9eeb74cf-50e3-444f-a89b-c77f1e6fc09d\">\n",
              "    <div class=\"colab-df-container\">\n",
              "      <div>\n",
              "<style scoped>\n",
              "    .dataframe tbody tr th:only-of-type {\n",
              "        vertical-align: middle;\n",
              "    }\n",
              "\n",
              "    .dataframe tbody tr th {\n",
              "        vertical-align: top;\n",
              "    }\n",
              "\n",
              "    .dataframe thead th {\n",
              "        text-align: right;\n",
              "    }\n",
              "</style>\n",
              "<table border=\"1\" class=\"dataframe\">\n",
              "  <thead>\n",
              "    <tr style=\"text-align: right;\">\n",
              "      <th></th>\n",
              "      <th>reviewText</th>\n",
              "      <th>count</th>\n",
              "    </tr>\n",
              "  </thead>\n",
              "  <tbody>\n",
              "    <tr>\n",
              "      <th>0</th>\n",
              "      <td>usado</td>\n",
              "      <td>2</td>\n",
              "    </tr>\n",
              "    <tr>\n",
              "      <th>1</th>\n",
              "      <td>modelsas</td>\n",
              "      <td>1</td>\n",
              "    </tr>\n",
              "    <tr>\n",
              "      <th>2</th>\n",
              "      <td>funciona</td>\n",
              "      <td>1</td>\n",
              "    </tr>\n",
              "    <tr>\n",
              "      <th>3</th>\n",
              "      <td>los flash</td>\n",
              "      <td>1</td>\n",
              "    </tr>\n",
              "    <tr>\n",
              "      <th>4</th>\n",
              "      <td>las pilas el</td>\n",
              "      <td>1</td>\n",
              "    </tr>\n",
              "  </tbody>\n",
              "</table>\n",
              "</div>\n",
              "      <button class=\"colab-df-convert\" onclick=\"convertToInteractive('df-9eeb74cf-50e3-444f-a89b-c77f1e6fc09d')\"\n",
              "              title=\"Convert this dataframe to an interactive table.\"\n",
              "              style=\"display:none;\">\n",
              "        \n",
              "  <svg xmlns=\"http://www.w3.org/2000/svg\" height=\"24px\"viewBox=\"0 0 24 24\"\n",
              "       width=\"24px\">\n",
              "    <path d=\"M0 0h24v24H0V0z\" fill=\"none\"/>\n",
              "    <path d=\"M18.56 5.44l.94 2.06.94-2.06 2.06-.94-2.06-.94-.94-2.06-.94 2.06-2.06.94zm-11 1L8.5 8.5l.94-2.06 2.06-.94-2.06-.94L8.5 2.5l-.94 2.06-2.06.94zm10 10l.94 2.06.94-2.06 2.06-.94-2.06-.94-.94-2.06-.94 2.06-2.06.94z\"/><path d=\"M17.41 7.96l-1.37-1.37c-.4-.4-.92-.59-1.43-.59-.52 0-1.04.2-1.43.59L10.3 9.45l-7.72 7.72c-.78.78-.78 2.05 0 2.83L4 21.41c.39.39.9.59 1.41.59.51 0 1.02-.2 1.41-.59l7.78-7.78 2.81-2.81c.8-.78.8-2.07 0-2.86zM5.41 20L4 18.59l7.72-7.72 1.47 1.35L5.41 20z\"/>\n",
              "  </svg>\n",
              "      </button>\n",
              "      \n",
              "  <style>\n",
              "    .colab-df-container {\n",
              "      display:flex;\n",
              "      flex-wrap:wrap;\n",
              "      gap: 12px;\n",
              "    }\n",
              "\n",
              "    .colab-df-convert {\n",
              "      background-color: #E8F0FE;\n",
              "      border: none;\n",
              "      border-radius: 50%;\n",
              "      cursor: pointer;\n",
              "      display: none;\n",
              "      fill: #1967D2;\n",
              "      height: 32px;\n",
              "      padding: 0 0 0 0;\n",
              "      width: 32px;\n",
              "    }\n",
              "\n",
              "    .colab-df-convert:hover {\n",
              "      background-color: #E2EBFA;\n",
              "      box-shadow: 0px 1px 2px rgba(60, 64, 67, 0.3), 0px 1px 3px 1px rgba(60, 64, 67, 0.15);\n",
              "      fill: #174EA6;\n",
              "    }\n",
              "\n",
              "    [theme=dark] .colab-df-convert {\n",
              "      background-color: #3B4455;\n",
              "      fill: #D2E3FC;\n",
              "    }\n",
              "\n",
              "    [theme=dark] .colab-df-convert:hover {\n",
              "      background-color: #434B5C;\n",
              "      box-shadow: 0px 1px 3px 1px rgba(0, 0, 0, 0.15);\n",
              "      filter: drop-shadow(0px 1px 2px rgba(0, 0, 0, 0.3));\n",
              "      fill: #FFFFFF;\n",
              "    }\n",
              "  </style>\n",
              "\n",
              "      <script>\n",
              "        const buttonEl =\n",
              "          document.querySelector('#df-9eeb74cf-50e3-444f-a89b-c77f1e6fc09d button.colab-df-convert');\n",
              "        buttonEl.style.display =\n",
              "          google.colab.kernel.accessAllowed ? 'block' : 'none';\n",
              "\n",
              "        async function convertToInteractive(key) {\n",
              "          const element = document.querySelector('#df-9eeb74cf-50e3-444f-a89b-c77f1e6fc09d');\n",
              "          const dataTable =\n",
              "            await google.colab.kernel.invokeFunction('convertToInteractive',\n",
              "                                                     [key], {});\n",
              "          if (!dataTable) return;\n",
              "\n",
              "          const docLinkHtml = 'Like what you see? Visit the ' +\n",
              "            '<a target=\"_blank\" href=https://colab.research.google.com/notebooks/data_table.ipynb>data table notebook</a>'\n",
              "            + ' to learn more about interactive tables.';\n",
              "          element.innerHTML = '';\n",
              "          dataTable['output_type'] = 'display_data';\n",
              "          await google.colab.output.renderOutput(dataTable, element);\n",
              "          const docLink = document.createElement('div');\n",
              "          docLink.innerHTML = docLinkHtml;\n",
              "          element.appendChild(docLink);\n",
              "        }\n",
              "      </script>\n",
              "    </div>\n",
              "  </div>\n",
              "  "
            ]
          },
          "metadata": {},
          "execution_count": 104
        }
      ]
    },
    {
      "cell_type": "code",
      "source": [
        "org_list = []\n",
        "for ent in tokens.ents:\n",
        "  if ent.label_ == 'ORG':\n",
        "      org_list.append(ent.text)\n",
        "        \n",
        "org_counts = Counter(org_list).most_common(20)\n",
        "df_org = pd.DataFrame(org_counts, columns =['reviewText', 'count'])"
      ],
      "metadata": {
        "id": "zl1ekURmBwrJ"
      },
      "execution_count": 105,
      "outputs": []
    },
    {
      "cell_type": "code",
      "source": [
        "df_org.head()"
      ],
      "metadata": {
        "colab": {
          "base_uri": "https://localhost:8080/",
          "height": 206
        },
        "id": "mAq1vNbLB32k",
        "outputId": "336ba690-9a1c-43a8-882a-c98a65363707"
      },
      "execution_count": 106,
      "outputs": [
        {
          "output_type": "execute_result",
          "data": {
            "text/plain": [
              "        reviewText  count\n",
              "0             sony      7\n",
              "1              usb      2\n",
              "2  netflix pandora      1\n",
              "3             xm        1\n",
              "4           lateri      1"
            ],
            "text/html": [
              "\n",
              "  <div id=\"df-08346c7a-73f0-424e-ae8a-cf64060792ea\">\n",
              "    <div class=\"colab-df-container\">\n",
              "      <div>\n",
              "<style scoped>\n",
              "    .dataframe tbody tr th:only-of-type {\n",
              "        vertical-align: middle;\n",
              "    }\n",
              "\n",
              "    .dataframe tbody tr th {\n",
              "        vertical-align: top;\n",
              "    }\n",
              "\n",
              "    .dataframe thead th {\n",
              "        text-align: right;\n",
              "    }\n",
              "</style>\n",
              "<table border=\"1\" class=\"dataframe\">\n",
              "  <thead>\n",
              "    <tr style=\"text-align: right;\">\n",
              "      <th></th>\n",
              "      <th>reviewText</th>\n",
              "      <th>count</th>\n",
              "    </tr>\n",
              "  </thead>\n",
              "  <tbody>\n",
              "    <tr>\n",
              "      <th>0</th>\n",
              "      <td>sony</td>\n",
              "      <td>7</td>\n",
              "    </tr>\n",
              "    <tr>\n",
              "      <th>1</th>\n",
              "      <td>usb</td>\n",
              "      <td>2</td>\n",
              "    </tr>\n",
              "    <tr>\n",
              "      <th>2</th>\n",
              "      <td>netflix pandora</td>\n",
              "      <td>1</td>\n",
              "    </tr>\n",
              "    <tr>\n",
              "      <th>3</th>\n",
              "      <td>xm</td>\n",
              "      <td>1</td>\n",
              "    </tr>\n",
              "    <tr>\n",
              "      <th>4</th>\n",
              "      <td>lateri</td>\n",
              "      <td>1</td>\n",
              "    </tr>\n",
              "  </tbody>\n",
              "</table>\n",
              "</div>\n",
              "      <button class=\"colab-df-convert\" onclick=\"convertToInteractive('df-08346c7a-73f0-424e-ae8a-cf64060792ea')\"\n",
              "              title=\"Convert this dataframe to an interactive table.\"\n",
              "              style=\"display:none;\">\n",
              "        \n",
              "  <svg xmlns=\"http://www.w3.org/2000/svg\" height=\"24px\"viewBox=\"0 0 24 24\"\n",
              "       width=\"24px\">\n",
              "    <path d=\"M0 0h24v24H0V0z\" fill=\"none\"/>\n",
              "    <path d=\"M18.56 5.44l.94 2.06.94-2.06 2.06-.94-2.06-.94-.94-2.06-.94 2.06-2.06.94zm-11 1L8.5 8.5l.94-2.06 2.06-.94-2.06-.94L8.5 2.5l-.94 2.06-2.06.94zm10 10l.94 2.06.94-2.06 2.06-.94-2.06-.94-.94-2.06-.94 2.06-2.06.94z\"/><path d=\"M17.41 7.96l-1.37-1.37c-.4-.4-.92-.59-1.43-.59-.52 0-1.04.2-1.43.59L10.3 9.45l-7.72 7.72c-.78.78-.78 2.05 0 2.83L4 21.41c.39.39.9.59 1.41.59.51 0 1.02-.2 1.41-.59l7.78-7.78 2.81-2.81c.8-.78.8-2.07 0-2.86zM5.41 20L4 18.59l7.72-7.72 1.47 1.35L5.41 20z\"/>\n",
              "  </svg>\n",
              "      </button>\n",
              "      \n",
              "  <style>\n",
              "    .colab-df-container {\n",
              "      display:flex;\n",
              "      flex-wrap:wrap;\n",
              "      gap: 12px;\n",
              "    }\n",
              "\n",
              "    .colab-df-convert {\n",
              "      background-color: #E8F0FE;\n",
              "      border: none;\n",
              "      border-radius: 50%;\n",
              "      cursor: pointer;\n",
              "      display: none;\n",
              "      fill: #1967D2;\n",
              "      height: 32px;\n",
              "      padding: 0 0 0 0;\n",
              "      width: 32px;\n",
              "    }\n",
              "\n",
              "    .colab-df-convert:hover {\n",
              "      background-color: #E2EBFA;\n",
              "      box-shadow: 0px 1px 2px rgba(60, 64, 67, 0.3), 0px 1px 3px 1px rgba(60, 64, 67, 0.15);\n",
              "      fill: #174EA6;\n",
              "    }\n",
              "\n",
              "    [theme=dark] .colab-df-convert {\n",
              "      background-color: #3B4455;\n",
              "      fill: #D2E3FC;\n",
              "    }\n",
              "\n",
              "    [theme=dark] .colab-df-convert:hover {\n",
              "      background-color: #434B5C;\n",
              "      box-shadow: 0px 1px 3px 1px rgba(0, 0, 0, 0.15);\n",
              "      filter: drop-shadow(0px 1px 2px rgba(0, 0, 0, 0.3));\n",
              "      fill: #FFFFFF;\n",
              "    }\n",
              "  </style>\n",
              "\n",
              "      <script>\n",
              "        const buttonEl =\n",
              "          document.querySelector('#df-08346c7a-73f0-424e-ae8a-cf64060792ea button.colab-df-convert');\n",
              "        buttonEl.style.display =\n",
              "          google.colab.kernel.accessAllowed ? 'block' : 'none';\n",
              "\n",
              "        async function convertToInteractive(key) {\n",
              "          const element = document.querySelector('#df-08346c7a-73f0-424e-ae8a-cf64060792ea');\n",
              "          const dataTable =\n",
              "            await google.colab.kernel.invokeFunction('convertToInteractive',\n",
              "                                                     [key], {});\n",
              "          if (!dataTable) return;\n",
              "\n",
              "          const docLinkHtml = 'Like what you see? Visit the ' +\n",
              "            '<a target=\"_blank\" href=https://colab.research.google.com/notebooks/data_table.ipynb>data table notebook</a>'\n",
              "            + ' to learn more about interactive tables.';\n",
              "          element.innerHTML = '';\n",
              "          dataTable['output_type'] = 'display_data';\n",
              "          await google.colab.output.renderOutput(dataTable, element);\n",
              "          const docLink = document.createElement('div');\n",
              "          docLink.innerHTML = docLinkHtml;\n",
              "          element.appendChild(docLink);\n",
              "        }\n",
              "      </script>\n",
              "    </div>\n",
              "  </div>\n",
              "  "
            ]
          },
          "metadata": {},
          "execution_count": 106
        }
      ]
    },
    {
      "cell_type": "code",
      "source": [
        "loc_list = []\n",
        "for ent in tokens.ents:\n",
        "  if ent.label_ == 'LOC':\n",
        "      loc_list.append(ent.text)\n",
        "        \n",
        "loc_counts = Counter(loc_list).most_common(20)\n",
        "df_loc = pd.DataFrame(loc_counts, columns =['reviewText', 'count'])"
      ],
      "metadata": {
        "id": "eyEA95PXB5Nt"
      },
      "execution_count": 107,
      "outputs": []
    },
    {
      "cell_type": "code",
      "source": [
        "df_loc.head()"
      ],
      "metadata": {
        "colab": {
          "base_uri": "https://localhost:8080/",
          "height": 49
        },
        "id": "PMx-m4xKCLDw",
        "outputId": "76c89f6e-5390-4f62-c95a-05d4dc8450c0"
      },
      "execution_count": 108,
      "outputs": [
        {
          "output_type": "execute_result",
          "data": {
            "text/plain": [
              "Empty DataFrame\n",
              "Columns: [reviewText, count]\n",
              "Index: []"
            ],
            "text/html": [
              "\n",
              "  <div id=\"df-2ad11d46-e4cc-4e6b-b04f-d54b30ff385b\">\n",
              "    <div class=\"colab-df-container\">\n",
              "      <div>\n",
              "<style scoped>\n",
              "    .dataframe tbody tr th:only-of-type {\n",
              "        vertical-align: middle;\n",
              "    }\n",
              "\n",
              "    .dataframe tbody tr th {\n",
              "        vertical-align: top;\n",
              "    }\n",
              "\n",
              "    .dataframe thead th {\n",
              "        text-align: right;\n",
              "    }\n",
              "</style>\n",
              "<table border=\"1\" class=\"dataframe\">\n",
              "  <thead>\n",
              "    <tr style=\"text-align: right;\">\n",
              "      <th></th>\n",
              "      <th>reviewText</th>\n",
              "      <th>count</th>\n",
              "    </tr>\n",
              "  </thead>\n",
              "  <tbody>\n",
              "  </tbody>\n",
              "</table>\n",
              "</div>\n",
              "      <button class=\"colab-df-convert\" onclick=\"convertToInteractive('df-2ad11d46-e4cc-4e6b-b04f-d54b30ff385b')\"\n",
              "              title=\"Convert this dataframe to an interactive table.\"\n",
              "              style=\"display:none;\">\n",
              "        \n",
              "  <svg xmlns=\"http://www.w3.org/2000/svg\" height=\"24px\"viewBox=\"0 0 24 24\"\n",
              "       width=\"24px\">\n",
              "    <path d=\"M0 0h24v24H0V0z\" fill=\"none\"/>\n",
              "    <path d=\"M18.56 5.44l.94 2.06.94-2.06 2.06-.94-2.06-.94-.94-2.06-.94 2.06-2.06.94zm-11 1L8.5 8.5l.94-2.06 2.06-.94-2.06-.94L8.5 2.5l-.94 2.06-2.06.94zm10 10l.94 2.06.94-2.06 2.06-.94-2.06-.94-.94-2.06-.94 2.06-2.06.94z\"/><path d=\"M17.41 7.96l-1.37-1.37c-.4-.4-.92-.59-1.43-.59-.52 0-1.04.2-1.43.59L10.3 9.45l-7.72 7.72c-.78.78-.78 2.05 0 2.83L4 21.41c.39.39.9.59 1.41.59.51 0 1.02-.2 1.41-.59l7.78-7.78 2.81-2.81c.8-.78.8-2.07 0-2.86zM5.41 20L4 18.59l7.72-7.72 1.47 1.35L5.41 20z\"/>\n",
              "  </svg>\n",
              "      </button>\n",
              "      \n",
              "  <style>\n",
              "    .colab-df-container {\n",
              "      display:flex;\n",
              "      flex-wrap:wrap;\n",
              "      gap: 12px;\n",
              "    }\n",
              "\n",
              "    .colab-df-convert {\n",
              "      background-color: #E8F0FE;\n",
              "      border: none;\n",
              "      border-radius: 50%;\n",
              "      cursor: pointer;\n",
              "      display: none;\n",
              "      fill: #1967D2;\n",
              "      height: 32px;\n",
              "      padding: 0 0 0 0;\n",
              "      width: 32px;\n",
              "    }\n",
              "\n",
              "    .colab-df-convert:hover {\n",
              "      background-color: #E2EBFA;\n",
              "      box-shadow: 0px 1px 2px rgba(60, 64, 67, 0.3), 0px 1px 3px 1px rgba(60, 64, 67, 0.15);\n",
              "      fill: #174EA6;\n",
              "    }\n",
              "\n",
              "    [theme=dark] .colab-df-convert {\n",
              "      background-color: #3B4455;\n",
              "      fill: #D2E3FC;\n",
              "    }\n",
              "\n",
              "    [theme=dark] .colab-df-convert:hover {\n",
              "      background-color: #434B5C;\n",
              "      box-shadow: 0px 1px 3px 1px rgba(0, 0, 0, 0.15);\n",
              "      filter: drop-shadow(0px 1px 2px rgba(0, 0, 0, 0.3));\n",
              "      fill: #FFFFFF;\n",
              "    }\n",
              "  </style>\n",
              "\n",
              "      <script>\n",
              "        const buttonEl =\n",
              "          document.querySelector('#df-2ad11d46-e4cc-4e6b-b04f-d54b30ff385b button.colab-df-convert');\n",
              "        buttonEl.style.display =\n",
              "          google.colab.kernel.accessAllowed ? 'block' : 'none';\n",
              "\n",
              "        async function convertToInteractive(key) {\n",
              "          const element = document.querySelector('#df-2ad11d46-e4cc-4e6b-b04f-d54b30ff385b');\n",
              "          const dataTable =\n",
              "            await google.colab.kernel.invokeFunction('convertToInteractive',\n",
              "                                                     [key], {});\n",
              "          if (!dataTable) return;\n",
              "\n",
              "          const docLinkHtml = 'Like what you see? Visit the ' +\n",
              "            '<a target=\"_blank\" href=https://colab.research.google.com/notebooks/data_table.ipynb>data table notebook</a>'\n",
              "            + ' to learn more about interactive tables.';\n",
              "          element.innerHTML = '';\n",
              "          dataTable['output_type'] = 'display_data';\n",
              "          await google.colab.output.renderOutput(dataTable, element);\n",
              "          const docLink = document.createElement('div');\n",
              "          docLink.innerHTML = docLinkHtml;\n",
              "          element.appendChild(docLink);\n",
              "        }\n",
              "      </script>\n",
              "    </div>\n",
              "  </div>\n",
              "  "
            ]
          },
          "metadata": {},
          "execution_count": 108
        }
      ]
    },
    {
      "cell_type": "code",
      "source": [
        "df_org.plot.barh(x='reviewText', y='count', title=\"Companies, agencies, institutuins etc.\", figsize=(10,8)).invert_yaxis()"
      ],
      "metadata": {
        "colab": {
          "base_uri": "https://localhost:8080/",
          "height": 499
        },
        "id": "c_aiAFFc_boZ",
        "outputId": "f1f39795-ab8e-4f9a-c6de-9d66d269d3e1"
      },
      "execution_count": 109,
      "outputs": [
        {
          "output_type": "display_data",
          "data": {
            "text/plain": [
              "<Figure size 720x576 with 1 Axes>"
            ],
            "image/png": "[encoded data removed]"
          },
          "metadata": {
            "needs_background": "light"
          }
        }
      ]
    },
    {
      "cell_type": "code",
      "source": [
        "#ner = spacy.load(\"en\")\n",
        "\n",
        "ner = spacy.load(\"en_core_web_sm\")\n",
        "ner_test = ner(df[\"reviewText\"][2])\n",
        "\n",
        "ner_dict = defaultdict(list)\n",
        "for entity in ner_test.ents:\n",
        "    ner_dict[entity.label_].append(entity)\n",
        "\n",
        "for NER, name in ner_dict.items():\n",
        "    print(f\"{NER}:\\n{name}\\n\")"
      ],
      "metadata": {
        "colab": {
          "base_uri": "https://localhost:8080/"
        },
        "id": "8YoczTsv_k9-",
        "outputId": "2d36863c-6916-4890-bec5-dd031680812a"
      },
      "execution_count": 110,
      "outputs": [
        {
          "output_type": "stream",
          "name": "stdout",
          "text": [
            "DATE:\n",
            "[over  years, this day]\n",
            "\n"
          ]
        }
      ]
    },
    {
      "cell_type": "code",
      "source": [],
      "metadata": {
        "id": "J8_Haa1eDF-5"
      },
      "execution_count": null,
      "outputs": []
    }
  ]
}